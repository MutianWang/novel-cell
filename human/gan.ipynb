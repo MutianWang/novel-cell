{
  "nbformat": 4,
  "nbformat_minor": 0,
  "metadata": {
    "colab": {
      "name": "gan.ipynb",
      "provenance": [],
      "collapsed_sections": [],
      "include_colab_link": true
    },
    "kernelspec": {
      "name": "python3",
      "display_name": "Python 3"
    },
    "accelerator": "GPU"
  },
  "cells": [
    {
      "cell_type": "markdown",
      "metadata": {
        "id": "view-in-github",
        "colab_type": "text"
      },
      "source": [
        "<a href=\"https://colab.research.google.com/github/MutianWang/novel-cell/blob/main/human/gan.ipynb\" target=\"_parent\"><img src=\"https://colab.research.google.com/assets/colab-badge.svg\" alt=\"Open In Colab\"/></a>"
      ]
    },
    {
      "cell_type": "markdown",
      "metadata": {
        "id": "j-cYqy4rSuq8"
      },
      "source": [
        "# Novel Cells Generation"
      ]
    },
    {
      "cell_type": "code",
      "metadata": {
        "id": "o5IPyySLKxff"
      },
      "source": [
        "import time\n",
        "import tensorflow as tf\n",
        "from tensorflow import keras\n",
        "from tensorflow.keras import layers\n",
        "from keras.utils.vis_utils import plot_model\n",
        "import pandas as pd\n",
        "import numpy as np\n",
        "import matplotlib.pyplot as plt\n",
        "import matplotlib.patches as mpatches"
      ],
      "execution_count": 183,
      "outputs": []
    },
    {
      "cell_type": "code",
      "metadata": {
        "id": "EAf_GqpbxTMO",
        "outputId": "0c459841-e6a7-49b4-e0cd-003f905ba1a1",
        "colab": {
          "base_uri": "https://localhost:8080/",
          "height": 34
        }
      },
      "source": [
        "from google.colab import drive\n",
        "drive.mount('/content/drive')"
      ],
      "execution_count": 2,
      "outputs": [
        {
          "output_type": "stream",
          "text": [
            "Drive already mounted at /content/drive; to attempt to forcibly remount, call drive.mount(\"/content/drive\", force_remount=True).\n"
          ],
          "name": "stdout"
        }
      ]
    },
    {
      "cell_type": "code",
      "metadata": {
        "id": "x-IQa1DUO3wv"
      },
      "source": [
        "path = '/content/drive/My Drive/Colab Notebooks/Brain Cell/data/'"
      ],
      "execution_count": 3,
      "outputs": []
    },
    {
      "cell_type": "markdown",
      "metadata": {
        "id": "IbdI7rTr1LHf"
      },
      "source": [
        "## Preprocessing"
      ]
    },
    {
      "cell_type": "code",
      "metadata": {
        "id": "jvqF5fu3QPLd"
      },
      "source": [
        "meta = pd.read_csv(path+'meta.csv', header=0)\n",
        "cols_glut = meta[meta['class']=='Glutamatergic']['sample_name']\n",
        "cols_non = meta[meta['class']=='Non-neuronal']['sample_name']\n",
        "cols_gaba = meta[meta['class']=='GABAergic']['sample_name']"
      ],
      "execution_count": null,
      "outputs": []
    },
    {
      "cell_type": "code",
      "metadata": {
        "id": "6eP4_BjYw9wZ"
      },
      "source": [
        "def normalize(df):\n",
        "    # counts per million\n",
        "    df = df.div(df.sum(axis=1), axis=0) * 10**6\n",
        "    df = df.fillna(0)\n",
        "    return df"
      ],
      "execution_count": null,
      "outputs": []
    },
    {
      "cell_type": "code",
      "metadata": {
        "id": "f5auoM8d0Pob"
      },
      "source": [
        "def read_expression(file1, file2, usecols):\n",
        "    # point-wise addition of exon and intron tables\n",
        "    reader1 = pd.read_csv(file1, header=0, usecols=usecols, chunksize=1000)\n",
        "    reader2 = pd.read_csv(file2, header=0, usecols=usecols, chunksize=1000)\n",
        "\n",
        "    df = reader1.get_chunk() + reader2.get_chunk()\n",
        "    for i in range(1, 51):\n",
        "        df = pd.concat([df, reader1.get_chunk() + reader2.get_chunk()])\n",
        "        if i%10==0:\n",
        "            print('{}/50'.format(i))\n",
        "\n",
        "    return df.transpose()"
      ],
      "execution_count": null,
      "outputs": []
    },
    {
      "cell_type": "code",
      "metadata": {
        "id": "7GORuOJYCXjY",
        "outputId": "667896ee-c3d1-45e1-dbfd-363e94a9e4c8",
        "colab": {
          "base_uri": "https://localhost:8080/",
          "height": 102
        }
      },
      "source": [
        "exp_glut = read_expression(path+'exon.csv', path+'intron.csv', cols_glut) # 10525 * 50281\n",
        "exp_glut = exp_glut.sample(5000-914) # 4086 * 50281\n",
        "exp_glut = normalize(exp_glut)\n",
        "np.save(path+'exp_glut', exp_glut)\n",
        "del exp_glut"
      ],
      "execution_count": null,
      "outputs": [
        {
          "output_type": "stream",
          "text": [
            "10/50\n",
            "20/50\n",
            "30/50\n",
            "40/50\n",
            "50/50\n"
          ],
          "name": "stdout"
        }
      ]
    },
    {
      "cell_type": "code",
      "metadata": {
        "id": "-9hmZCzfs__s",
        "outputId": "c5460830-35dd-4d6d-bc7d-d35e9234a95e",
        "colab": {
          "base_uri": "https://localhost:8080/",
          "height": 102
        }
      },
      "source": [
        "exp_non = read_expression(path+'exon.csv', path+'intron.csv', cols_non) # 914 * 50281\n",
        "exp_non = normalize(exp_non)\n",
        "np.save(path+'exp_non', exp_non)\n",
        "del exp_non"
      ],
      "execution_count": null,
      "outputs": [
        {
          "output_type": "stream",
          "text": [
            "10/50\n",
            "20/50\n",
            "30/50\n",
            "40/50\n",
            "50/50\n"
          ],
          "name": "stdout"
        }
      ]
    },
    {
      "cell_type": "code",
      "metadata": {
        "id": "iYNolVf-JUvm",
        "outputId": "dd70ca93-9ec2-44ed-f9d3-ce4a90a17c71",
        "colab": {
          "base_uri": "https://localhost:8080/",
          "height": 102
        }
      },
      "source": [
        "exp_gaba = read_expression(path+'exon.csv', path+'intron.csv', cols_gaba) # 4164 * 50281\n",
        "exp_gaba = normalize(exp_gaba)\n",
        "np.save(path+'exp_gaba', exp_gaba)\n",
        "del exp_gaba"
      ],
      "execution_count": null,
      "outputs": [
        {
          "output_type": "stream",
          "text": [
            "10/50\n",
            "20/50\n",
            "30/50\n",
            "40/50\n",
            "50/50\n"
          ],
          "name": "stdout"
        }
      ]
    },
    {
      "cell_type": "code",
      "metadata": {
        "id": "m-F04FN3Sh0v"
      },
      "source": [
        "# first 4086 are Glutamatergic, last 914 are Non-neuronal\n",
        "exp_train = np.concatenate([np.load(path+'exp_glut.npy'), \n",
        "                            np.load(path+'exp_non.npy')], axis=0)\n",
        "np.save(path+'exp_train', exp_train)"
      ],
      "execution_count": null,
      "outputs": []
    },
    {
      "cell_type": "markdown",
      "metadata": {
        "id": "O4ZHqOU3AAiL"
      },
      "source": [
        "## Dimension Reduction"
      ]
    },
    {
      "cell_type": "code",
      "metadata": {
        "id": "cC6DTCZ5ACMy"
      },
      "source": [
        "from sklearn.pipeline import Pipeline\n",
        "from sklearn.decomposition import PCA\n",
        "from sklearn.preprocessing import MinMaxScaler, StandardScaler"
      ],
      "execution_count": 4,
      "outputs": []
    },
    {
      "cell_type": "code",
      "metadata": {
        "id": "-8NeA1FwKh-v"
      },
      "source": [
        "pipe = Pipeline([('scaler1', StandardScaler()), ('pca', PCA(n_components=4000)), ('scaler2', MinMaxScaler())])"
      ],
      "execution_count": 6,
      "outputs": []
    },
    {
      "cell_type": "code",
      "metadata": {
        "id": "gDtxSFLtAVM-"
      },
      "source": [
        "exp_train = np.load(path+'exp_train.npy')\n",
        "exp_train = pipe.fit_transform(exp_train)\n",
        "np.save(path+'exp_train_pca', exp_train)\n",
        "del exp_train"
      ],
      "execution_count": 8,
      "outputs": []
    },
    {
      "cell_type": "code",
      "metadata": {
        "id": "z-3XFhfC0Bm-"
      },
      "source": [
        "exp_test = np.load(path+'exp_gaba.npy')\n",
        "exp_test = pipe.transform(exp_test)\n",
        "np.save(path+'exp_test_pca', exp_test)\n",
        "del exp_test"
      ],
      "execution_count": 9,
      "outputs": []
    },
    {
      "cell_type": "markdown",
      "metadata": {
        "id": "HsH4XxJ36fGp"
      },
      "source": [
        "## GAN"
      ]
    },
    {
      "cell_type": "code",
      "metadata": {
        "id": "q7WRBp4jyxPS"
      },
      "source": [
        "exp_train = np.load(path+'exp_train_pca.npy')"
      ],
      "execution_count": 10,
      "outputs": []
    },
    {
      "cell_type": "code",
      "metadata": {
        "id": "UKjKbveG8xT3"
      },
      "source": [
        "dimension = exp_train.shape[1]"
      ],
      "execution_count": 11,
      "outputs": []
    },
    {
      "cell_type": "code",
      "metadata": {
        "id": "X0jLivwZJyzt"
      },
      "source": [
        "cross_entropy = tf.keras.losses.BinaryCrossentropy(from_logits=True)"
      ],
      "execution_count": 12,
      "outputs": []
    },
    {
      "cell_type": "code",
      "metadata": {
        "id": "8hYhAVII5tVz"
      },
      "source": [
        "def make_generator_model():\n",
        "    model = tf.keras.Sequential()\n",
        "    model.add(layers.Dense(256, use_bias=True, input_shape=(128,)))\n",
        "    model.add(layers.BatchNormalization())\n",
        "    model.add(layers.LeakyReLU())\n",
        "\n",
        "    model.add(layers.Dense(512, use_bias=True))\n",
        "    model.add(layers.BatchNormalization())\n",
        "    model.add(layers.LeakyReLU())\n",
        "\n",
        "    model.add(layers.Dense(512, use_bias=True))\n",
        "    model.add(layers.BatchNormalization())\n",
        "    model.add(layers.LeakyReLU())\n",
        "\n",
        "    model.add(layers.Dense(1024, use_bias=True))\n",
        "    model.add(layers.BatchNormalization())\n",
        "    model.add(layers.LeakyReLU())\n",
        "\n",
        "    model.add(layers.Dense(2048, use_bias=True))\n",
        "    model.add(layers.BatchNormalization())\n",
        "    model.add(layers.LeakyReLU())\n",
        "\n",
        "    # sigmoid function will make the range [0,1]\n",
        "    model.add(layers.Dense(dimension, use_bias=True, activation='sigmoid'))\n",
        "\n",
        "    return model"
      ],
      "execution_count": 13,
      "outputs": []
    },
    {
      "cell_type": "code",
      "metadata": {
        "id": "YmuNxZCu8o0p"
      },
      "source": [
        "def make_discriminator_model():\n",
        "    model = tf.keras.Sequential()\n",
        "    model.add(layers.Dense(1024, use_bias=True, input_shape=(dimension,)))\n",
        "    model.add(layers.LeakyReLU())\n",
        "    model.add(layers.Dropout(0.3))\n",
        "\n",
        "    model.add(layers.Dense(512, use_bias=True))\n",
        "    model.add(layers.LeakyReLU())\n",
        "    model.add(layers.Dropout(0.3))\n",
        "\n",
        "    model.add(layers.Dense(256, use_bias=True))\n",
        "    model.add(layers.LeakyReLU())\n",
        "    model.add(layers.Dropout(0.3))\n",
        "\n",
        "    model.add(layers.Dense(1))\n",
        "\n",
        "    return model"
      ],
      "execution_count": 14,
      "outputs": []
    },
    {
      "cell_type": "code",
      "metadata": {
        "id": "q6HmejF9-U6r"
      },
      "source": [
        "generator = make_generator_model()\n",
        "discriminator = make_discriminator_model()"
      ],
      "execution_count": 15,
      "outputs": []
    },
    {
      "cell_type": "code",
      "metadata": {
        "id": "eFxhmXU0Lak3",
        "outputId": "9b64b353-e547-4884-973f-72f20db8c4d3",
        "colab": {
          "base_uri": "https://localhost:8080/",
          "height": 697
        }
      },
      "source": [
        "generator.summary()"
      ],
      "execution_count": 16,
      "outputs": [
        {
          "output_type": "stream",
          "text": [
            "Model: \"sequential\"\n",
            "_________________________________________________________________\n",
            "Layer (type)                 Output Shape              Param #   \n",
            "=================================================================\n",
            "dense (Dense)                (None, 256)               33024     \n",
            "_________________________________________________________________\n",
            "batch_normalization (BatchNo (None, 256)               1024      \n",
            "_________________________________________________________________\n",
            "leaky_re_lu (LeakyReLU)      (None, 256)               0         \n",
            "_________________________________________________________________\n",
            "dense_1 (Dense)              (None, 512)               131584    \n",
            "_________________________________________________________________\n",
            "batch_normalization_1 (Batch (None, 512)               2048      \n",
            "_________________________________________________________________\n",
            "leaky_re_lu_1 (LeakyReLU)    (None, 512)               0         \n",
            "_________________________________________________________________\n",
            "dense_2 (Dense)              (None, 512)               262656    \n",
            "_________________________________________________________________\n",
            "batch_normalization_2 (Batch (None, 512)               2048      \n",
            "_________________________________________________________________\n",
            "leaky_re_lu_2 (LeakyReLU)    (None, 512)               0         \n",
            "_________________________________________________________________\n",
            "dense_3 (Dense)              (None, 1024)              525312    \n",
            "_________________________________________________________________\n",
            "batch_normalization_3 (Batch (None, 1024)              4096      \n",
            "_________________________________________________________________\n",
            "leaky_re_lu_3 (LeakyReLU)    (None, 1024)              0         \n",
            "_________________________________________________________________\n",
            "dense_4 (Dense)              (None, 2048)              2099200   \n",
            "_________________________________________________________________\n",
            "batch_normalization_4 (Batch (None, 2048)              8192      \n",
            "_________________________________________________________________\n",
            "leaky_re_lu_4 (LeakyReLU)    (None, 2048)              0         \n",
            "_________________________________________________________________\n",
            "dense_5 (Dense)              (None, 4000)              8196000   \n",
            "=================================================================\n",
            "Total params: 11,265,184\n",
            "Trainable params: 11,256,480\n",
            "Non-trainable params: 8,704\n",
            "_________________________________________________________________\n"
          ],
          "name": "stdout"
        }
      ]
    },
    {
      "cell_type": "code",
      "metadata": {
        "id": "7LDI3iJBLdTD",
        "outputId": "dd30eb51-9282-4e46-8346-ce12d018e3e1",
        "colab": {
          "base_uri": "https://localhost:8080/",
          "height": 493
        }
      },
      "source": [
        "discriminator.summary()"
      ],
      "execution_count": 17,
      "outputs": [
        {
          "output_type": "stream",
          "text": [
            "Model: \"sequential_1\"\n",
            "_________________________________________________________________\n",
            "Layer (type)                 Output Shape              Param #   \n",
            "=================================================================\n",
            "dense_6 (Dense)              (None, 1024)              4097024   \n",
            "_________________________________________________________________\n",
            "leaky_re_lu_5 (LeakyReLU)    (None, 1024)              0         \n",
            "_________________________________________________________________\n",
            "dropout (Dropout)            (None, 1024)              0         \n",
            "_________________________________________________________________\n",
            "dense_7 (Dense)              (None, 512)               524800    \n",
            "_________________________________________________________________\n",
            "leaky_re_lu_6 (LeakyReLU)    (None, 512)               0         \n",
            "_________________________________________________________________\n",
            "dropout_1 (Dropout)          (None, 512)               0         \n",
            "_________________________________________________________________\n",
            "dense_8 (Dense)              (None, 256)               131328    \n",
            "_________________________________________________________________\n",
            "leaky_re_lu_7 (LeakyReLU)    (None, 256)               0         \n",
            "_________________________________________________________________\n",
            "dropout_2 (Dropout)          (None, 256)               0         \n",
            "_________________________________________________________________\n",
            "dense_9 (Dense)              (None, 1)                 257       \n",
            "=================================================================\n",
            "Total params: 4,753,409\n",
            "Trainable params: 4,753,409\n",
            "Non-trainable params: 0\n",
            "_________________________________________________________________\n"
          ],
          "name": "stdout"
        }
      ]
    },
    {
      "cell_type": "code",
      "metadata": {
        "id": "jmTf7v9p-b50"
      },
      "source": [
        "def discriminator_loss(real_output, fake_output):\n",
        "    real_loss = cross_entropy(tf.ones_like(real_output), real_output)\n",
        "    fake_loss = cross_entropy(tf.zeros_like(fake_output), fake_output)\n",
        "    total_loss = real_loss + fake_loss\n",
        "    return total_loss"
      ],
      "execution_count": 18,
      "outputs": []
    },
    {
      "cell_type": "code",
      "metadata": {
        "id": "i_orWQwj_Ak-"
      },
      "source": [
        "def generator_loss(fake_output):\n",
        "    return cross_entropy(tf.ones_like(fake_output), fake_output)"
      ],
      "execution_count": 19,
      "outputs": []
    },
    {
      "cell_type": "code",
      "metadata": {
        "id": "llUBEF24_BJS"
      },
      "source": [
        "generator_optimizer = tf.keras.optimizers.Adam(1e-4)\n",
        "discriminator_optimizer = tf.keras.optimizers.Adam(1e-4)"
      ],
      "execution_count": 20,
      "outputs": []
    },
    {
      "cell_type": "code",
      "metadata": {
        "id": "vBlm7JMx_DvY"
      },
      "source": [
        "def train_step(images):\n",
        "    noise = tf.random.normal([BATCH_SIZE, 128])\n",
        "\n",
        "    with tf.GradientTape() as gen_tape, tf.GradientTape() as disc_tape:\n",
        "        generated_images = generator(noise, training=True)\n",
        "\n",
        "        real_output = discriminator(images, training=True)\n",
        "        fake_output = discriminator(generated_images, training=True)\n",
        "\n",
        "        gen_loss = generator_loss(fake_output)\n",
        "        disc_loss = discriminator_loss(real_output, fake_output)\n",
        "\n",
        "    gradients_of_generator = gen_tape.gradient(gen_loss, generator.trainable_variables)\n",
        "    gradients_of_discriminator = disc_tape.gradient(disc_loss, discriminator.trainable_variables)\n",
        "\n",
        "    generator_optimizer.apply_gradients(zip(gradients_of_generator, generator.trainable_variables))\n",
        "    discriminator_optimizer.apply_gradients(zip(gradients_of_discriminator, discriminator.trainable_variables))"
      ],
      "execution_count": 21,
      "outputs": []
    },
    {
      "cell_type": "code",
      "metadata": {
        "id": "tNntEwY__OTQ"
      },
      "source": [
        "def train(dataset, epochs):\n",
        "    for epoch in range(epochs):\n",
        "        start = time.time()\n",
        "\n",
        "        for data in dataset:\n",
        "            train_step(data)\n",
        "\n",
        "        print ('Time for epoch {} is {} sec'.format(epoch + 1, time.time()-start))"
      ],
      "execution_count": 22,
      "outputs": []
    },
    {
      "cell_type": "code",
      "metadata": {
        "id": "L42hxrlDHmb4"
      },
      "source": [
        "BATCH_SIZE = 500\n",
        "dataset = tf.data.Dataset.from_tensor_slices(exp_train).shuffle(1000).batch(BATCH_SIZE)"
      ],
      "execution_count": 23,
      "outputs": []
    },
    {
      "cell_type": "code",
      "metadata": {
        "id": "K-axc-FmH8Dn",
        "outputId": "9f1cdb59-5d57-4dc5-9547-0313aa5bf03b",
        "colab": {
          "base_uri": "https://localhost:8080/",
          "height": 272
        }
      },
      "source": [
        "train(dataset, 15)"
      ],
      "execution_count": 24,
      "outputs": [
        {
          "output_type": "stream",
          "text": [
            "Time for epoch 1 is 2.8146238327026367 sec\n",
            "Time for epoch 2 is 0.8934121131896973 sec\n",
            "Time for epoch 3 is 0.8913373947143555 sec\n",
            "Time for epoch 4 is 0.9321537017822266 sec\n",
            "Time for epoch 5 is 0.8856215476989746 sec\n",
            "Time for epoch 6 is 0.9008388519287109 sec\n",
            "Time for epoch 7 is 0.8939552307128906 sec\n",
            "Time for epoch 8 is 0.8880393505096436 sec\n",
            "Time for epoch 9 is 0.8698074817657471 sec\n",
            "Time for epoch 10 is 0.8574795722961426 sec\n",
            "Time for epoch 11 is 0.8406703472137451 sec\n",
            "Time for epoch 12 is 0.8422796726226807 sec\n",
            "Time for epoch 13 is 0.8420355319976807 sec\n",
            "Time for epoch 14 is 0.8437275886535645 sec\n",
            "Time for epoch 15 is 0.8395957946777344 sec\n"
          ],
          "name": "stdout"
        }
      ]
    },
    {
      "cell_type": "code",
      "metadata": {
        "id": "gFt8CKk7H9U4"
      },
      "source": [
        "exp_gen = generator(tf.random.normal([1000,128]))"
      ],
      "execution_count": 25,
      "outputs": []
    },
    {
      "cell_type": "markdown",
      "metadata": {
        "id": "8fSZcalQ95M1"
      },
      "source": [
        "## Evaluation"
      ]
    },
    {
      "cell_type": "markdown",
      "metadata": {
        "id": "2gCusGENTFV8"
      },
      "source": [
        "### Nearest Neighbor"
      ]
    },
    {
      "cell_type": "code",
      "metadata": {
        "id": "CcPOAm4dKoF9"
      },
      "source": [
        "from scipy.spatial import distance"
      ],
      "execution_count": 26,
      "outputs": []
    },
    {
      "cell_type": "code",
      "metadata": {
        "id": "aYg_l9-1JWQG"
      },
      "source": [
        "def distance_classify(metric, centers, gens):\n",
        "    if metric == 'l1':\n",
        "        dist = lambda x, y: np.sum(np.abs(x-y))\n",
        "    elif metric == 'l2':\n",
        "        dist = lambda x, y: np.sum(np.square(x-y))\n",
        "    elif metric == 'cosine' or metric == 'cos':\n",
        "        dist = lambda x, y: distance.cosine(x, y)\n",
        "    else:\n",
        "        return\n",
        "\n",
        "    res = [0, 0, 0]\n",
        "    res1 = []\n",
        "    res2 = []\n",
        "    res3 = []\n",
        "    for gen in gens:\n",
        "        res1.append(dist(gen, centers[0]))\n",
        "        res2.append(dist(gen, centers[1]))\n",
        "        res3.append(dist(gen, centers[2]))\n",
        "\n",
        "        i = np.argmin([res1[-1], res2[-1], res3[-1]])\n",
        "        res[i] += 1\n",
        "\n",
        "    return res\n"
      ],
      "execution_count": 37,
      "outputs": []
    },
    {
      "cell_type": "markdown",
      "metadata": {
        "id": "h3d-0ISkWvSP"
      },
      "source": [
        "#### mean center"
      ]
    },
    {
      "cell_type": "code",
      "metadata": {
        "id": "k_ABejoI94h2"
      },
      "source": [
        "mean_glut = np.mean(np.load(path+'exp_train_pca.npy')[:4086], axis=0)\n",
        "mean_non = np.mean(np.load(path+'exp_train_pca.npy')[4086:], axis=0)\n",
        "mean_gaba = np.mean(np.load(path+'exp_test_pca.npy'), axis=0)\n",
        "\n",
        "mean_centers = [mean_glut, mean_non, mean_gaba]"
      ],
      "execution_count": 38,
      "outputs": []
    },
    {
      "cell_type": "code",
      "metadata": {
        "id": "pgfnJ1wjjyeH",
        "outputId": "ca759f68-3789-40aa-fae1-596474a6a536",
        "colab": {
          "base_uri": "https://localhost:8080/",
          "height": 34
        }
      },
      "source": [
        "# L1 distance\n",
        "res = distance_classify('l1', mean_centers, exp_gen)\n",
        "print(res)"
      ],
      "execution_count": 40,
      "outputs": [
        {
          "output_type": "stream",
          "text": [
            "[229, 138, 633]\n"
          ],
          "name": "stdout"
        }
      ]
    },
    {
      "cell_type": "code",
      "metadata": {
        "id": "LACUYIKwfad1",
        "outputId": "f7ba11c3-f08a-41e3-e40d-9bd4fb1a2508",
        "colab": {
          "base_uri": "https://localhost:8080/",
          "height": 34
        }
      },
      "source": [
        "# L2 distance\n",
        "res = distance_classify('l2', mean_centers, exp_gen)\n",
        "print(res)"
      ],
      "execution_count": 41,
      "outputs": [
        {
          "output_type": "stream",
          "text": [
            "[848, 152, 0]\n"
          ],
          "name": "stdout"
        }
      ]
    },
    {
      "cell_type": "code",
      "metadata": {
        "id": "-h6jO8gSIlT_",
        "outputId": "2f45b67c-5822-4f98-e181-60d427e2049a",
        "colab": {
          "base_uri": "https://localhost:8080/",
          "height": 34
        }
      },
      "source": [
        "# cosine distance\n",
        "res = distance_classify('cosine', mean_centers, exp_gen)\n",
        "print(res)"
      ],
      "execution_count": 42,
      "outputs": [
        {
          "output_type": "stream",
          "text": [
            "[884, 116, 0]\n"
          ],
          "name": "stdout"
        }
      ]
    },
    {
      "cell_type": "markdown",
      "metadata": {
        "id": "hzUB_c8DWy42"
      },
      "source": [
        "#### median center"
      ]
    },
    {
      "cell_type": "code",
      "metadata": {
        "id": "DH-zh77AW3SL"
      },
      "source": [
        "median_glut = np.median(np.load(path+'exp_train_pca.npy')[:4086], axis=0)\n",
        "median_non = np.median(np.load(path+'exp_train_pca.npy')[4086:], axis=0)\n",
        "median_gaba = np.median(np.load(path+'exp_test_pca.npy'), axis=0)\n",
        "\n",
        "median_centers = [median_glut, median_non, median_gaba]"
      ],
      "execution_count": 43,
      "outputs": []
    },
    {
      "cell_type": "code",
      "metadata": {
        "id": "4gCQ74IcW3SX",
        "outputId": "363ac9ee-0069-474b-aa04-d2acd5d63256",
        "colab": {
          "base_uri": "https://localhost:8080/",
          "height": 34
        }
      },
      "source": [
        "# L1 distance\n",
        "res = distance_classify('l1', median_centers, exp_gen)\n",
        "print(res)"
      ],
      "execution_count": 46,
      "outputs": [
        {
          "output_type": "stream",
          "text": [
            "[306, 63, 631]\n"
          ],
          "name": "stdout"
        }
      ]
    },
    {
      "cell_type": "code",
      "metadata": {
        "id": "plagJGHCW3SZ",
        "outputId": "02007b78-0607-4331-8e6e-eafdb88d5639",
        "colab": {
          "base_uri": "https://localhost:8080/",
          "height": 34
        }
      },
      "source": [
        "# L2 distance\n",
        "res = distance_classify('l2', median_centers, exp_gen)\n",
        "print(res)"
      ],
      "execution_count": 47,
      "outputs": [
        {
          "output_type": "stream",
          "text": [
            "[912, 88, 0]\n"
          ],
          "name": "stdout"
        }
      ]
    },
    {
      "cell_type": "code",
      "metadata": {
        "id": "MkeDMxgRW3Sb",
        "outputId": "cd3c45b8-edfd-4a6d-db8d-d6858243461e",
        "colab": {
          "base_uri": "https://localhost:8080/",
          "height": 34
        }
      },
      "source": [
        "# cosine distance\n",
        "res = distance_classify('cosine', median_centers, exp_gen)\n",
        "print(res)"
      ],
      "execution_count": 48,
      "outputs": [
        {
          "output_type": "stream",
          "text": [
            "[955, 45, 0]\n"
          ],
          "name": "stdout"
        }
      ]
    },
    {
      "cell_type": "markdown",
      "metadata": {
        "id": "Bz18CX-qS0mv"
      },
      "source": [
        "### PCA + Visualization"
      ]
    },
    {
      "cell_type": "markdown",
      "metadata": {
        "id": "jte4LGQ_pcU0"
      },
      "source": [
        "#### 2D"
      ]
    },
    {
      "cell_type": "code",
      "metadata": {
        "id": "9r7C0fF_Xl2c"
      },
      "source": [
        "exp_pca = np.concatenate([np.load(path+'exp_train_pca.npy'),\n",
        "                          np.load(path+'exp_test_pca.npy')], axis=0)"
      ],
      "execution_count": 203,
      "outputs": []
    },
    {
      "cell_type": "code",
      "metadata": {
        "id": "3iwq-qq5W0fh"
      },
      "source": [
        "pipe2 = Pipeline([('scaler', StandardScaler()), ('pca', PCA(n_components=2))])"
      ],
      "execution_count": 204,
      "outputs": []
    },
    {
      "cell_type": "code",
      "metadata": {
        "id": "p9DDF3ecW-tE"
      },
      "source": [
        "exp_pca = pipe2.fit_transform(exp_pca)"
      ],
      "execution_count": 205,
      "outputs": []
    },
    {
      "cell_type": "code",
      "metadata": {
        "id": "0OMyCvATXiKC",
        "outputId": "0dcfb2bd-ff4a-4630-b1ea-8305f86e6abc",
        "colab": {
          "base_uri": "https://localhost:8080/",
          "height": 265
        }
      },
      "source": [
        "# red: glutamatergic\n",
        "x, y = list(zip(*exp_pca[3000:3200]))\n",
        "plt.scatter(x, y, c='r', alpha=0.2)\n",
        "# green: non-neuronal\n",
        "x, y = list(zip(*exp_pca[4700:4900]))\n",
        "plt.scatter(x, y, c='g', alpha=0.2)\n",
        "# blue: gabaergic\n",
        "# some blue points are far away because 1st pca didn't see gaba data\n",
        "x, y = list(zip(*exp_pca[7000:7200]))\n",
        "plt.scatter(x, y, c='b', alpha=0.2)\n",
        "# yellow: gan\n",
        "x, y = list(zip(*pipe2.transform(exp_gen)))\n",
        "plt.scatter(x, y, c='y', alpha=0.1);\n",
        "\n",
        "patch1 = mpatches.Patch(color='r', label='glutamatergic');\n",
        "patch2 = mpatches.Patch(color='g', label='non-neuronal');\n",
        "patch3 = mpatches.Patch(color='b', label='gabaergic');\n",
        "patch4 = mpatches.Patch(color='y', label='gan');\n",
        "plt.legend(handles=[patch1, patch2, patch3, patch4], \n",
        "           loc='upper right', bbox_to_anchor=(1.4, 1));\n",
        "plt.show()"
      ],
      "execution_count": 210,
      "outputs": [
        {
          "output_type": "display_data",
          "data": {
            "image/png": "[encoded data removed]",
            "text/plain": [
              "<Figure size 432x288 with 1 Axes>"
            ]
          },
          "metadata": {
            "tags": [],
            "needs_background": "light"
          }
        }
      ]
    },
    {
      "cell_type": "code",
      "metadata": {
        "id": "L_n7x6SXZpRC",
        "outputId": "6610967b-adae-45b7-e771-6a06f515998c",
        "colab": {
          "base_uri": "https://localhost:8080/",
          "height": 269
        }
      },
      "source": [
        "# red: glutamatergic\n",
        "x, y = list(zip(*exp_pca[3000:3200]))\n",
        "plt.scatter(x, y, c='r', alpha=0.2);\n",
        "# green: non-neuronal\n",
        "x, y = list(zip(*exp_pca[4700:4900]))\n",
        "plt.scatter(x, y, c='g', alpha=0.2);\n",
        "# blue: gabaergic\n",
        "x, y = list(zip(*exp_pca[7000:7200]))\n",
        "plt.scatter(x, y, c='b', alpha=0.2);\n",
        "# yellow: gan\n",
        "x, y = list(zip(*pipe2.transform(exp_gen)))\n",
        "plt.scatter(x, y, c='y', alpha=0.1);\n",
        "\n",
        "plt.xlim(-2, 2);\n",
        "plt.ylim(-2.5, 1.5);\n",
        "patch1 = mpatches.Patch(color='r', label='glutamatergic');\n",
        "patch2 = mpatches.Patch(color='g', label='non-neuronal');\n",
        "patch3 = mpatches.Patch(color='b', label='gabaergic');\n",
        "patch4 = mpatches.Patch(color='y', label='gan');\n",
        "plt.legend(handles=[patch1, patch2, patch3, patch4], \n",
        "           loc='upper right', bbox_to_anchor=(1.4, 1));\n",
        "plt.show()"
      ],
      "execution_count": 209,
      "outputs": [
        {
          "output_type": "display_data",
          "data": {
            "image/png": "[encoded data removed]",
            "text/plain": [
              "<Figure size 432x288 with 1 Axes>"
            ]
          },
          "metadata": {
            "tags": [],
            "needs_background": "light"
          }
        }
      ]
    },
    {
      "cell_type": "markdown",
      "metadata": {
        "id": "66d8kBQBpk-w"
      },
      "source": [
        "#### 3D"
      ]
    },
    {
      "cell_type": "code",
      "metadata": {
        "id": "lJSowL0tpQuo"
      },
      "source": [
        "exp_pca = np.concatenate([np.load(path+'exp_train_pca.npy'),\n",
        "                          np.load(path+'exp_test_pca.npy')], axis=0)"
      ],
      "execution_count": 199,
      "outputs": []
    },
    {
      "cell_type": "code",
      "metadata": {
        "id": "yWZ_Kw-KpQuq"
      },
      "source": [
        "pipe3 = Pipeline([('scaler', StandardScaler()), ('pca', PCA(n_components=3))])"
      ],
      "execution_count": 200,
      "outputs": []
    },
    {
      "cell_type": "code",
      "metadata": {
        "id": "QI8BKGd_pad-"
      },
      "source": [
        "exp_pca = pipe3.fit_transform(exp_pca)"
      ],
      "execution_count": 201,
      "outputs": []
    },
    {
      "cell_type": "code",
      "metadata": {
        "id": "TNqGBLBofy3U",
        "outputId": "3fe18b93-5900-4b42-b9e1-24aee47045ec",
        "colab": {
          "base_uri": "https://localhost:8080/",
          "height": 248
        }
      },
      "source": [
        "fig = plt.figure()\n",
        "ax = plt.axes(projection='3d')\n",
        "# red: glutamatergic\n",
        "x, y, z = list(zip(*exp_pca[3000:3200]))\n",
        "ax.scatter3D(x, y, z, c='r', alpha=0.2);\n",
        "# green: non-neuronal\n",
        "x, y, z = list(zip(*exp_pca[4700:4900]))\n",
        "ax.scatter3D(x, y, z, c='g', alpha=0.2);\n",
        "# blue: gabaergic\n",
        "x, y, z = list(zip(*exp_pca[7000:7200]))\n",
        "ax.scatter3D(x, y, z, c='b', alpha=0.2);\n",
        "# yellow: gan\n",
        "x, y, z = list(zip(*pipe3.transform(exp_gen)))\n",
        "ax.scatter3D(x, y, z, c='y', alpha=0.1);\n",
        "\n",
        "ax.set_xlim(-1,2.0);\n",
        "ax.set_ylim(-2,0.5);\n",
        "ax.set_zlim(-3,2);\n",
        "ax.view_init(50, -15);\n",
        "\n",
        "patch1 = mpatches.Patch(color='r', label='glutamatergic');\n",
        "patch2 = mpatches.Patch(color='g', label='non-neuronal');\n",
        "patch3 = mpatches.Patch(color='b', label='gabaergic');\n",
        "patch4 = mpatches.Patch(color='y', label='gan');\n",
        "plt.legend(handles=[patch1, patch2, patch3, patch4], \n",
        "           loc='upper right', bbox_to_anchor=(1.2, 1));\n",
        "plt.show();"
      ],
      "execution_count": 202,
      "outputs": [
        {
          "output_type": "display_data",
          "data": {
            "image/png": "[encoded data removed]",
            "text/plain": [
              "<Figure size 432x288 with 1 Axes>"
            ]
          },
          "metadata": {
            "tags": [],
            "needs_background": "light"
          }
        }
      ]
    },
    {
      "cell_type": "code",
      "metadata": {
        "id": "VDVOuMs8qDxx"
      },
      "source": [
        ""
      ],
      "execution_count": 202,
      "outputs": []
    }
  ]
}
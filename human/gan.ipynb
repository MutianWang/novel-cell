{
  "nbformat": 4,
  "nbformat_minor": 0,
  "metadata": {
    "colab": {
      "name": "gan.ipynb",
      "provenance": [],
      "collapsed_sections": [],
      "include_colab_link": true
    },
    "kernelspec": {
      "name": "python3",
      "display_name": "Python 3"
    },
    "accelerator": "GPU"
  },
  "cells": [
    {
      "cell_type": "markdown",
      "metadata": {
        "id": "view-in-github",
        "colab_type": "text"
      },
      "source": [
        "<a href=\"https://colab.research.google.com/github/MutianWang/novel-cell/blob/main/human/gan.ipynb\" target=\"_parent\"><img src=\"https://colab.research.google.com/assets/colab-badge.svg\" alt=\"Open In Colab\"/></a>"
      ]
    },
    {
      "cell_type": "markdown",
      "metadata": {
        "id": "j-cYqy4rSuq8"
      },
      "source": [
        "# Novel Cells Generation"
      ]
    },
    {
      "cell_type": "code",
      "metadata": {
        "id": "o5IPyySLKxff"
      },
      "source": [
        "import time\n",
        "import tensorflow as tf\n",
        "from tensorflow import keras\n",
        "from tensorflow.keras import layers\n",
        "from keras.utils.vis_utils import plot_model\n",
        "import pandas as pd\n",
        "import numpy as np\n",
        "import matplotlib.pyplot as plt\n",
        "import matplotlib.patches as mpatches\n",
        "import pickle\n",
        "from sklearn.pipeline import Pipeline\n",
        "from sklearn.decomposition import PCA\n",
        "from sklearn.preprocessing import MinMaxScaler, StandardScaler"
      ],
      "execution_count": 1,
      "outputs": []
    },
    {
      "cell_type": "code",
      "metadata": {
        "id": "EAf_GqpbxTMO",
        "outputId": "5de113c2-61d8-4f3e-c2da-88d6df1df5b4",
        "colab": {
          "base_uri": "https://localhost:8080/"
        }
      },
      "source": [
        "from google.colab import drive\n",
        "drive.mount('/content/drive')"
      ],
      "execution_count": 2,
      "outputs": [
        {
          "output_type": "stream",
          "text": [
            "Drive already mounted at /content/drive; to attempt to forcibly remount, call drive.mount(\"/content/drive\", force_remount=True).\n"
          ],
          "name": "stdout"
        }
      ]
    },
    {
      "cell_type": "code",
      "metadata": {
        "id": "x-IQa1DUO3wv"
      },
      "source": [
        "path = '/content/drive/My Drive/Colab Notebooks/Brain Cell/data/'"
      ],
      "execution_count": 3,
      "outputs": []
    },
    {
      "cell_type": "markdown",
      "metadata": {
        "id": "IbdI7rTr1LHf"
      },
      "source": [
        "## Preprocessing"
      ]
    },
    {
      "cell_type": "code",
      "metadata": {
        "id": "jvqF5fu3QPLd"
      },
      "source": [
        "meta = pd.read_csv(path+'meta.csv', header=0)\n",
        "cols_glut = meta[meta['class']=='Glutamatergic']['sample_name']\n",
        "cols_non = meta[meta['class']=='Non-neuronal']['sample_name']\n",
        "cols_gaba = meta[meta['class']=='GABAergic']['sample_name']"
      ],
      "execution_count": null,
      "outputs": []
    },
    {
      "cell_type": "code",
      "metadata": {
        "id": "6eP4_BjYw9wZ"
      },
      "source": [
        "def normalize(df):\n",
        "    # counts per million\n",
        "    df = df.div(df.sum(axis=1), axis=0) * 10**6\n",
        "    df = df.fillna(0)\n",
        "    return df"
      ],
      "execution_count": null,
      "outputs": []
    },
    {
      "cell_type": "code",
      "metadata": {
        "id": "f5auoM8d0Pob"
      },
      "source": [
        "def read_expression(file1, file2, usecols):\n",
        "    # point-wise addition of exon and intron tables\n",
        "    reader1 = pd.read_csv(file1, header=0, usecols=usecols, chunksize=1000)\n",
        "    reader2 = pd.read_csv(file2, header=0, usecols=usecols, chunksize=1000)\n",
        "\n",
        "    df = reader1.get_chunk() + reader2.get_chunk()\n",
        "    for i in range(1, 51):\n",
        "        df = pd.concat([df, reader1.get_chunk() + reader2.get_chunk()])\n",
        "        if i%10==0:\n",
        "            print('{}/50'.format(i))\n",
        "\n",
        "    return df.transpose()"
      ],
      "execution_count": null,
      "outputs": []
    },
    {
      "cell_type": "code",
      "metadata": {
        "id": "7GORuOJYCXjY",
        "outputId": "667896ee-c3d1-45e1-dbfd-363e94a9e4c8",
        "colab": {
          "base_uri": "https://localhost:8080/",
          "height": 102
        }
      },
      "source": [
        "exp_glut = read_expression(path+'exon.csv', path+'intron.csv', cols_glut) # 10525 * 50281\n",
        "exp_glut = exp_glut.sample(5000-914) # 4086 * 50281\n",
        "exp_glut = normalize(exp_glut)\n",
        "np.save(path+'exp_glut', exp_glut)\n",
        "del exp_glut"
      ],
      "execution_count": null,
      "outputs": [
        {
          "output_type": "stream",
          "text": [
            "10/50\n",
            "20/50\n",
            "30/50\n",
            "40/50\n",
            "50/50\n"
          ],
          "name": "stdout"
        }
      ]
    },
    {
      "cell_type": "code",
      "metadata": {
        "id": "-9hmZCzfs__s",
        "outputId": "c5460830-35dd-4d6d-bc7d-d35e9234a95e",
        "colab": {
          "base_uri": "https://localhost:8080/",
          "height": 102
        }
      },
      "source": [
        "exp_non = read_expression(path+'exon.csv', path+'intron.csv', cols_non) # 914 * 50281\n",
        "exp_non = normalize(exp_non)\n",
        "np.save(path+'exp_non', exp_non)\n",
        "del exp_non"
      ],
      "execution_count": null,
      "outputs": [
        {
          "output_type": "stream",
          "text": [
            "10/50\n",
            "20/50\n",
            "30/50\n",
            "40/50\n",
            "50/50\n"
          ],
          "name": "stdout"
        }
      ]
    },
    {
      "cell_type": "code",
      "metadata": {
        "id": "iYNolVf-JUvm",
        "outputId": "dd70ca93-9ec2-44ed-f9d3-ce4a90a17c71",
        "colab": {
          "base_uri": "https://localhost:8080/",
          "height": 102
        }
      },
      "source": [
        "exp_gaba = read_expression(path+'exon.csv', path+'intron.csv', cols_gaba) # 4164 * 50281\n",
        "exp_gaba = normalize(exp_gaba)\n",
        "np.save(path+'exp_gaba', exp_gaba)\n",
        "del exp_gaba"
      ],
      "execution_count": null,
      "outputs": [
        {
          "output_type": "stream",
          "text": [
            "10/50\n",
            "20/50\n",
            "30/50\n",
            "40/50\n",
            "50/50\n"
          ],
          "name": "stdout"
        }
      ]
    },
    {
      "cell_type": "code",
      "metadata": {
        "id": "m-F04FN3Sh0v"
      },
      "source": [
        "# first 4086 are Glutamatergic, last 914 are Non-neuronal\n",
        "exp_train = np.concatenate([np.load(path+'exp_glut.npy'), \n",
        "                            np.load(path+'exp_non.npy')], axis=0)\n",
        "np.save(path+'exp_train', exp_train)"
      ],
      "execution_count": null,
      "outputs": []
    },
    {
      "cell_type": "markdown",
      "metadata": {
        "id": "O4ZHqOU3AAiL"
      },
      "source": [
        "## Dimension Reduction"
      ]
    },
    {
      "cell_type": "code",
      "metadata": {
        "id": "-8NeA1FwKh-v"
      },
      "source": [
        "pipe = Pipeline([('scaler1', StandardScaler()), ('pca', PCA(n_components=4000)), ('scaler2', MinMaxScaler())])"
      ],
      "execution_count": null,
      "outputs": []
    },
    {
      "cell_type": "code",
      "metadata": {
        "id": "x9_veL-fZMrm"
      },
      "source": [
        "pickle.dump(pickle.dumps(pipe), open(path+'pipe', 'wb'))"
      ],
      "execution_count": null,
      "outputs": []
    },
    {
      "cell_type": "code",
      "metadata": {
        "id": "gDtxSFLtAVM-"
      },
      "source": [
        "exp_train = np.load(path+'exp_train.npy')\n",
        "exp_train = pipe.fit_transform(exp_train)\n",
        "np.save(path+'exp_train_pca', exp_train)\n",
        "del exp_train"
      ],
      "execution_count": null,
      "outputs": []
    },
    {
      "cell_type": "code",
      "metadata": {
        "id": "Ukjs6TdFf9qE",
        "outputId": "1f79ca7e-4b51-4508-adff-21f5d55ac030",
        "colab": {
          "base_uri": "https://localhost:8080/",
          "height": 281
        }
      },
      "source": [
        "# set n_components=5000 to plot this graph\n",
        "#plt.plot(pipe['pca'].explained_variance_);\n",
        "#plt.title('explained variance ratio');"
      ],
      "execution_count": null,
      "outputs": [
        {
          "output_type": "display_data",
          "data": {
            "image/png": "[encoded data removed]",
            "text/plain": [
              "<Figure size 432x288 with 1 Axes>"
            ]
          },
          "metadata": {
            "tags": [],
            "needs_background": "light"
          }
        }
      ]
    },
    {
      "cell_type": "code",
      "metadata": {
        "id": "z-3XFhfC0Bm-"
      },
      "source": [
        "exp_test = np.load(path+'exp_gaba.npy')\n",
        "exp_test = pipe.transform(exp_test)\n",
        "np.save(path+'exp_test_pca', exp_test)\n",
        "del exp_test"
      ],
      "execution_count": null,
      "outputs": []
    },
    {
      "cell_type": "markdown",
      "metadata": {
        "id": "HsH4XxJ36fGp"
      },
      "source": [
        "## GAN"
      ]
    },
    {
      "cell_type": "code",
      "metadata": {
        "id": "q7WRBp4jyxPS"
      },
      "source": [
        "exp_train = np.load(path+'exp_train_pca.npy')"
      ],
      "execution_count": 4,
      "outputs": []
    },
    {
      "cell_type": "code",
      "metadata": {
        "id": "UKjKbveG8xT3"
      },
      "source": [
        "dimension = exp_train.shape[1]"
      ],
      "execution_count": 5,
      "outputs": []
    },
    {
      "cell_type": "code",
      "metadata": {
        "id": "X0jLivwZJyzt"
      },
      "source": [
        "cross_entropy = tf.keras.losses.BinaryCrossentropy(from_logits=True)"
      ],
      "execution_count": 6,
      "outputs": []
    },
    {
      "cell_type": "code",
      "metadata": {
        "id": "8hYhAVII5tVz"
      },
      "source": [
        "def make_generator_model():\n",
        "    model = tf.keras.Sequential()\n",
        "    model.add(layers.Dense(256, use_bias=True, input_shape=(128,)))\n",
        "    model.add(layers.BatchNormalization())\n",
        "    model.add(layers.LeakyReLU())\n",
        "\n",
        "    model.add(layers.Dense(512, use_bias=True))\n",
        "    model.add(layers.BatchNormalization())\n",
        "    model.add(layers.LeakyReLU())\n",
        "\n",
        "    model.add(layers.Dense(1024, use_bias=True))\n",
        "    model.add(layers.BatchNormalization())\n",
        "    model.add(layers.LeakyReLU())\n",
        "\n",
        "    model.add(layers.Dense(2048, use_bias=True))\n",
        "    model.add(layers.BatchNormalization())\n",
        "    model.add(layers.LeakyReLU())\n",
        "\n",
        "    # sigmoid function will make the range [0,1]\n",
        "    model.add(layers.Dense(dimension, use_bias=True, activation='sigmoid'))\n",
        "\n",
        "    return model"
      ],
      "execution_count": 7,
      "outputs": []
    },
    {
      "cell_type": "code",
      "metadata": {
        "id": "YmuNxZCu8o0p"
      },
      "source": [
        "def make_discriminator_model():\n",
        "    model = tf.keras.Sequential()\n",
        "    model.add(layers.Dense(2048, use_bias=True, input_shape=(dimension,)))\n",
        "    model.add(layers.LeakyReLU())\n",
        "    model.add(layers.Dropout(0.2))\n",
        "\n",
        "    model.add(layers.Dense(1024, use_bias=True))\n",
        "    model.add(layers.LeakyReLU())\n",
        "    model.add(layers.Dropout(0.2))\n",
        "\n",
        "    model.add(layers.Dense(512, use_bias=True))\n",
        "    model.add(layers.LeakyReLU())\n",
        "    model.add(layers.Dropout(0.2))\n",
        "\n",
        "    model.add(layers.Dense(256, use_bias=True))\n",
        "    model.add(layers.LeakyReLU())\n",
        "    model.add(layers.Dropout(0.2))\n",
        "\n",
        "    model.add(layers.Dense(1))\n",
        "\n",
        "    return model"
      ],
      "execution_count": 8,
      "outputs": []
    },
    {
      "cell_type": "code",
      "metadata": {
        "id": "q6HmejF9-U6r"
      },
      "source": [
        "generator = make_generator_model()\n",
        "discriminator = make_discriminator_model()"
      ],
      "execution_count": 9,
      "outputs": []
    },
    {
      "cell_type": "code",
      "metadata": {
        "id": "eFxhmXU0Lak3",
        "outputId": "51d80b8e-6c0d-4a9c-8196-e1bcf8bc02dc",
        "colab": {
          "base_uri": "https://localhost:8080/"
        }
      },
      "source": [
        "generator.summary()"
      ],
      "execution_count": 10,
      "outputs": [
        {
          "output_type": "stream",
          "text": [
            "Model: \"sequential\"\n",
            "_________________________________________________________________\n",
            "Layer (type)                 Output Shape              Param #   \n",
            "=================================================================\n",
            "dense (Dense)                (None, 256)               33024     \n",
            "_________________________________________________________________\n",
            "batch_normalization (BatchNo (None, 256)               1024      \n",
            "_________________________________________________________________\n",
            "leaky_re_lu (LeakyReLU)      (None, 256)               0         \n",
            "_________________________________________________________________\n",
            "dense_1 (Dense)              (None, 512)               131584    \n",
            "_________________________________________________________________\n",
            "batch_normalization_1 (Batch (None, 512)               2048      \n",
            "_________________________________________________________________\n",
            "leaky_re_lu_1 (LeakyReLU)    (None, 512)               0         \n",
            "_________________________________________________________________\n",
            "dense_2 (Dense)              (None, 1024)              525312    \n",
            "_________________________________________________________________\n",
            "batch_normalization_2 (Batch (None, 1024)              4096      \n",
            "_________________________________________________________________\n",
            "leaky_re_lu_2 (LeakyReLU)    (None, 1024)              0         \n",
            "_________________________________________________________________\n",
            "dense_3 (Dense)              (None, 2048)              2099200   \n",
            "_________________________________________________________________\n",
            "batch_normalization_3 (Batch (None, 2048)              8192      \n",
            "_________________________________________________________________\n",
            "leaky_re_lu_3 (LeakyReLU)    (None, 2048)              0         \n",
            "_________________________________________________________________\n",
            "dense_4 (Dense)              (None, 4000)              8196000   \n",
            "=================================================================\n",
            "Total params: 11,000,480\n",
            "Trainable params: 10,992,800\n",
            "Non-trainable params: 7,680\n",
            "_________________________________________________________________\n"
          ],
          "name": "stdout"
        }
      ]
    },
    {
      "cell_type": "code",
      "metadata": {
        "id": "7LDI3iJBLdTD",
        "outputId": "9e1b228f-048e-4b88-82e6-62f35fc2eaa3",
        "colab": {
          "base_uri": "https://localhost:8080/"
        }
      },
      "source": [
        "discriminator.summary()"
      ],
      "execution_count": 11,
      "outputs": [
        {
          "output_type": "stream",
          "text": [
            "Model: \"sequential_1\"\n",
            "_________________________________________________________________\n",
            "Layer (type)                 Output Shape              Param #   \n",
            "=================================================================\n",
            "dense_5 (Dense)              (None, 2048)              8194048   \n",
            "_________________________________________________________________\n",
            "leaky_re_lu_4 (LeakyReLU)    (None, 2048)              0         \n",
            "_________________________________________________________________\n",
            "dropout (Dropout)            (None, 2048)              0         \n",
            "_________________________________________________________________\n",
            "dense_6 (Dense)              (None, 1024)              2098176   \n",
            "_________________________________________________________________\n",
            "leaky_re_lu_5 (LeakyReLU)    (None, 1024)              0         \n",
            "_________________________________________________________________\n",
            "dropout_1 (Dropout)          (None, 1024)              0         \n",
            "_________________________________________________________________\n",
            "dense_7 (Dense)              (None, 512)               524800    \n",
            "_________________________________________________________________\n",
            "leaky_re_lu_6 (LeakyReLU)    (None, 512)               0         \n",
            "_________________________________________________________________\n",
            "dropout_2 (Dropout)          (None, 512)               0         \n",
            "_________________________________________________________________\n",
            "dense_8 (Dense)              (None, 256)               131328    \n",
            "_________________________________________________________________\n",
            "leaky_re_lu_7 (LeakyReLU)    (None, 256)               0         \n",
            "_________________________________________________________________\n",
            "dropout_3 (Dropout)          (None, 256)               0         \n",
            "_________________________________________________________________\n",
            "dense_9 (Dense)              (None, 1)                 257       \n",
            "=================================================================\n",
            "Total params: 10,948,609\n",
            "Trainable params: 10,948,609\n",
            "Non-trainable params: 0\n",
            "_________________________________________________________________\n"
          ],
          "name": "stdout"
        }
      ]
    },
    {
      "cell_type": "code",
      "metadata": {
        "id": "jmTf7v9p-b50"
      },
      "source": [
        "def discriminator_loss(real_output, fake_output):\n",
        "    real_loss = cross_entropy(tf.ones_like(real_output), real_output)\n",
        "    fake_loss = cross_entropy(tf.zeros_like(fake_output), fake_output)\n",
        "    total_loss = real_loss + fake_loss\n",
        "    return total_loss"
      ],
      "execution_count": 12,
      "outputs": []
    },
    {
      "cell_type": "code",
      "metadata": {
        "id": "i_orWQwj_Ak-"
      },
      "source": [
        "def generator_loss(fake_output):\n",
        "    return cross_entropy(tf.ones_like(fake_output), fake_output)"
      ],
      "execution_count": 13,
      "outputs": []
    },
    {
      "cell_type": "code",
      "metadata": {
        "id": "llUBEF24_BJS"
      },
      "source": [
        "generator_optimizer = tf.keras.optimizers.Adam(1e-4)\n",
        "discriminator_optimizer = tf.keras.optimizers.Adam(1e-3)"
      ],
      "execution_count": 14,
      "outputs": []
    },
    {
      "cell_type": "code",
      "metadata": {
        "id": "vBlm7JMx_DvY"
      },
      "source": [
        "def train_step(images):\n",
        "    noise = tf.random.normal([BATCH_SIZE, 128])\n",
        "\n",
        "    with tf.GradientTape() as gen_tape, tf.GradientTape() as disc_tape:\n",
        "        generated_images = generator(noise, training=True)\n",
        "\n",
        "        real_output = discriminator(images, training=True)\n",
        "        fake_output = discriminator(generated_images, training=True)\n",
        "\n",
        "        gen_loss = generator_loss(fake_output)\n",
        "        disc_loss = discriminator_loss(real_output, fake_output)\n",
        "\n",
        "    gradients_of_generator = gen_tape.gradient(gen_loss, generator.trainable_variables)\n",
        "    gradients_of_discriminator = disc_tape.gradient(disc_loss, discriminator.trainable_variables)\n",
        "\n",
        "    generator_optimizer.apply_gradients(zip(gradients_of_generator, generator.trainable_variables))\n",
        "    discriminator_optimizer.apply_gradients(zip(gradients_of_discriminator, discriminator.trainable_variables))\n",
        "\n",
        "    return gen_loss, disc_loss"
      ],
      "execution_count": 15,
      "outputs": []
    },
    {
      "cell_type": "code",
      "metadata": {
        "id": "tNntEwY__OTQ"
      },
      "source": [
        "def train(dataset, epochs):\n",
        "    delta = 0.1\n",
        "\n",
        "    loss_hist = []\n",
        "    gen_loss_hist = []\n",
        "    disc_loss_hist = []\n",
        "    for epoch in range(epochs):\n",
        "        start = time.time()\n",
        "\n",
        "        gen_loss = 0\n",
        "        disc_loss = 0\n",
        "        for data in dataset:\n",
        "            loss1, loss2 = train_step(data)\n",
        "            gen_loss += loss1\n",
        "            disc_loss += loss2\n",
        "\n",
        "        print('Time for epoch {} is {} sec. Loss is {}'.format(epoch + 1, time.time()-start, gen_loss+disc_loss))\n",
        "        \n",
        "        loss_hist.append(gen_loss+disc_loss)\n",
        "        gen_loss_hist.append(gen_loss)\n",
        "        disc_loss_hist.append(disc_loss)\n",
        "        if epoch > 2:\n",
        "            if abs(loss_hist[-1] - loss_hist[-2]) < delta and abs(loss_hist[-2] - loss_hist[-3]) < delta:\n",
        "                return loss_hist\n",
        "\n",
        "    return loss_hist, gen_loss_hist, disc_loss_hist"
      ],
      "execution_count": 16,
      "outputs": []
    },
    {
      "cell_type": "code",
      "metadata": {
        "id": "L42hxrlDHmb4"
      },
      "source": [
        "BATCH_SIZE = 500\n",
        "dataset = tf.data.Dataset.from_tensor_slices(exp_train).shuffle(1000).batch(BATCH_SIZE)"
      ],
      "execution_count": 17,
      "outputs": []
    },
    {
      "cell_type": "code",
      "metadata": {
        "id": "K-axc-FmH8Dn",
        "outputId": "ef544cd9-216f-41b7-898b-80e531b57274",
        "colab": {
          "base_uri": "https://localhost:8080/"
        }
      },
      "source": [
        "hist = train(dataset, 1000)"
      ],
      "execution_count": 18,
      "outputs": [
        {
          "output_type": "stream",
          "text": [
            "Time for epoch 1 is 1.3914282321929932 sec. Loss is 104.93605041503906\n",
            "Time for epoch 2 is 0.8560903072357178 sec. Loss is 31.885852813720703\n",
            "Time for epoch 3 is 0.7985336780548096 sec. Loss is 23.295860290527344\n",
            "Time for epoch 4 is 0.8051862716674805 sec. Loss is 23.14215087890625\n",
            "Time for epoch 5 is 0.7975397109985352 sec. Loss is 23.3486328125\n",
            "Time for epoch 6 is 0.8270642757415771 sec. Loss is 29.448070526123047\n",
            "Time for epoch 7 is 0.8123505115509033 sec. Loss is 57.21187210083008\n",
            "Time for epoch 8 is 0.7954144477844238 sec. Loss is 25.87432289123535\n",
            "Time for epoch 9 is 0.8022499084472656 sec. Loss is 64.2880859375\n",
            "Time for epoch 10 is 0.7938778400421143 sec. Loss is 48.523414611816406\n",
            "Time for epoch 11 is 0.8329095840454102 sec. Loss is 51.150489807128906\n",
            "Time for epoch 12 is 0.7879629135131836 sec. Loss is 43.31715774536133\n",
            "Time for epoch 13 is 0.800236701965332 sec. Loss is 51.8737907409668\n",
            "Time for epoch 14 is 0.8018019199371338 sec. Loss is 91.28744506835938\n",
            "Time for epoch 15 is 0.7843239307403564 sec. Loss is 69.48649597167969\n",
            "Time for epoch 16 is 0.8182737827301025 sec. Loss is 74.58644104003906\n",
            "Time for epoch 17 is 0.8032135963439941 sec. Loss is 58.959190368652344\n",
            "Time for epoch 18 is 0.8054862022399902 sec. Loss is 57.49566650390625\n",
            "Time for epoch 19 is 0.7876801490783691 sec. Loss is 57.0655403137207\n",
            "Time for epoch 20 is 0.7813167572021484 sec. Loss is 80.00924682617188\n",
            "Time for epoch 21 is 0.7983005046844482 sec. Loss is 74.23886108398438\n",
            "Time for epoch 22 is 0.7981176376342773 sec. Loss is 86.69197082519531\n",
            "Time for epoch 23 is 0.8026442527770996 sec. Loss is 60.74507141113281\n",
            "Time for epoch 24 is 0.7985837459564209 sec. Loss is 99.04200744628906\n",
            "Time for epoch 25 is 0.7876074314117432 sec. Loss is 66.28805541992188\n",
            "Time for epoch 26 is 0.8071832656860352 sec. Loss is 86.5252685546875\n",
            "Time for epoch 27 is 0.7892045974731445 sec. Loss is 84.5948486328125\n",
            "Time for epoch 28 is 0.8192312717437744 sec. Loss is 153.01324462890625\n",
            "Time for epoch 29 is 0.7924368381500244 sec. Loss is 63.39719772338867\n",
            "Time for epoch 30 is 0.7962281703948975 sec. Loss is 77.57830810546875\n",
            "Time for epoch 31 is 0.8078224658966064 sec. Loss is 84.65567016601562\n",
            "Time for epoch 32 is 0.7875454425811768 sec. Loss is 87.75385284423828\n",
            "Time for epoch 33 is 0.8171312808990479 sec. Loss is 64.6808853149414\n",
            "Time for epoch 34 is 0.774285078048706 sec. Loss is 61.2647705078125\n",
            "Time for epoch 35 is 0.8013525009155273 sec. Loss is 63.342750549316406\n",
            "Time for epoch 36 is 0.8003947734832764 sec. Loss is 45.68670654296875\n",
            "Time for epoch 37 is 0.8053481578826904 sec. Loss is 58.98331069946289\n",
            "Time for epoch 38 is 0.8107819557189941 sec. Loss is 56.011512756347656\n",
            "Time for epoch 39 is 0.7904336452484131 sec. Loss is 121.21906280517578\n",
            "Time for epoch 40 is 0.791879415512085 sec. Loss is 111.07492065429688\n",
            "Time for epoch 41 is 0.8008558750152588 sec. Loss is 58.59239196777344\n",
            "Time for epoch 42 is 0.7906599044799805 sec. Loss is 52.63716125488281\n",
            "Time for epoch 43 is 0.8147480487823486 sec. Loss is 65.55469512939453\n",
            "Time for epoch 44 is 0.7931015491485596 sec. Loss is 88.04379272460938\n",
            "Time for epoch 45 is 0.799576997756958 sec. Loss is 91.7438735961914\n",
            "Time for epoch 46 is 0.7964720726013184 sec. Loss is 75.2695083618164\n",
            "Time for epoch 47 is 0.7892532348632812 sec. Loss is 115.6762466430664\n",
            "Time for epoch 48 is 0.8127307891845703 sec. Loss is 106.36460876464844\n",
            "Time for epoch 49 is 0.8067886829376221 sec. Loss is 128.18399047851562\n",
            "Time for epoch 50 is 0.820012092590332 sec. Loss is 99.06562042236328\n",
            "Time for epoch 51 is 0.7914834022521973 sec. Loss is 62.96062469482422\n",
            "Time for epoch 52 is 0.8111424446105957 sec. Loss is 95.70134735107422\n",
            "Time for epoch 53 is 0.8164472579956055 sec. Loss is 152.86512756347656\n",
            "Time for epoch 54 is 0.8023850917816162 sec. Loss is 92.44132232666016\n",
            "Time for epoch 55 is 0.8163063526153564 sec. Loss is 109.26116180419922\n",
            "Time for epoch 56 is 0.7954096794128418 sec. Loss is 123.19271087646484\n",
            "Time for epoch 57 is 0.7959280014038086 sec. Loss is 101.6983642578125\n",
            "Time for epoch 58 is 0.8026013374328613 sec. Loss is 91.54076385498047\n",
            "Time for epoch 59 is 0.8092033863067627 sec. Loss is 136.6277618408203\n",
            "Time for epoch 60 is 0.8152322769165039 sec. Loss is 94.13136291503906\n",
            "Time for epoch 61 is 0.7995593547821045 sec. Loss is 56.291847229003906\n",
            "Time for epoch 62 is 0.8009095191955566 sec. Loss is 66.67877197265625\n",
            "Time for epoch 63 is 0.8122165203094482 sec. Loss is 50.18689727783203\n",
            "Time for epoch 64 is 0.8117125034332275 sec. Loss is 33.197845458984375\n",
            "Time for epoch 65 is 0.8177297115325928 sec. Loss is 60.525108337402344\n",
            "Time for epoch 66 is 0.8042492866516113 sec. Loss is 109.53572845458984\n",
            "Time for epoch 67 is 0.8057510852813721 sec. Loss is 37.327857971191406\n",
            "Time for epoch 68 is 0.8085763454437256 sec. Loss is 41.437747955322266\n",
            "Time for epoch 69 is 0.8324615955352783 sec. Loss is 56.16215133666992\n",
            "Time for epoch 70 is 0.8720152378082275 sec. Loss is 30.823789596557617\n",
            "Time for epoch 71 is 0.8626534938812256 sec. Loss is 41.27494430541992\n",
            "Time for epoch 72 is 0.8648223876953125 sec. Loss is 56.174644470214844\n",
            "Time for epoch 73 is 0.8263449668884277 sec. Loss is 54.81385803222656\n",
            "Time for epoch 74 is 0.8363103866577148 sec. Loss is 52.86685562133789\n",
            "Time for epoch 75 is 0.8442692756652832 sec. Loss is 49.342525482177734\n",
            "Time for epoch 76 is 0.8435490131378174 sec. Loss is 61.682952880859375\n",
            "Time for epoch 77 is 0.8364264965057373 sec. Loss is 75.42743682861328\n",
            "Time for epoch 78 is 0.8283419609069824 sec. Loss is 76.68331146240234\n",
            "Time for epoch 79 is 0.840540885925293 sec. Loss is 44.30156326293945\n",
            "Time for epoch 80 is 0.844782829284668 sec. Loss is 43.783592224121094\n",
            "Time for epoch 81 is 0.8671514987945557 sec. Loss is 52.013736724853516\n",
            "Time for epoch 82 is 0.8137674331665039 sec. Loss is 41.77892303466797\n",
            "Time for epoch 83 is 0.8192079067230225 sec. Loss is 56.240074157714844\n",
            "Time for epoch 84 is 0.843994140625 sec. Loss is 84.71286010742188\n",
            "Time for epoch 85 is 0.8299219608306885 sec. Loss is 75.34388732910156\n",
            "Time for epoch 86 is 0.8337540626525879 sec. Loss is 75.8154296875\n",
            "Time for epoch 87 is 0.8239748477935791 sec. Loss is 60.92414093017578\n",
            "Time for epoch 88 is 0.8284029960632324 sec. Loss is 45.971553802490234\n",
            "Time for epoch 89 is 0.8331656455993652 sec. Loss is 72.17452239990234\n",
            "Time for epoch 90 is 0.8311915397644043 sec. Loss is 78.0179672241211\n",
            "Time for epoch 91 is 0.8280160427093506 sec. Loss is 37.342647552490234\n",
            "Time for epoch 92 is 0.8334887027740479 sec. Loss is 41.571128845214844\n",
            "Time for epoch 93 is 0.8611552715301514 sec. Loss is 38.28142166137695\n",
            "Time for epoch 94 is 0.8282132148742676 sec. Loss is 56.00379180908203\n",
            "Time for epoch 95 is 0.8510515689849854 sec. Loss is 62.08867645263672\n",
            "Time for epoch 96 is 0.8447375297546387 sec. Loss is 50.152854919433594\n",
            "Time for epoch 97 is 0.838395357131958 sec. Loss is 36.47855758666992\n",
            "Time for epoch 98 is 0.8666567802429199 sec. Loss is 39.27932357788086\n",
            "Time for epoch 99 is 0.8377902507781982 sec. Loss is 79.2913818359375\n",
            "Time for epoch 100 is 0.8295023441314697 sec. Loss is 58.514835357666016\n",
            "Time for epoch 101 is 0.8274312019348145 sec. Loss is 26.630901336669922\n",
            "Time for epoch 102 is 0.8412458896636963 sec. Loss is 32.213226318359375\n",
            "Time for epoch 103 is 0.8376181125640869 sec. Loss is 38.311500549316406\n",
            "Time for epoch 104 is 0.8274173736572266 sec. Loss is 51.69245910644531\n",
            "Time for epoch 105 is 0.8406369686126709 sec. Loss is 48.11393737792969\n",
            "Time for epoch 106 is 0.8315122127532959 sec. Loss is 29.500823974609375\n",
            "Time for epoch 107 is 0.8202369213104248 sec. Loss is 36.986454010009766\n",
            "Time for epoch 108 is 0.8104753494262695 sec. Loss is 35.995994567871094\n",
            "Time for epoch 109 is 0.8053569793701172 sec. Loss is 42.09172439575195\n",
            "Time for epoch 110 is 0.8146893978118896 sec. Loss is 57.58161926269531\n",
            "Time for epoch 111 is 0.8022716045379639 sec. Loss is 37.95710372924805\n",
            "Time for epoch 112 is 0.8112766742706299 sec. Loss is 38.898067474365234\n",
            "Time for epoch 113 is 0.8063137531280518 sec. Loss is 45.015899658203125\n",
            "Time for epoch 114 is 0.8089611530303955 sec. Loss is 31.768848419189453\n",
            "Time for epoch 115 is 0.8306801319122314 sec. Loss is 41.22064971923828\n",
            "Time for epoch 116 is 0.8136522769927979 sec. Loss is 38.364864349365234\n",
            "Time for epoch 117 is 0.8180239200592041 sec. Loss is 32.733184814453125\n",
            "Time for epoch 118 is 0.8043227195739746 sec. Loss is 31.980241775512695\n",
            "Time for epoch 119 is 0.816277265548706 sec. Loss is 41.5777702331543\n",
            "Time for epoch 120 is 0.8086693286895752 sec. Loss is 31.101268768310547\n",
            "Time for epoch 121 is 0.8119034767150879 sec. Loss is 32.23103713989258\n",
            "Time for epoch 122 is 0.8247349262237549 sec. Loss is 36.46071243286133\n",
            "Time for epoch 123 is 0.8142797946929932 sec. Loss is 35.408287048339844\n",
            "Time for epoch 124 is 0.8248069286346436 sec. Loss is 53.877079010009766\n",
            "Time for epoch 125 is 0.8067305088043213 sec. Loss is 30.238685607910156\n",
            "Time for epoch 126 is 0.8309988975524902 sec. Loss is 26.384952545166016\n",
            "Time for epoch 127 is 0.8234281539916992 sec. Loss is 26.638755798339844\n",
            "Time for epoch 128 is 0.824805736541748 sec. Loss is 35.313987731933594\n",
            "Time for epoch 129 is 0.8326213359832764 sec. Loss is 40.369754791259766\n",
            "Time for epoch 130 is 0.8108487129211426 sec. Loss is 46.070804595947266\n",
            "Time for epoch 131 is 0.8283836841583252 sec. Loss is 34.65299987792969\n",
            "Time for epoch 132 is 0.8133456707000732 sec. Loss is 28.489765167236328\n",
            "Time for epoch 133 is 0.8302242755889893 sec. Loss is 30.92197036743164\n",
            "Time for epoch 134 is 0.8146171569824219 sec. Loss is 29.439044952392578\n",
            "Time for epoch 135 is 0.8234004974365234 sec. Loss is 27.829936981201172\n",
            "Time for epoch 136 is 0.8300478458404541 sec. Loss is 31.627668380737305\n",
            "Time for epoch 137 is 0.8078022003173828 sec. Loss is 28.45693588256836\n",
            "Time for epoch 138 is 0.8306903839111328 sec. Loss is 29.4157772064209\n",
            "Time for epoch 139 is 0.8032982349395752 sec. Loss is 26.04915428161621\n",
            "Time for epoch 140 is 0.821857213973999 sec. Loss is 33.765689849853516\n",
            "Time for epoch 141 is 0.8190383911132812 sec. Loss is 38.10274887084961\n",
            "Time for epoch 142 is 0.8129029273986816 sec. Loss is 39.67626953125\n",
            "Time for epoch 143 is 0.8301281929016113 sec. Loss is 31.774730682373047\n",
            "Time for epoch 144 is 0.8057785034179688 sec. Loss is 24.780534744262695\n",
            "Time for epoch 145 is 0.8092067241668701 sec. Loss is 22.33420181274414\n",
            "Time for epoch 146 is 0.8246748447418213 sec. Loss is 23.221580505371094\n",
            "Time for epoch 147 is 0.8116202354431152 sec. Loss is 24.832111358642578\n",
            "Time for epoch 148 is 0.8302009105682373 sec. Loss is 26.55349349975586\n",
            "Time for epoch 149 is 0.8238155841827393 sec. Loss is 24.400726318359375\n",
            "Time for epoch 150 is 0.8156185150146484 sec. Loss is 23.88626480102539\n",
            "Time for epoch 151 is 0.8231256008148193 sec. Loss is 25.51629638671875\n",
            "Time for epoch 152 is 0.8270378112792969 sec. Loss is 35.86893081665039\n",
            "Time for epoch 153 is 0.8499364852905273 sec. Loss is 32.1230354309082\n",
            "Time for epoch 154 is 0.8248944282531738 sec. Loss is 24.686504364013672\n",
            "Time for epoch 155 is 0.842731237411499 sec. Loss is 29.001554489135742\n",
            "Time for epoch 156 is 0.8183934688568115 sec. Loss is 40.01169204711914\n",
            "Time for epoch 157 is 0.8395705223083496 sec. Loss is 28.437814712524414\n",
            "Time for epoch 158 is 0.8277170658111572 sec. Loss is 25.57913589477539\n",
            "Time for epoch 159 is 0.8400211334228516 sec. Loss is 25.898704528808594\n",
            "Time for epoch 160 is 0.8491079807281494 sec. Loss is 30.10921859741211\n",
            "Time for epoch 161 is 0.8191907405853271 sec. Loss is 27.933984756469727\n",
            "Time for epoch 162 is 0.8405933380126953 sec. Loss is 29.77272605895996\n",
            "Time for epoch 163 is 0.8233613967895508 sec. Loss is 63.478965759277344\n",
            "Time for epoch 164 is 0.8371386528015137 sec. Loss is 39.48542022705078\n",
            "Time for epoch 165 is 0.8393166065216064 sec. Loss is 25.73731231689453\n",
            "Time for epoch 166 is 0.8246097564697266 sec. Loss is 24.479116439819336\n",
            "Time for epoch 167 is 0.8378503322601318 sec. Loss is 23.04308319091797\n",
            "Time for epoch 168 is 0.8270411491394043 sec. Loss is 23.247989654541016\n",
            "Time for epoch 169 is 0.8282487392425537 sec. Loss is 22.256591796875\n",
            "Time for epoch 170 is 0.8395588397979736 sec. Loss is 21.95545768737793\n",
            "Time for epoch 171 is 0.8328554630279541 sec. Loss is 22.179241180419922\n",
            "Time for epoch 172 is 0.8376474380493164 sec. Loss is 22.613601684570312\n",
            "Time for epoch 173 is 0.8183479309082031 sec. Loss is 24.0772705078125\n",
            "Time for epoch 174 is 0.8271546363830566 sec. Loss is 24.87967872619629\n",
            "Time for epoch 175 is 0.8317956924438477 sec. Loss is 22.14130401611328\n",
            "Time for epoch 176 is 0.8255622386932373 sec. Loss is 23.34904670715332\n",
            "Time for epoch 177 is 0.8464174270629883 sec. Loss is 22.098270416259766\n",
            "Time for epoch 178 is 0.810854434967041 sec. Loss is 21.856651306152344\n",
            "Time for epoch 179 is 0.837846040725708 sec. Loss is 22.900894165039062\n",
            "Time for epoch 180 is 0.8456134796142578 sec. Loss is 23.817598342895508\n",
            "Time for epoch 181 is 0.8363666534423828 sec. Loss is 27.265296936035156\n",
            "Time for epoch 182 is 0.8390882015228271 sec. Loss is 31.31218147277832\n",
            "Time for epoch 183 is 0.8185052871704102 sec. Loss is 24.132638931274414\n",
            "Time for epoch 184 is 0.8348779678344727 sec. Loss is 24.861312866210938\n",
            "Time for epoch 185 is 0.8241724967956543 sec. Loss is 22.441226959228516\n",
            "Time for epoch 186 is 0.835233211517334 sec. Loss is 24.69119644165039\n",
            "Time for epoch 187 is 0.8271825313568115 sec. Loss is 25.182294845581055\n",
            "Time for epoch 188 is 0.8230421543121338 sec. Loss is 25.006196975708008\n",
            "Time for epoch 189 is 0.839599609375 sec. Loss is 29.919328689575195\n",
            "Time for epoch 190 is 0.8459794521331787 sec. Loss is 25.327735900878906\n",
            "Time for epoch 191 is 0.8472039699554443 sec. Loss is 23.878761291503906\n",
            "Time for epoch 192 is 0.8414690494537354 sec. Loss is 24.94016456604004\n",
            "Time for epoch 193 is 0.841956615447998 sec. Loss is 25.570722579956055\n",
            "Time for epoch 194 is 0.8317108154296875 sec. Loss is 40.64312744140625\n",
            "Time for epoch 195 is 0.8287270069122314 sec. Loss is 28.182750701904297\n",
            "Time for epoch 196 is 0.8317131996154785 sec. Loss is 24.22284507751465\n",
            "Time for epoch 197 is 0.8182787895202637 sec. Loss is 22.766490936279297\n",
            "Time for epoch 198 is 0.8347036838531494 sec. Loss is 22.398014068603516\n",
            "Time for epoch 199 is 0.8163316249847412 sec. Loss is 23.082500457763672\n",
            "Time for epoch 200 is 0.8273694515228271 sec. Loss is 24.451335906982422\n",
            "Time for epoch 201 is 0.8209772109985352 sec. Loss is 24.974323272705078\n",
            "Time for epoch 202 is 0.8287713527679443 sec. Loss is 28.992488861083984\n",
            "Time for epoch 203 is 0.8424820899963379 sec. Loss is 29.876005172729492\n",
            "Time for epoch 204 is 0.8407068252563477 sec. Loss is 27.103965759277344\n",
            "Time for epoch 205 is 0.8283436298370361 sec. Loss is 35.33781814575195\n",
            "Time for epoch 206 is 0.819704532623291 sec. Loss is 70.8035888671875\n",
            "Time for epoch 207 is 0.8271608352661133 sec. Loss is 29.208023071289062\n",
            "Time for epoch 208 is 0.8374907970428467 sec. Loss is 26.354324340820312\n",
            "Time for epoch 209 is 0.8223631381988525 sec. Loss is 22.908370971679688\n",
            "Time for epoch 210 is 0.8319346904754639 sec. Loss is 23.463165283203125\n",
            "Time for epoch 211 is 0.8382973670959473 sec. Loss is 21.81134796142578\n",
            "Time for epoch 212 is 0.8133320808410645 sec. Loss is 24.324905395507812\n",
            "Time for epoch 213 is 0.8240146636962891 sec. Loss is 24.68389892578125\n",
            "Time for epoch 214 is 0.8180696964263916 sec. Loss is 32.960723876953125\n",
            "Time for epoch 215 is 0.8497669696807861 sec. Loss is 22.988584518432617\n",
            "Time for epoch 216 is 0.8170979022979736 sec. Loss is 23.10390853881836\n",
            "Time for epoch 217 is 0.8253908157348633 sec. Loss is 30.294330596923828\n",
            "Time for epoch 218 is 0.8360321521759033 sec. Loss is 27.22936248779297\n",
            "Time for epoch 219 is 0.8124740123748779 sec. Loss is 23.31889533996582\n",
            "Time for epoch 220 is 0.8445343971252441 sec. Loss is 22.283504486083984\n",
            "Time for epoch 221 is 0.8365235328674316 sec. Loss is 22.84601593017578\n",
            "Time for epoch 222 is 0.8388726711273193 sec. Loss is 22.393783569335938\n",
            "Time for epoch 223 is 0.8164091110229492 sec. Loss is 22.202774047851562\n",
            "Time for epoch 224 is 0.8285715579986572 sec. Loss is 24.185176849365234\n",
            "Time for epoch 225 is 0.8431460857391357 sec. Loss is 27.355594635009766\n",
            "Time for epoch 226 is 0.8367140293121338 sec. Loss is 25.345779418945312\n",
            "Time for epoch 227 is 0.8672418594360352 sec. Loss is 25.72784996032715\n",
            "Time for epoch 228 is 0.8308796882629395 sec. Loss is 31.974130630493164\n",
            "Time for epoch 229 is 0.8387041091918945 sec. Loss is 22.97279930114746\n",
            "Time for epoch 230 is 0.8387939929962158 sec. Loss is 24.181396484375\n",
            "Time for epoch 231 is 0.8149516582489014 sec. Loss is 23.7042236328125\n",
            "Time for epoch 232 is 0.8327393531799316 sec. Loss is 23.333757400512695\n",
            "Time for epoch 233 is 0.8200273513793945 sec. Loss is 24.733402252197266\n",
            "Time for epoch 234 is 0.8207848072052002 sec. Loss is 25.965442657470703\n",
            "Time for epoch 235 is 0.8266773223876953 sec. Loss is 41.07887649536133\n",
            "Time for epoch 236 is 0.805077075958252 sec. Loss is 37.273193359375\n",
            "Time for epoch 237 is 0.8268299102783203 sec. Loss is 26.482561111450195\n",
            "Time for epoch 238 is 0.8180267810821533 sec. Loss is 25.702430725097656\n",
            "Time for epoch 239 is 0.8433234691619873 sec. Loss is 22.388906478881836\n",
            "Time for epoch 240 is 0.8335237503051758 sec. Loss is 22.767837524414062\n",
            "Time for epoch 241 is 0.8191475868225098 sec. Loss is 23.818384170532227\n",
            "Time for epoch 242 is 0.8295729160308838 sec. Loss is 32.13058090209961\n",
            "Time for epoch 243 is 0.8221709728240967 sec. Loss is 39.57005310058594\n",
            "Time for epoch 244 is 0.8395824432373047 sec. Loss is 24.08235740661621\n",
            "Time for epoch 245 is 0.8170170783996582 sec. Loss is 22.76852798461914\n",
            "Time for epoch 246 is 0.8299205303192139 sec. Loss is 23.701641082763672\n",
            "Time for epoch 247 is 0.8318948745727539 sec. Loss is 23.25717544555664\n",
            "Time for epoch 248 is 0.8256847858428955 sec. Loss is 28.06659698486328\n",
            "Time for epoch 249 is 0.8210775852203369 sec. Loss is 24.855140686035156\n",
            "Time for epoch 250 is 0.8315150737762451 sec. Loss is 22.870227813720703\n",
            "Time for epoch 251 is 0.8544178009033203 sec. Loss is 22.386695861816406\n",
            "Time for epoch 252 is 0.8274238109588623 sec. Loss is 22.52336311340332\n",
            "Time for epoch 253 is 0.8433365821838379 sec. Loss is 23.44801902770996\n",
            "Time for epoch 254 is 0.8213999271392822 sec. Loss is 25.057416915893555\n",
            "Time for epoch 255 is 0.8321571350097656 sec. Loss is 26.010791778564453\n",
            "Time for epoch 256 is 0.8324151039123535 sec. Loss is 30.83304214477539\n",
            "Time for epoch 257 is 0.8299808502197266 sec. Loss is 32.67561721801758\n",
            "Time for epoch 258 is 0.8410916328430176 sec. Loss is 55.82918930053711\n",
            "Time for epoch 259 is 0.8417749404907227 sec. Loss is 30.402240753173828\n",
            "Time for epoch 260 is 0.8367118835449219 sec. Loss is 24.191162109375\n",
            "Time for epoch 261 is 0.8170475959777832 sec. Loss is 24.435508728027344\n",
            "Time for epoch 262 is 0.8284292221069336 sec. Loss is 22.253768920898438\n",
            "Time for epoch 263 is 0.8317079544067383 sec. Loss is 21.731409072875977\n",
            "Time for epoch 264 is 0.8224453926086426 sec. Loss is 21.940061569213867\n",
            "Time for epoch 265 is 0.853968620300293 sec. Loss is 23.198471069335938\n",
            "Time for epoch 266 is 0.8133430480957031 sec. Loss is 26.83587646484375\n",
            "Time for epoch 267 is 0.8361105918884277 sec. Loss is 24.173416137695312\n",
            "Time for epoch 268 is 0.8145825862884521 sec. Loss is 26.168975830078125\n",
            "Time for epoch 269 is 0.8149251937866211 sec. Loss is 27.48520278930664\n",
            "Time for epoch 270 is 0.8448116779327393 sec. Loss is 22.599014282226562\n",
            "Time for epoch 271 is 0.8113563060760498 sec. Loss is 22.964256286621094\n",
            "Time for epoch 272 is 0.820972204208374 sec. Loss is 21.17244529724121\n",
            "Time for epoch 273 is 0.7956209182739258 sec. Loss is 21.306747436523438\n",
            "Time for epoch 274 is 0.8199474811553955 sec. Loss is 21.39944839477539\n",
            "Time for epoch 275 is 0.8159184455871582 sec. Loss is 21.568347930908203\n",
            "Time for epoch 276 is 0.8114707469940186 sec. Loss is 22.865234375\n",
            "Time for epoch 277 is 0.8463687896728516 sec. Loss is 33.66329574584961\n",
            "Time for epoch 278 is 0.817502498626709 sec. Loss is 24.97027587890625\n",
            "Time for epoch 279 is 0.8248584270477295 sec. Loss is 24.670499801635742\n",
            "Time for epoch 280 is 0.8309197425842285 sec. Loss is 25.831188201904297\n",
            "Time for epoch 281 is 0.8242690563201904 sec. Loss is 26.967147827148438\n",
            "Time for epoch 282 is 0.8366966247558594 sec. Loss is 44.76470184326172\n",
            "Time for epoch 283 is 0.8134169578552246 sec. Loss is 30.74295425415039\n",
            "Time for epoch 284 is 0.8427989482879639 sec. Loss is 22.126686096191406\n",
            "Time for epoch 285 is 0.8232002258300781 sec. Loss is 23.3282470703125\n",
            "Time for epoch 286 is 0.8076515197753906 sec. Loss is 41.318824768066406\n",
            "Time for epoch 287 is 0.8309211730957031 sec. Loss is 26.955406188964844\n",
            "Time for epoch 288 is 0.8150384426116943 sec. Loss is 24.327266693115234\n",
            "Time for epoch 289 is 0.839444637298584 sec. Loss is 27.399551391601562\n",
            "Time for epoch 290 is 0.8292038440704346 sec. Loss is 23.632516860961914\n",
            "Time for epoch 291 is 0.816596508026123 sec. Loss is 22.431745529174805\n",
            "Time for epoch 292 is 0.8207254409790039 sec. Loss is 24.09389877319336\n",
            "Time for epoch 293 is 0.8100197315216064 sec. Loss is 28.62830924987793\n",
            "Time for epoch 294 is 0.8326025009155273 sec. Loss is 27.63971710205078\n",
            "Time for epoch 295 is 0.8140158653259277 sec. Loss is 27.282909393310547\n",
            "Time for epoch 296 is 0.81723952293396 sec. Loss is 23.199289321899414\n",
            "Time for epoch 297 is 0.8200414180755615 sec. Loss is 22.43059539794922\n",
            "Time for epoch 298 is 0.8010785579681396 sec. Loss is 22.015682220458984\n",
            "Time for epoch 299 is 0.827523946762085 sec. Loss is 21.96269416809082\n",
            "Time for epoch 300 is 0.8226780891418457 sec. Loss is 23.750408172607422\n",
            "Time for epoch 301 is 0.8156247138977051 sec. Loss is 31.476696014404297\n",
            "Time for epoch 302 is 0.8240714073181152 sec. Loss is 44.80571746826172\n",
            "Time for epoch 303 is 0.8214857578277588 sec. Loss is 26.974605560302734\n",
            "Time for epoch 304 is 0.8245842456817627 sec. Loss is 27.292640686035156\n",
            "Time for epoch 305 is 0.7942121028900146 sec. Loss is 22.487545013427734\n",
            "Time for epoch 306 is 0.8312773704528809 sec. Loss is 21.69896697998047\n",
            "Time for epoch 307 is 0.8179423809051514 sec. Loss is 22.646272659301758\n",
            "Time for epoch 308 is 0.8227205276489258 sec. Loss is 28.54697608947754\n",
            "Time for epoch 309 is 0.830357551574707 sec. Loss is 32.49825668334961\n",
            "Time for epoch 310 is 0.828737735748291 sec. Loss is 29.984905242919922\n",
            "Time for epoch 311 is 0.8321607112884521 sec. Loss is 32.47254180908203\n",
            "Time for epoch 312 is 0.8135273456573486 sec. Loss is 25.630229949951172\n",
            "Time for epoch 313 is 0.8261821269989014 sec. Loss is 33.07030487060547\n",
            "Time for epoch 314 is 0.8284890651702881 sec. Loss is 35.18817901611328\n",
            "Time for epoch 315 is 0.8201818466186523 sec. Loss is 30.51004409790039\n",
            "Time for epoch 316 is 0.8370547294616699 sec. Loss is 23.519367218017578\n",
            "Time for epoch 317 is 0.8055386543273926 sec. Loss is 23.629159927368164\n",
            "Time for epoch 318 is 0.8291089534759521 sec. Loss is 22.003698348999023\n",
            "Time for epoch 319 is 0.8244287967681885 sec. Loss is 23.501590728759766\n",
            "Time for epoch 320 is 0.8207743167877197 sec. Loss is 22.78818130493164\n",
            "Time for epoch 321 is 0.83919358253479 sec. Loss is 22.43393325805664\n",
            "Time for epoch 322 is 0.8109655380249023 sec. Loss is 25.60477066040039\n",
            "Time for epoch 323 is 0.8329031467437744 sec. Loss is 46.014923095703125\n",
            "Time for epoch 324 is 0.827387809753418 sec. Loss is 26.57730484008789\n",
            "Time for epoch 325 is 0.8238580226898193 sec. Loss is 37.435523986816406\n",
            "Time for epoch 326 is 0.8251569271087646 sec. Loss is 27.982975006103516\n",
            "Time for epoch 327 is 0.817185640335083 sec. Loss is 24.45684814453125\n",
            "Time for epoch 328 is 0.8467352390289307 sec. Loss is 25.32427978515625\n",
            "Time for epoch 329 is 0.8195903301239014 sec. Loss is 31.952625274658203\n",
            "Time for epoch 330 is 0.8143386840820312 sec. Loss is 30.230037689208984\n",
            "Time for epoch 331 is 0.8158197402954102 sec. Loss is 42.0817756652832\n",
            "Time for epoch 332 is 0.8170897960662842 sec. Loss is 30.653038024902344\n",
            "Time for epoch 333 is 0.8352086544036865 sec. Loss is 24.279144287109375\n",
            "Time for epoch 334 is 0.8155264854431152 sec. Loss is 21.967870712280273\n",
            "Time for epoch 335 is 0.8262465000152588 sec. Loss is 23.30398941040039\n",
            "Time for epoch 336 is 0.816525936126709 sec. Loss is 26.641387939453125\n",
            "Time for epoch 337 is 0.8225367069244385 sec. Loss is 30.28426170349121\n",
            "Time for epoch 338 is 0.8232533931732178 sec. Loss is 28.46194839477539\n",
            "Time for epoch 339 is 0.8014168739318848 sec. Loss is 34.339839935302734\n",
            "Time for epoch 340 is 0.8140170574188232 sec. Loss is 28.885211944580078\n",
            "Time for epoch 341 is 0.8146920204162598 sec. Loss is 25.94278335571289\n",
            "Time for epoch 342 is 0.8108763694763184 sec. Loss is 33.803741455078125\n",
            "Time for epoch 343 is 0.8085916042327881 sec. Loss is 27.886615753173828\n",
            "Time for epoch 344 is 0.8081157207489014 sec. Loss is 23.8265380859375\n",
            "Time for epoch 345 is 0.8136043548583984 sec. Loss is 37.46022415161133\n",
            "Time for epoch 346 is 0.8046705722808838 sec. Loss is 26.626937866210938\n",
            "Time for epoch 347 is 0.8183863162994385 sec. Loss is 24.16244888305664\n",
            "Time for epoch 348 is 0.8068740367889404 sec. Loss is 26.268321990966797\n",
            "Time for epoch 349 is 0.8123869895935059 sec. Loss is 25.175546646118164\n",
            "Time for epoch 350 is 0.821603536605835 sec. Loss is 25.076251983642578\n",
            "Time for epoch 351 is 0.81302809715271 sec. Loss is 24.886985778808594\n",
            "Time for epoch 352 is 0.8167524337768555 sec. Loss is 33.60736846923828\n",
            "Time for epoch 353 is 0.8093349933624268 sec. Loss is 45.60752868652344\n",
            "Time for epoch 354 is 0.8216416835784912 sec. Loss is 46.492103576660156\n",
            "Time for epoch 355 is 0.8327856063842773 sec. Loss is 22.869815826416016\n",
            "Time for epoch 356 is 0.8194663524627686 sec. Loss is 23.090232849121094\n",
            "Time for epoch 357 is 0.8316700458526611 sec. Loss is 22.231874465942383\n",
            "Time for epoch 358 is 0.8134777545928955 sec. Loss is 26.11520767211914\n",
            "Time for epoch 359 is 0.8394930362701416 sec. Loss is 21.19137191772461\n",
            "Time for epoch 360 is 0.819875955581665 sec. Loss is 21.835159301757812\n",
            "Time for epoch 361 is 0.8419158458709717 sec. Loss is 32.05133056640625\n",
            "Time for epoch 362 is 0.8225538730621338 sec. Loss is 25.176639556884766\n",
            "Time for epoch 363 is 0.8118062019348145 sec. Loss is 22.779909133911133\n",
            "Time for epoch 364 is 0.8180632591247559 sec. Loss is 24.899293899536133\n",
            "Time for epoch 365 is 0.8137617111206055 sec. Loss is 22.485456466674805\n",
            "Time for epoch 366 is 0.8156692981719971 sec. Loss is 26.14218521118164\n",
            "Time for epoch 367 is 0.8147897720336914 sec. Loss is 27.82550048828125\n",
            "Time for epoch 368 is 0.7911670207977295 sec. Loss is 21.748414993286133\n",
            "Time for epoch 369 is 0.8307309150695801 sec. Loss is 24.320669174194336\n",
            "Time for epoch 370 is 0.8288204669952393 sec. Loss is 25.197242736816406\n",
            "Time for epoch 371 is 0.817901611328125 sec. Loss is 23.18004608154297\n",
            "Time for epoch 372 is 0.8241794109344482 sec. Loss is 25.14158058166504\n",
            "Time for epoch 373 is 0.8282220363616943 sec. Loss is 32.52741622924805\n",
            "Time for epoch 374 is 0.8243939876556396 sec. Loss is 33.14896011352539\n",
            "Time for epoch 375 is 0.8321774005889893 sec. Loss is 31.195375442504883\n",
            "Time for epoch 376 is 0.8163635730743408 sec. Loss is 22.9376220703125\n",
            "Time for epoch 377 is 0.8114476203918457 sec. Loss is 29.375629425048828\n",
            "Time for epoch 378 is 0.8149237632751465 sec. Loss is 31.692018508911133\n",
            "Time for epoch 379 is 0.8045477867126465 sec. Loss is 46.64192199707031\n",
            "Time for epoch 380 is 0.7993555068969727 sec. Loss is 24.610876083374023\n",
            "Time for epoch 381 is 0.8251512050628662 sec. Loss is 25.475746154785156\n",
            "Time for epoch 382 is 0.8151211738586426 sec. Loss is 23.52064323425293\n",
            "Time for epoch 383 is 0.8176367282867432 sec. Loss is 21.94999122619629\n",
            "Time for epoch 384 is 0.8038883209228516 sec. Loss is 22.111064910888672\n",
            "Time for epoch 385 is 0.828298807144165 sec. Loss is 21.64466094970703\n",
            "Time for epoch 386 is 0.8270719051361084 sec. Loss is 22.888778686523438\n",
            "Time for epoch 387 is 0.8045668601989746 sec. Loss is 34.04874801635742\n",
            "Time for epoch 388 is 0.8338267803192139 sec. Loss is 36.48908996582031\n",
            "Time for epoch 389 is 0.8031435012817383 sec. Loss is 22.860225677490234\n",
            "Time for epoch 390 is 0.8022725582122803 sec. Loss is 21.82870101928711\n",
            "Time for epoch 391 is 0.8318080902099609 sec. Loss is 21.061185836791992\n",
            "Time for epoch 392 is 0.8197708129882812 sec. Loss is 21.886180877685547\n",
            "Time for epoch 393 is 0.8364136219024658 sec. Loss is 22.240219116210938\n",
            "Time for epoch 394 is 0.815924882888794 sec. Loss is 23.76401138305664\n",
            "Time for epoch 395 is 0.8345787525177002 sec. Loss is 22.13713836669922\n",
            "Time for epoch 396 is 0.833803653717041 sec. Loss is 26.135093688964844\n",
            "Time for epoch 397 is 0.8297593593597412 sec. Loss is 21.477664947509766\n",
            "Time for epoch 398 is 0.8375353813171387 sec. Loss is 31.09286880493164\n",
            "Time for epoch 399 is 0.8113477230072021 sec. Loss is 23.896053314208984\n",
            "Time for epoch 400 is 0.822293758392334 sec. Loss is 22.210954666137695\n",
            "Time for epoch 401 is 0.8106815814971924 sec. Loss is 37.032508850097656\n",
            "Time for epoch 402 is 0.8079798221588135 sec. Loss is 24.049301147460938\n",
            "Time for epoch 403 is 0.8298683166503906 sec. Loss is 26.211977005004883\n",
            "Time for epoch 404 is 0.8166894912719727 sec. Loss is 28.810935974121094\n",
            "Time for epoch 405 is 0.8050754070281982 sec. Loss is 28.18189239501953\n",
            "Time for epoch 406 is 0.8075551986694336 sec. Loss is 34.24195861816406\n",
            "Time for epoch 407 is 0.813330888748169 sec. Loss is 44.303619384765625\n",
            "Time for epoch 408 is 0.8217248916625977 sec. Loss is 34.52445983886719\n",
            "Time for epoch 409 is 0.8161957263946533 sec. Loss is 28.470760345458984\n",
            "Time for epoch 410 is 0.8347451686859131 sec. Loss is 37.209693908691406\n",
            "Time for epoch 411 is 0.807877779006958 sec. Loss is 41.228172302246094\n",
            "Time for epoch 412 is 0.8083462715148926 sec. Loss is 24.710235595703125\n",
            "Time for epoch 413 is 0.8121976852416992 sec. Loss is 28.083553314208984\n",
            "Time for epoch 414 is 0.808013916015625 sec. Loss is 24.850845336914062\n",
            "Time for epoch 415 is 0.8317255973815918 sec. Loss is 47.75377655029297\n",
            "Time for epoch 416 is 0.8188483715057373 sec. Loss is 48.445045471191406\n",
            "Time for epoch 417 is 0.8234705924987793 sec. Loss is 51.057342529296875\n",
            "Time for epoch 418 is 0.8076090812683105 sec. Loss is 31.629573822021484\n",
            "Time for epoch 419 is 0.8177001476287842 sec. Loss is 27.838211059570312\n",
            "Time for epoch 420 is 0.8229906558990479 sec. Loss is 25.896133422851562\n",
            "Time for epoch 421 is 0.8089487552642822 sec. Loss is 22.5031681060791\n",
            "Time for epoch 422 is 0.8325197696685791 sec. Loss is 22.57008934020996\n",
            "Time for epoch 423 is 0.8171210289001465 sec. Loss is 26.497020721435547\n",
            "Time for epoch 424 is 0.8164441585540771 sec. Loss is 30.311382293701172\n",
            "Time for epoch 425 is 0.8371615409851074 sec. Loss is 52.569766998291016\n",
            "Time for epoch 426 is 0.8037054538726807 sec. Loss is 56.42002487182617\n",
            "Time for epoch 427 is 0.8243739604949951 sec. Loss is 44.913692474365234\n",
            "Time for epoch 428 is 0.8101232051849365 sec. Loss is 24.285236358642578\n",
            "Time for epoch 429 is 0.8174316883087158 sec. Loss is 27.43865203857422\n",
            "Time for epoch 430 is 0.8225669860839844 sec. Loss is 36.450836181640625\n",
            "Time for epoch 431 is 0.8066465854644775 sec. Loss is 48.70436096191406\n",
            "Time for epoch 432 is 0.8272430896759033 sec. Loss is 28.672300338745117\n",
            "Time for epoch 433 is 0.816277265548706 sec. Loss is 23.139495849609375\n",
            "Time for epoch 434 is 0.8459537029266357 sec. Loss is 40.87168502807617\n",
            "Time for epoch 435 is 0.8275971412658691 sec. Loss is 42.250953674316406\n",
            "Time for epoch 436 is 0.8096096515655518 sec. Loss is 26.69059181213379\n",
            "Time for epoch 437 is 0.8290174007415771 sec. Loss is 25.164859771728516\n",
            "Time for epoch 438 is 0.8192050457000732 sec. Loss is 22.881736755371094\n",
            "Time for epoch 439 is 0.8257753849029541 sec. Loss is 26.345352172851562\n",
            "Time for epoch 440 is 0.812657356262207 sec. Loss is 38.163387298583984\n",
            "Time for epoch 441 is 0.8156173229217529 sec. Loss is 162.70970153808594\n",
            "Time for epoch 442 is 0.833564281463623 sec. Loss is 51.27580642700195\n",
            "Time for epoch 443 is 0.813448429107666 sec. Loss is 29.95323944091797\n",
            "Time for epoch 444 is 0.8239583969116211 sec. Loss is 46.278282165527344\n",
            "Time for epoch 445 is 0.8225629329681396 sec. Loss is 29.31566619873047\n",
            "Time for epoch 446 is 0.8493540287017822 sec. Loss is 24.585065841674805\n",
            "Time for epoch 447 is 0.8323953151702881 sec. Loss is 21.531906127929688\n",
            "Time for epoch 448 is 0.8586893081665039 sec. Loss is 23.729412078857422\n",
            "Time for epoch 449 is 0.8480663299560547 sec. Loss is 23.837291717529297\n",
            "Time for epoch 450 is 0.8374557495117188 sec. Loss is 22.380733489990234\n",
            "Time for epoch 451 is 0.8510391712188721 sec. Loss is 21.264942169189453\n",
            "Time for epoch 452 is 0.8301663398742676 sec. Loss is 21.84954071044922\n",
            "Time for epoch 453 is 0.8359155654907227 sec. Loss is 28.229612350463867\n",
            "Time for epoch 454 is 0.8416869640350342 sec. Loss is 64.3706283569336\n",
            "Time for epoch 455 is 0.8341307640075684 sec. Loss is 29.39541244506836\n",
            "Time for epoch 456 is 0.8583812713623047 sec. Loss is 28.597885131835938\n",
            "Time for epoch 457 is 0.8315017223358154 sec. Loss is 31.56671142578125\n",
            "Time for epoch 458 is 0.82936692237854 sec. Loss is 26.43000602722168\n",
            "Time for epoch 459 is 0.8134398460388184 sec. Loss is 24.410423278808594\n",
            "Time for epoch 460 is 0.8256945610046387 sec. Loss is 23.97549057006836\n",
            "Time for epoch 461 is 0.8209073543548584 sec. Loss is 23.703330993652344\n",
            "Time for epoch 462 is 0.8025095462799072 sec. Loss is 39.42803955078125\n",
            "Time for epoch 463 is 0.8352198600769043 sec. Loss is 24.347841262817383\n",
            "Time for epoch 464 is 0.8090548515319824 sec. Loss is 25.924728393554688\n",
            "Time for epoch 465 is 0.8226494789123535 sec. Loss is 27.66819953918457\n",
            "Time for epoch 466 is 0.8119151592254639 sec. Loss is 49.409576416015625\n",
            "Time for epoch 467 is 0.8092894554138184 sec. Loss is 31.08096694946289\n",
            "Time for epoch 468 is 0.8289399147033691 sec. Loss is 22.073501586914062\n",
            "Time for epoch 469 is 0.8139326572418213 sec. Loss is 24.469406127929688\n",
            "Time for epoch 470 is 0.832977294921875 sec. Loss is 24.62563133239746\n",
            "Time for epoch 471 is 0.8156800270080566 sec. Loss is 21.7534236907959\n",
            "Time for epoch 472 is 0.8159897327423096 sec. Loss is 23.14681625366211\n",
            "Time for epoch 473 is 0.8270142078399658 sec. Loss is 40.66515350341797\n",
            "Time for epoch 474 is 0.8037829399108887 sec. Loss is 27.485061645507812\n",
            "Time for epoch 475 is 0.8285729885101318 sec. Loss is 23.139007568359375\n",
            "Time for epoch 476 is 0.8148984909057617 sec. Loss is 22.4017391204834\n",
            "Time for epoch 477 is 0.8156988620758057 sec. Loss is 23.452251434326172\n",
            "Time for epoch 478 is 0.8052916526794434 sec. Loss is 23.471294403076172\n",
            "Time for epoch 479 is 0.8075234889984131 sec. Loss is 26.285110473632812\n",
            "Time for epoch 480 is 0.806969165802002 sec. Loss is 65.84346008300781\n",
            "Time for epoch 481 is 0.8047459125518799 sec. Loss is 25.26573944091797\n",
            "Time for epoch 482 is 0.8217432498931885 sec. Loss is 23.788063049316406\n",
            "Time for epoch 483 is 0.8040611743927002 sec. Loss is 23.561887741088867\n",
            "Time for epoch 484 is 0.8171086311340332 sec. Loss is 30.718095779418945\n",
            "Time for epoch 485 is 0.7989864349365234 sec. Loss is 104.80307006835938\n",
            "Time for epoch 486 is 0.8111212253570557 sec. Loss is 31.653709411621094\n",
            "Time for epoch 487 is 0.8205904960632324 sec. Loss is 28.117189407348633\n",
            "Time for epoch 488 is 0.8008718490600586 sec. Loss is 26.840740203857422\n",
            "Time for epoch 489 is 0.8200364112854004 sec. Loss is 30.698265075683594\n",
            "Time for epoch 490 is 0.8232989311218262 sec. Loss is 24.73052978515625\n",
            "Time for epoch 491 is 0.808685302734375 sec. Loss is 27.385358810424805\n",
            "Time for epoch 492 is 0.8105366230010986 sec. Loss is 26.243148803710938\n",
            "Time for epoch 493 is 0.80391526222229 sec. Loss is 21.845035552978516\n",
            "Time for epoch 494 is 0.8142321109771729 sec. Loss is 25.79714584350586\n",
            "Time for epoch 495 is 0.8187575340270996 sec. Loss is 28.439044952392578\n",
            "Time for epoch 496 is 0.7977302074432373 sec. Loss is 22.295467376708984\n",
            "Time for epoch 497 is 0.81876540184021 sec. Loss is 22.687654495239258\n",
            "Time for epoch 498 is 0.7988910675048828 sec. Loss is 26.315181732177734\n",
            "Time for epoch 499 is 0.8213191032409668 sec. Loss is 39.538726806640625\n",
            "Time for epoch 500 is 0.7997791767120361 sec. Loss is 28.488750457763672\n",
            "Time for epoch 501 is 0.8217868804931641 sec. Loss is 26.269359588623047\n",
            "Time for epoch 502 is 0.7971715927124023 sec. Loss is 37.082237243652344\n",
            "Time for epoch 503 is 0.8126583099365234 sec. Loss is 41.774864196777344\n",
            "Time for epoch 504 is 0.8144927024841309 sec. Loss is 56.73755645751953\n",
            "Time for epoch 505 is 0.8081552982330322 sec. Loss is 41.7016487121582\n",
            "Time for epoch 506 is 0.8318281173706055 sec. Loss is 27.909133911132812\n",
            "Time for epoch 507 is 0.8107655048370361 sec. Loss is 29.481861114501953\n",
            "Time for epoch 508 is 0.8337128162384033 sec. Loss is 25.73699188232422\n",
            "Time for epoch 509 is 0.8190531730651855 sec. Loss is 22.46870994567871\n",
            "Time for epoch 510 is 0.8035919666290283 sec. Loss is 22.302528381347656\n",
            "Time for epoch 511 is 0.8328607082366943 sec. Loss is 23.04323959350586\n",
            "Time for epoch 512 is 0.8143792152404785 sec. Loss is 23.538002014160156\n",
            "Time for epoch 513 is 0.8339653015136719 sec. Loss is 25.188724517822266\n",
            "Time for epoch 514 is 0.8212559223175049 sec. Loss is 38.158172607421875\n",
            "Time for epoch 515 is 0.8160030841827393 sec. Loss is 68.89378356933594\n",
            "Time for epoch 516 is 0.8330016136169434 sec. Loss is 28.9863338470459\n",
            "Time for epoch 517 is 0.8117110729217529 sec. Loss is 26.07900619506836\n",
            "Time for epoch 518 is 0.8385634422302246 sec. Loss is 22.86219024658203\n",
            "Time for epoch 519 is 0.8173131942749023 sec. Loss is 23.578777313232422\n",
            "Time for epoch 520 is 0.8304011821746826 sec. Loss is 28.49232292175293\n",
            "Time for epoch 521 is 0.8261396884918213 sec. Loss is 31.390178680419922\n",
            "Time for epoch 522 is 0.8163378238677979 sec. Loss is 33.421905517578125\n",
            "Time for epoch 523 is 0.8332622051239014 sec. Loss is 28.851713180541992\n",
            "Time for epoch 524 is 0.8078253269195557 sec. Loss is 32.015018463134766\n",
            "Time for epoch 525 is 0.8188261985778809 sec. Loss is 87.89740753173828\n",
            "Time for epoch 526 is 0.8009111881256104 sec. Loss is 40.83836364746094\n",
            "Time for epoch 527 is 0.798626184463501 sec. Loss is 32.823768615722656\n",
            "Time for epoch 528 is 0.818382978439331 sec. Loss is 38.15467071533203\n",
            "Time for epoch 529 is 0.794184684753418 sec. Loss is 53.83990478515625\n",
            "Time for epoch 530 is 0.8252081871032715 sec. Loss is 22.821453094482422\n",
            "Time for epoch 531 is 0.8119220733642578 sec. Loss is 26.575551986694336\n",
            "Time for epoch 532 is 0.8138575553894043 sec. Loss is 29.176023483276367\n",
            "Time for epoch 533 is 0.8108298778533936 sec. Loss is 29.74645233154297\n",
            "Time for epoch 534 is 0.8158435821533203 sec. Loss is 48.287879943847656\n",
            "Time for epoch 535 is 0.8167774677276611 sec. Loss is 33.92987060546875\n",
            "Time for epoch 536 is 0.7971735000610352 sec. Loss is 27.989177703857422\n",
            "Time for epoch 537 is 0.8123452663421631 sec. Loss is 38.34701919555664\n",
            "Time for epoch 538 is 0.7987570762634277 sec. Loss is 53.964447021484375\n",
            "Time for epoch 539 is 0.826282262802124 sec. Loss is 24.38518714904785\n",
            "Time for epoch 540 is 0.8223400115966797 sec. Loss is 30.791860580444336\n",
            "Time for epoch 541 is 0.7982730865478516 sec. Loss is 32.885101318359375\n",
            "Time for epoch 542 is 0.8241996765136719 sec. Loss is 32.05638122558594\n",
            "Time for epoch 543 is 0.7973978519439697 sec. Loss is 22.662609100341797\n",
            "Time for epoch 544 is 0.8047146797180176 sec. Loss is 22.023544311523438\n",
            "Time for epoch 545 is 0.8183531761169434 sec. Loss is 30.975841522216797\n",
            "Time for epoch 546 is 0.8171155452728271 sec. Loss is 27.90305519104004\n",
            "Time for epoch 547 is 0.8311400413513184 sec. Loss is 30.32483673095703\n",
            "Time for epoch 548 is 0.8141412734985352 sec. Loss is 30.833415985107422\n",
            "Time for epoch 549 is 0.8178114891052246 sec. Loss is 24.214900970458984\n",
            "Time for epoch 550 is 0.8234837055206299 sec. Loss is 33.8587646484375\n",
            "Time for epoch 551 is 0.8048095703125 sec. Loss is 26.978567123413086\n",
            "Time for epoch 552 is 0.842618465423584 sec. Loss is 28.842042922973633\n",
            "Time for epoch 553 is 0.8097209930419922 sec. Loss is 40.07666778564453\n",
            "Time for epoch 554 is 0.8259611129760742 sec. Loss is 22.65608024597168\n",
            "Time for epoch 555 is 0.8049824237823486 sec. Loss is 24.394752502441406\n",
            "Time for epoch 556 is 0.8034186363220215 sec. Loss is 22.78085708618164\n",
            "Time for epoch 557 is 0.8188672065734863 sec. Loss is 35.970184326171875\n",
            "Time for epoch 558 is 0.8097646236419678 sec. Loss is 76.71809387207031\n",
            "Time for epoch 559 is 0.8175809383392334 sec. Loss is 22.560649871826172\n",
            "Time for epoch 560 is 0.8084068298339844 sec. Loss is 29.618192672729492\n",
            "Time for epoch 561 is 0.8328723907470703 sec. Loss is 26.583585739135742\n",
            "Time for epoch 562 is 0.8328793048858643 sec. Loss is 25.107406616210938\n",
            "Time for epoch 563 is 0.8209981918334961 sec. Loss is 31.12129020690918\n",
            "Time for epoch 564 is 0.8505704402923584 sec. Loss is 26.5029354095459\n",
            "Time for epoch 565 is 0.8350286483764648 sec. Loss is 24.020973205566406\n",
            "Time for epoch 566 is 0.8279106616973877 sec. Loss is 24.486000061035156\n",
            "Time for epoch 567 is 0.798180103302002 sec. Loss is 42.1710319519043\n",
            "Time for epoch 568 is 0.8171775341033936 sec. Loss is 66.84268951416016\n",
            "Time for epoch 569 is 0.826735258102417 sec. Loss is 92.07899475097656\n",
            "Time for epoch 570 is 0.8063111305236816 sec. Loss is 103.45709991455078\n",
            "Time for epoch 571 is 0.8197650909423828 sec. Loss is 80.31694030761719\n",
            "Time for epoch 572 is 0.8025798797607422 sec. Loss is 25.920928955078125\n",
            "Time for epoch 573 is 0.813826322555542 sec. Loss is 37.14569854736328\n",
            "Time for epoch 574 is 0.8173983097076416 sec. Loss is 26.821842193603516\n",
            "Time for epoch 575 is 0.8113119602203369 sec. Loss is 26.277074813842773\n",
            "Time for epoch 576 is 0.8204853534698486 sec. Loss is 35.00639343261719\n",
            "Time for epoch 577 is 0.8123507499694824 sec. Loss is 32.85045623779297\n",
            "Time for epoch 578 is 0.809086799621582 sec. Loss is 36.14133834838867\n",
            "Time for epoch 579 is 0.8007450103759766 sec. Loss is 45.353294372558594\n",
            "Time for epoch 580 is 0.8153855800628662 sec. Loss is 27.03179931640625\n",
            "Time for epoch 581 is 0.8342533111572266 sec. Loss is 34.901607513427734\n",
            "Time for epoch 582 is 0.8004379272460938 sec. Loss is 36.20045471191406\n",
            "Time for epoch 583 is 0.819098949432373 sec. Loss is 56.88658905029297\n",
            "Time for epoch 584 is 0.7982151508331299 sec. Loss is 22.08620262145996\n",
            "Time for epoch 585 is 0.8182425498962402 sec. Loss is 24.106605529785156\n",
            "Time for epoch 586 is 0.8097989559173584 sec. Loss is 29.78931427001953\n",
            "Time for epoch 587 is 0.796497106552124 sec. Loss is 43.309539794921875\n",
            "Time for epoch 588 is 0.8305613994598389 sec. Loss is 46.16645050048828\n",
            "Time for epoch 589 is 0.8051908016204834 sec. Loss is 24.078140258789062\n",
            "Time for epoch 590 is 0.8376808166503906 sec. Loss is 36.402427673339844\n",
            "Time for epoch 591 is 0.8242099285125732 sec. Loss is 51.04241180419922\n",
            "Time for epoch 592 is 0.8188662528991699 sec. Loss is 56.40142822265625\n",
            "Time for epoch 593 is 0.8157253265380859 sec. Loss is 52.307334899902344\n",
            "Time for epoch 594 is 0.8131768703460693 sec. Loss is 70.9161148071289\n",
            "Time for epoch 595 is 0.8195850849151611 sec. Loss is 77.66539764404297\n",
            "Time for epoch 596 is 0.8092749118804932 sec. Loss is 28.6205997467041\n",
            "Time for epoch 597 is 0.8148484230041504 sec. Loss is 30.520252227783203\n",
            "Time for epoch 598 is 0.8190004825592041 sec. Loss is 43.23975372314453\n",
            "Time for epoch 599 is 0.815650224685669 sec. Loss is 32.95683288574219\n",
            "Time for epoch 600 is 0.8268053531646729 sec. Loss is 25.14093017578125\n",
            "Time for epoch 601 is 0.8080565929412842 sec. Loss is 37.185482025146484\n",
            "Time for epoch 602 is 0.8174099922180176 sec. Loss is 42.59086227416992\n",
            "Time for epoch 603 is 0.8284125328063965 sec. Loss is 36.914588928222656\n",
            "Time for epoch 604 is 0.8016271591186523 sec. Loss is 60.283843994140625\n",
            "Time for epoch 605 is 0.8210883140563965 sec. Loss is 31.263099670410156\n",
            "Time for epoch 606 is 0.802603006362915 sec. Loss is 26.65667724609375\n",
            "Time for epoch 607 is 0.8106415271759033 sec. Loss is 23.523557662963867\n",
            "Time for epoch 608 is 0.8058693408966064 sec. Loss is 22.49993133544922\n",
            "Time for epoch 609 is 0.8042900562286377 sec. Loss is 32.90584182739258\n",
            "Time for epoch 610 is 0.8290727138519287 sec. Loss is 62.85197448730469\n",
            "Time for epoch 611 is 0.802839994430542 sec. Loss is 44.350990295410156\n",
            "Time for epoch 612 is 0.8229167461395264 sec. Loss is 37.98770523071289\n",
            "Time for epoch 613 is 0.8170011043548584 sec. Loss is 30.100414276123047\n",
            "Time for epoch 614 is 0.8101363182067871 sec. Loss is 32.621986389160156\n",
            "Time for epoch 615 is 0.8170084953308105 sec. Loss is 44.71430587768555\n",
            "Time for epoch 616 is 0.8191676139831543 sec. Loss is 39.58272933959961\n",
            "Time for epoch 617 is 0.7997512817382812 sec. Loss is 45.735740661621094\n",
            "Time for epoch 618 is 0.8076026439666748 sec. Loss is 73.04692077636719\n",
            "Time for epoch 619 is 0.8042745590209961 sec. Loss is 65.74579620361328\n",
            "Time for epoch 620 is 0.8333594799041748 sec. Loss is 70.40087890625\n",
            "Time for epoch 621 is 0.7988889217376709 sec. Loss is 80.1452865600586\n",
            "Time for epoch 622 is 0.7985405921936035 sec. Loss is 35.283626556396484\n",
            "Time for epoch 623 is 0.8021945953369141 sec. Loss is 33.58341598510742\n",
            "Time for epoch 624 is 0.8168604373931885 sec. Loss is 36.928611755371094\n",
            "Time for epoch 625 is 0.8129339218139648 sec. Loss is 29.809295654296875\n",
            "Time for epoch 626 is 0.8092412948608398 sec. Loss is 27.02885627746582\n",
            "Time for epoch 627 is 0.8135955333709717 sec. Loss is 29.408382415771484\n",
            "Time for epoch 628 is 0.8051128387451172 sec. Loss is 38.005615234375\n",
            "Time for epoch 629 is 0.8166723251342773 sec. Loss is 41.07135772705078\n",
            "Time for epoch 630 is 0.8266079425811768 sec. Loss is 58.600730895996094\n",
            "Time for epoch 631 is 0.8061807155609131 sec. Loss is 56.64897537231445\n",
            "Time for epoch 632 is 0.8158366680145264 sec. Loss is 29.278623580932617\n",
            "Time for epoch 633 is 0.7968897819519043 sec. Loss is 25.451147079467773\n",
            "Time for epoch 634 is 0.8095402717590332 sec. Loss is 27.415754318237305\n",
            "Time for epoch 635 is 0.806002140045166 sec. Loss is 39.19891357421875\n",
            "Time for epoch 636 is 0.7970743179321289 sec. Loss is 30.767288208007812\n",
            "Time for epoch 637 is 0.8256964683532715 sec. Loss is 31.357894897460938\n",
            "Time for epoch 638 is 0.7966175079345703 sec. Loss is 33.609954833984375\n",
            "Time for epoch 639 is 0.8253474235534668 sec. Loss is 28.31143569946289\n",
            "Time for epoch 640 is 0.8097805976867676 sec. Loss is 44.49901580810547\n",
            "Time for epoch 641 is 0.8103902339935303 sec. Loss is 31.78866958618164\n",
            "Time for epoch 642 is 0.8150899410247803 sec. Loss is 33.240882873535156\n",
            "Time for epoch 643 is 0.806870698928833 sec. Loss is 25.158172607421875\n",
            "Time for epoch 644 is 0.8313064575195312 sec. Loss is 25.340621948242188\n",
            "Time for epoch 645 is 0.8087577819824219 sec. Loss is 22.79684066772461\n",
            "Time for epoch 646 is 0.8156750202178955 sec. Loss is 24.88521957397461\n",
            "Time for epoch 647 is 0.806746244430542 sec. Loss is 30.430288314819336\n",
            "Time for epoch 648 is 0.792142391204834 sec. Loss is 32.25946044921875\n",
            "Time for epoch 649 is 0.8340663909912109 sec. Loss is 55.02642822265625\n",
            "Time for epoch 650 is 0.8138656616210938 sec. Loss is 43.11199188232422\n",
            "Time for epoch 651 is 0.8270015716552734 sec. Loss is 33.712501525878906\n",
            "Time for epoch 652 is 0.8137290477752686 sec. Loss is 29.147254943847656\n",
            "Time for epoch 653 is 0.8146677017211914 sec. Loss is 26.480831146240234\n",
            "Time for epoch 654 is 0.8368039131164551 sec. Loss is 27.5747013092041\n",
            "Time for epoch 655 is 0.8139238357543945 sec. Loss is 49.44673156738281\n",
            "Time for epoch 656 is 0.8168504238128662 sec. Loss is 28.825950622558594\n",
            "Time for epoch 657 is 0.7893967628479004 sec. Loss is 40.18623352050781\n",
            "Time for epoch 658 is 0.7986340522766113 sec. Loss is 61.57705307006836\n",
            "Time for epoch 659 is 0.8057441711425781 sec. Loss is 34.827362060546875\n",
            "Time for epoch 660 is 0.7902894020080566 sec. Loss is 26.952219009399414\n",
            "Time for epoch 661 is 0.8209164142608643 sec. Loss is 35.94245910644531\n",
            "Time for epoch 662 is 0.8059539794921875 sec. Loss is 28.54734230041504\n",
            "Time for epoch 663 is 0.8197517395019531 sec. Loss is 33.78300857543945\n",
            "Time for epoch 664 is 0.8016166687011719 sec. Loss is 43.23484802246094\n",
            "Time for epoch 665 is 0.8084084987640381 sec. Loss is 32.997344970703125\n",
            "Time for epoch 666 is 0.8321990966796875 sec. Loss is 24.717796325683594\n",
            "Time for epoch 667 is 0.8156654834747314 sec. Loss is 35.607879638671875\n",
            "Time for epoch 668 is 0.8179357051849365 sec. Loss is 27.26544189453125\n",
            "Time for epoch 669 is 0.8236668109893799 sec. Loss is 22.44867706298828\n",
            "Time for epoch 670 is 0.7947266101837158 sec. Loss is 21.22695541381836\n",
            "Time for epoch 671 is 0.8287267684936523 sec. Loss is 22.32201385498047\n",
            "Time for epoch 672 is 0.8043427467346191 sec. Loss is 31.111719131469727\n",
            "Time for epoch 673 is 0.8086214065551758 sec. Loss is 23.049589157104492\n",
            "Time for epoch 674 is 0.8146607875823975 sec. Loss is 23.555919647216797\n",
            "Time for epoch 675 is 0.8060548305511475 sec. Loss is 27.017898559570312\n",
            "Time for epoch 676 is 0.8204045295715332 sec. Loss is 40.16048812866211\n",
            "Time for epoch 677 is 0.805262565612793 sec. Loss is 61.353424072265625\n",
            "Time for epoch 678 is 0.8175575733184814 sec. Loss is 133.8296661376953\n",
            "Time for epoch 679 is 0.7953133583068848 sec. Loss is 30.83732795715332\n",
            "Time for epoch 680 is 0.8157832622528076 sec. Loss is 32.04993438720703\n",
            "Time for epoch 681 is 0.8100383281707764 sec. Loss is 24.47557830810547\n",
            "Time for epoch 682 is 0.8021929264068604 sec. Loss is 22.300968170166016\n",
            "Time for epoch 683 is 0.8083784580230713 sec. Loss is 28.140766143798828\n",
            "Time for epoch 684 is 0.7960569858551025 sec. Loss is 30.56060791015625\n",
            "Time for epoch 685 is 0.8028545379638672 sec. Loss is 28.445446014404297\n",
            "Time for epoch 686 is 0.8333463668823242 sec. Loss is 22.531681060791016\n",
            "Time for epoch 687 is 0.7986910343170166 sec. Loss is 21.428607940673828\n",
            "Time for epoch 688 is 0.8115222454071045 sec. Loss is 24.254413604736328\n",
            "Time for epoch 689 is 0.8003320693969727 sec. Loss is 35.22124481201172\n",
            "Time for epoch 690 is 0.8143174648284912 sec. Loss is 21.673152923583984\n",
            "Time for epoch 691 is 0.8096892833709717 sec. Loss is 21.508296966552734\n",
            "Time for epoch 692 is 0.8257348537445068 sec. Loss is 23.280776977539062\n",
            "Time for epoch 693 is 0.8213095664978027 sec. Loss is 33.55662155151367\n",
            "Time for epoch 694 is 0.7959964275360107 sec. Loss is 25.916275024414062\n",
            "Time for epoch 695 is 0.8363955020904541 sec. Loss is 23.618934631347656\n",
            "Time for epoch 696 is 0.8015720844268799 sec. Loss is 21.969623565673828\n",
            "Time for epoch 697 is 0.8299458026885986 sec. Loss is 22.14853286743164\n",
            "Time for epoch 698 is 0.8020250797271729 sec. Loss is 32.546783447265625\n",
            "Time for epoch 699 is 0.7967672348022461 sec. Loss is 23.51926612854004\n",
            "Time for epoch 700 is 0.822559118270874 sec. Loss is 21.588333129882812\n",
            "Time for epoch 701 is 0.8175714015960693 sec. Loss is 21.264297485351562\n",
            "Time for epoch 702 is 0.8273873329162598 sec. Loss is 24.159061431884766\n",
            "Time for epoch 703 is 0.816657543182373 sec. Loss is 26.152076721191406\n",
            "Time for epoch 704 is 0.8231875896453857 sec. Loss is 23.347412109375\n",
            "Time for epoch 705 is 0.8503549098968506 sec. Loss is 21.733909606933594\n",
            "Time for epoch 706 is 0.8161306381225586 sec. Loss is 23.045440673828125\n",
            "Time for epoch 707 is 0.8259303569793701 sec. Loss is 35.33656311035156\n",
            "Time for epoch 708 is 0.818443775177002 sec. Loss is 23.105613708496094\n",
            "Time for epoch 709 is 0.8171720504760742 sec. Loss is 24.393997192382812\n",
            "Time for epoch 710 is 0.7956783771514893 sec. Loss is 48.59709167480469\n",
            "Time for epoch 711 is 0.7949841022491455 sec. Loss is 41.204559326171875\n",
            "Time for epoch 712 is 0.8180255889892578 sec. Loss is 25.209697723388672\n",
            "Time for epoch 713 is 0.801243782043457 sec. Loss is 27.076343536376953\n",
            "Time for epoch 714 is 0.8212168216705322 sec. Loss is 22.73619270324707\n",
            "Time for epoch 715 is 0.8169348239898682 sec. Loss is 21.72223472595215\n",
            "Time for epoch 716 is 0.8110787868499756 sec. Loss is 24.955543518066406\n",
            "Time for epoch 717 is 0.8064029216766357 sec. Loss is 25.425506591796875\n",
            "Time for epoch 718 is 0.8229765892028809 sec. Loss is 27.31414031982422\n",
            "Time for epoch 719 is 0.8231966495513916 sec. Loss is 24.590774536132812\n",
            "Time for epoch 720 is 0.8075888156890869 sec. Loss is 24.982826232910156\n",
            "Time for epoch 721 is 0.8253092765808105 sec. Loss is 28.16968536376953\n",
            "Time for epoch 722 is 0.8056893348693848 sec. Loss is 28.493846893310547\n",
            "Time for epoch 723 is 0.8075733184814453 sec. Loss is 35.1783332824707\n",
            "Time for epoch 724 is 0.824394941329956 sec. Loss is 39.22618103027344\n",
            "Time for epoch 725 is 0.8001618385314941 sec. Loss is 48.86532974243164\n",
            "Time for epoch 726 is 0.8300454616546631 sec. Loss is 43.90393829345703\n",
            "Time for epoch 727 is 0.7922937870025635 sec. Loss is 50.648651123046875\n",
            "Time for epoch 728 is 0.8193707466125488 sec. Loss is 24.832748413085938\n",
            "Time for epoch 729 is 0.8025338649749756 sec. Loss is 22.890377044677734\n",
            "Time for epoch 730 is 0.7899265289306641 sec. Loss is 21.417469024658203\n",
            "Time for epoch 731 is 0.8247866630554199 sec. Loss is 22.45388412475586\n",
            "Time for epoch 732 is 0.7955207824707031 sec. Loss is 22.94346809387207\n",
            "Time for epoch 733 is 0.8166868686676025 sec. Loss is 25.097152709960938\n",
            "Time for epoch 734 is 0.8047564029693604 sec. Loss is 29.673561096191406\n",
            "Time for epoch 735 is 0.8029255867004395 sec. Loss is 25.083404541015625\n",
            "Time for epoch 736 is 0.8104152679443359 sec. Loss is 25.797420501708984\n",
            "Time for epoch 737 is 0.8006227016448975 sec. Loss is 30.91080665588379\n",
            "Time for epoch 738 is 0.8346822261810303 sec. Loss is 64.12689208984375\n",
            "Time for epoch 739 is 0.8023793697357178 sec. Loss is 37.71756362915039\n",
            "Time for epoch 740 is 0.8044228553771973 sec. Loss is 27.65323829650879\n",
            "Time for epoch 741 is 0.8115270137786865 sec. Loss is 25.601741790771484\n",
            "Time for epoch 742 is 0.8326704502105713 sec. Loss is 31.033084869384766\n",
            "Time for epoch 743 is 0.8337423801422119 sec. Loss is 40.5889778137207\n",
            "Time for epoch 744 is 0.8037114143371582 sec. Loss is 37.39569091796875\n",
            "Time for epoch 745 is 0.8074371814727783 sec. Loss is 27.151687622070312\n",
            "Time for epoch 746 is 0.8152294158935547 sec. Loss is 26.573863983154297\n",
            "Time for epoch 747 is 0.8121705055236816 sec. Loss is 26.396587371826172\n",
            "Time for epoch 748 is 0.8338956832885742 sec. Loss is 36.535770416259766\n",
            "Time for epoch 749 is 0.8072917461395264 sec. Loss is 24.261627197265625\n",
            "Time for epoch 750 is 0.8101325035095215 sec. Loss is 21.38106918334961\n",
            "Time for epoch 751 is 0.821850061416626 sec. Loss is 23.023815155029297\n",
            "Time for epoch 752 is 0.803966760635376 sec. Loss is 30.790563583374023\n",
            "Time for epoch 753 is 0.8222203254699707 sec. Loss is 51.71126174926758\n",
            "Time for epoch 754 is 0.8048455715179443 sec. Loss is 44.01896286010742\n",
            "Time for epoch 755 is 0.8242948055267334 sec. Loss is 33.08074951171875\n",
            "Time for epoch 756 is 0.8161439895629883 sec. Loss is 35.163326263427734\n",
            "Time for epoch 757 is 0.7973453998565674 sec. Loss is 33.22412109375\n",
            "Time for epoch 758 is 0.8082723617553711 sec. Loss is 24.62277603149414\n",
            "Time for epoch 759 is 0.7930276393890381 sec. Loss is 27.85015869140625\n",
            "Time for epoch 760 is 0.811246395111084 sec. Loss is 29.268508911132812\n",
            "Time for epoch 761 is 0.7949600219726562 sec. Loss is 25.34298324584961\n",
            "Time for epoch 762 is 0.8090412616729736 sec. Loss is 22.99573516845703\n",
            "Time for epoch 763 is 0.8025400638580322 sec. Loss is 26.968177795410156\n",
            "Time for epoch 764 is 0.7977883815765381 sec. Loss is 39.909976959228516\n",
            "Time for epoch 765 is 0.8182308673858643 sec. Loss is 29.80478286743164\n",
            "Time for epoch 766 is 0.801384687423706 sec. Loss is 25.756006240844727\n",
            "Time for epoch 767 is 0.8115561008453369 sec. Loss is 24.771997451782227\n",
            "Time for epoch 768 is 0.8207883834838867 sec. Loss is 33.0728759765625\n",
            "Time for epoch 769 is 0.8106143474578857 sec. Loss is 29.458572387695312\n",
            "Time for epoch 770 is 0.8187835216522217 sec. Loss is 31.063053131103516\n",
            "Time for epoch 771 is 0.8151581287384033 sec. Loss is 40.8655891418457\n",
            "Time for epoch 772 is 0.8212957382202148 sec. Loss is 54.821998596191406\n",
            "Time for epoch 773 is 0.8075878620147705 sec. Loss is 52.830543518066406\n",
            "Time for epoch 774 is 0.801367998123169 sec. Loss is 25.664043426513672\n",
            "Time for epoch 775 is 0.8345186710357666 sec. Loss is 22.274826049804688\n",
            "Time for epoch 776 is 0.814532995223999 sec. Loss is 23.088441848754883\n",
            "Time for epoch 777 is 0.810462236404419 sec. Loss is 22.838653564453125\n",
            "Time for epoch 778 is 0.8008906841278076 sec. Loss is 21.6075382232666\n",
            "Time for epoch 779 is 0.7984573841094971 sec. Loss is 23.07533836364746\n",
            "Time for epoch 780 is 0.8136875629425049 sec. Loss is 22.12836456298828\n",
            "Time for epoch 781 is 0.8036284446716309 sec. Loss is 23.967832565307617\n",
            "Time for epoch 782 is 0.8327796459197998 sec. Loss is 29.28775405883789\n",
            "Time for epoch 783 is 0.8066222667694092 sec. Loss is 27.608306884765625\n",
            "Time for epoch 784 is 0.8024353981018066 sec. Loss is 25.524747848510742\n",
            "Time for epoch 785 is 0.8049840927124023 sec. Loss is 26.755027770996094\n",
            "Time for epoch 786 is 0.8056128025054932 sec. Loss is 33.84395980834961\n",
            "Time for epoch 787 is 0.813910722732544 sec. Loss is 112.39508056640625\n",
            "Time for epoch 788 is 0.8049893379211426 sec. Loss is 32.111324310302734\n",
            "Time for epoch 789 is 0.8145599365234375 sec. Loss is 27.488113403320312\n",
            "Time for epoch 790 is 0.7962493896484375 sec. Loss is 24.784332275390625\n",
            "Time for epoch 791 is 0.7939813137054443 sec. Loss is 22.33916473388672\n",
            "Time for epoch 792 is 0.8109714984893799 sec. Loss is 22.87845230102539\n",
            "Time for epoch 793 is 0.8022124767303467 sec. Loss is 26.00957489013672\n",
            "Time for epoch 794 is 0.8097391128540039 sec. Loss is 30.24306869506836\n",
            "Time for epoch 795 is 0.8118612766265869 sec. Loss is 24.641067504882812\n",
            "Time for epoch 796 is 0.8074252605438232 sec. Loss is 23.858989715576172\n",
            "Time for epoch 797 is 0.8063960075378418 sec. Loss is 23.722431182861328\n",
            "Time for epoch 798 is 0.8023488521575928 sec. Loss is 23.27276039123535\n",
            "Time for epoch 799 is 0.82131028175354 sec. Loss is 28.927120208740234\n",
            "Time for epoch 800 is 0.8021609783172607 sec. Loss is 26.806718826293945\n",
            "Time for epoch 801 is 0.806556224822998 sec. Loss is 24.838119506835938\n",
            "Time for epoch 802 is 0.8018076419830322 sec. Loss is 26.4884033203125\n",
            "Time for epoch 803 is 0.8108339309692383 sec. Loss is 25.028837203979492\n",
            "Time for epoch 804 is 0.8149425983428955 sec. Loss is 22.902366638183594\n",
            "Time for epoch 805 is 0.7965619564056396 sec. Loss is 24.75716209411621\n",
            "Time for epoch 806 is 0.8110027313232422 sec. Loss is 36.87073516845703\n",
            "Time for epoch 807 is 0.8058943748474121 sec. Loss is 25.768814086914062\n",
            "Time for epoch 808 is 0.8134872913360596 sec. Loss is 25.765392303466797\n",
            "Time for epoch 809 is 0.8026063442230225 sec. Loss is 29.014209747314453\n",
            "Time for epoch 810 is 0.7941932678222656 sec. Loss is 29.408538818359375\n",
            "Time for epoch 811 is 0.8176712989807129 sec. Loss is 24.86040687561035\n",
            "Time for epoch 812 is 0.7902865409851074 sec. Loss is 23.08831787109375\n",
            "Time for epoch 813 is 0.8138947486877441 sec. Loss is 25.15315055847168\n",
            "Time for epoch 814 is 0.8150525093078613 sec. Loss is 25.730907440185547\n",
            "Time for epoch 815 is 0.7938096523284912 sec. Loss is 33.11670684814453\n",
            "Time for epoch 816 is 0.8118617534637451 sec. Loss is 22.645647048950195\n",
            "Time for epoch 817 is 0.8213658332824707 sec. Loss is 27.272024154663086\n",
            "Time for epoch 818 is 0.8184044361114502 sec. Loss is 26.312530517578125\n",
            "Time for epoch 819 is 0.799553394317627 sec. Loss is 23.17104721069336\n",
            "Time for epoch 820 is 0.8075621128082275 sec. Loss is 24.59237289428711\n",
            "Time for epoch 821 is 0.8351774215698242 sec. Loss is 43.80503845214844\n",
            "Time for epoch 822 is 0.7912337779998779 sec. Loss is 35.55842590332031\n",
            "Time for epoch 823 is 0.8123316764831543 sec. Loss is 41.66172409057617\n",
            "Time for epoch 824 is 0.8106958866119385 sec. Loss is 43.35120391845703\n",
            "Time for epoch 825 is 0.8048768043518066 sec. Loss is 45.71841049194336\n",
            "Time for epoch 826 is 0.8278107643127441 sec. Loss is 26.192398071289062\n",
            "Time for epoch 827 is 0.8509552478790283 sec. Loss is 23.047748565673828\n",
            "Time for epoch 828 is 0.842043399810791 sec. Loss is 21.378690719604492\n",
            "Time for epoch 829 is 0.8199360370635986 sec. Loss is 23.803634643554688\n",
            "Time for epoch 830 is 0.8438675403594971 sec. Loss is 26.642868041992188\n",
            "Time for epoch 831 is 0.8387179374694824 sec. Loss is 32.063743591308594\n",
            "Time for epoch 832 is 0.8280117511749268 sec. Loss is 45.93853759765625\n",
            "Time for epoch 833 is 0.8312504291534424 sec. Loss is 51.20383834838867\n",
            "Time for epoch 834 is 0.8372259140014648 sec. Loss is 44.525699615478516\n",
            "Time for epoch 835 is 0.8479127883911133 sec. Loss is 32.995361328125\n",
            "Time for epoch 836 is 0.8147218227386475 sec. Loss is 24.97789764404297\n",
            "Time for epoch 837 is 0.8380169868469238 sec. Loss is 28.871013641357422\n",
            "Time for epoch 838 is 0.8296775817871094 sec. Loss is 39.40473937988281\n",
            "Time for epoch 839 is 0.8336527347564697 sec. Loss is 29.823936462402344\n",
            "Time for epoch 840 is 0.801764965057373 sec. Loss is 26.923490524291992\n",
            "Time for epoch 841 is 0.7920944690704346 sec. Loss is 41.60542678833008\n",
            "Time for epoch 842 is 0.807694673538208 sec. Loss is 90.265380859375\n",
            "Time for epoch 843 is 0.8062381744384766 sec. Loss is 41.14270782470703\n",
            "Time for epoch 844 is 0.8084619045257568 sec. Loss is 24.37957763671875\n",
            "Time for epoch 845 is 0.8106215000152588 sec. Loss is 24.070247650146484\n",
            "Time for epoch 846 is 0.8039648532867432 sec. Loss is 23.727365493774414\n",
            "Time for epoch 847 is 0.8115217685699463 sec. Loss is 22.5823974609375\n",
            "Time for epoch 848 is 0.8106451034545898 sec. Loss is 21.48260498046875\n",
            "Time for epoch 849 is 0.812847375869751 sec. Loss is 22.794414520263672\n",
            "Time for epoch 850 is 0.7968089580535889 sec. Loss is 25.695194244384766\n",
            "Time for epoch 851 is 0.8274812698364258 sec. Loss is 24.254127502441406\n",
            "Time for epoch 852 is 0.7945330142974854 sec. Loss is 24.683780670166016\n",
            "Time for epoch 853 is 0.8065898418426514 sec. Loss is 29.429229736328125\n",
            "Time for epoch 854 is 0.8254218101501465 sec. Loss is 25.139881134033203\n",
            "Time for epoch 855 is 0.7954027652740479 sec. Loss is 24.0969181060791\n",
            "Time for epoch 856 is 0.8189599514007568 sec. Loss is 24.609119415283203\n",
            "Time for epoch 857 is 0.8050510883331299 sec. Loss is 23.759166717529297\n",
            "Time for epoch 858 is 0.7980639934539795 sec. Loss is 31.51272201538086\n",
            "Time for epoch 859 is 0.8160073757171631 sec. Loss is 28.917510986328125\n",
            "Time for epoch 860 is 0.8023285865783691 sec. Loss is 22.782928466796875\n",
            "Time for epoch 861 is 0.8057582378387451 sec. Loss is 23.79071044921875\n",
            "Time for epoch 862 is 0.8028948307037354 sec. Loss is 22.56020736694336\n",
            "Time for epoch 863 is 0.8110203742980957 sec. Loss is 25.147390365600586\n",
            "Time for epoch 864 is 0.7984135150909424 sec. Loss is 26.353763580322266\n",
            "Time for epoch 865 is 0.7920610904693604 sec. Loss is 26.247177124023438\n",
            "Time for epoch 866 is 0.8113284111022949 sec. Loss is 30.534217834472656\n",
            "Time for epoch 867 is 0.7993049621582031 sec. Loss is 28.572860717773438\n",
            "Time for epoch 868 is 0.7930917739868164 sec. Loss is 26.321029663085938\n",
            "Time for epoch 869 is 0.8009450435638428 sec. Loss is 26.23180389404297\n",
            "Time for epoch 870 is 0.7948980331420898 sec. Loss is 27.918838500976562\n",
            "Time for epoch 871 is 0.8053736686706543 sec. Loss is 29.32183837890625\n",
            "Time for epoch 872 is 0.7994494438171387 sec. Loss is 25.594776153564453\n",
            "Time for epoch 873 is 0.8120899200439453 sec. Loss is 32.836578369140625\n",
            "Time for epoch 874 is 0.8105874061584473 sec. Loss is 49.884666442871094\n",
            "Time for epoch 875 is 0.7964475154876709 sec. Loss is 24.465229034423828\n",
            "Time for epoch 876 is 0.8088550567626953 sec. Loss is 23.31011390686035\n",
            "Time for epoch 877 is 0.800379753112793 sec. Loss is 21.348758697509766\n",
            "Time for epoch 878 is 0.8129997253417969 sec. Loss is 21.569419860839844\n",
            "Time for epoch 879 is 0.8025956153869629 sec. Loss is 23.88968276977539\n",
            "Time for epoch 880 is 0.8074929714202881 sec. Loss is 25.263654708862305\n",
            "Time for epoch 881 is 0.8058896064758301 sec. Loss is 23.073612213134766\n",
            "Time for epoch 882 is 0.7866239547729492 sec. Loss is 24.694610595703125\n",
            "Time for epoch 883 is 0.8060672283172607 sec. Loss is 25.346351623535156\n",
            "Time for epoch 884 is 0.7929363250732422 sec. Loss is 29.912578582763672\n",
            "Time for epoch 885 is 0.8029336929321289 sec. Loss is 24.19699478149414\n",
            "Time for epoch 886 is 0.8180932998657227 sec. Loss is 33.23436737060547\n",
            "Time for epoch 887 is 0.7863128185272217 sec. Loss is 27.11136817932129\n",
            "Time for epoch 888 is 0.8138244152069092 sec. Loss is 30.562515258789062\n",
            "Time for epoch 889 is 0.7999532222747803 sec. Loss is 28.034931182861328\n",
            "Time for epoch 890 is 0.8095312118530273 sec. Loss is 22.62639617919922\n",
            "Time for epoch 891 is 0.8136978149414062 sec. Loss is 27.521507263183594\n",
            "Time for epoch 892 is 0.8021240234375 sec. Loss is 34.88948440551758\n",
            "Time for epoch 893 is 0.8183486461639404 sec. Loss is 107.23623657226562\n",
            "Time for epoch 894 is 0.7956538200378418 sec. Loss is 40.665443420410156\n",
            "Time for epoch 895 is 0.8145701885223389 sec. Loss is 27.823551177978516\n",
            "Time for epoch 896 is 0.8054764270782471 sec. Loss is 24.484994888305664\n",
            "Time for epoch 897 is 0.7988975048065186 sec. Loss is 22.870866775512695\n",
            "Time for epoch 898 is 0.815021276473999 sec. Loss is 21.89037322998047\n",
            "Time for epoch 899 is 0.8174111843109131 sec. Loss is 22.09067153930664\n",
            "Time for epoch 900 is 0.8194220066070557 sec. Loss is 24.48586082458496\n",
            "Time for epoch 901 is 0.8034927845001221 sec. Loss is 25.503000259399414\n",
            "Time for epoch 902 is 0.802384614944458 sec. Loss is 25.010082244873047\n",
            "Time for epoch 903 is 0.8083219528198242 sec. Loss is 24.0960693359375\n",
            "Time for epoch 904 is 0.7851698398590088 sec. Loss is 26.199817657470703\n",
            "Time for epoch 905 is 0.8237981796264648 sec. Loss is 26.404951095581055\n",
            "Time for epoch 906 is 0.7998096942901611 sec. Loss is 22.352378845214844\n",
            "Time for epoch 907 is 0.7974886894226074 sec. Loss is 22.243331909179688\n",
            "Time for epoch 908 is 0.8263158798217773 sec. Loss is 22.47655487060547\n",
            "Time for epoch 909 is 0.7957122325897217 sec. Loss is 23.51056671142578\n",
            "Time for epoch 910 is 0.8067708015441895 sec. Loss is 33.10298538208008\n",
            "Time for epoch 911 is 0.8004481792449951 sec. Loss is 24.236610412597656\n",
            "Time for epoch 912 is 0.8105795383453369 sec. Loss is 21.539169311523438\n",
            "Time for epoch 913 is 0.8124411106109619 sec. Loss is 22.532320022583008\n",
            "Time for epoch 914 is 0.7930748462677002 sec. Loss is 24.066709518432617\n",
            "Time for epoch 915 is 0.8095717430114746 sec. Loss is 28.759389877319336\n",
            "Time for epoch 916 is 0.7996788024902344 sec. Loss is 50.89408874511719\n",
            "Time for epoch 917 is 0.7948362827301025 sec. Loss is 33.3163948059082\n",
            "Time for epoch 918 is 0.8001773357391357 sec. Loss is 22.954147338867188\n",
            "Time for epoch 919 is 0.7921075820922852 sec. Loss is 23.695585250854492\n",
            "Time for epoch 920 is 0.8013784885406494 sec. Loss is 23.18893051147461\n",
            "Time for epoch 921 is 0.8029313087463379 sec. Loss is 38.156219482421875\n",
            "Time for epoch 922 is 0.8108370304107666 sec. Loss is 25.230552673339844\n",
            "Time for epoch 923 is 0.8142054080963135 sec. Loss is 22.94312286376953\n",
            "Time for epoch 924 is 0.7948544025421143 sec. Loss is 22.351320266723633\n",
            "Time for epoch 925 is 0.8133540153503418 sec. Loss is 22.806640625\n",
            "Time for epoch 926 is 0.8037593364715576 sec. Loss is 29.30337905883789\n",
            "Time for epoch 927 is 0.7962539196014404 sec. Loss is 28.105491638183594\n",
            "Time for epoch 928 is 0.805842399597168 sec. Loss is 23.25844383239746\n",
            "Time for epoch 929 is 0.7852015495300293 sec. Loss is 23.56308364868164\n",
            "Time for epoch 930 is 0.7987170219421387 sec. Loss is 31.518096923828125\n",
            "Time for epoch 931 is 0.8109009265899658 sec. Loss is 28.994640350341797\n",
            "Time for epoch 932 is 0.7959582805633545 sec. Loss is 28.282211303710938\n",
            "Time for epoch 933 is 0.8158483505249023 sec. Loss is 34.04412841796875\n",
            "Time for epoch 934 is 0.8045463562011719 sec. Loss is 27.741641998291016\n",
            "Time for epoch 935 is 0.8065922260284424 sec. Loss is 31.331960678100586\n",
            "Time for epoch 936 is 0.8281826972961426 sec. Loss is 24.119434356689453\n",
            "Time for epoch 937 is 0.8196194171905518 sec. Loss is 26.17519760131836\n",
            "Time for epoch 938 is 0.838670015335083 sec. Loss is 31.161334991455078\n",
            "Time for epoch 939 is 0.8156189918518066 sec. Loss is 43.55034637451172\n",
            "Time for epoch 940 is 0.8141295909881592 sec. Loss is 28.785770416259766\n",
            "Time for epoch 941 is 0.8280763626098633 sec. Loss is 26.6666259765625\n",
            "Time for epoch 942 is 0.8031959533691406 sec. Loss is 23.043506622314453\n",
            "Time for epoch 943 is 0.8190224170684814 sec. Loss is 23.47992706298828\n",
            "Time for epoch 944 is 0.8013246059417725 sec. Loss is 27.919063568115234\n",
            "Time for epoch 945 is 0.7963306903839111 sec. Loss is 39.21996307373047\n",
            "Time for epoch 946 is 0.8130199909210205 sec. Loss is 44.874385833740234\n",
            "Time for epoch 947 is 0.7980010509490967 sec. Loss is 25.69782829284668\n",
            "Time for epoch 948 is 0.8046371936798096 sec. Loss is 25.316940307617188\n",
            "Time for epoch 949 is 0.8210313320159912 sec. Loss is 27.338916778564453\n",
            "Time for epoch 950 is 0.8053779602050781 sec. Loss is 26.91900634765625\n",
            "Time for epoch 951 is 0.8377690315246582 sec. Loss is 22.780128479003906\n",
            "Time for epoch 952 is 0.8028783798217773 sec. Loss is 24.071895599365234\n",
            "Time for epoch 953 is 0.8213791847229004 sec. Loss is 22.775585174560547\n",
            "Time for epoch 954 is 0.8104121685028076 sec. Loss is 22.76336669921875\n",
            "Time for epoch 955 is 0.8229470252990723 sec. Loss is 24.46542739868164\n",
            "Time for epoch 956 is 0.8097388744354248 sec. Loss is 34.20158004760742\n",
            "Time for epoch 957 is 0.7969229221343994 sec. Loss is 36.55316162109375\n",
            "Time for epoch 958 is 0.8302760124206543 sec. Loss is 27.289356231689453\n",
            "Time for epoch 959 is 0.7960250377655029 sec. Loss is 28.882850646972656\n",
            "Time for epoch 960 is 0.791034460067749 sec. Loss is 24.67569923400879\n",
            "Time for epoch 961 is 0.8134164810180664 sec. Loss is 24.82376480102539\n",
            "Time for epoch 962 is 0.7866132259368896 sec. Loss is 29.71402359008789\n",
            "Time for epoch 963 is 0.8148536682128906 sec. Loss is 26.205717086791992\n",
            "Time for epoch 964 is 0.803992748260498 sec. Loss is 22.3680362701416\n",
            "Time for epoch 965 is 0.8051304817199707 sec. Loss is 24.055377960205078\n",
            "Time for epoch 966 is 0.8187479972839355 sec. Loss is 28.48120880126953\n",
            "Time for epoch 967 is 0.7980244159698486 sec. Loss is 24.78451919555664\n",
            "Time for epoch 968 is 0.8116428852081299 sec. Loss is 40.85108947753906\n",
            "Time for epoch 969 is 0.7992403507232666 sec. Loss is 26.16393280029297\n",
            "Time for epoch 970 is 0.800285816192627 sec. Loss is 23.072406768798828\n",
            "Time for epoch 971 is 0.7946183681488037 sec. Loss is 27.905168533325195\n",
            "Time for epoch 972 is 0.7855732440948486 sec. Loss is 33.22429275512695\n",
            "Time for epoch 973 is 0.8139798641204834 sec. Loss is 21.876266479492188\n",
            "Time for epoch 974 is 0.7908351421356201 sec. Loss is 24.84705924987793\n",
            "Time for epoch 975 is 0.8262701034545898 sec. Loss is 26.375782012939453\n",
            "Time for epoch 976 is 0.8121757507324219 sec. Loss is 31.91929817199707\n",
            "Time for epoch 977 is 0.8223636150360107 sec. Loss is 39.76812744140625\n",
            "Time for epoch 978 is 0.8018076419830322 sec. Loss is 47.25255584716797\n",
            "Time for epoch 979 is 0.7955968379974365 sec. Loss is 59.60230255126953\n",
            "Time for epoch 980 is 0.817713737487793 sec. Loss is 157.6988067626953\n",
            "Time for epoch 981 is 0.7839267253875732 sec. Loss is 39.13804244995117\n",
            "Time for epoch 982 is 0.7975454330444336 sec. Loss is 31.139211654663086\n",
            "Time for epoch 983 is 0.8105227947235107 sec. Loss is 24.471290588378906\n",
            "Time for epoch 984 is 0.7944743633270264 sec. Loss is 21.614030838012695\n",
            "Time for epoch 985 is 0.8029992580413818 sec. Loss is 21.715198516845703\n",
            "Time for epoch 986 is 0.7932901382446289 sec. Loss is 21.960681915283203\n",
            "Time for epoch 987 is 0.814812183380127 sec. Loss is 24.686824798583984\n",
            "Time for epoch 988 is 0.8107039928436279 sec. Loss is 23.705177307128906\n",
            "Time for epoch 989 is 0.8117022514343262 sec. Loss is 21.20256233215332\n",
            "Time for epoch 990 is 0.8055927753448486 sec. Loss is 21.87652587890625\n",
            "Time for epoch 991 is 0.8130896091461182 sec. Loss is 21.35411834716797\n",
            "Time for epoch 992 is 0.8166959285736084 sec. Loss is 22.296051025390625\n",
            "Time for epoch 993 is 0.8017046451568604 sec. Loss is 25.23226547241211\n",
            "Time for epoch 994 is 0.7944436073303223 sec. Loss is 24.991352081298828\n",
            "Time for epoch 995 is 0.8034703731536865 sec. Loss is 21.974346160888672\n",
            "Time for epoch 996 is 0.8051204681396484 sec. Loss is 20.78375244140625\n",
            "Time for epoch 997 is 0.823889970779419 sec. Loss is 21.08232879638672\n",
            "Time for epoch 998 is 0.7811906337738037 sec. Loss is 20.880325317382812\n",
            "Time for epoch 999 is 0.797339677810669 sec. Loss is 21.33135223388672\n",
            "Time for epoch 1000 is 0.8013603687286377 sec. Loss is 21.546037673950195\n"
          ],
          "name": "stdout"
        }
      ]
    },
    {
      "cell_type": "code",
      "metadata": {
        "id": "gFt8CKk7H9U4"
      },
      "source": [
        "exp_gen = generator(tf.random.normal([1000,128]))"
      ],
      "execution_count": 19,
      "outputs": []
    },
    {
      "cell_type": "markdown",
      "metadata": {
        "id": "8fSZcalQ95M1"
      },
      "source": [
        "## Evaluation"
      ]
    },
    {
      "cell_type": "markdown",
      "metadata": {
        "id": "Bz18CX-qS0mv"
      },
      "source": [
        "### PCA + Visualization"
      ]
    },
    {
      "cell_type": "code",
      "metadata": {
        "id": "E3yQMjPfaFuD"
      },
      "source": [
        "pipe = pickle.loads(pickle.load(open(path+'pipe', 'rb')))"
      ],
      "execution_count": 21,
      "outputs": []
    },
    {
      "cell_type": "code",
      "metadata": {
        "id": "FNCRJY_2b63B"
      },
      "source": [
        "tmat = pipe['pca'].components_.transpose()"
      ],
      "execution_count": 22,
      "outputs": []
    },
    {
      "cell_type": "code",
      "metadata": {
        "id": "epygwmUhadz7"
      },
      "source": [
        "exp_gen = pipe.inverse_transform(exp_gen)\n",
        "exp_gen = pipe['scaler1'].transform(exp_gen) @ tmat[:, :2]"
      ],
      "execution_count": 23,
      "outputs": []
    },
    {
      "cell_type": "code",
      "metadata": {
        "id": "zHgn3JwKQy_h"
      },
      "source": [
        "exp_glut = pipe['scaler1'].transform(np.load(path+'exp_glut.npy')) @ tmat[:, :2]\n",
        "exp_non = pipe['scaler1'].transform(np.load(path+'exp_non.npy')) @ tmat[:, :2]\n",
        "exp_gaba = pipe['scaler1'].transform(np.load(path+'exp_gaba.npy')) @ tmat[:, :2]"
      ],
      "execution_count": 24,
      "outputs": []
    },
    {
      "cell_type": "code",
      "metadata": {
        "id": "DUxti7eUQubG",
        "outputId": "2bd1c215-7c92-42d1-fc8c-6d39ff796624",
        "colab": {
          "base_uri": "https://localhost:8080/",
          "height": 269
        }
      },
      "source": [
        "# red: glutamatergic\n",
        "x, y = list(zip(*exp_glut[:1000]))\n",
        "plt.scatter(x, y, c='r', alpha=1)\n",
        "# green: non-neuronal\n",
        "x, y = list(zip(*exp_non[:1000]))\n",
        "plt.scatter(x, y, c='g', alpha=1)\n",
        "# blue: gabaergic\n",
        "# some blue points are far away because 1st pca didn't see gaba data\n",
        "x, y = list(zip(*exp_gaba[:100]))\n",
        "plt.scatter(x, y, c='b', alpha=1)\n",
        "\n",
        "#plt.xlim(-2, 2);\n",
        "plt.ylim(-80, 100);\n",
        "patch1 = mpatches.Patch(color='r', label='glutamatergic');\n",
        "patch2 = mpatches.Patch(color='g', label='non-neuronal');\n",
        "patch3 = mpatches.Patch(color='b', label='gabaergic');\n",
        "plt.legend(handles=[patch1, patch2, patch3], \n",
        "           loc='upper right', bbox_to_anchor=(1.4, 1));\n",
        "plt.show()"
      ],
      "execution_count": 38,
      "outputs": [
        {
          "output_type": "display_data",
          "data": {
            "image/png": "[encoded data removed]",
            "text/plain": [
              "<Figure size 432x288 with 1 Axes>"
            ]
          },
          "metadata": {
            "tags": [],
            "needs_background": "light"
          }
        }
      ]
    },
    {
      "cell_type": "code",
      "metadata": {
        "id": "0M65nP05cpPb",
        "outputId": "c4e8b104-e868-410a-c9b6-7ddf2031b522",
        "colab": {
          "base_uri": "https://localhost:8080/",
          "height": 269
        }
      },
      "source": [
        "# red: glutamatergic\n",
        "x, y = list(zip(*exp_glut[:1000]))\n",
        "plt.scatter(x, y, c='r', alpha=1);\n",
        "# green: non-neuronal\n",
        "x, y = list(zip(*exp_non[:1000]))\n",
        "plt.scatter(x, y, c='g', alpha=1);\n",
        "# blue: gabaergic\n",
        "x, y = list(zip(*exp_gaba[:1000]))\n",
        "plt.scatter(x, y, c='b', alpha=1);\n",
        "# yellow: gan\n",
        "x, y = list(zip(*exp_gen[:1000]))\n",
        "plt.scatter(x, y, c='y', alpha=1);\n",
        "\n",
        "#plt.xlim(-10, 10);\n",
        "plt.ylim(-80, 100);\n",
        "patch1 = mpatches.Patch(color='r', label='glutamatergic');\n",
        "patch2 = mpatches.Patch(color='g', label='non-neuronal');\n",
        "patch3 = mpatches.Patch(color='b', label='gabaergic');\n",
        "patch4 = mpatches.Patch(color='y', label='gan');\n",
        "plt.legend(handles=[patch1, patch2, patch3, patch4], \n",
        "           loc='upper right', bbox_to_anchor=(1.4, 1));\n",
        "plt.show()"
      ],
      "execution_count": 37,
      "outputs": [
        {
          "output_type": "display_data",
          "data": {
            "image/png": "[encoded data removed]",
            "text/plain": [
              "<Figure size 432x288 with 1 Axes>"
            ]
          },
          "metadata": {
            "tags": [],
            "needs_background": "light"
          }
        }
      ]
    },
    {
      "cell_type": "code",
      "metadata": {
        "id": "bPPSUtCQ7Y7v",
        "outputId": "13884bf3-5da0-4392-ef6c-0bc6065c4eac",
        "colab": {
          "base_uri": "https://localhost:8080/",
          "height": 265
        }
      },
      "source": [
        "# red: glutamatergic\n",
        "x, y = list(zip(*exp_glut[:1000]))\n",
        "plt.scatter(x, y, c='r', alpha=1);\n",
        "# green: non-neuronal\n",
        "x, y = list(zip(*exp_non[:1000]))\n",
        "plt.scatter(x, y, c='g', alpha=1);\n",
        "# blue: gabaergic\n",
        "x, y = list(zip(*exp_gaba[:1000]))\n",
        "plt.scatter(x, y, c='b', alpha=1);\n",
        "# yellow: gan\n",
        "x, y = list(zip(*exp_gen[:1000]))\n",
        "plt.scatter(x, y, c='y', alpha=1);\n",
        "\n",
        "#plt.xlim(-10, 10);\n",
        "#plt.ylim(-80, 100);\n",
        "patch1 = mpatches.Patch(color='r', label='glutamatergic');\n",
        "patch2 = mpatches.Patch(color='g', label='non-neuronal');\n",
        "patch3 = mpatches.Patch(color='b', label='gabaergic');\n",
        "patch4 = mpatches.Patch(color='y', label='gan');\n",
        "plt.legend(handles=[patch1, patch2, patch3, patch4], \n",
        "           loc='upper right', bbox_to_anchor=(1.4, 1));\n",
        "plt.show()"
      ],
      "execution_count": 36,
      "outputs": [
        {
          "output_type": "display_data",
          "data": {
            "image/png": "[encoded data removed]",
            "text/plain": [
              "<Figure size 432x288 with 1 Axes>"
            ]
          },
          "metadata": {
            "tags": [],
            "needs_background": "light"
          }
        }
      ]
    },
    {
      "cell_type": "code",
      "metadata": {
        "id": "o2X-00ZT74BB"
      },
      "source": [
        ""
      ],
      "execution_count": null,
      "outputs": []
    }
  ]
}
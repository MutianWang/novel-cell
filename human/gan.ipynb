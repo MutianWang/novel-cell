{
  "nbformat": 4,
  "nbformat_minor": 0,
  "metadata": {
    "colab": {
      "name": "gan.ipynb",
      "provenance": [],
      "collapsed_sections": [
        "2gCusGENTFV8",
        "66d8kBQBpk-w"
      ],
      "include_colab_link": true
    },
    "kernelspec": {
      "name": "python3",
      "display_name": "Python 3"
    },
    "accelerator": "GPU"
  },
  "cells": [
    {
      "cell_type": "markdown",
      "metadata": {
        "id": "view-in-github",
        "colab_type": "text"
      },
      "source": [
        "<a href=\"https://colab.research.google.com/github/MutianWang/novel-cell/blob/main/human/gan.ipynb\" target=\"_parent\"><img src=\"https://colab.research.google.com/assets/colab-badge.svg\" alt=\"Open In Colab\"/></a>"
      ]
    },
    {
      "cell_type": "markdown",
      "metadata": {
        "id": "j-cYqy4rSuq8"
      },
      "source": [
        "# Novel Cells Generation"
      ]
    },
    {
      "cell_type": "code",
      "metadata": {
        "id": "o5IPyySLKxff"
      },
      "source": [
        "import time\n",
        "import tensorflow as tf\n",
        "from tensorflow import keras\n",
        "from tensorflow.keras import layers\n",
        "from keras.utils.vis_utils import plot_model\n",
        "import pandas as pd\n",
        "import numpy as np\n",
        "import matplotlib.pyplot as plt\n",
        "import matplotlib.patches as mpatches"
      ],
      "execution_count": 1,
      "outputs": []
    },
    {
      "cell_type": "code",
      "metadata": {
        "id": "EAf_GqpbxTMO",
        "outputId": "606bb7fe-a5ba-45dd-c965-8a599bf82594",
        "colab": {
          "base_uri": "https://localhost:8080/"
        }
      },
      "source": [
        "from google.colab import drive\n",
        "drive.mount('/content/drive')"
      ],
      "execution_count": 2,
      "outputs": [
        {
          "output_type": "stream",
          "text": [
            "Mounted at /content/drive\n"
          ],
          "name": "stdout"
        }
      ]
    },
    {
      "cell_type": "code",
      "metadata": {
        "id": "x-IQa1DUO3wv"
      },
      "source": [
        "path = '/content/drive/My Drive/Colab Notebooks/Brain Cell/data/'"
      ],
      "execution_count": 3,
      "outputs": []
    },
    {
      "cell_type": "markdown",
      "metadata": {
        "id": "IbdI7rTr1LHf"
      },
      "source": [
        "## Preprocessing"
      ]
    },
    {
      "cell_type": "code",
      "metadata": {
        "id": "jvqF5fu3QPLd"
      },
      "source": [
        "meta = pd.read_csv(path+'meta.csv', header=0)\n",
        "cols_glut = meta[meta['class']=='Glutamatergic']['sample_name']\n",
        "cols_non = meta[meta['class']=='Non-neuronal']['sample_name']\n",
        "cols_gaba = meta[meta['class']=='GABAergic']['sample_name']"
      ],
      "execution_count": null,
      "outputs": []
    },
    {
      "cell_type": "code",
      "metadata": {
        "id": "6eP4_BjYw9wZ"
      },
      "source": [
        "def normalize(df):\n",
        "    # counts per million\n",
        "    df = df.div(df.sum(axis=1), axis=0) * 10**6\n",
        "    df = df.fillna(0)\n",
        "    return df"
      ],
      "execution_count": null,
      "outputs": []
    },
    {
      "cell_type": "code",
      "metadata": {
        "id": "f5auoM8d0Pob"
      },
      "source": [
        "def read_expression(file1, file2, usecols):\n",
        "    # point-wise addition of exon and intron tables\n",
        "    reader1 = pd.read_csv(file1, header=0, usecols=usecols, chunksize=1000)\n",
        "    reader2 = pd.read_csv(file2, header=0, usecols=usecols, chunksize=1000)\n",
        "\n",
        "    df = reader1.get_chunk() + reader2.get_chunk()\n",
        "    for i in range(1, 51):\n",
        "        df = pd.concat([df, reader1.get_chunk() + reader2.get_chunk()])\n",
        "        if i%10==0:\n",
        "            print('{}/50'.format(i))\n",
        "\n",
        "    return df.transpose()"
      ],
      "execution_count": null,
      "outputs": []
    },
    {
      "cell_type": "code",
      "metadata": {
        "id": "7GORuOJYCXjY",
        "outputId": "667896ee-c3d1-45e1-dbfd-363e94a9e4c8",
        "colab": {
          "base_uri": "https://localhost:8080/",
          "height": 102
        }
      },
      "source": [
        "exp_glut = read_expression(path+'exon.csv', path+'intron.csv', cols_glut) # 10525 * 50281\n",
        "exp_glut = exp_glut.sample(5000-914) # 4086 * 50281\n",
        "exp_glut = normalize(exp_glut)\n",
        "np.save(path+'exp_glut', exp_glut)\n",
        "del exp_glut"
      ],
      "execution_count": null,
      "outputs": [
        {
          "output_type": "stream",
          "text": [
            "10/50\n",
            "20/50\n",
            "30/50\n",
            "40/50\n",
            "50/50\n"
          ],
          "name": "stdout"
        }
      ]
    },
    {
      "cell_type": "code",
      "metadata": {
        "id": "-9hmZCzfs__s",
        "outputId": "c5460830-35dd-4d6d-bc7d-d35e9234a95e",
        "colab": {
          "base_uri": "https://localhost:8080/",
          "height": 102
        }
      },
      "source": [
        "exp_non = read_expression(path+'exon.csv', path+'intron.csv', cols_non) # 914 * 50281\n",
        "exp_non = normalize(exp_non)\n",
        "np.save(path+'exp_non', exp_non)\n",
        "del exp_non"
      ],
      "execution_count": null,
      "outputs": [
        {
          "output_type": "stream",
          "text": [
            "10/50\n",
            "20/50\n",
            "30/50\n",
            "40/50\n",
            "50/50\n"
          ],
          "name": "stdout"
        }
      ]
    },
    {
      "cell_type": "code",
      "metadata": {
        "id": "iYNolVf-JUvm",
        "outputId": "dd70ca93-9ec2-44ed-f9d3-ce4a90a17c71",
        "colab": {
          "base_uri": "https://localhost:8080/",
          "height": 102
        }
      },
      "source": [
        "exp_gaba = read_expression(path+'exon.csv', path+'intron.csv', cols_gaba) # 4164 * 50281\n",
        "exp_gaba = normalize(exp_gaba)\n",
        "np.save(path+'exp_gaba', exp_gaba)\n",
        "del exp_gaba"
      ],
      "execution_count": null,
      "outputs": [
        {
          "output_type": "stream",
          "text": [
            "10/50\n",
            "20/50\n",
            "30/50\n",
            "40/50\n",
            "50/50\n"
          ],
          "name": "stdout"
        }
      ]
    },
    {
      "cell_type": "code",
      "metadata": {
        "id": "m-F04FN3Sh0v"
      },
      "source": [
        "# first 4086 are Glutamatergic, last 914 are Non-neuronal\n",
        "exp_train = np.concatenate([np.load(path+'exp_glut.npy'), \n",
        "                            np.load(path+'exp_non.npy')], axis=0)\n",
        "np.save(path+'exp_train', exp_train)"
      ],
      "execution_count": null,
      "outputs": []
    },
    {
      "cell_type": "markdown",
      "metadata": {
        "id": "O4ZHqOU3AAiL"
      },
      "source": [
        "## Dimension Reduction"
      ]
    },
    {
      "cell_type": "code",
      "metadata": {
        "id": "cC6DTCZ5ACMy"
      },
      "source": [
        "from sklearn.pipeline import Pipeline\n",
        "from sklearn.decomposition import PCA\n",
        "from sklearn.preprocessing import MinMaxScaler, StandardScaler"
      ],
      "execution_count": 4,
      "outputs": []
    },
    {
      "cell_type": "code",
      "metadata": {
        "id": "-8NeA1FwKh-v"
      },
      "source": [
        "pipe = Pipeline([('scaler1', StandardScaler()), ('pca', PCA(n_components=4000)), ('scaler2', MinMaxScaler())])"
      ],
      "execution_count": null,
      "outputs": []
    },
    {
      "cell_type": "code",
      "metadata": {
        "id": "gDtxSFLtAVM-"
      },
      "source": [
        "exp_train = np.load(path+'exp_train.npy')\n",
        "exp_train = pipe.fit_transform(exp_train)\n",
        "np.save(path+'exp_train_pca', exp_train)\n",
        "del exp_train"
      ],
      "execution_count": null,
      "outputs": []
    },
    {
      "cell_type": "code",
      "metadata": {
        "id": "Ukjs6TdFf9qE",
        "outputId": "1f79ca7e-4b51-4508-adff-21f5d55ac030",
        "colab": {
          "base_uri": "https://localhost:8080/",
          "height": 281
        }
      },
      "source": [
        "# set n_components=5000 to plot this graph\n",
        "#plt.plot(pipe['pca'].explained_variance_);\n",
        "#plt.title('explained variance ratio');"
      ],
      "execution_count": null,
      "outputs": [
        {
          "output_type": "display_data",
          "data": {
            "image/png": "[encoded data removed]",
            "text/plain": [
              "<Figure size 432x288 with 1 Axes>"
            ]
          },
          "metadata": {
            "tags": [],
            "needs_background": "light"
          }
        }
      ]
    },
    {
      "cell_type": "code",
      "metadata": {
        "id": "z-3XFhfC0Bm-"
      },
      "source": [
        "exp_test = np.load(path+'exp_gaba.npy')\n",
        "exp_test = pipe.transform(exp_test)\n",
        "np.save(path+'exp_test_pca', exp_test)\n",
        "del exp_test"
      ],
      "execution_count": null,
      "outputs": []
    },
    {
      "cell_type": "markdown",
      "metadata": {
        "id": "HsH4XxJ36fGp"
      },
      "source": [
        "## GAN"
      ]
    },
    {
      "cell_type": "code",
      "metadata": {
        "id": "q7WRBp4jyxPS"
      },
      "source": [
        "exp_train = np.load(path+'exp_train_pca.npy')"
      ],
      "execution_count": 5,
      "outputs": []
    },
    {
      "cell_type": "code",
      "metadata": {
        "id": "UKjKbveG8xT3"
      },
      "source": [
        "dimension = exp_train.shape[1]"
      ],
      "execution_count": 6,
      "outputs": []
    },
    {
      "cell_type": "code",
      "metadata": {
        "id": "X0jLivwZJyzt"
      },
      "source": [
        "cross_entropy = tf.keras.losses.BinaryCrossentropy(from_logits=True)"
      ],
      "execution_count": 7,
      "outputs": []
    },
    {
      "cell_type": "code",
      "metadata": {
        "id": "8hYhAVII5tVz"
      },
      "source": [
        "def make_generator_model():\n",
        "    model = tf.keras.Sequential()\n",
        "    model.add(layers.Dense(256, use_bias=True, input_shape=(128,)))\n",
        "    model.add(layers.BatchNormalization())\n",
        "    model.add(layers.LeakyReLU())\n",
        "\n",
        "    model.add(layers.Dense(512, use_bias=True))\n",
        "    model.add(layers.BatchNormalization())\n",
        "    model.add(layers.LeakyReLU())\n",
        "\n",
        "    model.add(layers.Dense(1024, use_bias=True))\n",
        "    model.add(layers.BatchNormalization())\n",
        "    model.add(layers.LeakyReLU())\n",
        "\n",
        "    model.add(layers.Dense(2048, use_bias=True))\n",
        "    model.add(layers.BatchNormalization())\n",
        "    model.add(layers.LeakyReLU())\n",
        "\n",
        "    # sigmoid function will make the range [0,1]\n",
        "    model.add(layers.Dense(dimension, use_bias=True, activation='linear'))\n",
        "\n",
        "    return model"
      ],
      "execution_count": 8,
      "outputs": []
    },
    {
      "cell_type": "code",
      "metadata": {
        "id": "YmuNxZCu8o0p"
      },
      "source": [
        "def make_discriminator_model():\n",
        "    model = tf.keras.Sequential()\n",
        "    model.add(layers.Dense(2048, use_bias=True, input_shape=(dimension,)))\n",
        "    model.add(layers.LeakyReLU())\n",
        "    model.add(layers.Dropout(0.2))\n",
        "\n",
        "    model.add(layers.Dense(1024, use_bias=True))\n",
        "    model.add(layers.LeakyReLU())\n",
        "    model.add(layers.Dropout(0.2))\n",
        "\n",
        "    model.add(layers.Dense(512, use_bias=True))\n",
        "    model.add(layers.LeakyReLU())\n",
        "    model.add(layers.Dropout(0.2))\n",
        "\n",
        "    model.add(layers.Dense(256, use_bias=True))\n",
        "    model.add(layers.LeakyReLU())\n",
        "    model.add(layers.Dropout(0.2))\n",
        "\n",
        "    model.add(layers.Dense(1))\n",
        "\n",
        "    return model"
      ],
      "execution_count": 9,
      "outputs": []
    },
    {
      "cell_type": "code",
      "metadata": {
        "id": "q6HmejF9-U6r"
      },
      "source": [
        "generator = make_generator_model()\n",
        "discriminator = make_discriminator_model()"
      ],
      "execution_count": 10,
      "outputs": []
    },
    {
      "cell_type": "code",
      "metadata": {
        "id": "eFxhmXU0Lak3",
        "outputId": "fd3c86c2-584d-4f00-9dc8-f4ffe51cb2af",
        "colab": {
          "base_uri": "https://localhost:8080/"
        }
      },
      "source": [
        "generator.summary()"
      ],
      "execution_count": 11,
      "outputs": [
        {
          "output_type": "stream",
          "text": [
            "Model: \"sequential\"\n",
            "_________________________________________________________________\n",
            "Layer (type)                 Output Shape              Param #   \n",
            "=================================================================\n",
            "dense (Dense)                (None, 256)               33024     \n",
            "_________________________________________________________________\n",
            "batch_normalization (BatchNo (None, 256)               1024      \n",
            "_________________________________________________________________\n",
            "leaky_re_lu (LeakyReLU)      (None, 256)               0         \n",
            "_________________________________________________________________\n",
            "dense_1 (Dense)              (None, 512)               131584    \n",
            "_________________________________________________________________\n",
            "batch_normalization_1 (Batch (None, 512)               2048      \n",
            "_________________________________________________________________\n",
            "leaky_re_lu_1 (LeakyReLU)    (None, 512)               0         \n",
            "_________________________________________________________________\n",
            "dense_2 (Dense)              (None, 1024)              525312    \n",
            "_________________________________________________________________\n",
            "batch_normalization_2 (Batch (None, 1024)              4096      \n",
            "_________________________________________________________________\n",
            "leaky_re_lu_2 (LeakyReLU)    (None, 1024)              0         \n",
            "_________________________________________________________________\n",
            "dense_3 (Dense)              (None, 2048)              2099200   \n",
            "_________________________________________________________________\n",
            "batch_normalization_3 (Batch (None, 2048)              8192      \n",
            "_________________________________________________________________\n",
            "leaky_re_lu_3 (LeakyReLU)    (None, 2048)              0         \n",
            "_________________________________________________________________\n",
            "dense_4 (Dense)              (None, 4000)              8196000   \n",
            "=================================================================\n",
            "Total params: 11,000,480\n",
            "Trainable params: 10,992,800\n",
            "Non-trainable params: 7,680\n",
            "_________________________________________________________________\n"
          ],
          "name": "stdout"
        }
      ]
    },
    {
      "cell_type": "code",
      "metadata": {
        "id": "7LDI3iJBLdTD",
        "outputId": "4672fbe0-f1fd-404b-c544-2a08db2ab08a",
        "colab": {
          "base_uri": "https://localhost:8080/"
        }
      },
      "source": [
        "discriminator.summary()"
      ],
      "execution_count": 12,
      "outputs": [
        {
          "output_type": "stream",
          "text": [
            "Model: \"sequential_1\"\n",
            "_________________________________________________________________\n",
            "Layer (type)                 Output Shape              Param #   \n",
            "=================================================================\n",
            "dense_5 (Dense)              (None, 2048)              8194048   \n",
            "_________________________________________________________________\n",
            "leaky_re_lu_4 (LeakyReLU)    (None, 2048)              0         \n",
            "_________________________________________________________________\n",
            "dropout (Dropout)            (None, 2048)              0         \n",
            "_________________________________________________________________\n",
            "dense_6 (Dense)              (None, 1024)              2098176   \n",
            "_________________________________________________________________\n",
            "leaky_re_lu_5 (LeakyReLU)    (None, 1024)              0         \n",
            "_________________________________________________________________\n",
            "dropout_1 (Dropout)          (None, 1024)              0         \n",
            "_________________________________________________________________\n",
            "dense_7 (Dense)              (None, 512)               524800    \n",
            "_________________________________________________________________\n",
            "leaky_re_lu_6 (LeakyReLU)    (None, 512)               0         \n",
            "_________________________________________________________________\n",
            "dropout_2 (Dropout)          (None, 512)               0         \n",
            "_________________________________________________________________\n",
            "dense_8 (Dense)              (None, 256)               131328    \n",
            "_________________________________________________________________\n",
            "leaky_re_lu_7 (LeakyReLU)    (None, 256)               0         \n",
            "_________________________________________________________________\n",
            "dropout_3 (Dropout)          (None, 256)               0         \n",
            "_________________________________________________________________\n",
            "dense_9 (Dense)              (None, 1)                 257       \n",
            "=================================================================\n",
            "Total params: 10,948,609\n",
            "Trainable params: 10,948,609\n",
            "Non-trainable params: 0\n",
            "_________________________________________________________________\n"
          ],
          "name": "stdout"
        }
      ]
    },
    {
      "cell_type": "code",
      "metadata": {
        "id": "jmTf7v9p-b50"
      },
      "source": [
        "def discriminator_loss(real_output, fake_output):\n",
        "    real_loss = cross_entropy(tf.ones_like(real_output), real_output)\n",
        "    fake_loss = cross_entropy(tf.zeros_like(fake_output), fake_output)\n",
        "    total_loss = real_loss + fake_loss\n",
        "    return total_loss"
      ],
      "execution_count": 13,
      "outputs": []
    },
    {
      "cell_type": "code",
      "metadata": {
        "id": "i_orWQwj_Ak-"
      },
      "source": [
        "def generator_loss(fake_output):\n",
        "    return cross_entropy(tf.ones_like(fake_output), fake_output)"
      ],
      "execution_count": 14,
      "outputs": []
    },
    {
      "cell_type": "code",
      "metadata": {
        "id": "llUBEF24_BJS"
      },
      "source": [
        "generator_optimizer = tf.keras.optimizers.Adam(1e-4)\n",
        "discriminator_optimizer = tf.keras.optimizers.Adam(1e-3)"
      ],
      "execution_count": 15,
      "outputs": []
    },
    {
      "cell_type": "code",
      "metadata": {
        "id": "vBlm7JMx_DvY"
      },
      "source": [
        "def train_step(images):\n",
        "    noise = tf.random.normal([BATCH_SIZE, 128])\n",
        "\n",
        "    with tf.GradientTape() as gen_tape, tf.GradientTape() as disc_tape:\n",
        "        generated_images = generator(noise, training=True)\n",
        "\n",
        "        real_output = discriminator(images, training=True)\n",
        "        fake_output = discriminator(generated_images, training=True)\n",
        "\n",
        "        gen_loss = generator_loss(fake_output)\n",
        "        disc_loss = discriminator_loss(real_output, fake_output)\n",
        "\n",
        "    gradients_of_generator = gen_tape.gradient(gen_loss, generator.trainable_variables)\n",
        "    gradients_of_discriminator = disc_tape.gradient(disc_loss, discriminator.trainable_variables)\n",
        "\n",
        "    generator_optimizer.apply_gradients(zip(gradients_of_generator, generator.trainable_variables))\n",
        "    discriminator_optimizer.apply_gradients(zip(gradients_of_discriminator, discriminator.trainable_variables))\n",
        "\n",
        "    return gen_loss, disc_loss"
      ],
      "execution_count": 16,
      "outputs": []
    },
    {
      "cell_type": "code",
      "metadata": {
        "id": "tNntEwY__OTQ"
      },
      "source": [
        "def train(dataset, epochs):\n",
        "    loss_hist = []\n",
        "    gen_loss_hist = []\n",
        "    disc_loss_hist = []\n",
        "    for epoch in range(epochs):\n",
        "        start = time.time()\n",
        "\n",
        "        gen_loss = 0\n",
        "        disc_loss = 0\n",
        "        for data in dataset:\n",
        "            loss1, loss2 = train_step(data)\n",
        "            gen_loss += loss1\n",
        "            disc_loss += loss2\n",
        "\n",
        "        print ('Time for epoch {} is {} sec. Loss is {}'.format(epoch + 1, time.time()-start, gen_loss+disc_loss))\n",
        "        \n",
        "        loss_hist.append(gen_loss+disc_loss)\n",
        "        gen_loss_hist.append(gen_loss)\n",
        "        disc_loss_hist.append(disc_loss)\n",
        "        if epoch > 2:\n",
        "            if abs(loss_hist[-1] - loss_hist[-2]) < 0.5 and abs(loss_hist[-2] - loss_hist[-3]) < 0.5:\n",
        "                return loss_hist\n",
        "\n",
        "    return loss_hist, gen_loss_hist, disc_loss_hist"
      ],
      "execution_count": 17,
      "outputs": []
    },
    {
      "cell_type": "code",
      "metadata": {
        "id": "L42hxrlDHmb4"
      },
      "source": [
        "BATCH_SIZE = 500\n",
        "dataset = tf.data.Dataset.from_tensor_slices(exp_train).shuffle(1000).batch(BATCH_SIZE)"
      ],
      "execution_count": 18,
      "outputs": []
    },
    {
      "cell_type": "code",
      "metadata": {
        "id": "K-axc-FmH8Dn",
        "outputId": "37603c95-bdfc-4dec-b4a5-861b7f1f325f",
        "colab": {
          "base_uri": "https://localhost:8080/"
        }
      },
      "source": [
        "hist = train(dataset, 1000)"
      ],
      "execution_count": 19,
      "outputs": [
        {
          "output_type": "stream",
          "text": [
            "Time for epoch 1 is 2.569213628768921 sec. Loss is 169.87228393554688\n",
            "Time for epoch 2 is 0.8577663898468018 sec. Loss is 138.68173217773438\n",
            "Time for epoch 3 is 0.8052992820739746 sec. Loss is 121.69956970214844\n",
            "Time for epoch 4 is 0.7998824119567871 sec. Loss is 826.783203125\n",
            "Time for epoch 5 is 0.8123395442962646 sec. Loss is 647.76513671875\n",
            "Time for epoch 6 is 0.7883172035217285 sec. Loss is 1185.0078125\n",
            "Time for epoch 7 is 0.8024871349334717 sec. Loss is 1656.0362548828125\n",
            "Time for epoch 8 is 0.7925493717193604 sec. Loss is 647.976806640625\n",
            "Time for epoch 9 is 0.7955124378204346 sec. Loss is 1854.756103515625\n",
            "Time for epoch 10 is 0.7790100574493408 sec. Loss is 1463.91796875\n",
            "Time for epoch 11 is 0.7787289619445801 sec. Loss is 909.6656494140625\n",
            "Time for epoch 12 is 0.778714656829834 sec. Loss is 1767.39306640625\n",
            "Time for epoch 13 is 0.7877330780029297 sec. Loss is 1086.997314453125\n",
            "Time for epoch 14 is 0.784125804901123 sec. Loss is 1721.8277587890625\n",
            "Time for epoch 15 is 0.7786660194396973 sec. Loss is 1166.9605712890625\n",
            "Time for epoch 16 is 0.7805547714233398 sec. Loss is 1559.1397705078125\n",
            "Time for epoch 17 is 0.788870096206665 sec. Loss is 4511.4423828125\n",
            "Time for epoch 18 is 0.7838518619537354 sec. Loss is 4830.1240234375\n",
            "Time for epoch 19 is 0.7834713459014893 sec. Loss is 3770.58447265625\n",
            "Time for epoch 20 is 0.7885012626647949 sec. Loss is 6187.39697265625\n",
            "Time for epoch 21 is 0.7804133892059326 sec. Loss is 14055.4833984375\n",
            "Time for epoch 22 is 0.7788519859313965 sec. Loss is 4982.90673828125\n",
            "Time for epoch 23 is 0.7690098285675049 sec. Loss is 4610.1904296875\n",
            "Time for epoch 24 is 0.775292158126831 sec. Loss is 5722.25537109375\n",
            "Time for epoch 25 is 0.7787156105041504 sec. Loss is 6397.5556640625\n",
            "Time for epoch 26 is 0.773862361907959 sec. Loss is 7490.99560546875\n",
            "Time for epoch 27 is 0.7726039886474609 sec. Loss is 2813.365234375\n",
            "Time for epoch 28 is 0.7682509422302246 sec. Loss is 5025.2197265625\n",
            "Time for epoch 29 is 0.7749226093292236 sec. Loss is 9228.6005859375\n",
            "Time for epoch 30 is 0.789290189743042 sec. Loss is 16843.279296875\n",
            "Time for epoch 31 is 0.7801470756530762 sec. Loss is 21670.927734375\n",
            "Time for epoch 32 is 0.7767443656921387 sec. Loss is 24316.916015625\n",
            "Time for epoch 33 is 0.7742941379547119 sec. Loss is 19435.205078125\n",
            "Time for epoch 34 is 0.7674221992492676 sec. Loss is 21683.380859375\n",
            "Time for epoch 35 is 0.776275634765625 sec. Loss is 29216.4296875\n",
            "Time for epoch 36 is 0.7713019847869873 sec. Loss is 22529.552734375\n",
            "Time for epoch 37 is 0.7745332717895508 sec. Loss is 20865.966796875\n",
            "Time for epoch 38 is 0.7909400463104248 sec. Loss is 3452.2900390625\n",
            "Time for epoch 39 is 0.809248685836792 sec. Loss is 4259.685546875\n",
            "Time for epoch 40 is 0.7862591743469238 sec. Loss is 4544.4541015625\n",
            "Time for epoch 41 is 0.7808136940002441 sec. Loss is 5675.42041015625\n",
            "Time for epoch 42 is 0.7736718654632568 sec. Loss is 7815.3388671875\n",
            "Time for epoch 43 is 0.7920727729797363 sec. Loss is 10529.294921875\n",
            "Time for epoch 44 is 0.7760465145111084 sec. Loss is 8247.0185546875\n",
            "Time for epoch 45 is 0.7847476005554199 sec. Loss is 2598.697998046875\n",
            "Time for epoch 46 is 0.7848689556121826 sec. Loss is 3443.465087890625\n",
            "Time for epoch 47 is 0.7859387397766113 sec. Loss is 5151.04931640625\n",
            "Time for epoch 48 is 0.7865152359008789 sec. Loss is 2158.942138671875\n",
            "Time for epoch 49 is 0.7911665439605713 sec. Loss is 1616.906982421875\n",
            "Time for epoch 50 is 0.797311544418335 sec. Loss is 1366.8184814453125\n",
            "Time for epoch 51 is 0.7743909358978271 sec. Loss is 1431.4814453125\n",
            "Time for epoch 52 is 0.7790141105651855 sec. Loss is 1578.2518310546875\n",
            "Time for epoch 53 is 0.7813022136688232 sec. Loss is 1393.78515625\n",
            "Time for epoch 54 is 0.7801551818847656 sec. Loss is 1050.5970458984375\n",
            "Time for epoch 55 is 0.783513069152832 sec. Loss is 824.767578125\n",
            "Time for epoch 56 is 0.7790865898132324 sec. Loss is 752.587646484375\n",
            "Time for epoch 57 is 0.7817552089691162 sec. Loss is 1006.3013916015625\n",
            "Time for epoch 58 is 0.7849211692810059 sec. Loss is 1789.2742919921875\n",
            "Time for epoch 59 is 0.7754061222076416 sec. Loss is 1795.026123046875\n",
            "Time for epoch 60 is 0.804154634475708 sec. Loss is 1251.5479736328125\n",
            "Time for epoch 61 is 0.78025221824646 sec. Loss is 1002.3143920898438\n",
            "Time for epoch 62 is 0.7741425037384033 sec. Loss is 864.9092407226562\n",
            "Time for epoch 63 is 0.7949659824371338 sec. Loss is 457.6067199707031\n",
            "Time for epoch 64 is 0.7764835357666016 sec. Loss is 370.7127685546875\n",
            "Time for epoch 65 is 0.782928466796875 sec. Loss is 381.1202392578125\n",
            "Time for epoch 66 is 0.7877330780029297 sec. Loss is 332.80987548828125\n",
            "Time for epoch 67 is 0.7886791229248047 sec. Loss is 468.2598571777344\n",
            "Time for epoch 68 is 0.7760026454925537 sec. Loss is 411.2371826171875\n",
            "Time for epoch 69 is 0.7982947826385498 sec. Loss is 376.3721618652344\n",
            "Time for epoch 70 is 0.7854669094085693 sec. Loss is 464.2875671386719\n",
            "Time for epoch 71 is 0.7974517345428467 sec. Loss is 570.6483154296875\n",
            "Time for epoch 72 is 0.7894248962402344 sec. Loss is 576.0021362304688\n",
            "Time for epoch 73 is 0.7849152088165283 sec. Loss is 469.4333801269531\n",
            "Time for epoch 74 is 0.7882170677185059 sec. Loss is 354.0079040527344\n",
            "Time for epoch 75 is 0.7815639972686768 sec. Loss is 248.28997802734375\n",
            "Time for epoch 76 is 0.7951970100402832 sec. Loss is 234.3477783203125\n",
            "Time for epoch 77 is 0.7953207492828369 sec. Loss is 235.4217529296875\n",
            "Time for epoch 78 is 0.7759783267974854 sec. Loss is 251.91029357910156\n",
            "Time for epoch 79 is 0.7859294414520264 sec. Loss is 216.91998291015625\n",
            "Time for epoch 80 is 0.7885837554931641 sec. Loss is 207.6726837158203\n",
            "Time for epoch 81 is 0.7970311641693115 sec. Loss is 231.47299194335938\n",
            "Time for epoch 82 is 0.7858471870422363 sec. Loss is 425.9983825683594\n",
            "Time for epoch 83 is 0.7833473682403564 sec. Loss is 207.708251953125\n",
            "Time for epoch 84 is 0.8243613243103027 sec. Loss is 146.22927856445312\n",
            "Time for epoch 85 is 0.8222150802612305 sec. Loss is 178.98939514160156\n",
            "Time for epoch 86 is 0.8328773975372314 sec. Loss is 149.16873168945312\n",
            "Time for epoch 87 is 0.8173410892486572 sec. Loss is 131.91610717773438\n",
            "Time for epoch 88 is 0.8207070827484131 sec. Loss is 115.6058578491211\n",
            "Time for epoch 89 is 0.8201889991760254 sec. Loss is 122.62352752685547\n",
            "Time for epoch 90 is 0.8149728775024414 sec. Loss is 150.54104614257812\n",
            "Time for epoch 91 is 0.8187272548675537 sec. Loss is 96.79856872558594\n",
            "Time for epoch 92 is 0.8259201049804688 sec. Loss is 115.40016174316406\n",
            "Time for epoch 93 is 0.8188900947570801 sec. Loss is 158.55404663085938\n",
            "Time for epoch 94 is 0.8217225074768066 sec. Loss is 139.69943237304688\n",
            "Time for epoch 95 is 0.8159494400024414 sec. Loss is 114.68423461914062\n",
            "Time for epoch 96 is 0.8262338638305664 sec. Loss is 135.35928344726562\n",
            "Time for epoch 97 is 0.8033812046051025 sec. Loss is 94.23358154296875\n",
            "Time for epoch 98 is 0.794809103012085 sec. Loss is 143.79043579101562\n",
            "Time for epoch 99 is 0.7884213924407959 sec. Loss is 139.14120483398438\n",
            "Time for epoch 100 is 0.7854456901550293 sec. Loss is 145.6407928466797\n",
            "Time for epoch 101 is 0.8008642196655273 sec. Loss is 115.57292938232422\n",
            "Time for epoch 102 is 0.7867677211761475 sec. Loss is 220.1759033203125\n",
            "Time for epoch 103 is 0.785775899887085 sec. Loss is 215.8073272705078\n",
            "Time for epoch 104 is 0.7860157489776611 sec. Loss is 314.63470458984375\n",
            "Time for epoch 105 is 0.7815027236938477 sec. Loss is 296.4119873046875\n",
            "Time for epoch 106 is 0.7864887714385986 sec. Loss is 155.56991577148438\n",
            "Time for epoch 107 is 0.780911922454834 sec. Loss is 145.05056762695312\n",
            "Time for epoch 108 is 0.8012707233428955 sec. Loss is 276.6219177246094\n",
            "Time for epoch 109 is 0.8029475212097168 sec. Loss is 375.85345458984375\n",
            "Time for epoch 110 is 0.8036742210388184 sec. Loss is 317.14923095703125\n",
            "Time for epoch 111 is 0.8044734001159668 sec. Loss is 288.3952331542969\n",
            "Time for epoch 112 is 0.7891294956207275 sec. Loss is 280.7325439453125\n",
            "Time for epoch 113 is 0.8042275905609131 sec. Loss is 153.1947784423828\n",
            "Time for epoch 114 is 0.8124270439147949 sec. Loss is 111.25956726074219\n",
            "Time for epoch 115 is 0.7873306274414062 sec. Loss is 171.89523315429688\n",
            "Time for epoch 116 is 0.8019781112670898 sec. Loss is 294.6868591308594\n",
            "Time for epoch 117 is 0.791813850402832 sec. Loss is 330.9179382324219\n",
            "Time for epoch 118 is 0.7893834114074707 sec. Loss is 345.6772155761719\n",
            "Time for epoch 119 is 0.7954294681549072 sec. Loss is 237.48379516601562\n",
            "Time for epoch 120 is 0.7944307327270508 sec. Loss is 269.6247863769531\n",
            "Time for epoch 121 is 0.7955725193023682 sec. Loss is 355.9402770996094\n",
            "Time for epoch 122 is 0.7909126281738281 sec. Loss is 345.8818359375\n",
            "Time for epoch 123 is 0.7941627502441406 sec. Loss is 275.2274169921875\n",
            "Time for epoch 124 is 0.794348955154419 sec. Loss is 200.97909545898438\n",
            "Time for epoch 125 is 0.7950351238250732 sec. Loss is 165.0584259033203\n",
            "Time for epoch 126 is 0.7900228500366211 sec. Loss is 127.55357360839844\n",
            "Time for epoch 127 is 0.7892880439758301 sec. Loss is 111.60211181640625\n",
            "Time for epoch 128 is 0.8000166416168213 sec. Loss is 98.0937271118164\n",
            "Time for epoch 129 is 0.7820923328399658 sec. Loss is 179.4301300048828\n",
            "Time for epoch 130 is 0.7913389205932617 sec. Loss is 229.54348754882812\n",
            "Time for epoch 131 is 0.791510820388794 sec. Loss is 202.21189880371094\n",
            "Time for epoch 132 is 0.79793381690979 sec. Loss is 202.46295166015625\n",
            "Time for epoch 133 is 0.7933263778686523 sec. Loss is 181.4720916748047\n",
            "Time for epoch 134 is 0.7945022583007812 sec. Loss is 221.6452178955078\n",
            "Time for epoch 135 is 0.7959938049316406 sec. Loss is 145.0019073486328\n",
            "Time for epoch 136 is 0.8018178939819336 sec. Loss is 183.76719665527344\n",
            "Time for epoch 137 is 0.790407657623291 sec. Loss is 126.69676971435547\n",
            "Time for epoch 138 is 0.7922053337097168 sec. Loss is 179.851318359375\n",
            "Time for epoch 139 is 0.7966759204864502 sec. Loss is 195.8061981201172\n",
            "Time for epoch 140 is 0.7981457710266113 sec. Loss is 202.82498168945312\n",
            "Time for epoch 141 is 0.7963733673095703 sec. Loss is 267.3594055175781\n",
            "Time for epoch 142 is 0.790764331817627 sec. Loss is 276.7203674316406\n",
            "Time for epoch 143 is 0.8004825115203857 sec. Loss is 387.3734130859375\n",
            "Time for epoch 144 is 0.7844324111938477 sec. Loss is 373.1968994140625\n",
            "Time for epoch 145 is 0.795424222946167 sec. Loss is 179.07569885253906\n",
            "Time for epoch 146 is 0.7887756824493408 sec. Loss is 137.53518676757812\n",
            "Time for epoch 147 is 0.7899966239929199 sec. Loss is 143.97703552246094\n",
            "Time for epoch 148 is 0.7920918464660645 sec. Loss is 80.48004150390625\n",
            "Time for epoch 149 is 0.7878015041351318 sec. Loss is 144.6415252685547\n",
            "Time for epoch 150 is 0.7915048599243164 sec. Loss is 243.60130310058594\n",
            "Time for epoch 151 is 0.7926685810089111 sec. Loss is 173.5393829345703\n",
            "Time for epoch 152 is 0.7833156585693359 sec. Loss is 169.4591522216797\n",
            "Time for epoch 153 is 0.8135111331939697 sec. Loss is 141.41700744628906\n",
            "Time for epoch 154 is 0.7858202457427979 sec. Loss is 306.7718200683594\n",
            "Time for epoch 155 is 0.7880692481994629 sec. Loss is 192.22805786132812\n",
            "Time for epoch 156 is 0.7883589267730713 sec. Loss is 155.52842712402344\n",
            "Time for epoch 157 is 0.7874584197998047 sec. Loss is 199.63941955566406\n",
            "Time for epoch 158 is 0.7848620414733887 sec. Loss is 247.2624969482422\n",
            "Time for epoch 159 is 0.7915999889373779 sec. Loss is 196.61598205566406\n",
            "Time for epoch 160 is 0.7904131412506104 sec. Loss is 106.50729370117188\n",
            "Time for epoch 161 is 0.7949812412261963 sec. Loss is 68.69287109375\n",
            "Time for epoch 162 is 0.7871518135070801 sec. Loss is 130.3946533203125\n",
            "Time for epoch 163 is 0.7888517379760742 sec. Loss is 183.96630859375\n",
            "Time for epoch 164 is 0.7962331771850586 sec. Loss is 78.23859405517578\n",
            "Time for epoch 165 is 0.8056132793426514 sec. Loss is 120.20813751220703\n",
            "Time for epoch 166 is 0.8070888519287109 sec. Loss is 161.84841918945312\n",
            "Time for epoch 167 is 0.8072993755340576 sec. Loss is 99.27135467529297\n",
            "Time for epoch 168 is 0.7820298671722412 sec. Loss is 93.25614929199219\n",
            "Time for epoch 169 is 0.7914643287658691 sec. Loss is 123.66300201416016\n",
            "Time for epoch 170 is 0.7917208671569824 sec. Loss is 141.4687957763672\n",
            "Time for epoch 171 is 0.790898323059082 sec. Loss is 162.8104705810547\n",
            "Time for epoch 172 is 0.775672197341919 sec. Loss is 192.78273010253906\n",
            "Time for epoch 173 is 0.7823045253753662 sec. Loss is 170.8362274169922\n",
            "Time for epoch 174 is 0.806316614151001 sec. Loss is 95.21755981445312\n",
            "Time for epoch 175 is 0.795259952545166 sec. Loss is 164.63845825195312\n",
            "Time for epoch 176 is 0.7922675609588623 sec. Loss is 201.66607666015625\n",
            "Time for epoch 177 is 0.7918915748596191 sec. Loss is 197.25547790527344\n",
            "Time for epoch 178 is 0.7896225452423096 sec. Loss is 159.70655822753906\n",
            "Time for epoch 179 is 0.790421724319458 sec. Loss is 125.0422134399414\n",
            "Time for epoch 180 is 0.808739185333252 sec. Loss is 208.90765380859375\n",
            "Time for epoch 181 is 0.7868752479553223 sec. Loss is 230.20059204101562\n",
            "Time for epoch 182 is 0.7836403846740723 sec. Loss is 199.40005493164062\n",
            "Time for epoch 183 is 0.7902388572692871 sec. Loss is 159.0433807373047\n",
            "Time for epoch 184 is 0.8037023544311523 sec. Loss is 185.52542114257812\n",
            "Time for epoch 185 is 0.7927567958831787 sec. Loss is 229.25381469726562\n",
            "Time for epoch 186 is 0.7871425151824951 sec. Loss is 196.14523315429688\n",
            "Time for epoch 187 is 0.7899208068847656 sec. Loss is 124.17074584960938\n",
            "Time for epoch 188 is 0.7897956371307373 sec. Loss is 113.74143981933594\n",
            "Time for epoch 189 is 0.8020853996276855 sec. Loss is 181.6630859375\n",
            "Time for epoch 190 is 0.7949492931365967 sec. Loss is 163.39195251464844\n",
            "Time for epoch 191 is 0.7943017482757568 sec. Loss is 104.90953826904297\n",
            "Time for epoch 192 is 0.7890098094940186 sec. Loss is 164.54592895507812\n",
            "Time for epoch 193 is 0.8056161403656006 sec. Loss is 168.77505493164062\n",
            "Time for epoch 194 is 0.795342206954956 sec. Loss is 185.45664978027344\n",
            "Time for epoch 195 is 0.7846479415893555 sec. Loss is 244.75746154785156\n",
            "Time for epoch 196 is 0.7892036437988281 sec. Loss is 311.7859191894531\n",
            "Time for epoch 197 is 0.7837851047515869 sec. Loss is 351.6797180175781\n",
            "Time for epoch 198 is 0.7944202423095703 sec. Loss is 253.7556610107422\n",
            "Time for epoch 199 is 0.7933330535888672 sec. Loss is 171.94296264648438\n",
            "Time for epoch 200 is 0.7960567474365234 sec. Loss is 202.3489532470703\n",
            "Time for epoch 201 is 0.7962863445281982 sec. Loss is 123.65772247314453\n",
            "Time for epoch 202 is 0.7934343814849854 sec. Loss is 128.2313690185547\n",
            "Time for epoch 203 is 0.7961010932922363 sec. Loss is 163.25875854492188\n",
            "Time for epoch 204 is 0.7901108264923096 sec. Loss is 188.0214385986328\n",
            "Time for epoch 205 is 0.7876474857330322 sec. Loss is 200.7173614501953\n",
            "Time for epoch 206 is 0.7969992160797119 sec. Loss is 196.25009155273438\n",
            "Time for epoch 207 is 0.8405473232269287 sec. Loss is 166.4098358154297\n",
            "Time for epoch 208 is 0.7999095916748047 sec. Loss is 174.12728881835938\n",
            "Time for epoch 209 is 0.7861113548278809 sec. Loss is 202.08609008789062\n",
            "Time for epoch 210 is 0.8087654113769531 sec. Loss is 391.2587585449219\n",
            "Time for epoch 211 is 0.7932062149047852 sec. Loss is 173.68966674804688\n",
            "Time for epoch 212 is 0.7954721450805664 sec. Loss is 244.7217559814453\n",
            "Time for epoch 213 is 0.8116118907928467 sec. Loss is 160.426513671875\n",
            "Time for epoch 214 is 0.8007259368896484 sec. Loss is 121.92974853515625\n",
            "Time for epoch 215 is 0.8042335510253906 sec. Loss is 117.51899719238281\n",
            "Time for epoch 216 is 0.7900533676147461 sec. Loss is 200.612548828125\n",
            "Time for epoch 217 is 0.7896604537963867 sec. Loss is 594.9805297851562\n",
            "Time for epoch 218 is 0.7922518253326416 sec. Loss is 373.94976806640625\n",
            "Time for epoch 219 is 0.7910721302032471 sec. Loss is 211.95201110839844\n",
            "Time for epoch 220 is 0.7948105335235596 sec. Loss is 173.5465087890625\n",
            "Time for epoch 221 is 0.8058459758758545 sec. Loss is 141.7007293701172\n",
            "Time for epoch 222 is 0.8040332794189453 sec. Loss is 154.12376403808594\n",
            "Time for epoch 223 is 0.7900686264038086 sec. Loss is 142.3086395263672\n",
            "Time for epoch 224 is 0.7848191261291504 sec. Loss is 158.1833953857422\n",
            "Time for epoch 225 is 0.7881119251251221 sec. Loss is 113.65446472167969\n",
            "Time for epoch 226 is 0.7960071563720703 sec. Loss is 123.43876647949219\n",
            "Time for epoch 227 is 0.7868270874023438 sec. Loss is 140.27149963378906\n",
            "Time for epoch 228 is 0.784710168838501 sec. Loss is 194.0687255859375\n",
            "Time for epoch 229 is 0.7873022556304932 sec. Loss is 188.7969512939453\n",
            "Time for epoch 230 is 0.7979459762573242 sec. Loss is 195.28695678710938\n",
            "Time for epoch 231 is 0.7806427478790283 sec. Loss is 248.1440887451172\n",
            "Time for epoch 232 is 0.7899863719940186 sec. Loss is 216.9302978515625\n",
            "Time for epoch 233 is 0.7832553386688232 sec. Loss is 174.2550811767578\n",
            "Time for epoch 234 is 0.7907822132110596 sec. Loss is 295.7978515625\n",
            "Time for epoch 235 is 0.790062427520752 sec. Loss is 188.7759552001953\n",
            "Time for epoch 236 is 0.8089823722839355 sec. Loss is 387.8144226074219\n",
            "Time for epoch 237 is 0.7829647064208984 sec. Loss is 387.99407958984375\n",
            "Time for epoch 238 is 0.7963747978210449 sec. Loss is 151.79269409179688\n",
            "Time for epoch 239 is 0.7979028224945068 sec. Loss is 126.30703735351562\n",
            "Time for epoch 240 is 0.783106803894043 sec. Loss is 181.044677734375\n",
            "Time for epoch 241 is 0.7788290977478027 sec. Loss is 229.4911651611328\n",
            "Time for epoch 242 is 0.7883875370025635 sec. Loss is 183.4795379638672\n",
            "Time for epoch 243 is 0.7889702320098877 sec. Loss is 172.81283569335938\n",
            "Time for epoch 244 is 0.7959158420562744 sec. Loss is 146.23330688476562\n",
            "Time for epoch 245 is 0.7913997173309326 sec. Loss is 146.16346740722656\n",
            "Time for epoch 246 is 0.7894387245178223 sec. Loss is 152.4111785888672\n",
            "Time for epoch 247 is 0.7882561683654785 sec. Loss is 143.28585815429688\n",
            "Time for epoch 248 is 0.7821900844573975 sec. Loss is 180.64450073242188\n",
            "Time for epoch 249 is 0.777775764465332 sec. Loss is 197.50152587890625\n",
            "Time for epoch 250 is 0.7925577163696289 sec. Loss is 156.95143127441406\n",
            "Time for epoch 251 is 0.7997012138366699 sec. Loss is 200.19398498535156\n",
            "Time for epoch 252 is 0.7898082733154297 sec. Loss is 147.9393310546875\n",
            "Time for epoch 253 is 0.7918305397033691 sec. Loss is 147.50180053710938\n",
            "Time for epoch 254 is 0.8047888278961182 sec. Loss is 187.05816650390625\n",
            "Time for epoch 255 is 0.7878234386444092 sec. Loss is 168.10577392578125\n",
            "Time for epoch 256 is 0.797015905380249 sec. Loss is 191.93341064453125\n",
            "Time for epoch 257 is 0.8006999492645264 sec. Loss is 266.4512634277344\n",
            "Time for epoch 258 is 0.7912371158599854 sec. Loss is 393.4239196777344\n",
            "Time for epoch 259 is 0.7895739078521729 sec. Loss is 206.63510131835938\n",
            "Time for epoch 260 is 0.7922234535217285 sec. Loss is 119.1810302734375\n",
            "Time for epoch 261 is 0.7913563251495361 sec. Loss is 128.0714111328125\n",
            "Time for epoch 262 is 0.8049821853637695 sec. Loss is 132.53765869140625\n",
            "Time for epoch 263 is 0.7931511402130127 sec. Loss is 126.55396270751953\n",
            "Time for epoch 264 is 0.8131217956542969 sec. Loss is 118.16551208496094\n",
            "Time for epoch 265 is 0.7994568347930908 sec. Loss is 146.6367950439453\n",
            "Time for epoch 266 is 0.7802584171295166 sec. Loss is 196.06788635253906\n",
            "Time for epoch 267 is 0.7843079566955566 sec. Loss is 285.2403259277344\n",
            "Time for epoch 268 is 0.7858657836914062 sec. Loss is 519.215576171875\n",
            "Time for epoch 269 is 0.7829222679138184 sec. Loss is 789.728271484375\n",
            "Time for epoch 270 is 0.7995452880859375 sec. Loss is 383.5355529785156\n",
            "Time for epoch 271 is 0.7883133888244629 sec. Loss is 641.3076171875\n",
            "Time for epoch 272 is 0.7853119373321533 sec. Loss is 321.9268798828125\n",
            "Time for epoch 273 is 0.7916078567504883 sec. Loss is 313.2095642089844\n",
            "Time for epoch 274 is 0.7836549282073975 sec. Loss is 361.4465026855469\n",
            "Time for epoch 275 is 0.7953314781188965 sec. Loss is 417.0817565917969\n",
            "Time for epoch 276 is 0.7869243621826172 sec. Loss is 486.60662841796875\n",
            "Time for epoch 277 is 0.7920150756835938 sec. Loss is 491.0275573730469\n",
            "Time for epoch 278 is 0.8010411262512207 sec. Loss is 288.54736328125\n",
            "Time for epoch 279 is 0.788931131362915 sec. Loss is 222.06346130371094\n",
            "Time for epoch 280 is 0.7841904163360596 sec. Loss is 263.5274963378906\n",
            "Time for epoch 281 is 0.7850713729858398 sec. Loss is 236.5189971923828\n",
            "Time for epoch 282 is 0.7891097068786621 sec. Loss is 233.13778686523438\n",
            "Time for epoch 283 is 0.7859213352203369 sec. Loss is 290.6774597167969\n",
            "Time for epoch 284 is 0.7878780364990234 sec. Loss is 323.3603820800781\n",
            "Time for epoch 285 is 0.7928133010864258 sec. Loss is 335.01458740234375\n",
            "Time for epoch 286 is 0.8062736988067627 sec. Loss is 675.3826904296875\n",
            "Time for epoch 287 is 0.7862536907196045 sec. Loss is 614.353271484375\n",
            "Time for epoch 288 is 0.7706508636474609 sec. Loss is 184.82772827148438\n",
            "Time for epoch 289 is 0.7950048446655273 sec. Loss is 154.73187255859375\n",
            "Time for epoch 290 is 0.794287919998169 sec. Loss is 239.00498962402344\n",
            "Time for epoch 291 is 0.795586347579956 sec. Loss is 264.5320129394531\n",
            "Time for epoch 292 is 0.780292272567749 sec. Loss is 312.5306701660156\n",
            "Time for epoch 293 is 0.7804439067840576 sec. Loss is 230.26071166992188\n",
            "Time for epoch 294 is 0.8000550270080566 sec. Loss is 201.02796936035156\n",
            "Time for epoch 295 is 0.810448408126831 sec. Loss is 165.39385986328125\n",
            "Time for epoch 296 is 0.7997739315032959 sec. Loss is 213.61859130859375\n",
            "Time for epoch 297 is 0.7950825691223145 sec. Loss is 242.62713623046875\n",
            "Time for epoch 298 is 0.7867512702941895 sec. Loss is 236.84365844726562\n",
            "Time for epoch 299 is 0.7868854999542236 sec. Loss is 222.68438720703125\n",
            "Time for epoch 300 is 0.7839250564575195 sec. Loss is 94.96025848388672\n",
            "Time for epoch 301 is 0.7865605354309082 sec. Loss is 118.33785247802734\n",
            "Time for epoch 302 is 0.79121994972229 sec. Loss is 149.07046508789062\n",
            "Time for epoch 303 is 0.7892961502075195 sec. Loss is 175.08724975585938\n",
            "Time for epoch 304 is 0.7777328491210938 sec. Loss is 158.28028869628906\n",
            "Time for epoch 305 is 0.779285192489624 sec. Loss is 129.49647521972656\n",
            "Time for epoch 306 is 0.7809290885925293 sec. Loss is 100.58798217773438\n",
            "Time for epoch 307 is 0.7960755825042725 sec. Loss is 118.3230972290039\n",
            "Time for epoch 308 is 0.7849140167236328 sec. Loss is 140.9355926513672\n",
            "Time for epoch 309 is 0.7977051734924316 sec. Loss is 114.47797393798828\n",
            "Time for epoch 310 is 0.7736077308654785 sec. Loss is 173.17068481445312\n",
            "Time for epoch 311 is 0.7928369045257568 sec. Loss is 165.1583709716797\n",
            "Time for epoch 312 is 0.7813372611999512 sec. Loss is 216.4508056640625\n",
            "Time for epoch 313 is 0.7941462993621826 sec. Loss is 335.7458801269531\n",
            "Time for epoch 314 is 0.7872416973114014 sec. Loss is 365.4947509765625\n",
            "Time for epoch 315 is 0.7820014953613281 sec. Loss is 198.55926513671875\n",
            "Time for epoch 316 is 0.7835896015167236 sec. Loss is 143.4866943359375\n",
            "Time for epoch 317 is 0.7818756103515625 sec. Loss is 118.38490295410156\n",
            "Time for epoch 318 is 0.7861855030059814 sec. Loss is 138.65835571289062\n",
            "Time for epoch 319 is 0.787285327911377 sec. Loss is 183.4906463623047\n",
            "Time for epoch 320 is 0.7834453582763672 sec. Loss is 205.943359375\n",
            "Time for epoch 321 is 0.780207633972168 sec. Loss is 188.77098083496094\n",
            "Time for epoch 322 is 0.879431962966919 sec. Loss is 212.83055114746094\n",
            "Time for epoch 323 is 0.7993152141571045 sec. Loss is 183.3120574951172\n",
            "Time for epoch 324 is 0.7803974151611328 sec. Loss is 189.127197265625\n",
            "Time for epoch 325 is 0.7826824188232422 sec. Loss is 145.6208953857422\n",
            "Time for epoch 326 is 0.7840473651885986 sec. Loss is 102.65996551513672\n",
            "Time for epoch 327 is 0.7903118133544922 sec. Loss is 101.65474700927734\n",
            "Time for epoch 328 is 0.7643129825592041 sec. Loss is 115.02947235107422\n",
            "Time for epoch 329 is 0.7733726501464844 sec. Loss is 73.60884094238281\n",
            "Time for epoch 330 is 0.778512716293335 sec. Loss is 96.02690887451172\n",
            "Time for epoch 331 is 0.7932615280151367 sec. Loss is 142.57278442382812\n",
            "Time for epoch 332 is 0.7745952606201172 sec. Loss is 175.30824279785156\n",
            "Time for epoch 333 is 0.7712416648864746 sec. Loss is 181.69374084472656\n",
            "Time for epoch 334 is 0.7797110080718994 sec. Loss is 238.35116577148438\n",
            "Time for epoch 335 is 0.7885432243347168 sec. Loss is 253.63356018066406\n",
            "Time for epoch 336 is 0.7913937568664551 sec. Loss is 256.7899475097656\n",
            "Time for epoch 337 is 0.7884986400604248 sec. Loss is 225.27821350097656\n",
            "Time for epoch 338 is 0.8046972751617432 sec. Loss is 203.4500274658203\n",
            "Time for epoch 339 is 0.7827670574188232 sec. Loss is 262.7471008300781\n",
            "Time for epoch 340 is 0.7804410457611084 sec. Loss is 306.9095458984375\n",
            "Time for epoch 341 is 0.802161693572998 sec. Loss is 230.060546875\n",
            "Time for epoch 342 is 0.7734067440032959 sec. Loss is 216.13458251953125\n",
            "Time for epoch 343 is 0.7854764461517334 sec. Loss is 203.933349609375\n",
            "Time for epoch 344 is 0.7750728130340576 sec. Loss is 181.89353942871094\n",
            "Time for epoch 345 is 0.7764174938201904 sec. Loss is 192.93177795410156\n",
            "Time for epoch 346 is 0.7598645687103271 sec. Loss is 209.79954528808594\n",
            "Time for epoch 347 is 0.7858290672302246 sec. Loss is 188.1503143310547\n",
            "Time for epoch 348 is 0.7784178256988525 sec. Loss is 251.46719360351562\n",
            "Time for epoch 349 is 0.7769591808319092 sec. Loss is 171.4990692138672\n",
            "Time for epoch 350 is 0.7763690948486328 sec. Loss is 190.91250610351562\n",
            "Time for epoch 351 is 0.7955584526062012 sec. Loss is 199.5154571533203\n",
            "Time for epoch 352 is 0.7749884128570557 sec. Loss is 202.0355224609375\n",
            "Time for epoch 353 is 0.7709457874298096 sec. Loss is 252.30035400390625\n",
            "Time for epoch 354 is 0.7694580554962158 sec. Loss is 319.5070495605469\n",
            "Time for epoch 355 is 0.7584741115570068 sec. Loss is 531.3972778320312\n",
            "Time for epoch 356 is 0.7726421356201172 sec. Loss is 214.05224609375\n",
            "Time for epoch 357 is 0.7753772735595703 sec. Loss is 213.71627807617188\n",
            "Time for epoch 358 is 0.7772197723388672 sec. Loss is 160.51502990722656\n",
            "Time for epoch 359 is 0.7795329093933105 sec. Loss is 83.74209594726562\n",
            "Time for epoch 360 is 0.7935738563537598 sec. Loss is 71.5329360961914\n",
            "Time for epoch 361 is 0.7803246974945068 sec. Loss is 93.5225601196289\n",
            "Time for epoch 362 is 0.7912700176239014 sec. Loss is 215.59571838378906\n",
            "Time for epoch 363 is 0.77944016456604 sec. Loss is 497.5592956542969\n",
            "Time for epoch 364 is 0.7797501087188721 sec. Loss is 530.0725708007812\n",
            "Time for epoch 365 is 0.7798476219177246 sec. Loss is 693.1568603515625\n",
            "Time for epoch 366 is 0.8118326663970947 sec. Loss is 1024.8319091796875\n",
            "Time for epoch 367 is 0.7819085121154785 sec. Loss is 1022.3389892578125\n",
            "Time for epoch 368 is 0.7827816009521484 sec. Loss is 703.3558959960938\n",
            "Time for epoch 369 is 0.774179220199585 sec. Loss is 502.3246765136719\n",
            "Time for epoch 370 is 0.7752201557159424 sec. Loss is 554.2251586914062\n",
            "Time for epoch 371 is 0.7710983753204346 sec. Loss is 549.0820922851562\n",
            "Time for epoch 372 is 0.7712826728820801 sec. Loss is 302.443115234375\n",
            "Time for epoch 373 is 0.7944784164428711 sec. Loss is 376.94512939453125\n",
            "Time for epoch 374 is 0.8016881942749023 sec. Loss is 403.0519104003906\n",
            "Time for epoch 375 is 0.7975671291351318 sec. Loss is 354.35626220703125\n",
            "Time for epoch 376 is 0.803717851638794 sec. Loss is 294.5547790527344\n",
            "Time for epoch 377 is 0.790813684463501 sec. Loss is 547.2789916992188\n",
            "Time for epoch 378 is 0.7932932376861572 sec. Loss is 215.82485961914062\n",
            "Time for epoch 379 is 0.7814209461212158 sec. Loss is 554.8811645507812\n",
            "Time for epoch 380 is 0.770057201385498 sec. Loss is 215.7617645263672\n",
            "Time for epoch 381 is 0.7696883678436279 sec. Loss is 229.1121063232422\n",
            "Time for epoch 382 is 0.7960689067840576 sec. Loss is 329.965087890625\n",
            "Time for epoch 383 is 0.771632194519043 sec. Loss is 220.1068572998047\n",
            "Time for epoch 384 is 0.767836332321167 sec. Loss is 469.1388244628906\n",
            "Time for epoch 385 is 0.7655055522918701 sec. Loss is 358.228759765625\n",
            "Time for epoch 386 is 0.7701914310455322 sec. Loss is 402.84765625\n",
            "Time for epoch 387 is 0.7641031742095947 sec. Loss is 335.3525390625\n",
            "Time for epoch 388 is 0.7721292972564697 sec. Loss is 377.40948486328125\n",
            "Time for epoch 389 is 0.7784605026245117 sec. Loss is 275.1656188964844\n",
            "Time for epoch 390 is 0.7679831981658936 sec. Loss is 283.8484802246094\n",
            "Time for epoch 391 is 0.7704460620880127 sec. Loss is 374.4316101074219\n",
            "Time for epoch 392 is 0.7725770473480225 sec. Loss is 166.9423065185547\n",
            "Time for epoch 393 is 0.7689597606658936 sec. Loss is 227.88221740722656\n",
            "Time for epoch 394 is 0.7632741928100586 sec. Loss is 346.9170837402344\n",
            "Time for epoch 395 is 0.7742598056793213 sec. Loss is 292.9276428222656\n",
            "Time for epoch 396 is 0.7799420356750488 sec. Loss is 339.5524597167969\n",
            "Time for epoch 397 is 0.7858643531799316 sec. Loss is 272.70440673828125\n",
            "Time for epoch 398 is 0.7805581092834473 sec. Loss is 317.52056884765625\n",
            "Time for epoch 399 is 0.7841646671295166 sec. Loss is 540.4596557617188\n",
            "Time for epoch 400 is 0.788383960723877 sec. Loss is 397.58221435546875\n",
            "Time for epoch 401 is 0.7731761932373047 sec. Loss is 287.8094787597656\n",
            "Time for epoch 402 is 0.7748353481292725 sec. Loss is 338.3506774902344\n",
            "Time for epoch 403 is 0.7682218551635742 sec. Loss is 83.94129180908203\n",
            "Time for epoch 404 is 0.7833197116851807 sec. Loss is 121.83350372314453\n",
            "Time for epoch 405 is 0.7625055313110352 sec. Loss is 168.722900390625\n",
            "Time for epoch 406 is 0.7716548442840576 sec. Loss is 99.47779846191406\n",
            "Time for epoch 407 is 0.7749872207641602 sec. Loss is 134.92335510253906\n",
            "Time for epoch 408 is 0.7762651443481445 sec. Loss is 186.63931274414062\n",
            "Time for epoch 409 is 0.7649340629577637 sec. Loss is 194.4930877685547\n",
            "Time for epoch 410 is 0.7644052505493164 sec. Loss is 464.2705078125\n",
            "Time for epoch 411 is 0.7640011310577393 sec. Loss is 163.00836181640625\n",
            "Time for epoch 412 is 0.7707750797271729 sec. Loss is 157.73899841308594\n",
            "Time for epoch 413 is 0.7642471790313721 sec. Loss is 228.94613647460938\n",
            "Time for epoch 414 is 0.7937395572662354 sec. Loss is 253.00889587402344\n",
            "Time for epoch 415 is 0.7636926174163818 sec. Loss is 276.3212890625\n",
            "Time for epoch 416 is 0.7732436656951904 sec. Loss is 205.81211853027344\n",
            "Time for epoch 417 is 0.7695717811584473 sec. Loss is 355.1955261230469\n",
            "Time for epoch 418 is 0.7790782451629639 sec. Loss is 470.9989929199219\n",
            "Time for epoch 419 is 0.7842361927032471 sec. Loss is 503.4841613769531\n",
            "Time for epoch 420 is 0.7693226337432861 sec. Loss is 365.5257873535156\n",
            "Time for epoch 421 is 0.7789242267608643 sec. Loss is 343.8414001464844\n",
            "Time for epoch 422 is 0.7677242755889893 sec. Loss is 233.6842498779297\n",
            "Time for epoch 423 is 0.7832574844360352 sec. Loss is 119.59459686279297\n",
            "Time for epoch 424 is 0.7746708393096924 sec. Loss is 88.66394805908203\n",
            "Time for epoch 425 is 0.7673063278198242 sec. Loss is 87.64619445800781\n",
            "Time for epoch 426 is 0.7716987133026123 sec. Loss is 164.0633087158203\n",
            "Time for epoch 427 is 0.7735157012939453 sec. Loss is 174.0844268798828\n",
            "Time for epoch 428 is 0.7661406993865967 sec. Loss is 155.49696350097656\n",
            "Time for epoch 429 is 0.7633945941925049 sec. Loss is 206.48291015625\n",
            "Time for epoch 430 is 0.7690365314483643 sec. Loss is 171.76390075683594\n",
            "Time for epoch 431 is 0.7599549293518066 sec. Loss is 227.1698455810547\n",
            "Time for epoch 432 is 0.7628142833709717 sec. Loss is 333.8897399902344\n",
            "Time for epoch 433 is 0.7700707912445068 sec. Loss is 196.8798065185547\n",
            "Time for epoch 434 is 0.7700521945953369 sec. Loss is 187.9518280029297\n",
            "Time for epoch 435 is 0.7803804874420166 sec. Loss is 323.3104553222656\n",
            "Time for epoch 436 is 0.7709240913391113 sec. Loss is 122.38032531738281\n",
            "Time for epoch 437 is 0.7695977687835693 sec. Loss is 55.2413215637207\n",
            "Time for epoch 438 is 0.7599847316741943 sec. Loss is 69.07688903808594\n",
            "Time for epoch 439 is 0.7832179069519043 sec. Loss is 90.21179962158203\n",
            "Time for epoch 440 is 0.7660262584686279 sec. Loss is 111.31689453125\n",
            "Time for epoch 441 is 0.7453429698944092 sec. Loss is 94.40914916992188\n",
            "Time for epoch 442 is 0.769627571105957 sec. Loss is 63.67135238647461\n",
            "Time for epoch 443 is 0.7976806163787842 sec. Loss is 48.02173614501953\n",
            "Time for epoch 444 is 0.771251916885376 sec. Loss is 47.74205017089844\n",
            "Time for epoch 445 is 0.7794640064239502 sec. Loss is 73.04594421386719\n",
            "Time for epoch 446 is 0.7792093753814697 sec. Loss is 98.13232421875\n",
            "Time for epoch 447 is 0.7708816528320312 sec. Loss is 110.92145538330078\n",
            "Time for epoch 448 is 0.7707934379577637 sec. Loss is 173.64877319335938\n",
            "Time for epoch 449 is 0.767620325088501 sec. Loss is 68.99748992919922\n",
            "Time for epoch 450 is 0.7740001678466797 sec. Loss is 60.54971694946289\n",
            "Time for epoch 451 is 0.7708635330200195 sec. Loss is 60.75595474243164\n",
            "Time for epoch 452 is 0.7899739742279053 sec. Loss is 51.5490837097168\n",
            "Time for epoch 453 is 0.7709155082702637 sec. Loss is 55.814395904541016\n",
            "Time for epoch 454 is 0.7821640968322754 sec. Loss is 122.08477783203125\n",
            "Time for epoch 455 is 0.757415771484375 sec. Loss is 116.7044677734375\n",
            "Time for epoch 456 is 0.758721113204956 sec. Loss is 46.443336486816406\n",
            "Time for epoch 457 is 0.7583534717559814 sec. Loss is 38.15434265136719\n",
            "Time for epoch 458 is 0.7609078884124756 sec. Loss is 36.499053955078125\n",
            "Time for epoch 459 is 0.7726361751556396 sec. Loss is 39.676273345947266\n",
            "Time for epoch 460 is 0.7657661437988281 sec. Loss is 43.31606674194336\n",
            "Time for epoch 461 is 0.7534546852111816 sec. Loss is 56.481781005859375\n",
            "Time for epoch 462 is 0.7624967098236084 sec. Loss is 53.007991790771484\n",
            "Time for epoch 463 is 0.7739522457122803 sec. Loss is 53.15351867675781\n",
            "Time for epoch 464 is 0.754591703414917 sec. Loss is 63.95524215698242\n",
            "Time for epoch 465 is 0.7748756408691406 sec. Loss is 48.82249450683594\n",
            "Time for epoch 466 is 0.7583560943603516 sec. Loss is 50.28929901123047\n",
            "Time for epoch 467 is 0.7688093185424805 sec. Loss is 60.46308135986328\n",
            "Time for epoch 468 is 0.7652182579040527 sec. Loss is 68.88296508789062\n",
            "Time for epoch 469 is 0.7634024620056152 sec. Loss is 46.53260803222656\n",
            "Time for epoch 470 is 0.7736244201660156 sec. Loss is 34.77472686767578\n",
            "Time for epoch 471 is 0.7675681114196777 sec. Loss is 42.50074005126953\n",
            "Time for epoch 472 is 0.7741541862487793 sec. Loss is 69.24517822265625\n",
            "Time for epoch 473 is 0.7652716636657715 sec. Loss is 43.9509162902832\n",
            "Time for epoch 474 is 0.7559328079223633 sec. Loss is 92.99818420410156\n",
            "Time for epoch 475 is 0.7688324451446533 sec. Loss is 67.31028747558594\n",
            "Time for epoch 476 is 0.771050214767456 sec. Loss is 40.94864273071289\n",
            "Time for epoch 477 is 0.7563056945800781 sec. Loss is 54.47645568847656\n",
            "Time for epoch 478 is 0.7924962043762207 sec. Loss is 88.86823272705078\n",
            "Time for epoch 479 is 0.801591157913208 sec. Loss is 69.62423706054688\n",
            "Time for epoch 480 is 0.7969543933868408 sec. Loss is 35.07788848876953\n",
            "Time for epoch 481 is 0.8001015186309814 sec. Loss is 35.52066421508789\n",
            "Time for epoch 482 is 0.8028762340545654 sec. Loss is 73.76679992675781\n",
            "Time for epoch 483 is 0.7957382202148438 sec. Loss is 90.66448974609375\n",
            "Time for epoch 484 is 0.8312649726867676 sec. Loss is 52.56660079956055\n",
            "Time for epoch 485 is 0.8161909580230713 sec. Loss is 90.92394256591797\n",
            "Time for epoch 486 is 0.8014199733734131 sec. Loss is 107.13335418701172\n",
            "Time for epoch 487 is 0.8108417987823486 sec. Loss is 97.54652404785156\n",
            "Time for epoch 488 is 0.8020212650299072 sec. Loss is 41.007442474365234\n",
            "Time for epoch 489 is 0.7969398498535156 sec. Loss is 37.504154205322266\n",
            "Time for epoch 490 is 0.7915315628051758 sec. Loss is 59.42781448364258\n",
            "Time for epoch 491 is 0.7919282913208008 sec. Loss is 77.06456756591797\n",
            "Time for epoch 492 is 0.7593789100646973 sec. Loss is 48.889686584472656\n",
            "Time for epoch 493 is 0.7807304859161377 sec. Loss is 31.03388214111328\n",
            "Time for epoch 494 is 0.7580759525299072 sec. Loss is 34.20930862426758\n",
            "Time for epoch 495 is 0.7687349319458008 sec. Loss is 39.164031982421875\n",
            "Time for epoch 496 is 0.783200740814209 sec. Loss is 55.3896484375\n",
            "Time for epoch 497 is 0.7668261528015137 sec. Loss is 45.17625427246094\n",
            "Time for epoch 498 is 0.7719497680664062 sec. Loss is 39.88568115234375\n",
            "Time for epoch 499 is 0.7622475624084473 sec. Loss is 51.97954177856445\n",
            "Time for epoch 500 is 0.7706687450408936 sec. Loss is 62.828224182128906\n",
            "Time for epoch 501 is 0.7581565380096436 sec. Loss is 48.9691162109375\n",
            "Time for epoch 502 is 0.7647871971130371 sec. Loss is 63.66728210449219\n",
            "Time for epoch 503 is 0.7622652053833008 sec. Loss is 143.45556640625\n",
            "Time for epoch 504 is 0.7680330276489258 sec. Loss is 76.08332061767578\n",
            "Time for epoch 505 is 0.7696421146392822 sec. Loss is 37.45830535888672\n",
            "Time for epoch 506 is 0.7524805068969727 sec. Loss is 45.79243850708008\n",
            "Time for epoch 507 is 0.7529535293579102 sec. Loss is 67.98399353027344\n",
            "Time for epoch 508 is 0.7607090473175049 sec. Loss is 64.02420806884766\n",
            "Time for epoch 509 is 0.7516133785247803 sec. Loss is 48.37580871582031\n",
            "Time for epoch 510 is 0.7577385902404785 sec. Loss is 31.170886993408203\n",
            "Time for epoch 511 is 0.7535393238067627 sec. Loss is 38.1617431640625\n",
            "Time for epoch 512 is 0.7549183368682861 sec. Loss is 70.77143859863281\n",
            "Time for epoch 513 is 0.7677373886108398 sec. Loss is 59.542903900146484\n",
            "Time for epoch 514 is 0.7914261817932129 sec. Loss is 39.29851531982422\n",
            "Time for epoch 515 is 0.7722041606903076 sec. Loss is 37.30364990234375\n",
            "Time for epoch 516 is 0.76590895652771 sec. Loss is 59.87406921386719\n",
            "Time for epoch 517 is 0.7677297592163086 sec. Loss is 53.59796142578125\n",
            "Time for epoch 518 is 0.7786474227905273 sec. Loss is 47.91079330444336\n",
            "Time for epoch 519 is 0.7668297290802002 sec. Loss is 32.27753829956055\n",
            "Time for epoch 520 is 0.7738409042358398 sec. Loss is 41.52167510986328\n",
            "Time for epoch 521 is 0.7790067195892334 sec. Loss is 80.07612609863281\n",
            "Time for epoch 522 is 0.7951333522796631 sec. Loss is 41.01422119140625\n",
            "Time for epoch 523 is 0.7695202827453613 sec. Loss is 46.90066146850586\n",
            "Time for epoch 524 is 0.7764370441436768 sec. Loss is 75.07501983642578\n",
            "Time for epoch 525 is 0.770411491394043 sec. Loss is 45.067909240722656\n",
            "Time for epoch 526 is 0.7825009822845459 sec. Loss is 39.10456848144531\n",
            "Time for epoch 527 is 0.7783656120300293 sec. Loss is 53.891876220703125\n",
            "Time for epoch 528 is 0.7924706935882568 sec. Loss is 84.05715942382812\n",
            "Time for epoch 529 is 0.7775754928588867 sec. Loss is 59.06841278076172\n",
            "Time for epoch 530 is 0.7794594764709473 sec. Loss is 43.02635192871094\n",
            "Time for epoch 531 is 0.7800467014312744 sec. Loss is 105.59029388427734\n",
            "Time for epoch 532 is 0.7845900058746338 sec. Loss is 73.48837280273438\n",
            "Time for epoch 533 is 0.769385576248169 sec. Loss is 41.461387634277344\n",
            "Time for epoch 534 is 0.7491054534912109 sec. Loss is 36.33598327636719\n",
            "Time for epoch 535 is 0.772101640701294 sec. Loss is 65.64898681640625\n",
            "Time for epoch 536 is 0.7655177116394043 sec. Loss is 66.61813354492188\n",
            "Time for epoch 537 is 0.7651147842407227 sec. Loss is 46.67414093017578\n",
            "Time for epoch 538 is 0.7670018672943115 sec. Loss is 34.699790954589844\n",
            "Time for epoch 539 is 0.7820146083831787 sec. Loss is 56.6471061706543\n",
            "Time for epoch 540 is 0.7608177661895752 sec. Loss is 68.92340087890625\n",
            "Time for epoch 541 is 0.7619807720184326 sec. Loss is 56.603919982910156\n",
            "Time for epoch 542 is 0.7403082847595215 sec. Loss is 81.82549285888672\n",
            "Time for epoch 543 is 0.764930248260498 sec. Loss is 43.960105895996094\n",
            "Time for epoch 544 is 0.7660222053527832 sec. Loss is 28.802688598632812\n",
            "Time for epoch 545 is 0.771148681640625 sec. Loss is 32.18643569946289\n",
            "Time for epoch 546 is 0.756939172744751 sec. Loss is 36.39980697631836\n",
            "Time for epoch 547 is 0.7622098922729492 sec. Loss is 26.962696075439453\n",
            "Time for epoch 548 is 0.7591228485107422 sec. Loss is 29.624935150146484\n",
            "Time for epoch 549 is 0.7561783790588379 sec. Loss is 43.49302673339844\n",
            "Time for epoch 550 is 0.7514472007751465 sec. Loss is 62.4918327331543\n",
            "Time for epoch 551 is 0.763770580291748 sec. Loss is 45.62500762939453\n",
            "Time for epoch 552 is 0.7806217670440674 sec. Loss is 28.94036865234375\n",
            "Time for epoch 553 is 0.7512857913970947 sec. Loss is 35.35116195678711\n",
            "Time for epoch 554 is 0.7687616348266602 sec. Loss is 65.27953338623047\n",
            "Time for epoch 555 is 0.7524793148040771 sec. Loss is 61.68437957763672\n",
            "Time for epoch 556 is 0.7487883567810059 sec. Loss is 34.76112365722656\n",
            "Time for epoch 557 is 0.7708277702331543 sec. Loss is 37.077369689941406\n",
            "Time for epoch 558 is 0.7467470169067383 sec. Loss is 68.4097671508789\n",
            "Time for epoch 559 is 0.7547461986541748 sec. Loss is 48.10943603515625\n",
            "Time for epoch 560 is 0.7668673992156982 sec. Loss is 45.34345626831055\n",
            "Time for epoch 561 is 0.7627215385437012 sec. Loss is 34.3935661315918\n",
            "Time for epoch 562 is 0.7819113731384277 sec. Loss is 26.254009246826172\n",
            "Time for epoch 563 is 0.7541115283966064 sec. Loss is 23.95635414123535\n",
            "Time for epoch 564 is 0.7682538032531738 sec. Loss is 24.548185348510742\n",
            "Time for epoch 565 is 0.7577729225158691 sec. Loss is 27.96725845336914\n",
            "Time for epoch 566 is 0.7655091285705566 sec. Loss is 37.766632080078125\n",
            "Time for epoch 567 is 0.7670886516571045 sec. Loss is 33.76596450805664\n",
            "Time for epoch 568 is 0.7624616622924805 sec. Loss is 31.79075050354004\n",
            "Time for epoch 569 is 0.7529685497283936 sec. Loss is 35.107112884521484\n",
            "Time for epoch 570 is 0.7578096389770508 sec. Loss is 50.312896728515625\n",
            "Time for epoch 571 is 0.7607238292694092 sec. Loss is 43.712005615234375\n",
            "Time for epoch 572 is 0.7770724296569824 sec. Loss is 59.038108825683594\n",
            "Time for epoch 573 is 0.7638230323791504 sec. Loss is 120.14619445800781\n",
            "Time for epoch 574 is 0.7634057998657227 sec. Loss is 101.90289306640625\n",
            "Time for epoch 575 is 0.7582876682281494 sec. Loss is 111.5783920288086\n",
            "Time for epoch 576 is 0.7746233940124512 sec. Loss is 65.70012664794922\n",
            "Time for epoch 577 is 0.7630288600921631 sec. Loss is 31.014633178710938\n",
            "Time for epoch 578 is 0.7601635456085205 sec. Loss is 38.31453323364258\n",
            "Time for epoch 579 is 0.7664823532104492 sec. Loss is 48.657718658447266\n",
            "Time for epoch 580 is 0.7571413516998291 sec. Loss is 95.37094116210938\n",
            "Time for epoch 581 is 0.7643792629241943 sec. Loss is 104.64239501953125\n",
            "Time for epoch 582 is 0.7647716999053955 sec. Loss is 46.74120330810547\n",
            "Time for epoch 583 is 0.7565505504608154 sec. Loss is 67.7716293334961\n",
            "Time for epoch 584 is 0.7615814208984375 sec. Loss is 70.11290740966797\n",
            "Time for epoch 585 is 0.7545547485351562 sec. Loss is 33.52210235595703\n",
            "Time for epoch 586 is 0.7901322841644287 sec. Loss is 59.00722885131836\n",
            "Time for epoch 587 is 0.7607409954071045 sec. Loss is 37.31455612182617\n",
            "Time for epoch 588 is 0.7523930072784424 sec. Loss is 40.48155975341797\n",
            "Time for epoch 589 is 0.7548491954803467 sec. Loss is 74.1526107788086\n",
            "Time for epoch 590 is 0.7557723522186279 sec. Loss is 108.3579330444336\n",
            "Time for epoch 591 is 0.754880428314209 sec. Loss is 50.9554328918457\n",
            "Time for epoch 592 is 0.7583329677581787 sec. Loss is 32.7109489440918\n",
            "Time for epoch 593 is 0.7585537433624268 sec. Loss is 41.583831787109375\n",
            "Time for epoch 594 is 0.7528438568115234 sec. Loss is 51.046905517578125\n",
            "Time for epoch 595 is 0.7568156719207764 sec. Loss is 49.83087158203125\n",
            "Time for epoch 596 is 0.749664306640625 sec. Loss is 36.74253845214844\n",
            "Time for epoch 597 is 0.7656123638153076 sec. Loss is 34.15244674682617\n",
            "Time for epoch 598 is 0.7629423141479492 sec. Loss is 61.929691314697266\n",
            "Time for epoch 599 is 0.7703976631164551 sec. Loss is 48.377296447753906\n",
            "Time for epoch 600 is 0.7701520919799805 sec. Loss is 37.300376892089844\n",
            "Time for epoch 601 is 0.776190996170044 sec. Loss is 38.84515380859375\n",
            "Time for epoch 602 is 0.7514650821685791 sec. Loss is 51.99447250366211\n",
            "Time for epoch 603 is 0.7431550025939941 sec. Loss is 45.579689025878906\n",
            "Time for epoch 604 is 0.7606296539306641 sec. Loss is 35.645668029785156\n",
            "Time for epoch 605 is 0.7702088356018066 sec. Loss is 69.7656021118164\n",
            "Time for epoch 606 is 0.7588949203491211 sec. Loss is 63.79143142700195\n",
            "Time for epoch 607 is 0.7765893936157227 sec. Loss is 24.839221954345703\n",
            "Time for epoch 608 is 0.7712922096252441 sec. Loss is 28.839828491210938\n",
            "Time for epoch 609 is 0.7594621181488037 sec. Loss is 68.7297592163086\n",
            "Time for epoch 610 is 0.7560069561004639 sec. Loss is 78.09176635742188\n",
            "Time for epoch 611 is 0.7582578659057617 sec. Loss is 51.68395233154297\n",
            "Time for epoch 612 is 0.7884759902954102 sec. Loss is 29.045936584472656\n",
            "Time for epoch 613 is 0.7690348625183105 sec. Loss is 51.337799072265625\n",
            "Time for epoch 614 is 0.7572360038757324 sec. Loss is 46.40310287475586\n",
            "Time for epoch 615 is 0.775177001953125 sec. Loss is 62.11686706542969\n",
            "Time for epoch 616 is 0.7642130851745605 sec. Loss is 31.73766326904297\n",
            "Time for epoch 617 is 0.751413106918335 sec. Loss is 25.35051727294922\n",
            "Time for epoch 618 is 0.7549476623535156 sec. Loss is 36.12809753417969\n",
            "Time for epoch 619 is 0.7697710990905762 sec. Loss is 43.36026382446289\n",
            "Time for epoch 620 is 0.7614274024963379 sec. Loss is 30.919286727905273\n",
            "Time for epoch 621 is 0.7576594352722168 sec. Loss is 30.355762481689453\n",
            "Time for epoch 622 is 0.7611358165740967 sec. Loss is 40.04288864135742\n",
            "Time for epoch 623 is 0.7606911659240723 sec. Loss is 48.24807357788086\n",
            "Time for epoch 624 is 0.7602767944335938 sec. Loss is 56.45839309692383\n",
            "Time for epoch 625 is 0.7673864364624023 sec. Loss is 26.481847763061523\n",
            "Time for epoch 626 is 0.7772226333618164 sec. Loss is 36.200538635253906\n",
            "Time for epoch 627 is 0.7616493701934814 sec. Loss is 40.04248046875\n",
            "Time for epoch 628 is 0.7743189334869385 sec. Loss is 26.273008346557617\n",
            "Time for epoch 629 is 0.7802181243896484 sec. Loss is 23.1776123046875\n",
            "Time for epoch 630 is 0.7809760570526123 sec. Loss is 24.877899169921875\n",
            "Time for epoch 631 is 0.7670266628265381 sec. Loss is 35.716339111328125\n",
            "Time for epoch 632 is 0.7901391983032227 sec. Loss is 43.86038589477539\n",
            "Time for epoch 633 is 0.7676966190338135 sec. Loss is 35.16380310058594\n",
            "Time for epoch 634 is 0.7789130210876465 sec. Loss is 23.78449249267578\n",
            "Time for epoch 635 is 0.7790195941925049 sec. Loss is 22.879302978515625\n",
            "Time for epoch 636 is 0.7735464572906494 sec. Loss is 51.968318939208984\n",
            "Time for epoch 637 is 0.773430585861206 sec. Loss is 43.78511428833008\n",
            "Time for epoch 638 is 0.7669551372528076 sec. Loss is 22.380170822143555\n",
            "Time for epoch 639 is 0.7702033519744873 sec. Loss is 29.728376388549805\n",
            "Time for epoch 640 is 0.7639532089233398 sec. Loss is 62.989524841308594\n",
            "Time for epoch 641 is 0.7704768180847168 sec. Loss is 52.80622100830078\n",
            "Time for epoch 642 is 0.7726058959960938 sec. Loss is 36.361183166503906\n",
            "Time for epoch 643 is 0.7608439922332764 sec. Loss is 50.45482635498047\n",
            "Time for epoch 644 is 0.7655892372131348 sec. Loss is 38.822181701660156\n",
            "Time for epoch 645 is 0.7487921714782715 sec. Loss is 29.616058349609375\n",
            "Time for epoch 646 is 0.7862594127655029 sec. Loss is 35.664608001708984\n",
            "Time for epoch 647 is 0.7745797634124756 sec. Loss is 38.65186309814453\n",
            "Time for epoch 648 is 0.7699751853942871 sec. Loss is 41.149539947509766\n",
            "Time for epoch 649 is 0.7641692161560059 sec. Loss is 79.25082397460938\n",
            "Time for epoch 650 is 0.7669599056243896 sec. Loss is 42.56722640991211\n",
            "Time for epoch 651 is 0.7606682777404785 sec. Loss is 38.57029724121094\n",
            "Time for epoch 652 is 0.7735261917114258 sec. Loss is 54.295799255371094\n",
            "Time for epoch 653 is 0.7849147319793701 sec. Loss is 83.79755401611328\n",
            "Time for epoch 654 is 0.7760272026062012 sec. Loss is 56.54603958129883\n",
            "Time for epoch 655 is 0.7615842819213867 sec. Loss is 51.63058090209961\n",
            "Time for epoch 656 is 0.7651236057281494 sec. Loss is 72.18006134033203\n",
            "Time for epoch 657 is 0.7612872123718262 sec. Loss is 95.45856475830078\n",
            "Time for epoch 658 is 0.7646574974060059 sec. Loss is 146.0093536376953\n",
            "Time for epoch 659 is 0.7650959491729736 sec. Loss is 95.18576049804688\n",
            "Time for epoch 660 is 0.7848620414733887 sec. Loss is 136.92877197265625\n",
            "Time for epoch 661 is 0.7645139694213867 sec. Loss is 107.0771713256836\n",
            "Time for epoch 662 is 0.7498981952667236 sec. Loss is 76.9879379272461\n",
            "Time for epoch 663 is 0.7604837417602539 sec. Loss is 231.4288787841797\n",
            "Time for epoch 664 is 0.753817081451416 sec. Loss is 181.9814453125\n",
            "Time for epoch 665 is 0.7621626853942871 sec. Loss is 153.06924438476562\n",
            "Time for epoch 666 is 0.7686700820922852 sec. Loss is 126.83477020263672\n",
            "Time for epoch 667 is 0.7781040668487549 sec. Loss is 56.545166015625\n",
            "Time for epoch 668 is 0.7593369483947754 sec. Loss is 58.88357925415039\n",
            "Time for epoch 669 is 0.7532289028167725 sec. Loss is 70.0097427368164\n",
            "Time for epoch 670 is 0.757237434387207 sec. Loss is 84.55534362792969\n",
            "Time for epoch 671 is 0.762509822845459 sec. Loss is 52.74848937988281\n",
            "Time for epoch 672 is 0.7659492492675781 sec. Loss is 59.59690475463867\n",
            "Time for epoch 673 is 0.7784359455108643 sec. Loss is 39.77854537963867\n",
            "Time for epoch 674 is 0.7735092639923096 sec. Loss is 31.009685516357422\n",
            "Time for epoch 675 is 0.741422176361084 sec. Loss is 32.80782699584961\n",
            "Time for epoch 676 is 0.7513697147369385 sec. Loss is 25.74114990234375\n",
            "Time for epoch 677 is 0.763585090637207 sec. Loss is 50.908531188964844\n",
            "Time for epoch 678 is 0.7511434555053711 sec. Loss is 49.75472640991211\n",
            "Time for epoch 679 is 0.7576642036437988 sec. Loss is 36.93977355957031\n",
            "Time for epoch 680 is 0.7798948287963867 sec. Loss is 37.59949493408203\n",
            "Time for epoch 681 is 0.7763271331787109 sec. Loss is 29.65496063232422\n",
            "Time for epoch 682 is 0.7624645233154297 sec. Loss is 40.36747741699219\n",
            "Time for epoch 683 is 0.7620012760162354 sec. Loss is 38.07581329345703\n",
            "Time for epoch 684 is 0.7637650966644287 sec. Loss is 32.63330841064453\n",
            "Time for epoch 685 is 0.7667670249938965 sec. Loss is 46.99944305419922\n",
            "Time for epoch 686 is 0.7750635147094727 sec. Loss is 45.648109436035156\n",
            "Time for epoch 687 is 0.7653124332427979 sec. Loss is 42.198265075683594\n",
            "Time for epoch 688 is 0.7696278095245361 sec. Loss is 52.81098937988281\n",
            "Time for epoch 689 is 0.7605264186859131 sec. Loss is 38.94719696044922\n",
            "Time for epoch 690 is 0.7667553424835205 sec. Loss is 25.026283264160156\n",
            "Time for epoch 691 is 0.7696003913879395 sec. Loss is 31.529216766357422\n",
            "Time for epoch 692 is 0.7782058715820312 sec. Loss is 37.5388069152832\n",
            "Time for epoch 693 is 0.7472667694091797 sec. Loss is 97.56307220458984\n",
            "Time for epoch 694 is 0.7603902816772461 sec. Loss is 56.82041931152344\n",
            "Time for epoch 695 is 0.7637825012207031 sec. Loss is 58.45868682861328\n",
            "Time for epoch 696 is 0.7538864612579346 sec. Loss is 41.284664154052734\n",
            "Time for epoch 697 is 0.7719199657440186 sec. Loss is 26.705463409423828\n",
            "Time for epoch 698 is 0.7617752552032471 sec. Loss is 37.06795120239258\n",
            "Time for epoch 699 is 0.7620019912719727 sec. Loss is 48.08626174926758\n",
            "Time for epoch 700 is 0.7551324367523193 sec. Loss is 38.85552215576172\n",
            "Time for epoch 701 is 0.7629477977752686 sec. Loss is 28.005353927612305\n",
            "Time for epoch 702 is 0.7655439376831055 sec. Loss is 47.16912841796875\n",
            "Time for epoch 703 is 0.7490019798278809 sec. Loss is 65.44182586669922\n",
            "Time for epoch 704 is 0.7548103332519531 sec. Loss is 40.9234619140625\n",
            "Time for epoch 705 is 0.7536945343017578 sec. Loss is 25.419326782226562\n",
            "Time for epoch 706 is 0.7498979568481445 sec. Loss is 28.220157623291016\n",
            "Time for epoch 707 is 0.767404317855835 sec. Loss is 35.00337219238281\n",
            "Time for epoch 708 is 0.7518131732940674 sec. Loss is 44.48289489746094\n",
            "Time for epoch 709 is 0.7680308818817139 sec. Loss is 25.242399215698242\n",
            "Time for epoch 710 is 0.7561213970184326 sec. Loss is 23.980642318725586\n",
            "Time for epoch 711 is 0.7548854351043701 sec. Loss is 30.070667266845703\n",
            "Time for epoch 712 is 0.7643918991088867 sec. Loss is 40.07129669189453\n",
            "Time for epoch 713 is 0.7645747661590576 sec. Loss is 50.41320037841797\n",
            "Time for epoch 714 is 0.7531516551971436 sec. Loss is 73.16621398925781\n",
            "Time for epoch 715 is 0.7563953399658203 sec. Loss is 37.13936233520508\n",
            "Time for epoch 716 is 0.7581262588500977 sec. Loss is 26.194866180419922\n",
            "Time for epoch 717 is 0.7556188106536865 sec. Loss is 44.149749755859375\n",
            "Time for epoch 718 is 0.7755169868469238 sec. Loss is 55.326446533203125\n",
            "Time for epoch 719 is 0.775496244430542 sec. Loss is 50.40586471557617\n",
            "Time for epoch 720 is 0.7488985061645508 sec. Loss is 55.539207458496094\n",
            "Time for epoch 721 is 0.7639598846435547 sec. Loss is 48.2822265625\n",
            "Time for epoch 722 is 0.756737232208252 sec. Loss is 39.7945556640625\n",
            "Time for epoch 723 is 0.7549459934234619 sec. Loss is 24.805814743041992\n",
            "Time for epoch 724 is 0.7588551044464111 sec. Loss is 34.647499084472656\n",
            "Time for epoch 725 is 0.7677876949310303 sec. Loss is 70.46357727050781\n",
            "Time for epoch 726 is 0.7635455131530762 sec. Loss is 25.125377655029297\n",
            "Time for epoch 727 is 0.766568660736084 sec. Loss is 23.07089614868164\n",
            "Time for epoch 728 is 0.7631797790527344 sec. Loss is 25.862268447875977\n",
            "Time for epoch 729 is 0.7589335441589355 sec. Loss is 27.506065368652344\n",
            "Time for epoch 730 is 0.7726826667785645 sec. Loss is 24.304664611816406\n",
            "Time for epoch 731 is 0.7785935401916504 sec. Loss is 27.524629592895508\n",
            "Time for epoch 732 is 0.7733957767486572 sec. Loss is 25.172222137451172\n",
            "Time for epoch 733 is 0.763676643371582 sec. Loss is 38.213409423828125\n",
            "Time for epoch 734 is 0.7586960792541504 sec. Loss is 42.012943267822266\n",
            "Time for epoch 735 is 0.7752082347869873 sec. Loss is 47.483516693115234\n",
            "Time for epoch 736 is 0.7754344940185547 sec. Loss is 120.35810089111328\n",
            "Time for epoch 737 is 0.7791945934295654 sec. Loss is 331.07659912109375\n",
            "Time for epoch 738 is 0.7761402130126953 sec. Loss is 183.85498046875\n",
            "Time for epoch 739 is 0.7651305198669434 sec. Loss is 84.93975067138672\n",
            "Time for epoch 740 is 0.7674736976623535 sec. Loss is 54.10725402832031\n",
            "Time for epoch 741 is 0.7745282649993896 sec. Loss is 95.09940338134766\n",
            "Time for epoch 742 is 0.7779030799865723 sec. Loss is 69.7420654296875\n",
            "Time for epoch 743 is 0.7699193954467773 sec. Loss is 112.29572296142578\n",
            "Time for epoch 744 is 0.7581460475921631 sec. Loss is 91.5035400390625\n",
            "Time for epoch 745 is 0.7578825950622559 sec. Loss is 79.20537567138672\n",
            "Time for epoch 746 is 0.7691621780395508 sec. Loss is 99.59999084472656\n",
            "Time for epoch 747 is 0.7648155689239502 sec. Loss is 73.6291275024414\n",
            "Time for epoch 748 is 0.7775070667266846 sec. Loss is 67.23371887207031\n",
            "Time for epoch 749 is 0.7817122936248779 sec. Loss is 100.12640380859375\n",
            "Time for epoch 750 is 0.7635421752929688 sec. Loss is 150.43028259277344\n",
            "Time for epoch 751 is 0.7729840278625488 sec. Loss is 88.60786437988281\n",
            "Time for epoch 752 is 0.7876536846160889 sec. Loss is 38.6448974609375\n",
            "Time for epoch 753 is 0.7732369899749756 sec. Loss is 50.99756622314453\n",
            "Time for epoch 754 is 0.7613706588745117 sec. Loss is 76.4197006225586\n",
            "Time for epoch 755 is 0.7686886787414551 sec. Loss is 37.07611846923828\n",
            "Time for epoch 756 is 0.7601280212402344 sec. Loss is 51.16011047363281\n",
            "Time for epoch 757 is 0.7671818733215332 sec. Loss is 84.25257873535156\n",
            "Time for epoch 758 is 0.7831418514251709 sec. Loss is 71.63853454589844\n",
            "Time for epoch 759 is 0.7906138896942139 sec. Loss is 58.81149673461914\n",
            "Time for epoch 760 is 0.7734346389770508 sec. Loss is 68.42745971679688\n",
            "Time for epoch 761 is 0.7829833030700684 sec. Loss is 68.74715423583984\n",
            "Time for epoch 762 is 0.7793402671813965 sec. Loss is 113.57180786132812\n",
            "Time for epoch 763 is 0.7751178741455078 sec. Loss is 94.79280853271484\n",
            "Time for epoch 764 is 0.7704274654388428 sec. Loss is 50.357120513916016\n",
            "Time for epoch 765 is 0.783940315246582 sec. Loss is 120.01008605957031\n",
            "Time for epoch 766 is 0.7750875949859619 sec. Loss is 43.300804138183594\n",
            "Time for epoch 767 is 0.7679929733276367 sec. Loss is 44.331329345703125\n",
            "Time for epoch 768 is 0.7830941677093506 sec. Loss is 58.034828186035156\n",
            "Time for epoch 769 is 0.7945206165313721 sec. Loss is 39.69310760498047\n",
            "Time for epoch 770 is 0.791517972946167 sec. Loss is 33.33636474609375\n",
            "Time for epoch 771 is 0.7966403961181641 sec. Loss is 45.652381896972656\n",
            "Time for epoch 772 is 0.804004430770874 sec. Loss is 45.38194274902344\n",
            "Time for epoch 773 is 0.7822771072387695 sec. Loss is 40.46842956542969\n",
            "Time for epoch 774 is 0.7844679355621338 sec. Loss is 65.1505355834961\n",
            "Time for epoch 775 is 0.7891895771026611 sec. Loss is 53.37501525878906\n",
            "Time for epoch 776 is 0.7608106136322021 sec. Loss is 38.605648040771484\n",
            "Time for epoch 777 is 0.7677268981933594 sec. Loss is 38.558937072753906\n",
            "Time for epoch 778 is 0.7824358940124512 sec. Loss is 24.948925018310547\n",
            "Time for epoch 779 is 0.7677390575408936 sec. Loss is 29.673736572265625\n",
            "Time for epoch 780 is 0.7669284343719482 sec. Loss is 43.72572326660156\n",
            "Time for epoch 781 is 0.7695555686950684 sec. Loss is 51.005287170410156\n",
            "Time for epoch 782 is 0.7570621967315674 sec. Loss is 64.61843872070312\n",
            "Time for epoch 783 is 0.7654733657836914 sec. Loss is 68.87057495117188\n",
            "Time for epoch 784 is 0.769486665725708 sec. Loss is 40.31924819946289\n",
            "Time for epoch 785 is 0.7575838565826416 sec. Loss is 55.4305305480957\n",
            "Time for epoch 786 is 0.7662386894226074 sec. Loss is 55.40810775756836\n",
            "Time for epoch 787 is 0.7720036506652832 sec. Loss is 40.958473205566406\n",
            "Time for epoch 788 is 0.7749404907226562 sec. Loss is 38.15772247314453\n",
            "Time for epoch 789 is 0.7602133750915527 sec. Loss is 47.13386535644531\n",
            "Time for epoch 790 is 0.7613906860351562 sec. Loss is 27.20874786376953\n",
            "Time for epoch 791 is 0.7731318473815918 sec. Loss is 20.892961502075195\n",
            "Time for epoch 792 is 0.7777891159057617 sec. Loss is 22.8266658782959\n",
            "Time for epoch 793 is 0.7819030284881592 sec. Loss is 20.920520782470703\n",
            "Time for epoch 794 is 0.7706787586212158 sec. Loss is 24.849384307861328\n",
            "Time for epoch 795 is 0.771223783493042 sec. Loss is 27.333209991455078\n",
            "Time for epoch 796 is 0.7624235153198242 sec. Loss is 34.79814147949219\n",
            "Time for epoch 797 is 0.7801239490509033 sec. Loss is 69.64923095703125\n",
            "Time for epoch 798 is 0.7795536518096924 sec. Loss is 63.963077545166016\n",
            "Time for epoch 799 is 0.7680473327636719 sec. Loss is 39.617061614990234\n",
            "Time for epoch 800 is 0.7768146991729736 sec. Loss is 28.670373916625977\n",
            "Time for epoch 801 is 0.7805142402648926 sec. Loss is 26.32044792175293\n",
            "Time for epoch 802 is 0.7819359302520752 sec. Loss is 57.95165252685547\n",
            "Time for epoch 803 is 0.7633790969848633 sec. Loss is 43.25823974609375\n",
            "Time for epoch 804 is 0.7768814563751221 sec. Loss is 26.387042999267578\n",
            "Time for epoch 805 is 0.7746591567993164 sec. Loss is 22.95332908630371\n",
            "Time for epoch 806 is 0.796705961227417 sec. Loss is 25.95093536376953\n",
            "Time for epoch 807 is 0.7864315509796143 sec. Loss is 29.26101303100586\n",
            "Time for epoch 808 is 0.7850522994995117 sec. Loss is 38.490516662597656\n",
            "Time for epoch 809 is 0.7837481498718262 sec. Loss is 34.23066329956055\n",
            "Time for epoch 810 is 0.7790307998657227 sec. Loss is 34.064208984375\n",
            "Time for epoch 811 is 0.7779026031494141 sec. Loss is 27.892745971679688\n",
            "Time for epoch 812 is 0.7763383388519287 sec. Loss is 31.17898941040039\n",
            "Time for epoch 813 is 0.7808046340942383 sec. Loss is 28.7549991607666\n",
            "Time for epoch 814 is 0.7639970779418945 sec. Loss is 26.3831729888916\n",
            "Time for epoch 815 is 0.7676141262054443 sec. Loss is 22.576107025146484\n",
            "Time for epoch 816 is 0.7712194919586182 sec. Loss is 21.031517028808594\n",
            "Time for epoch 817 is 0.7725858688354492 sec. Loss is 48.24423599243164\n",
            "Time for epoch 818 is 0.7735214233398438 sec. Loss is 43.19068145751953\n",
            "Time for epoch 819 is 0.7651638984680176 sec. Loss is 25.704769134521484\n",
            "Time for epoch 820 is 0.7923915386199951 sec. Loss is 49.74725341796875\n",
            "Time for epoch 821 is 0.7802703380584717 sec. Loss is 41.27771759033203\n",
            "Time for epoch 822 is 0.7743504047393799 sec. Loss is 43.61030578613281\n",
            "Time for epoch 823 is 0.7677321434020996 sec. Loss is 145.3072509765625\n",
            "Time for epoch 824 is 0.7606937885284424 sec. Loss is 77.59636688232422\n",
            "Time for epoch 825 is 0.782583475112915 sec. Loss is 48.06650924682617\n",
            "Time for epoch 826 is 0.7685704231262207 sec. Loss is 57.34392547607422\n",
            "Time for epoch 827 is 0.7700247764587402 sec. Loss is 50.900840759277344\n",
            "Time for epoch 828 is 0.7637922763824463 sec. Loss is 44.51350021362305\n",
            "Time for epoch 829 is 0.779139518737793 sec. Loss is 36.130279541015625\n",
            "Time for epoch 830 is 0.7548792362213135 sec. Loss is 24.543270111083984\n",
            "Time for epoch 831 is 0.7629842758178711 sec. Loss is 37.340972900390625\n",
            "Time for epoch 832 is 0.757422685623169 sec. Loss is 37.15919876098633\n",
            "Time for epoch 833 is 0.7691209316253662 sec. Loss is 78.73411560058594\n",
            "Time for epoch 834 is 0.7780961990356445 sec. Loss is 32.27375030517578\n",
            "Time for epoch 835 is 0.7878234386444092 sec. Loss is 24.389423370361328\n",
            "Time for epoch 836 is 0.791189432144165 sec. Loss is 35.627647399902344\n",
            "Time for epoch 837 is 0.7712352275848389 sec. Loss is 29.686798095703125\n",
            "Time for epoch 838 is 0.7800753116607666 sec. Loss is 28.729223251342773\n",
            "Time for epoch 839 is 0.7933430671691895 sec. Loss is 37.64295196533203\n",
            "Time for epoch 840 is 0.7751927375793457 sec. Loss is 38.84333801269531\n",
            "Time for epoch 841 is 0.765127420425415 sec. Loss is 31.99306869506836\n",
            "Time for epoch 842 is 0.795865535736084 sec. Loss is 26.38646697998047\n",
            "Time for epoch 843 is 0.7683200836181641 sec. Loss is 34.31486892700195\n",
            "Time for epoch 844 is 0.7667601108551025 sec. Loss is 47.0559196472168\n",
            "Time for epoch 845 is 0.769550085067749 sec. Loss is 30.40145492553711\n",
            "Time for epoch 846 is 0.7696361541748047 sec. Loss is 80.52937316894531\n",
            "Time for epoch 847 is 0.7797000408172607 sec. Loss is 53.60385513305664\n",
            "Time for epoch 848 is 0.766345739364624 sec. Loss is 50.222869873046875\n",
            "Time for epoch 849 is 0.8031711578369141 sec. Loss is 51.41070556640625\n",
            "Time for epoch 850 is 0.776010274887085 sec. Loss is 31.361692428588867\n",
            "Time for epoch 851 is 0.7866594791412354 sec. Loss is 22.24422836303711\n",
            "Time for epoch 852 is 0.7777214050292969 sec. Loss is 23.286666870117188\n",
            "Time for epoch 853 is 0.7776579856872559 sec. Loss is 35.189178466796875\n",
            "Time for epoch 854 is 0.7614891529083252 sec. Loss is 48.72232437133789\n",
            "Time for epoch 855 is 0.7793118953704834 sec. Loss is 66.55518341064453\n",
            "Time for epoch 856 is 0.7738683223724365 sec. Loss is 32.17218017578125\n",
            "Time for epoch 857 is 0.7748572826385498 sec. Loss is 67.60455322265625\n",
            "Time for epoch 858 is 0.7668814659118652 sec. Loss is 55.90514373779297\n",
            "Time for epoch 859 is 0.7707126140594482 sec. Loss is 30.056564331054688\n",
            "Time for epoch 860 is 0.7663192749023438 sec. Loss is 44.74427032470703\n",
            "Time for epoch 861 is 0.7692921161651611 sec. Loss is 59.75901794433594\n",
            "Time for epoch 862 is 0.7648196220397949 sec. Loss is 38.230831146240234\n",
            "Time for epoch 863 is 0.768380880355835 sec. Loss is 24.9339599609375\n",
            "Time for epoch 864 is 0.7758560180664062 sec. Loss is 54.314483642578125\n",
            "Time for epoch 865 is 0.7700784206390381 sec. Loss is 86.94625854492188\n",
            "Time for epoch 866 is 0.7946829795837402 sec. Loss is 40.20173645019531\n",
            "Time for epoch 867 is 0.7609024047851562 sec. Loss is 36.40968322753906\n",
            "Time for epoch 868 is 0.7730276584625244 sec. Loss is 59.821693420410156\n",
            "Time for epoch 869 is 0.7796187400817871 sec. Loss is 35.634925842285156\n",
            "Time for epoch 870 is 0.7679150104522705 sec. Loss is 27.478235244750977\n",
            "Time for epoch 871 is 0.7840182781219482 sec. Loss is 55.22865295410156\n",
            "Time for epoch 872 is 0.7730605602264404 sec. Loss is 49.866878509521484\n",
            "Time for epoch 873 is 0.7767722606658936 sec. Loss is 32.692413330078125\n",
            "Time for epoch 874 is 0.7794933319091797 sec. Loss is 35.66777038574219\n",
            "Time for epoch 875 is 0.7745215892791748 sec. Loss is 34.329654693603516\n",
            "Time for epoch 876 is 0.775975227355957 sec. Loss is 32.01060485839844\n",
            "Time for epoch 877 is 0.7863807678222656 sec. Loss is 42.337646484375\n",
            "Time for epoch 878 is 0.7682867050170898 sec. Loss is 43.401451110839844\n",
            "Time for epoch 879 is 0.7660646438598633 sec. Loss is 72.02645874023438\n",
            "Time for epoch 880 is 0.768831729888916 sec. Loss is 47.95097732543945\n",
            "Time for epoch 881 is 0.7837851047515869 sec. Loss is 51.905330657958984\n",
            "Time for epoch 882 is 0.8097188472747803 sec. Loss is 29.73614501953125\n",
            "Time for epoch 883 is 0.8050069808959961 sec. Loss is 22.214759826660156\n",
            "Time for epoch 884 is 0.8122959136962891 sec. Loss is 23.43503189086914\n",
            "Time for epoch 885 is 0.8202130794525146 sec. Loss is 39.655155181884766\n",
            "Time for epoch 886 is 0.8040633201599121 sec. Loss is 64.5113296508789\n",
            "Time for epoch 887 is 0.8007395267486572 sec. Loss is 41.74175262451172\n",
            "Time for epoch 888 is 0.8042199611663818 sec. Loss is 33.43387985229492\n",
            "Time for epoch 889 is 0.8061296939849854 sec. Loss is 53.539329528808594\n",
            "Time for epoch 890 is 0.8221948146820068 sec. Loss is 39.526817321777344\n",
            "Time for epoch 891 is 0.8164458274841309 sec. Loss is 42.52241134643555\n",
            "Time for epoch 892 is 0.8120839595794678 sec. Loss is 30.132251739501953\n",
            "Time for epoch 893 is 0.8315660953521729 sec. Loss is 31.58791732788086\n",
            "Time for epoch 894 is 0.8082666397094727 sec. Loss is 33.978050231933594\n",
            "Time for epoch 895 is 0.7786157131195068 sec. Loss is 49.25920104980469\n",
            "Time for epoch 896 is 0.7767543792724609 sec. Loss is 63.00904083251953\n",
            "Time for epoch 897 is 0.7833950519561768 sec. Loss is 73.7486801147461\n",
            "Time for epoch 898 is 0.7755725383758545 sec. Loss is 98.2917709350586\n",
            "Time for epoch 899 is 0.7884974479675293 sec. Loss is 58.72167205810547\n",
            "Time for epoch 900 is 0.7821853160858154 sec. Loss is 30.278993606567383\n",
            "Time for epoch 901 is 0.7848799228668213 sec. Loss is 61.23174285888672\n",
            "Time for epoch 902 is 0.7851166725158691 sec. Loss is 70.65550994873047\n",
            "Time for epoch 903 is 0.7749266624450684 sec. Loss is 47.37438201904297\n",
            "Time for epoch 904 is 0.7778291702270508 sec. Loss is 38.59867858886719\n",
            "Time for epoch 905 is 0.775275707244873 sec. Loss is 46.975921630859375\n",
            "Time for epoch 906 is 0.7862696647644043 sec. Loss is 59.978919982910156\n",
            "Time for epoch 907 is 0.7917065620422363 sec. Loss is 61.566287994384766\n",
            "Time for epoch 908 is 0.7720203399658203 sec. Loss is 45.70628356933594\n",
            "Time for epoch 909 is 0.7798168659210205 sec. Loss is 81.63639831542969\n",
            "Time for epoch 910 is 0.777275800704956 sec. Loss is 79.2274398803711\n",
            "Time for epoch 911 is 0.7876248359680176 sec. Loss is 64.66917419433594\n",
            "Time for epoch 912 is 0.7720050811767578 sec. Loss is 183.05508422851562\n",
            "Time for epoch 913 is 0.7890450954437256 sec. Loss is 286.408447265625\n",
            "Time for epoch 914 is 0.7844877243041992 sec. Loss is 215.25611877441406\n",
            "Time for epoch 915 is 0.7923622131347656 sec. Loss is 134.09408569335938\n",
            "Time for epoch 916 is 0.7800812721252441 sec. Loss is 51.164031982421875\n",
            "Time for epoch 917 is 0.777747631072998 sec. Loss is 81.46831512451172\n",
            "Time for epoch 918 is 0.7767336368560791 sec. Loss is 72.550537109375\n",
            "Time for epoch 919 is 0.7802333831787109 sec. Loss is 51.974273681640625\n",
            "Time for epoch 920 is 0.7659885883331299 sec. Loss is 60.534873962402344\n",
            "Time for epoch 921 is 0.7825920581817627 sec. Loss is 67.4747543334961\n",
            "Time for epoch 922 is 0.7842860221862793 sec. Loss is 55.73385238647461\n",
            "Time for epoch 923 is 0.7854218482971191 sec. Loss is 64.00845336914062\n",
            "Time for epoch 924 is 0.7859704494476318 sec. Loss is 124.61075592041016\n",
            "Time for epoch 925 is 0.7839527130126953 sec. Loss is 78.1917495727539\n",
            "Time for epoch 926 is 0.7832801342010498 sec. Loss is 36.86486053466797\n",
            "Time for epoch 927 is 0.7851526737213135 sec. Loss is 52.98627471923828\n",
            "Time for epoch 928 is 0.7776010036468506 sec. Loss is 36.06646728515625\n",
            "Time for epoch 929 is 0.7868237495422363 sec. Loss is 32.2104606628418\n",
            "Time for epoch 930 is 0.7816586494445801 sec. Loss is 58.25758361816406\n",
            "Time for epoch 931 is 0.7820186614990234 sec. Loss is 56.09510040283203\n",
            "Time for epoch 932 is 0.7743980884552002 sec. Loss is 59.577606201171875\n",
            "Time for epoch 933 is 0.7820425033569336 sec. Loss is 50.738670349121094\n",
            "Time for epoch 934 is 0.7735335826873779 sec. Loss is 63.29766082763672\n",
            "Time for epoch 935 is 0.7923588752746582 sec. Loss is 62.99081039428711\n",
            "Time for epoch 936 is 0.7925033569335938 sec. Loss is 66.40495300292969\n",
            "Time for epoch 937 is 0.7826292514801025 sec. Loss is 61.270267486572266\n",
            "Time for epoch 938 is 0.7841405868530273 sec. Loss is 113.249755859375\n",
            "Time for epoch 939 is 0.7877707481384277 sec. Loss is 76.29075622558594\n",
            "Time for epoch 940 is 0.7810072898864746 sec. Loss is 36.09783935546875\n",
            "Time for epoch 941 is 0.7903504371643066 sec. Loss is 59.1067008972168\n",
            "Time for epoch 942 is 0.7918617725372314 sec. Loss is 61.70466232299805\n",
            "Time for epoch 943 is 0.7883601188659668 sec. Loss is 66.95306396484375\n",
            "Time for epoch 944 is 0.784998893737793 sec. Loss is 71.72718811035156\n",
            "Time for epoch 945 is 0.7797341346740723 sec. Loss is 29.650699615478516\n",
            "Time for epoch 946 is 0.7802672386169434 sec. Loss is 30.972410202026367\n",
            "Time for epoch 947 is 0.7714152336120605 sec. Loss is 35.6339225769043\n",
            "Time for epoch 948 is 0.8002209663391113 sec. Loss is 48.21722412109375\n",
            "Time for epoch 949 is 0.7833576202392578 sec. Loss is 41.36537170410156\n",
            "Time for epoch 950 is 0.7911474704742432 sec. Loss is 33.66973876953125\n",
            "Time for epoch 951 is 0.7792196273803711 sec. Loss is 53.825435638427734\n",
            "Time for epoch 952 is 0.7845814228057861 sec. Loss is 59.28641128540039\n",
            "Time for epoch 953 is 0.7903828620910645 sec. Loss is 58.03959274291992\n",
            "Time for epoch 954 is 0.7847423553466797 sec. Loss is 74.18412780761719\n",
            "Time for epoch 955 is 0.7802691459655762 sec. Loss is 75.35139465332031\n",
            "Time for epoch 956 is 0.7765803337097168 sec. Loss is 34.53704071044922\n",
            "Time for epoch 957 is 0.7783336639404297 sec. Loss is 49.542762756347656\n",
            "Time for epoch 958 is 0.7826354503631592 sec. Loss is 48.916259765625\n",
            "Time for epoch 959 is 0.7701175212860107 sec. Loss is 25.989070892333984\n",
            "Time for epoch 960 is 0.777083158493042 sec. Loss is 40.93251419067383\n",
            "Time for epoch 961 is 0.7753968238830566 sec. Loss is 53.20130920410156\n",
            "Time for epoch 962 is 0.7887628078460693 sec. Loss is 40.758872985839844\n",
            "Time for epoch 963 is 0.7846517562866211 sec. Loss is 24.677322387695312\n",
            "Time for epoch 964 is 0.7827999591827393 sec. Loss is 36.82252883911133\n",
            "Time for epoch 965 is 0.7759418487548828 sec. Loss is 46.04027557373047\n",
            "Time for epoch 966 is 0.7815403938293457 sec. Loss is 40.64019775390625\n",
            "Time for epoch 967 is 0.7841689586639404 sec. Loss is 26.129396438598633\n",
            "Time for epoch 968 is 0.7783575057983398 sec. Loss is 29.291332244873047\n",
            "Time for epoch 969 is 0.7703237533569336 sec. Loss is 33.34648895263672\n",
            "Time for epoch 970 is 0.7930493354797363 sec. Loss is 32.18761444091797\n",
            "Time for epoch 971 is 0.77451491355896 sec. Loss is 54.2103271484375\n",
            "Time for epoch 972 is 0.7767946720123291 sec. Loss is 65.92790985107422\n",
            "Time for epoch 973 is 0.7773733139038086 sec. Loss is 36.711753845214844\n",
            "Time for epoch 974 is 0.7784218788146973 sec. Loss is 25.478595733642578\n",
            "Time for epoch 975 is 0.7814621925354004 sec. Loss is 34.8540153503418\n",
            "Time for epoch 976 is 0.789060115814209 sec. Loss is 39.98591613769531\n",
            "Time for epoch 977 is 0.7878046035766602 sec. Loss is 29.000648498535156\n",
            "Time for epoch 978 is 0.771357536315918 sec. Loss is 27.980867385864258\n",
            "Time for epoch 979 is 0.7728874683380127 sec. Loss is 31.95321273803711\n",
            "Time for epoch 980 is 0.7850489616394043 sec. Loss is 34.93963623046875\n",
            "Time for epoch 981 is 0.7739238739013672 sec. Loss is 38.042301177978516\n",
            "Time for epoch 982 is 0.7843015193939209 sec. Loss is 55.817138671875\n",
            "Time for epoch 983 is 0.780693531036377 sec. Loss is 45.372589111328125\n",
            "Time for epoch 984 is 0.7595422267913818 sec. Loss is 37.14326858520508\n",
            "Time for epoch 985 is 0.7802615165710449 sec. Loss is 21.373394012451172\n",
            "Time for epoch 986 is 0.7906548976898193 sec. Loss is 22.967844009399414\n",
            "Time for epoch 987 is 0.7798545360565186 sec. Loss is 20.89434242248535\n",
            "Time for epoch 988 is 0.7669928073883057 sec. Loss is 22.337282180786133\n",
            "Time for epoch 989 is 0.7694435119628906 sec. Loss is 20.381805419921875\n",
            "Time for epoch 990 is 0.7831220626831055 sec. Loss is 21.968353271484375\n",
            "Time for epoch 991 is 0.7756376266479492 sec. Loss is 28.95000457763672\n",
            "Time for epoch 992 is 0.7807517051696777 sec. Loss is 36.67330551147461\n",
            "Time for epoch 993 is 0.77740478515625 sec. Loss is 26.6260986328125\n",
            "Time for epoch 994 is 0.7793605327606201 sec. Loss is 34.106300354003906\n",
            "Time for epoch 995 is 0.7721095085144043 sec. Loss is 30.476593017578125\n",
            "Time for epoch 996 is 0.776932954788208 sec. Loss is 26.16415786743164\n",
            "Time for epoch 997 is 0.7727351188659668 sec. Loss is 29.628694534301758\n",
            "Time for epoch 998 is 0.7599751949310303 sec. Loss is 64.57432556152344\n",
            "Time for epoch 999 is 0.7626709938049316 sec. Loss is 86.59541320800781\n",
            "Time for epoch 1000 is 0.7763237953186035 sec. Loss is 45.67264938354492\n"
          ],
          "name": "stdout"
        }
      ]
    },
    {
      "cell_type": "code",
      "metadata": {
        "id": "gFt8CKk7H9U4"
      },
      "source": [
        "exp_gen = generator(tf.random.normal([1000,128]))"
      ],
      "execution_count": 20,
      "outputs": []
    },
    {
      "cell_type": "markdown",
      "metadata": {
        "id": "8fSZcalQ95M1"
      },
      "source": [
        "## Evaluation"
      ]
    },
    {
      "cell_type": "markdown",
      "metadata": {
        "id": "2gCusGENTFV8"
      },
      "source": [
        "### Nearest Neighbor"
      ]
    },
    {
      "cell_type": "code",
      "metadata": {
        "id": "CcPOAm4dKoF9"
      },
      "source": [
        "from scipy.spatial import distance"
      ],
      "execution_count": 26,
      "outputs": []
    },
    {
      "cell_type": "code",
      "metadata": {
        "id": "aYg_l9-1JWQG"
      },
      "source": [
        "def distance_classify(metric, centers, gens):\n",
        "    if metric == 'l1':\n",
        "        dist = lambda x, y: np.sum(np.abs(x-y))\n",
        "    elif metric == 'l2':\n",
        "        dist = lambda x, y: np.sum(np.square(x-y))\n",
        "    elif metric == 'cosine' or metric == 'cos':\n",
        "        dist = lambda x, y: distance.cosine(x, y)\n",
        "    else:\n",
        "        return\n",
        "\n",
        "    res = [0, 0, 0]\n",
        "    res1 = []\n",
        "    res2 = []\n",
        "    res3 = []\n",
        "    for gen in gens:\n",
        "        res1.append(dist(gen, centers[0]))\n",
        "        res2.append(dist(gen, centers[1]))\n",
        "        res3.append(dist(gen, centers[2]))\n",
        "\n",
        "        i = np.argmin([res1[-1], res2[-1], res3[-1]])\n",
        "        res[i] += 1\n",
        "\n",
        "    return res\n"
      ],
      "execution_count": 27,
      "outputs": []
    },
    {
      "cell_type": "markdown",
      "metadata": {
        "id": "h3d-0ISkWvSP"
      },
      "source": [
        "#### mean center"
      ]
    },
    {
      "cell_type": "code",
      "metadata": {
        "id": "k_ABejoI94h2"
      },
      "source": [
        "mean_glut = np.mean(np.load(path+'exp_train_pca.npy')[:4086], axis=0)\n",
        "mean_non = np.mean(np.load(path+'exp_train_pca.npy')[4086:], axis=0)\n",
        "mean_gaba = np.mean(np.load(path+'exp_test_pca.npy'), axis=0)\n",
        "\n",
        "mean_centers = [mean_glut, mean_non, mean_gaba]"
      ],
      "execution_count": 28,
      "outputs": []
    },
    {
      "cell_type": "code",
      "metadata": {
        "id": "pgfnJ1wjjyeH",
        "outputId": "64dd36b0-3969-4e65-e7fa-e3721973964e",
        "colab": {
          "base_uri": "https://localhost:8080/"
        }
      },
      "source": [
        "# L1 distance\n",
        "res = distance_classify('l1', mean_centers, exp_gen)\n",
        "print(res)"
      ],
      "execution_count": 29,
      "outputs": [
        {
          "output_type": "stream",
          "text": [
            "[478, 144, 378]\n"
          ],
          "name": "stdout"
        }
      ]
    },
    {
      "cell_type": "code",
      "metadata": {
        "id": "LACUYIKwfad1",
        "outputId": "36b5ceb3-faad-47e0-deb7-5c5f916d33ba",
        "colab": {
          "base_uri": "https://localhost:8080/"
        }
      },
      "source": [
        "# L2 distance\n",
        "res = distance_classify('l2', mean_centers, exp_gen)\n",
        "print(res)"
      ],
      "execution_count": 30,
      "outputs": [
        {
          "output_type": "stream",
          "text": [
            "[482, 518, 0]\n"
          ],
          "name": "stdout"
        }
      ]
    },
    {
      "cell_type": "code",
      "metadata": {
        "id": "-h6jO8gSIlT_",
        "outputId": "b17b6615-a74e-4fe4-b4b3-3c54f9bdfb4c",
        "colab": {
          "base_uri": "https://localhost:8080/"
        }
      },
      "source": [
        "# cosine distance\n",
        "res = distance_classify('cosine', mean_centers, exp_gen)\n",
        "print(res)"
      ],
      "execution_count": 31,
      "outputs": [
        {
          "output_type": "stream",
          "text": [
            "[496, 504, 0]\n"
          ],
          "name": "stdout"
        }
      ]
    },
    {
      "cell_type": "markdown",
      "metadata": {
        "id": "hzUB_c8DWy42"
      },
      "source": [
        "#### median center"
      ]
    },
    {
      "cell_type": "code",
      "metadata": {
        "id": "DH-zh77AW3SL"
      },
      "source": [
        "median_glut = np.median(np.load(path+'exp_train_pca.npy')[:4086], axis=0)\n",
        "median_non = np.median(np.load(path+'exp_train_pca.npy')[4086:], axis=0)\n",
        "median_gaba = np.median(np.load(path+'exp_test_pca.npy'), axis=0)\n",
        "\n",
        "median_centers = [median_glut, median_non, median_gaba]"
      ],
      "execution_count": 32,
      "outputs": []
    },
    {
      "cell_type": "code",
      "metadata": {
        "id": "4gCQ74IcW3SX",
        "outputId": "9f8ea411-c46a-4dda-9215-d5e9c579b68b",
        "colab": {
          "base_uri": "https://localhost:8080/"
        }
      },
      "source": [
        "# L1 distance\n",
        "res = distance_classify('l1', median_centers, exp_gen)\n",
        "print(res)"
      ],
      "execution_count": 33,
      "outputs": [
        {
          "output_type": "stream",
          "text": [
            "[479, 314, 207]\n"
          ],
          "name": "stdout"
        }
      ]
    },
    {
      "cell_type": "code",
      "metadata": {
        "id": "plagJGHCW3SZ",
        "outputId": "f3a98507-1474-4ef1-83f4-ebab13c1be26",
        "colab": {
          "base_uri": "https://localhost:8080/"
        }
      },
      "source": [
        "# L2 distance\n",
        "res = distance_classify('l2', median_centers, exp_gen)\n",
        "print(res)"
      ],
      "execution_count": 34,
      "outputs": [
        {
          "output_type": "stream",
          "text": [
            "[487, 513, 0]\n"
          ],
          "name": "stdout"
        }
      ]
    },
    {
      "cell_type": "code",
      "metadata": {
        "id": "MkeDMxgRW3Sb",
        "outputId": "d9821155-723d-43f1-e228-13dd0b92a1b8",
        "colab": {
          "base_uri": "https://localhost:8080/"
        }
      },
      "source": [
        "# cosine distance\n",
        "res = distance_classify('cosine', median_centers, exp_gen)\n",
        "print(res)"
      ],
      "execution_count": 35,
      "outputs": [
        {
          "output_type": "stream",
          "text": [
            "[495, 505, 0]\n"
          ],
          "name": "stdout"
        }
      ]
    },
    {
      "cell_type": "markdown",
      "metadata": {
        "id": "Bz18CX-qS0mv"
      },
      "source": [
        "### PCA + Visualization"
      ]
    },
    {
      "cell_type": "markdown",
      "metadata": {
        "id": "jte4LGQ_pcU0"
      },
      "source": [
        "#### 2D"
      ]
    },
    {
      "cell_type": "code",
      "metadata": {
        "id": "9r7C0fF_Xl2c"
      },
      "source": [
        "exp_pca = np.concatenate([np.load(path+'exp_train_pca.npy'),\n",
        "                          np.load(path+'exp_test_pca.npy')], axis=0)"
      ],
      "execution_count": 21,
      "outputs": []
    },
    {
      "cell_type": "code",
      "metadata": {
        "id": "3iwq-qq5W0fh"
      },
      "source": [
        "pipe2 = Pipeline([('scaler1', StandardScaler()), ('pca', PCA(n_components=2))])"
      ],
      "execution_count": 22,
      "outputs": []
    },
    {
      "cell_type": "code",
      "metadata": {
        "id": "p9DDF3ecW-tE"
      },
      "source": [
        "exp_pca = pipe2.fit_transform(exp_pca)"
      ],
      "execution_count": 23,
      "outputs": []
    },
    {
      "cell_type": "code",
      "metadata": {
        "id": "0OMyCvATXiKC",
        "outputId": "43b16129-296d-4985-cdc3-608a4d5a92f7",
        "colab": {
          "base_uri": "https://localhost:8080/",
          "height": 269
        }
      },
      "source": [
        "# red: glutamatergic\n",
        "x, y = list(zip(*exp_pca[3000:3200]))\n",
        "plt.scatter(x, y, c='r', alpha=0.2)\n",
        "# green: non-neuronal\n",
        "x, y = list(zip(*exp_pca[4700:4900]))\n",
        "plt.scatter(x, y, c='g', alpha=0.2)\n",
        "# blue: gabaergic\n",
        "# some blue points are far away because 1st pca didn't see gaba data\n",
        "x, y = list(zip(*exp_pca[7000:7200]))\n",
        "plt.scatter(x, y, c='b', alpha=0.2)\n",
        "\n",
        "plt.xlim(-2, 2);\n",
        "plt.ylim(-3, 2);\n",
        "patch1 = mpatches.Patch(color='r', label='glutamatergic');\n",
        "patch2 = mpatches.Patch(color='g', label='non-neuronal');\n",
        "patch3 = mpatches.Patch(color='b', label='gabaergic');\n",
        "plt.legend(handles=[patch1, patch2, patch3], \n",
        "           loc='upper right', bbox_to_anchor=(1.4, 1));\n",
        "plt.show()"
      ],
      "execution_count": 27,
      "outputs": [
        {
          "output_type": "display_data",
          "data": {
            "image/png": "[encoded data removed]",
            "text/plain": [
              "<Figure size 432x288 with 1 Axes>"
            ]
          },
          "metadata": {
            "tags": [],
            "needs_background": "light"
          }
        }
      ]
    },
    {
      "cell_type": "code",
      "metadata": {
        "id": "L_n7x6SXZpRC",
        "outputId": "c2aa77cb-c3f5-4094-cd11-af1e388b53e6",
        "colab": {
          "base_uri": "https://localhost:8080/",
          "height": 269
        }
      },
      "source": [
        "# red: glutamatergic\n",
        "x, y = list(zip(*exp_pca[3000:3200]))\n",
        "plt.scatter(x, y, c='r', alpha=0.2);\n",
        "# green: non-neuronal\n",
        "x, y = list(zip(*exp_pca[4700:4900]))\n",
        "plt.scatter(x, y, c='g', alpha=0.2);\n",
        "# blue: gabaergic\n",
        "x, y = list(zip(*exp_pca[7000:7200]))\n",
        "plt.scatter(x, y, c='b', alpha=0.2);\n",
        "# yellow: gan\n",
        "x, y = list(zip(*pipe2.transform(exp_gen)))\n",
        "plt.scatter(x, y, c='y', alpha=0.1);\n",
        "\n",
        "plt.xlim(-2, 2);\n",
        "plt.ylim(-3, 2);\n",
        "patch1 = mpatches.Patch(color='r', label='glutamatergic');\n",
        "patch2 = mpatches.Patch(color='g', label='non-neuronal');\n",
        "patch3 = mpatches.Patch(color='b', label='gabaergic');\n",
        "patch4 = mpatches.Patch(color='y', label='gan');\n",
        "plt.legend(handles=[patch1, patch2, patch3, patch4], \n",
        "           loc='upper right', bbox_to_anchor=(1.4, 1));\n",
        "plt.show()"
      ],
      "execution_count": 26,
      "outputs": [
        {
          "output_type": "display_data",
          "data": {
            "image/png": "[encoded data removed]",
            "text/plain": [
              "<Figure size 432x288 with 1 Axes>"
            ]
          },
          "metadata": {
            "tags": [],
            "needs_background": "light"
          }
        }
      ]
    },
    {
      "cell_type": "markdown",
      "metadata": {
        "id": "66d8kBQBpk-w"
      },
      "source": [
        "#### 3D"
      ]
    },
    {
      "cell_type": "code",
      "metadata": {
        "id": "lJSowL0tpQuo"
      },
      "source": [
        "exp_pca = np.concatenate([np.load(path+'exp_train_pca.npy'),\n",
        "                          np.load(path+'exp_test_pca.npy')], axis=0)"
      ],
      "execution_count": null,
      "outputs": []
    },
    {
      "cell_type": "code",
      "metadata": {
        "id": "yWZ_Kw-KpQuq"
      },
      "source": [
        "pipe3 = Pipeline([('scaler1', StandardScaler()), ('pca', PCA(n_components=3))])"
      ],
      "execution_count": null,
      "outputs": []
    },
    {
      "cell_type": "code",
      "metadata": {
        "id": "QI8BKGd_pad-"
      },
      "source": [
        "exp_pca = pipe3.fit_transform(exp_pca)"
      ],
      "execution_count": null,
      "outputs": []
    },
    {
      "cell_type": "code",
      "metadata": {
        "id": "TNqGBLBofy3U",
        "outputId": "4b3f4921-788f-4ea4-e445-7ef7f851244b",
        "colab": {
          "base_uri": "https://localhost:8080/",
          "height": 248
        }
      },
      "source": [
        "fig = plt.figure()\n",
        "ax = plt.axes(projection='3d')\n",
        "# red: glutamatergic\n",
        "x, y, z = list(zip(*exp_pca[3000:3200]))\n",
        "ax.scatter3D(x, y, z, c='r', alpha=0.2);\n",
        "# green: non-neuronal\n",
        "x, y, z = list(zip(*exp_pca[4700:4900]))\n",
        "ax.scatter3D(x, y, z, c='g', alpha=0.2);\n",
        "# blue: gabaergic\n",
        "x, y, z = list(zip(*exp_pca[7000:7200]))\n",
        "ax.scatter3D(x, y, z, c='b', alpha=0.2);\n",
        "# yellow: gan\n",
        "x, y, z = list(zip(*pipe2.transform(exp_gen)))\n",
        "ax.scatter3D(x, y, z, c='y', alpha=0.1);\n",
        "\n",
        "ax.set_xlim(-5, 5);\n",
        "ax.set_ylim(-40, 25);\n",
        "ax.set_zlim(0,10);\n",
        "ax.view_init(30, -10);\n",
        "\n",
        "patch1 = mpatches.Patch(color='r', label='glutamatergic');\n",
        "patch2 = mpatches.Patch(color='g', label='non-neuronal');\n",
        "patch3 = mpatches.Patch(color='b', label='gabaergic');\n",
        "patch4 = mpatches.Patch(color='y', label='gan');\n",
        "plt.legend(handles=[patch1, patch2, patch3, patch4], \n",
        "           loc='upper right', bbox_to_anchor=(1.2, 1));\n",
        "plt.show();"
      ],
      "execution_count": null,
      "outputs": [
        {
          "output_type": "display_data",
          "data": {
            "image/png": "[encoded data removed]",
            "text/plain": [
              "<Figure size 432x288 with 1 Axes>"
            ]
          },
          "metadata": {
            "tags": [],
            "needs_background": "light"
          }
        }
      ]
    },
    {
      "cell_type": "code",
      "metadata": {
        "id": "VDVOuMs8qDxx"
      },
      "source": [
        ""
      ],
      "execution_count": null,
      "outputs": []
    }
  ]
}
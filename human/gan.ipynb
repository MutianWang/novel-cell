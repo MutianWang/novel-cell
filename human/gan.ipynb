{
  "nbformat": 4,
  "nbformat_minor": 0,
  "metadata": {
    "colab": {
      "name": "gan.ipynb",
      "provenance": [],
      "collapsed_sections": [
        "HHwSL_PIYHK0"
      ],
      "include_colab_link": true
    },
    "kernelspec": {
      "name": "python3",
      "display_name": "Python 3"
    },
    "accelerator": "GPU"
  },
  "cells": [
    {
      "cell_type": "markdown",
      "metadata": {
        "id": "view-in-github",
        "colab_type": "text"
      },
      "source": [
        "<a href=\"https://colab.research.google.com/github/MutianWang/novel-cell/blob/main/gan.ipynb\" target=\"_parent\"><img src=\"https://colab.research.google.com/assets/colab-badge.svg\" alt=\"Open In Colab\"/></a>"
      ]
    },
    {
      "cell_type": "code",
      "metadata": {
        "id": "o5IPyySLKxff"
      },
      "source": [
        "import time\n",
        "import tensorflow as tf\n",
        "from tensorflow import keras\n",
        "from tensorflow.keras import layers\n",
        "from keras.utils.vis_utils import plot_model\n",
        "import pandas as pd\n",
        "import numpy as np\n",
        "import matplotlib.pyplot as plt"
      ],
      "execution_count": null,
      "outputs": []
    },
    {
      "cell_type": "code",
      "metadata": {
        "id": "EAf_GqpbxTMO",
        "outputId": "9076ccd5-7b0b-4d83-8684-33ae255592e0",
        "colab": {
          "base_uri": "https://localhost:8080/",
          "height": 34
        }
      },
      "source": [
        "from google.colab import drive\n",
        "drive.mount('/content/drive')"
      ],
      "execution_count": null,
      "outputs": [
        {
          "output_type": "stream",
          "text": [
            "Drive already mounted at /content/drive; to attempt to forcibly remount, call drive.mount(\"/content/drive\", force_remount=True).\n"
          ],
          "name": "stdout"
        }
      ]
    },
    {
      "cell_type": "code",
      "metadata": {
        "id": "x-IQa1DUO3wv"
      },
      "source": [
        "path = '/content/drive/My Drive/Colab Notebooks/Brain Cell/data/'"
      ],
      "execution_count": null,
      "outputs": []
    },
    {
      "cell_type": "markdown",
      "metadata": {
        "id": "IbdI7rTr1LHf"
      },
      "source": [
        "## Preprocessing"
      ]
    },
    {
      "cell_type": "code",
      "metadata": {
        "id": "jvqF5fu3QPLd"
      },
      "source": [
        "meta = pd.read_csv(path+'meta.csv', header=0)\n",
        "cols_glut = meta[meta['class']=='Glutamatergic']['sample_name']\n",
        "cols_non = meta[meta['class']=='Non-neuronal']['sample_name']\n",
        "cols_gaba = meta[meta['class']=='GABAergic']['sample_name']"
      ],
      "execution_count": null,
      "outputs": []
    },
    {
      "cell_type": "code",
      "metadata": {
        "id": "6eP4_BjYw9wZ"
      },
      "source": [
        "def normalize(df):\n",
        "    # counts per million\n",
        "    df = df.div(df.sum(axis=1), axis=0) * 10**6\n",
        "    df = df.fillna(0)\n",
        "    return df"
      ],
      "execution_count": null,
      "outputs": []
    },
    {
      "cell_type": "code",
      "metadata": {
        "id": "d8F0IkcFN-cz"
      },
      "source": [
        "tmp = pd.DataFrame([[1,2,3],\n",
        "                    [1,2,3],\n",
        "                    [1,2,3]])"
      ],
      "execution_count": null,
      "outputs": []
    },
    {
      "cell_type": "code",
      "metadata": {
        "id": "HH6JGXCDOGQ7",
        "outputId": "f99eb947-e072-42e0-d729-f061ac9e7e5e",
        "colab": {
          "base_uri": "https://localhost:8080/",
          "height": 142
        }
      },
      "source": [
        "normalize(tmp)"
      ],
      "execution_count": null,
      "outputs": [
        {
          "output_type": "execute_result",
          "data": {
            "text/html": [
              "<div>\n",
              "<style scoped>\n",
              "    .dataframe tbody tr th:only-of-type {\n",
              "        vertical-align: middle;\n",
              "    }\n",
              "\n",
              "    .dataframe tbody tr th {\n",
              "        vertical-align: top;\n",
              "    }\n",
              "\n",
              "    .dataframe thead th {\n",
              "        text-align: right;\n",
              "    }\n",
              "</style>\n",
              "<table border=\"1\" class=\"dataframe\">\n",
              "  <thead>\n",
              "    <tr style=\"text-align: right;\">\n",
              "      <th></th>\n",
              "      <th>0</th>\n",
              "      <th>1</th>\n",
              "      <th>2</th>\n",
              "    </tr>\n",
              "  </thead>\n",
              "  <tbody>\n",
              "    <tr>\n",
              "      <th>0</th>\n",
              "      <td>166666.666667</td>\n",
              "      <td>333333.333333</td>\n",
              "      <td>500000.0</td>\n",
              "    </tr>\n",
              "    <tr>\n",
              "      <th>1</th>\n",
              "      <td>166666.666667</td>\n",
              "      <td>333333.333333</td>\n",
              "      <td>500000.0</td>\n",
              "    </tr>\n",
              "    <tr>\n",
              "      <th>2</th>\n",
              "      <td>166666.666667</td>\n",
              "      <td>333333.333333</td>\n",
              "      <td>500000.0</td>\n",
              "    </tr>\n",
              "  </tbody>\n",
              "</table>\n",
              "</div>"
            ],
            "text/plain": [
              "               0              1         2\n",
              "0  166666.666667  333333.333333  500000.0\n",
              "1  166666.666667  333333.333333  500000.0\n",
              "2  166666.666667  333333.333333  500000.0"
            ]
          },
          "metadata": {
            "tags": []
          },
          "execution_count": 241
        }
      ]
    },
    {
      "cell_type": "code",
      "metadata": {
        "id": "f5auoM8d0Pob"
      },
      "source": [
        "def read_expression(file1, file2, usecols):\n",
        "    # point-wise addition of exon and intron tables\n",
        "    reader1 = pd.read_csv(file1, header=0, usecols=usecols, chunksize=1000)\n",
        "    reader2 = pd.read_csv(file2, header=0, usecols=usecols, chunksize=1000)\n",
        "\n",
        "    df = normalize(reader1.get_chunk() + reader2.get_chunk())\n",
        "    for i in range(1, 51):\n",
        "        df = pd.concat([df, normalize(reader1.get_chunk() + reader2.get_chunk())])\n",
        "        if i%10==0:\n",
        "            print('{}/50'.format(i))\n",
        "\n",
        "    return df.transpose()"
      ],
      "execution_count": null,
      "outputs": []
    },
    {
      "cell_type": "code",
      "metadata": {
        "id": "7GORuOJYCXjY",
        "outputId": "ee24234a-d502-4e5d-9224-82c4e886e3d1",
        "colab": {
          "base_uri": "https://localhost:8080/",
          "height": 272
        }
      },
      "source": [
        "exp_glut = read_expression(path+'exon.csv', path+'intron.csv', cols_glut) # 10525 * 50281\n",
        "exp_non = read_expression(path+'exon.csv', path+'intron.csv', cols_non) # 914 * 50281\n",
        "exp_gaba = read_expression(path+'exon.csv', path+'intron.csv', cols_gaba) # 4164 * 50281"
      ],
      "execution_count": null,
      "outputs": [
        {
          "output_type": "stream",
          "text": [
            "10/50\n",
            "20/50\n",
            "30/50\n",
            "40/50\n",
            "50/50\n",
            "10/50\n",
            "20/50\n",
            "30/50\n",
            "40/50\n",
            "50/50\n",
            "10/50\n",
            "20/50\n",
            "30/50\n",
            "40/50\n",
            "50/50\n"
          ],
          "name": "stdout"
        }
      ]
    },
    {
      "cell_type": "code",
      "metadata": {
        "id": "iYNolVf-JUvm"
      },
      "source": [
        "np.save(path+'exp_glut', exp_glut)\n",
        "np.save(path+'exp_non', exp_non)\n",
        "np.save(path+'exp_gaba', exp_gaba)\n",
        "\n",
        "# clear RAM\n",
        "del exp_glut, exp_non, exp_gaba"
      ],
      "execution_count": null,
      "outputs": []
    },
    {
      "cell_type": "code",
      "metadata": {
        "id": "m-F04FN3Sh0v"
      },
      "source": [
        "exp_glut = np.load(path+'exp_glut.npy')[:5000-914]\n",
        "exp_non = np.load(path+'exp_non.npy')\n",
        "\n",
        "# first 4086 are Glutamatergic, last 914 are Non-neuronal\n",
        "exp_train = np.concatenate([exp_glut, exp_non], axis=0)\n",
        "\n",
        "# clear RAM\n",
        "del exp_glut, exp_non"
      ],
      "execution_count": null,
      "outputs": []
    },
    {
      "cell_type": "code",
      "metadata": {
        "id": "z7FLNEy-UAd0"
      },
      "source": [
        "np.save(path+'exp_train', exp_train)"
      ],
      "execution_count": null,
      "outputs": []
    },
    {
      "cell_type": "markdown",
      "metadata": {
        "id": "O4ZHqOU3AAiL"
      },
      "source": [
        "## Dimension Reduction"
      ]
    },
    {
      "cell_type": "code",
      "metadata": {
        "id": "cC6DTCZ5ACMy"
      },
      "source": [
        "from sklearn.pipeline import Pipeline\n",
        "from sklearn.decomposition import PCA\n",
        "from sklearn.preprocessing import MinMaxScaler, StandardScaler"
      ],
      "execution_count": null,
      "outputs": []
    },
    {
      "cell_type": "code",
      "metadata": {
        "id": "-8NeA1FwKh-v"
      },
      "source": [
        "pipe = Pipeline([('scaler1', StandardScaler()), ('pca', PCA(n_components=5000)), ('scaler2', MinMaxScaler())])"
      ],
      "execution_count": null,
      "outputs": []
    },
    {
      "cell_type": "code",
      "metadata": {
        "id": "gDtxSFLtAVM-"
      },
      "source": [
        "#exp_train = np.load(path+'exp_train.npy')\n",
        "exp_train = pipe.fit_transform(exp_train)\n",
        "np.save(path+'exp_train_pca', exp_train)\n",
        "del exp_train"
      ],
      "execution_count": null,
      "outputs": []
    },
    {
      "cell_type": "code",
      "metadata": {
        "id": "z-3XFhfC0Bm-"
      },
      "source": [
        "exp_test = np.load(path+'exp_gaba.npy')\n",
        "exp_test = pipe.transform(exp_test)\n",
        "np.save(path+'exp_test_pca', exp_test)\n",
        "del exp_test"
      ],
      "execution_count": null,
      "outputs": []
    },
    {
      "cell_type": "markdown",
      "metadata": {
        "id": "HHwSL_PIYHK0"
      },
      "source": [
        "## Classification"
      ]
    },
    {
      "cell_type": "code",
      "metadata": {
        "id": "NbuLwhv3YbDo"
      },
      "source": [
        "x = np.concatenate([np.load(path+'exp_train_pca.npy'), np.load(path+'exp_test_pca.npy')], axis=0)\n",
        "y = np.concatenate([np.zeros(4086), np.ones(914), 2*np.ones(4164)]).astype('int8')"
      ],
      "execution_count": null,
      "outputs": []
    },
    {
      "cell_type": "code",
      "metadata": {
        "id": "dG4XgHreZfRy"
      },
      "source": [
        "dimension = x.shape[1]"
      ],
      "execution_count": null,
      "outputs": []
    },
    {
      "cell_type": "code",
      "metadata": {
        "id": "aFSv7382YLPy"
      },
      "source": [
        "def make_classfication_model():\n",
        "    model = tf.keras.Sequential()\n",
        "    model.add(layers.Dense(1024, input_shape=(dimension,), activation='relu'))\n",
        "    model.add(layers.Dense(256, activation='relu'))\n",
        "    #model.add(layers.Dense(128, activation='relu'))\n",
        "    model.add(layers.Dense(3, activation='softmax'))\n",
        "\n",
        "    return model"
      ],
      "execution_count": null,
      "outputs": []
    },
    {
      "cell_type": "code",
      "metadata": {
        "id": "zEG3WpusZbxF"
      },
      "source": [
        "model = make_classfication_model()"
      ],
      "execution_count": null,
      "outputs": []
    },
    {
      "cell_type": "code",
      "metadata": {
        "id": "ZZN3jcbJYGjw"
      },
      "source": [
        "model.compile(optimizer='adam',\n",
        "              loss='sparse_categorical_crossentropy',\n",
        "              metrics=['accuracy'])"
      ],
      "execution_count": null,
      "outputs": []
    },
    {
      "cell_type": "code",
      "metadata": {
        "id": "VEMrN7a9ZlEI",
        "outputId": "bf6899a5-34ea-4df1-911d-7c73c2bbad89",
        "colab": {
          "base_uri": "https://localhost:8080/",
          "height": 374
        }
      },
      "source": [
        "model.fit(x, y, epochs=10)"
      ],
      "execution_count": null,
      "outputs": [
        {
          "output_type": "stream",
          "text": [
            "Epoch 1/10\n",
            "287/287 [==============================] - 1s 3ms/step - loss: nan - accuracy: 0.4463\n",
            "Epoch 2/10\n",
            "287/287 [==============================] - 1s 3ms/step - loss: nan - accuracy: 0.4459\n",
            "Epoch 3/10\n",
            "287/287 [==============================] - 1s 3ms/step - loss: nan - accuracy: 0.4459\n",
            "Epoch 4/10\n",
            "287/287 [==============================] - 1s 3ms/step - loss: nan - accuracy: 0.4459\n",
            "Epoch 5/10\n",
            "287/287 [==============================] - 1s 3ms/step - loss: nan - accuracy: 0.4459\n",
            "Epoch 6/10\n",
            "287/287 [==============================] - 1s 3ms/step - loss: nan - accuracy: 0.4459\n",
            "Epoch 7/10\n",
            "287/287 [==============================] - 1s 3ms/step - loss: nan - accuracy: 0.4459\n",
            "Epoch 8/10\n",
            "287/287 [==============================] - 1s 3ms/step - loss: nan - accuracy: 0.4459\n",
            "Epoch 9/10\n",
            "287/287 [==============================] - 1s 3ms/step - loss: nan - accuracy: 0.4459\n",
            "Epoch 10/10\n",
            "287/287 [==============================] - 1s 3ms/step - loss: nan - accuracy: 0.4459\n"
          ],
          "name": "stdout"
        },
        {
          "output_type": "execute_result",
          "data": {
            "text/plain": [
              "<tensorflow.python.keras.callbacks.History at 0x7f12b6e52780>"
            ]
          },
          "metadata": {
            "tags": []
          },
          "execution_count": 22
        }
      ]
    },
    {
      "cell_type": "code",
      "metadata": {
        "id": "j05qoacDZxe5",
        "outputId": "ec714bce-6d7c-4546-c7bf-f00d95c09e60",
        "colab": {
          "base_uri": "https://localhost:8080/",
          "height": 34
        }
      },
      "source": [
        "model.predict(x[0:1])"
      ],
      "execution_count": null,
      "outputs": [
        {
          "output_type": "execute_result",
          "data": {
            "text/plain": [
              "array([[nan, nan, nan]], dtype=float32)"
            ]
          },
          "metadata": {
            "tags": []
          },
          "execution_count": 10
        }
      ]
    },
    {
      "cell_type": "code",
      "metadata": {
        "id": "Z53ZoY2KeFEb",
        "outputId": "9b376e65-f794-4cac-ef23-ae92f0bf6dfc",
        "colab": {
          "base_uri": "https://localhost:8080/",
          "height": 1000
        }
      },
      "source": [
        "model.weights"
      ],
      "execution_count": null,
      "outputs": [
        {
          "output_type": "execute_result",
          "data": {
            "text/plain": [
              "[<tf.Variable 'dense/kernel:0' shape=(5000, 1024) dtype=float32, numpy=\n",
              " array([[ 0.00292103, -0.00271823,  0.03652097, ..., -0.00848656,\n",
              "          0.01721019,  0.0325576 ],\n",
              "        [ 0.01478301, -0.0146351 ,  0.01334175, ...,  0.02601389,\n",
              "          0.01639932, -0.01862054],\n",
              "        [ 0.02751722,  0.02044688, -0.01908464, ...,  0.0147965 ,\n",
              "         -0.00430434, -0.0043278 ],\n",
              "        ...,\n",
              "        [-0.00011265,  0.01241507,  0.00128024, ..., -0.02809043,\n",
              "         -0.02561568,  0.03600849],\n",
              "        [ 0.00494689, -0.01594155, -0.00071997, ...,  0.00676259,\n",
              "          0.0356102 , -0.01729849],\n",
              "        [        nan,         nan,         nan, ...,         nan,\n",
              "                 nan,         nan]], dtype=float32)>,\n",
              " <tf.Variable 'dense/bias:0' shape=(1024,) dtype=float32, numpy=\n",
              " array([-0.0039803 , -0.00433646,  0.00988532, ..., -0.00057972,\n",
              "         0.00437393,  0.00635676], dtype=float32)>,\n",
              " <tf.Variable 'dense_1/kernel:0' shape=(1024, 512) dtype=float32, numpy=\n",
              " array([[        nan,         nan,         nan, ...,         nan,\n",
              "                 nan,         nan],\n",
              "        [ 0.05993423,         nan,         nan, ...,         nan,\n",
              "                 nan,         nan],\n",
              "        [ 0.02301818,         nan,         nan, ..., -0.04362549,\n",
              "                 nan,         nan],\n",
              "        ...,\n",
              "        [ 0.03675328,         nan,         nan, ...,         nan,\n",
              "                 nan,         nan],\n",
              "        [ 0.02727127,         nan,         nan, ...,         nan,\n",
              "                 nan,         nan],\n",
              "        [        nan,         nan,         nan, ...,         nan,\n",
              "                 nan,         nan]], dtype=float32)>,\n",
              " <tf.Variable 'dense_1/bias:0' shape=(512,) dtype=float32, numpy=\n",
              " array([ 7.78776826e-03,             nan,             nan,  9.05563706e-04,\n",
              "        -7.83862080e-03,             nan,  3.87528143e-03,  4.04920476e-03,\n",
              "        -5.04423538e-03,  7.92805571e-03,  7.89865665e-03,  2.82623153e-03,\n",
              "                    nan, -6.66359579e-03,             nan,  4.65950975e-03,\n",
              "                    nan,  1.71647628e-03,  7.82440603e-03,  1.08395470e-03,\n",
              "         6.36949157e-03,  5.47320955e-03,  2.13774806e-03, -6.31113769e-04,\n",
              "         3.37095303e-03, -5.87597443e-03,  2.81011336e-03,             nan,\n",
              "         7.91248493e-03,  7.90943578e-03,             nan,             nan,\n",
              "         2.58147866e-05,             nan,             nan, -5.55275520e-03,\n",
              "        -8.67142226e-04,  8.47642877e-05,  9.78241395e-03,             nan,\n",
              "                    nan, -3.89522687e-03,  6.85656676e-03, -7.50804413e-03,\n",
              "        -9.64631978e-03, -2.82802829e-03,             nan,  0.00000000e+00,\n",
              "        -1.77204865e-03,             nan,             nan, -4.97506466e-03,\n",
              "        -7.67425122e-03,  5.84067916e-03, -5.74167119e-04,             nan,\n",
              "        -1.03089418e-02,  6.07034378e-03,  8.83942656e-03,  6.46662433e-03,\n",
              "                    nan, -7.92298280e-03,             nan,  7.74944853e-03,\n",
              "                    nan,             nan,             nan, -8.92466400e-03,\n",
              "         5.43637108e-03, -7.47960759e-03,  2.36608717e-03,             nan,\n",
              "        -8.82051047e-03,             nan,  5.43841021e-03,  7.70108169e-03,\n",
              "        -7.86266942e-03,             nan, -3.98505572e-03, -4.99740150e-03,\n",
              "         4.25906805e-03,  2.54359143e-03,  7.60689145e-03,  7.79492184e-05,\n",
              "         4.46065981e-03, -2.83016008e-03,             nan, -6.56797597e-03,\n",
              "                    nan, -9.75656230e-03,  6.42139511e-03, -9.92504507e-03,\n",
              "        -7.52660027e-03, -4.15079761e-03,  4.26176144e-03,             nan,\n",
              "        -5.78811718e-03,             nan,  7.64301326e-03,  7.93576147e-03,\n",
              "         8.32826656e-04, -6.43694587e-03,             nan,             nan,\n",
              "        -7.72020081e-03, -9.39172879e-03,  7.41843181e-03,  1.28124980e-03,\n",
              "        -1.39331375e-03,             nan, -1.47993604e-04, -7.97963177e-04,\n",
              "         4.34548652e-04, -7.84305483e-03, -6.90696252e-05,  1.59621181e-03,\n",
              "                    nan,  2.95963907e-03,  4.06244770e-03,  2.34720083e-05,\n",
              "         3.81074636e-03, -7.81310257e-03, -5.99922379e-03, -1.41883292e-03,\n",
              "        -7.76139693e-03, -6.75275282e-04, -6.00421242e-03, -5.20458771e-03,\n",
              "        -6.48517907e-03, -3.67772044e-03, -9.11102723e-03, -5.55667328e-03,\n",
              "                    nan, -5.51313581e-03, -5.61186345e-03, -7.77609739e-03,\n",
              "        -1.46192743e-03,  7.89222959e-03, -7.90876709e-03,             nan,\n",
              "                    nan, -3.85268265e-03, -5.72600216e-03,  7.12909224e-03,\n",
              "         3.84714315e-03,             nan, -7.64643261e-03,  3.17147933e-03,\n",
              "                    nan, -1.74728117e-03,             nan, -4.19406453e-03,\n",
              "                    nan,  7.93183316e-03, -7.89701473e-03,             nan,\n",
              "        -3.63460602e-03, -2.07447610e-03, -2.41103349e-03,  7.90713634e-03,\n",
              "                    nan,  7.93755613e-03, -3.03608133e-03,             nan,\n",
              "         3.91418394e-03, -2.93341791e-03, -8.88788514e-03,  4.28690389e-03,\n",
              "         3.69810709e-03, -5.63668180e-03,  5.85738744e-04, -3.89153650e-03,\n",
              "         1.06326374e-03, -7.44332979e-03, -6.65914454e-03,  1.88913243e-03,\n",
              "                    nan,  1.09709916e-03, -7.91518483e-03, -4.80253529e-03,\n",
              "        -8.30374658e-03,  9.14896280e-03,  7.90237915e-03,  5.93224913e-03,\n",
              "        -6.74590701e-03, -1.00684362e-02,             nan,  3.60001955e-04,\n",
              "        -1.03796246e-02,             nan,  7.56532233e-03,             nan,\n",
              "                    nan,  1.43129262e-03,  2.45665107e-03, -4.84460732e-03,\n",
              "        -1.43080240e-03, -6.00378262e-03,  1.15144672e-03, -1.42707163e-03,\n",
              "         2.22329167e-03, -5.45852818e-03,  7.92880543e-03,  3.55308480e-03,\n",
              "        -3.05215619e-03, -7.93726929e-03,  6.78481581e-03,             nan,\n",
              "        -3.38095846e-03, -5.55436080e-03,  6.85163122e-03, -2.62472406e-03,\n",
              "         7.68632628e-04,             nan, -6.05129637e-03, -7.04896636e-03,\n",
              "        -1.85732858e-03,             nan,             nan, -7.47067248e-03,\n",
              "         7.81706721e-03,  7.53156096e-03, -5.18812798e-03, -7.58941984e-03,\n",
              "        -6.76466059e-03, -5.57279622e-04, -8.43442511e-03, -6.23147003e-03,\n",
              "                    nan,  4.03629476e-03,             nan,             nan,\n",
              "         0.00000000e+00, -1.95011206e-04, -6.79207034e-03,  7.92349223e-03,\n",
              "        -1.43106765e-04,             nan,             nan,             nan,\n",
              "        -8.60839244e-03, -5.40006720e-03,             nan,  1.90065394e-03,\n",
              "         7.50708859e-03,  7.37966457e-03,             nan,             nan,\n",
              "                    nan, -5.07851783e-03,  6.81931735e-04, -3.12599912e-03,\n",
              "         4.01567947e-03,  1.84376421e-03, -2.53697886e-04,  4.36962862e-03,\n",
              "        -9.03467368e-03,             nan,  4.93978662e-03, -1.53103087e-03,\n",
              "        -9.21085570e-03, -2.70157144e-03, -3.18139885e-03,             nan,\n",
              "        -7.00328092e-04, -5.55589749e-03, -7.86030944e-03,  2.57238909e-03,\n",
              "        -5.55800507e-03,  0.00000000e+00,             nan,  5.80711197e-03,\n",
              "        -3.65547393e-03, -1.96647202e-03,  7.92624149e-03, -8.93550925e-03,\n",
              "        -6.85909577e-03, -1.03427982e-02,  4.45886143e-03, -2.61786208e-03,\n",
              "        -7.91730545e-03,  6.13427069e-03,             nan,  2.77502765e-03,\n",
              "                    nan,  4.25873324e-03,             nan,  4.48175194e-03,\n",
              "        -6.00432046e-03,  3.04041780e-03,  7.50689581e-03, -4.06056788e-04,\n",
              "         7.88885262e-03, -8.67425278e-03,             nan, -1.84248690e-03,\n",
              "        -7.71532301e-04,  5.72815165e-03,             nan, -3.91614810e-03,\n",
              "        -3.19227902e-03,             nan, -7.59044895e-03,             nan,\n",
              "         4.48940648e-03,             nan,  7.74221215e-03,             nan,\n",
              "         7.85208028e-03,             nan, -1.37652305e-03, -5.78456279e-03,\n",
              "         1.21014682e-03, -2.26932601e-03,             nan, -7.66951591e-03,\n",
              "                    nan,             nan,             nan, -5.42275468e-03,\n",
              "         2.68596876e-03,  1.15766702e-03,             nan,  3.73566407e-03,\n",
              "                    nan,  0.00000000e+00,             nan, -9.39839054e-03,\n",
              "         7.92969670e-03,  3.71785398e-04,  6.59465417e-03,  4.13679285e-03,\n",
              "         3.96471145e-03,             nan,             nan,             nan,\n",
              "        -7.88830314e-03,             nan,  1.60814438e-03,             nan,\n",
              "         1.75206421e-03, -5.61115239e-03,             nan, -2.67382478e-03,\n",
              "         0.00000000e+00, -8.19033943e-03,  4.90644528e-03, -6.34879246e-03,\n",
              "        -7.80367805e-03, -2.12175073e-03,  7.85621814e-03,             nan,\n",
              "         4.04840754e-03, -2.44098855e-03,             nan,             nan,\n",
              "                    nan,  1.96809694e-03,             nan,  7.87908398e-03,\n",
              "                    nan,             nan, -7.83363916e-03,             nan,\n",
              "         9.68019711e-04, -3.91373783e-03,  6.09574420e-03,  2.01516275e-04,\n",
              "         7.75469653e-03, -1.36847398e-03, -7.55935395e-03, -4.76899976e-03,\n",
              "        -1.67104264e-03, -7.63854338e-03, -3.85448523e-03, -8.96704569e-03,\n",
              "         4.93585691e-03, -5.59507729e-03,             nan,  6.33845897e-03,\n",
              "        -9.74238571e-03, -3.22399125e-03,             nan,             nan,\n",
              "                    nan,  6.74805255e-04,  7.78703438e-03,  2.49445392e-03,\n",
              "                    nan, -2.21927243e-04, -7.93402735e-03, -4.07572836e-03,\n",
              "         6.85211830e-03,  2.27506435e-03,  4.66255983e-03,  7.61016412e-03,\n",
              "                    nan,             nan, -2.02924974e-04,             nan,\n",
              "        -7.86143169e-03,  7.20562600e-03, -4.62129567e-04, -5.11234021e-03,\n",
              "                    nan, -1.53309142e-04, -7.47051230e-03, -9.66567267e-03,\n",
              "         5.86296141e-04,             nan, -1.02199875e-02,             nan,\n",
              "         2.93291314e-03,             nan,  7.88864587e-03,             nan,\n",
              "        -2.92799727e-04,  7.71531835e-03, -7.52784032e-03, -9.88514349e-03,\n",
              "        -3.51451151e-03,  7.85152894e-03, -9.10176244e-03, -4.91934363e-03,\n",
              "        -4.19032620e-03,  7.40688015e-03,  1.55494912e-04,             nan,\n",
              "         0.00000000e+00, -7.83570111e-03,             nan,  0.00000000e+00,\n",
              "                    nan,  3.21350875e-03, -4.49944846e-03,             nan,\n",
              "         5.28777193e-04,             nan, -2.20073364e-03, -3.80816311e-03,\n",
              "                    nan,             nan,  2.45167548e-03,             nan,\n",
              "                    nan,  7.90251885e-03,  3.74095188e-03, -6.43277960e-03,\n",
              "         8.85452610e-03,             nan,             nan,             nan,\n",
              "        -9.83020756e-03, -1.65326602e-03,  7.80640636e-03,  3.62257357e-03,\n",
              "         2.36341590e-03, -6.00202195e-03, -7.91725330e-03,             nan,\n",
              "        -4.41137643e-04,  2.65226443e-03,  4.83587338e-03,             nan,\n",
              "                    nan,  2.53526936e-03, -7.79049797e-03, -7.54392007e-03,\n",
              "        -2.01140787e-03, -2.12046085e-04,             nan, -1.90143450e-03,\n",
              "         4.03134432e-03,  7.67944613e-03,  7.76234595e-03,  3.05754039e-03,\n",
              "         2.47930782e-03,  3.72450822e-03,  6.64876681e-03,             nan,\n",
              "                    nan,  4.76040971e-03,  5.78042818e-04,             nan,\n",
              "         7.70650990e-03,  4.53677354e-03,  1.88615406e-03,             nan,\n",
              "         4.60217753e-03, -1.01854941e-02, -1.84687087e-03, -3.26752826e-03,\n",
              "                    nan,  2.32700910e-03,  6.46444876e-03,             nan,\n",
              "         1.51698652e-03,             nan, -9.78188030e-03, -5.95255196e-03,\n",
              "        -5.55819739e-03, -1.19047589e-03, -9.85609950e-04,  1.53389235e-03,\n",
              "                    nan, -8.23122822e-03,             nan, -2.85358028e-03,\n",
              "         8.96184519e-03, -7.72291701e-03,             nan, -2.68274965e-03],\n",
              "       dtype=float32)>,\n",
              " <tf.Variable 'dense_2/kernel:0' shape=(512, 128) dtype=float32, numpy=\n",
              " array([[ 0.04796581,         nan,  0.03934513, ...,         nan,\n",
              "                 nan,         nan],\n",
              "        [ 0.04432103,         nan,  0.02906333, ...,  0.07403991,\n",
              "          0.03091333,  0.01799397],\n",
              "        [-0.06696722,         nan,  0.05196694, ..., -0.09086294,\n",
              "          0.01338772,  0.03225055],\n",
              "        ...,\n",
              "        [ 0.00666995,         nan,         nan, ...,         nan,\n",
              "                 nan,         nan],\n",
              "        [ 0.04490817,         nan, -0.0064794 , ..., -0.10062466,\n",
              "         -0.08741061,  0.01435251],\n",
              "        [ 0.0507925 ,         nan,         nan, ...,         nan,\n",
              "                 nan,         nan]], dtype=float32)>,\n",
              " <tf.Variable 'dense_2/bias:0' shape=(128,) dtype=float32, numpy=\n",
              " array([ 0.0000000e+00,            nan, -7.2665207e-05, -6.0043931e-03,\n",
              "        -7.6053017e-03,  2.2744858e-03,            nan,            nan,\n",
              "                   nan,            nan, -7.9087531e-03, -3.8588438e-03,\n",
              "                   nan, -2.4366141e-03,  3.8731056e-03,  1.3037234e-03,\n",
              "                   nan,            nan,            nan,  9.6661370e-04,\n",
              "         1.5534849e-04,  4.1221068e-03, -8.9780247e-04, -5.9691779e-03,\n",
              "                   nan, -4.3236958e-03,  7.8790095e-03,            nan,\n",
              "        -3.5715187e-03,  3.9000388e-03,  1.2847494e-03,            nan,\n",
              "        -2.9676703e-03, -5.1708403e-03,  9.7618124e-04, -7.9375831e-03,\n",
              "         0.0000000e+00,            nan,  7.9280743e-03, -9.4696332e-04,\n",
              "         7.9250261e-03,  9.7139814e-04, -1.3497834e-03,  1.6786739e-03,\n",
              "         2.8897021e-03, -7.9253651e-03,            nan, -1.0552993e-03,\n",
              "        -7.8795478e-03,  3.8698108e-03,  8.8762096e-04,  2.1558239e-03,\n",
              "        -1.8172216e-03, -1.0175590e-03,  9.4308512e-04,            nan,\n",
              "        -7.8794984e-03, -7.9280455e-03,            nan,            nan,\n",
              "        -3.9548692e-03, -2.0477332e-03, -4.0928130e-03, -1.7105704e-03,\n",
              "                   nan,  2.1821533e-03,            nan,  1.3068978e-03,\n",
              "         4.0475214e-03,  6.3738013e-03,            nan, -7.8777745e-03,\n",
              "        -1.2125688e-03, -3.8329184e-03, -7.8791659e-03,  3.7761074e-03,\n",
              "         4.9838461e-03,            nan,  3.9465600e-03,  3.2039795e-03,\n",
              "         7.9291705e-03, -5.5581275e-03,  5.5154972e-04,  9.7319001e-04,\n",
              "         6.5980959e-03,  0.0000000e+00,            nan, -7.9285912e-03,\n",
              "         6.6001723e-03,            nan,  2.1278537e-03,  3.1590888e-03,\n",
              "                   nan,            nan, -8.4017502e-04, -1.6488304e-03,\n",
              "         1.5058934e-03, -4.6755690e-03, -4.6632024e-03,            nan,\n",
              "                   nan, -1.1337135e-03,            nan,  2.7265451e-03,\n",
              "         3.4280589e-03, -4.1172830e-03,            nan, -2.6312254e-03,\n",
              "         6.7367884e-03,  7.9292664e-03, -5.5655236e-03,  3.8488517e-03,\n",
              "                   nan, -4.4611801e-04,  2.3829686e-03,            nan,\n",
              "                   nan,            nan,  7.8789340e-03, -2.6574896e-03,\n",
              "        -7.8795832e-03, -2.5670303e-03,            nan,            nan,\n",
              "                   nan, -7.8136669e-03, -4.1349945e-03, -1.3993923e-03],\n",
              "       dtype=float32)>,\n",
              " <tf.Variable 'dense_3/kernel:0' shape=(128, 3) dtype=float32, numpy=\n",
              " array([[nan, nan, nan],\n",
              "        [nan, nan, nan],\n",
              "        [nan, nan, nan],\n",
              "        [nan, nan, nan],\n",
              "        [nan, nan, nan],\n",
              "        [nan, nan, nan],\n",
              "        [nan, nan, nan],\n",
              "        [nan, nan, nan],\n",
              "        [nan, nan, nan],\n",
              "        [nan, nan, nan],\n",
              "        [nan, nan, nan],\n",
              "        [nan, nan, nan],\n",
              "        [nan, nan, nan],\n",
              "        [nan, nan, nan],\n",
              "        [nan, nan, nan],\n",
              "        [nan, nan, nan],\n",
              "        [nan, nan, nan],\n",
              "        [nan, nan, nan],\n",
              "        [nan, nan, nan],\n",
              "        [nan, nan, nan],\n",
              "        [nan, nan, nan],\n",
              "        [nan, nan, nan],\n",
              "        [nan, nan, nan],\n",
              "        [nan, nan, nan],\n",
              "        [nan, nan, nan],\n",
              "        [nan, nan, nan],\n",
              "        [nan, nan, nan],\n",
              "        [nan, nan, nan],\n",
              "        [nan, nan, nan],\n",
              "        [nan, nan, nan],\n",
              "        [nan, nan, nan],\n",
              "        [nan, nan, nan],\n",
              "        [nan, nan, nan],\n",
              "        [nan, nan, nan],\n",
              "        [nan, nan, nan],\n",
              "        [nan, nan, nan],\n",
              "        [nan, nan, nan],\n",
              "        [nan, nan, nan],\n",
              "        [nan, nan, nan],\n",
              "        [nan, nan, nan],\n",
              "        [nan, nan, nan],\n",
              "        [nan, nan, nan],\n",
              "        [nan, nan, nan],\n",
              "        [nan, nan, nan],\n",
              "        [nan, nan, nan],\n",
              "        [nan, nan, nan],\n",
              "        [nan, nan, nan],\n",
              "        [nan, nan, nan],\n",
              "        [nan, nan, nan],\n",
              "        [nan, nan, nan],\n",
              "        [nan, nan, nan],\n",
              "        [nan, nan, nan],\n",
              "        [nan, nan, nan],\n",
              "        [nan, nan, nan],\n",
              "        [nan, nan, nan],\n",
              "        [nan, nan, nan],\n",
              "        [nan, nan, nan],\n",
              "        [nan, nan, nan],\n",
              "        [nan, nan, nan],\n",
              "        [nan, nan, nan],\n",
              "        [nan, nan, nan],\n",
              "        [nan, nan, nan],\n",
              "        [nan, nan, nan],\n",
              "        [nan, nan, nan],\n",
              "        [nan, nan, nan],\n",
              "        [nan, nan, nan],\n",
              "        [nan, nan, nan],\n",
              "        [nan, nan, nan],\n",
              "        [nan, nan, nan],\n",
              "        [nan, nan, nan],\n",
              "        [nan, nan, nan],\n",
              "        [nan, nan, nan],\n",
              "        [nan, nan, nan],\n",
              "        [nan, nan, nan],\n",
              "        [nan, nan, nan],\n",
              "        [nan, nan, nan],\n",
              "        [nan, nan, nan],\n",
              "        [nan, nan, nan],\n",
              "        [nan, nan, nan],\n",
              "        [nan, nan, nan],\n",
              "        [nan, nan, nan],\n",
              "        [nan, nan, nan],\n",
              "        [nan, nan, nan],\n",
              "        [nan, nan, nan],\n",
              "        [nan, nan, nan],\n",
              "        [nan, nan, nan],\n",
              "        [nan, nan, nan],\n",
              "        [nan, nan, nan],\n",
              "        [nan, nan, nan],\n",
              "        [nan, nan, nan],\n",
              "        [nan, nan, nan],\n",
              "        [nan, nan, nan],\n",
              "        [nan, nan, nan],\n",
              "        [nan, nan, nan],\n",
              "        [nan, nan, nan],\n",
              "        [nan, nan, nan],\n",
              "        [nan, nan, nan],\n",
              "        [nan, nan, nan],\n",
              "        [nan, nan, nan],\n",
              "        [nan, nan, nan],\n",
              "        [nan, nan, nan],\n",
              "        [nan, nan, nan],\n",
              "        [nan, nan, nan],\n",
              "        [nan, nan, nan],\n",
              "        [nan, nan, nan],\n",
              "        [nan, nan, nan],\n",
              "        [nan, nan, nan],\n",
              "        [nan, nan, nan],\n",
              "        [nan, nan, nan],\n",
              "        [nan, nan, nan],\n",
              "        [nan, nan, nan],\n",
              "        [nan, nan, nan],\n",
              "        [nan, nan, nan],\n",
              "        [nan, nan, nan],\n",
              "        [nan, nan, nan],\n",
              "        [nan, nan, nan],\n",
              "        [nan, nan, nan],\n",
              "        [nan, nan, nan],\n",
              "        [nan, nan, nan],\n",
              "        [nan, nan, nan],\n",
              "        [nan, nan, nan],\n",
              "        [nan, nan, nan],\n",
              "        [nan, nan, nan],\n",
              "        [nan, nan, nan],\n",
              "        [nan, nan, nan],\n",
              "        [nan, nan, nan],\n",
              "        [nan, nan, nan],\n",
              "        [nan, nan, nan]], dtype=float32)>,\n",
              " <tf.Variable 'dense_3/bias:0' shape=(3,) dtype=float32, numpy=array([nan, nan, nan], dtype=float32)>]"
            ]
          },
          "metadata": {
            "tags": []
          },
          "execution_count": 12
        }
      ]
    },
    {
      "cell_type": "markdown",
      "metadata": {
        "id": "HsH4XxJ36fGp"
      },
      "source": [
        "## GAN"
      ]
    },
    {
      "cell_type": "code",
      "metadata": {
        "id": "q7WRBp4jyxPS"
      },
      "source": [
        "exp_train = np.load(path+'exp_train_pca.npy')"
      ],
      "execution_count": null,
      "outputs": []
    },
    {
      "cell_type": "code",
      "metadata": {
        "id": "UKjKbveG8xT3"
      },
      "source": [
        "dimension = exp_train.shape[1]"
      ],
      "execution_count": null,
      "outputs": []
    },
    {
      "cell_type": "code",
      "metadata": {
        "id": "X0jLivwZJyzt"
      },
      "source": [
        "cross_entropy = tf.keras.losses.BinaryCrossentropy(from_logits=True)"
      ],
      "execution_count": null,
      "outputs": []
    },
    {
      "cell_type": "code",
      "metadata": {
        "id": "8hYhAVII5tVz"
      },
      "source": [
        "def make_generator_model():\n",
        "    model = tf.keras.Sequential()\n",
        "    model.add(layers.Dense(256, use_bias=True, input_shape=(128,)))\n",
        "    model.add(layers.BatchNormalization())\n",
        "    model.add(layers.LeakyReLU())\n",
        "\n",
        "    model.add(layers.Dense(512, use_bias=True))\n",
        "    model.add(layers.BatchNormalization())\n",
        "    model.add(layers.LeakyReLU())\n",
        "\n",
        "    model.add(layers.Dense(512, use_bias=True))\n",
        "    model.add(layers.BatchNormalization())\n",
        "    model.add(layers.LeakyReLU())\n",
        "\n",
        "    model.add(layers.Dense(1024, use_bias=True))\n",
        "    model.add(layers.BatchNormalization())\n",
        "    model.add(layers.LeakyReLU())\n",
        "\n",
        "    model.add(layers.Dense(2048, use_bias=True))\n",
        "    model.add(layers.BatchNormalization())\n",
        "    model.add(layers.LeakyReLU())\n",
        "\n",
        "    # sigmoid function will make the range [0,1]\n",
        "    model.add(layers.Dense(dimension, use_bias=True, activation='sigmoid'))\n",
        "\n",
        "    return model"
      ],
      "execution_count": null,
      "outputs": []
    },
    {
      "cell_type": "code",
      "metadata": {
        "id": "YmuNxZCu8o0p"
      },
      "source": [
        "def make_discriminator_model():\n",
        "    model = tf.keras.Sequential()\n",
        "    model.add(layers.Dense(1024, use_bias=True, input_shape=(dimension,)))\n",
        "    model.add(layers.LeakyReLU())\n",
        "    model.add(layers.Dropout(0.3))\n",
        "\n",
        "    model.add(layers.Dense(512, use_bias=True))\n",
        "    model.add(layers.LeakyReLU())\n",
        "    model.add(layers.Dropout(0.3))\n",
        "\n",
        "    model.add(layers.Dense(256, use_bias=True))\n",
        "    model.add(layers.LeakyReLU())\n",
        "    model.add(layers.Dropout(0.3))\n",
        "\n",
        "    model.add(layers.Dense(1))\n",
        "\n",
        "    return model"
      ],
      "execution_count": null,
      "outputs": []
    },
    {
      "cell_type": "code",
      "metadata": {
        "id": "q6HmejF9-U6r"
      },
      "source": [
        "generator = make_generator_model()\n",
        "discriminator = make_discriminator_model()"
      ],
      "execution_count": null,
      "outputs": []
    },
    {
      "cell_type": "code",
      "metadata": {
        "id": "eFxhmXU0Lak3",
        "outputId": "a7f45919-538b-42cc-a33a-79eeb5342a86",
        "colab": {
          "base_uri": "https://localhost:8080/",
          "height": 697
        }
      },
      "source": [
        "generator.summary()"
      ],
      "execution_count": null,
      "outputs": [
        {
          "output_type": "stream",
          "text": [
            "Model: \"sequential_17\"\n",
            "_________________________________________________________________\n",
            "Layer (type)                 Output Shape              Param #   \n",
            "=================================================================\n",
            "dense_108 (Dense)            (None, 256)               33024     \n",
            "_________________________________________________________________\n",
            "batch_normalization_53 (Batc (None, 256)               1024      \n",
            "_________________________________________________________________\n",
            "leaky_re_lu_86 (LeakyReLU)   (None, 256)               0         \n",
            "_________________________________________________________________\n",
            "dense_109 (Dense)            (None, 512)               131584    \n",
            "_________________________________________________________________\n",
            "batch_normalization_54 (Batc (None, 512)               2048      \n",
            "_________________________________________________________________\n",
            "leaky_re_lu_87 (LeakyReLU)   (None, 512)               0         \n",
            "_________________________________________________________________\n",
            "dense_110 (Dense)            (None, 512)               262656    \n",
            "_________________________________________________________________\n",
            "batch_normalization_55 (Batc (None, 512)               2048      \n",
            "_________________________________________________________________\n",
            "leaky_re_lu_88 (LeakyReLU)   (None, 512)               0         \n",
            "_________________________________________________________________\n",
            "dense_111 (Dense)            (None, 1024)              525312    \n",
            "_________________________________________________________________\n",
            "batch_normalization_56 (Batc (None, 1024)              4096      \n",
            "_________________________________________________________________\n",
            "leaky_re_lu_89 (LeakyReLU)   (None, 1024)              0         \n",
            "_________________________________________________________________\n",
            "dense_112 (Dense)            (None, 2048)              2099200   \n",
            "_________________________________________________________________\n",
            "batch_normalization_57 (Batc (None, 2048)              8192      \n",
            "_________________________________________________________________\n",
            "leaky_re_lu_90 (LeakyReLU)   (None, 2048)              0         \n",
            "_________________________________________________________________\n",
            "dense_113 (Dense)            (None, 5000)              10245000  \n",
            "=================================================================\n",
            "Total params: 13,314,184\n",
            "Trainable params: 13,305,480\n",
            "Non-trainable params: 8,704\n",
            "_________________________________________________________________\n"
          ],
          "name": "stdout"
        }
      ]
    },
    {
      "cell_type": "code",
      "metadata": {
        "id": "7LDI3iJBLdTD",
        "outputId": "018d25a3-b11b-4939-9367-a68afc875499",
        "colab": {
          "base_uri": "https://localhost:8080/",
          "height": 493
        }
      },
      "source": [
        "discriminator.summary()"
      ],
      "execution_count": null,
      "outputs": [
        {
          "output_type": "stream",
          "text": [
            "Model: \"sequential_18\"\n",
            "_________________________________________________________________\n",
            "Layer (type)                 Output Shape              Param #   \n",
            "=================================================================\n",
            "dense_114 (Dense)            (None, 1024)              5121024   \n",
            "_________________________________________________________________\n",
            "leaky_re_lu_91 (LeakyReLU)   (None, 1024)              0         \n",
            "_________________________________________________________________\n",
            "dropout_33 (Dropout)         (None, 1024)              0         \n",
            "_________________________________________________________________\n",
            "dense_115 (Dense)            (None, 512)               524800    \n",
            "_________________________________________________________________\n",
            "leaky_re_lu_92 (LeakyReLU)   (None, 512)               0         \n",
            "_________________________________________________________________\n",
            "dropout_34 (Dropout)         (None, 512)               0         \n",
            "_________________________________________________________________\n",
            "dense_116 (Dense)            (None, 256)               131328    \n",
            "_________________________________________________________________\n",
            "leaky_re_lu_93 (LeakyReLU)   (None, 256)               0         \n",
            "_________________________________________________________________\n",
            "dropout_35 (Dropout)         (None, 256)               0         \n",
            "_________________________________________________________________\n",
            "dense_117 (Dense)            (None, 1)                 257       \n",
            "=================================================================\n",
            "Total params: 5,777,409\n",
            "Trainable params: 5,777,409\n",
            "Non-trainable params: 0\n",
            "_________________________________________________________________\n"
          ],
          "name": "stdout"
        }
      ]
    },
    {
      "cell_type": "code",
      "metadata": {
        "id": "jmTf7v9p-b50"
      },
      "source": [
        "def discriminator_loss(real_output, fake_output):\n",
        "    real_loss = cross_entropy(tf.ones_like(real_output), real_output)\n",
        "    fake_loss = cross_entropy(tf.zeros_like(fake_output), fake_output)\n",
        "    total_loss = real_loss + fake_loss\n",
        "    return total_loss"
      ],
      "execution_count": null,
      "outputs": []
    },
    {
      "cell_type": "code",
      "metadata": {
        "id": "i_orWQwj_Ak-"
      },
      "source": [
        "def generator_loss(fake_output):\n",
        "    return cross_entropy(tf.ones_like(fake_output), fake_output)"
      ],
      "execution_count": null,
      "outputs": []
    },
    {
      "cell_type": "code",
      "metadata": {
        "id": "llUBEF24_BJS"
      },
      "source": [
        "generator_optimizer = tf.keras.optimizers.Adam(1e-4)\n",
        "discriminator_optimizer = tf.keras.optimizers.Adam(1e-4)"
      ],
      "execution_count": null,
      "outputs": []
    },
    {
      "cell_type": "code",
      "metadata": {
        "id": "vBlm7JMx_DvY"
      },
      "source": [
        "def train_step(images):\n",
        "    noise = tf.random.normal([BATCH_SIZE, 128])\n",
        "\n",
        "    with tf.GradientTape() as gen_tape, tf.GradientTape() as disc_tape:\n",
        "        generated_images = generator(noise, training=True)\n",
        "\n",
        "        real_output = discriminator(images, training=True)\n",
        "        fake_output = discriminator(generated_images, training=True)\n",
        "\n",
        "        gen_loss = generator_loss(fake_output)\n",
        "        disc_loss = discriminator_loss(real_output, fake_output)\n",
        "\n",
        "    gradients_of_generator = gen_tape.gradient(gen_loss, generator.trainable_variables)\n",
        "    gradients_of_discriminator = disc_tape.gradient(disc_loss, discriminator.trainable_variables)\n",
        "\n",
        "    generator_optimizer.apply_gradients(zip(gradients_of_generator, generator.trainable_variables))\n",
        "    discriminator_optimizer.apply_gradients(zip(gradients_of_discriminator, discriminator.trainable_variables))"
      ],
      "execution_count": null,
      "outputs": []
    },
    {
      "cell_type": "code",
      "metadata": {
        "id": "tNntEwY__OTQ"
      },
      "source": [
        "def train(dataset, epochs):\n",
        "    for epoch in range(epochs):\n",
        "        start = time.time()\n",
        "\n",
        "        for data in dataset:\n",
        "            train_step(data)\n",
        "\n",
        "        print ('Time for epoch {} is {} sec'.format(epoch + 1, time.time()-start))"
      ],
      "execution_count": null,
      "outputs": []
    },
    {
      "cell_type": "code",
      "metadata": {
        "id": "L42hxrlDHmb4"
      },
      "source": [
        "BATCH_SIZE = 500\n",
        "dataset = tf.data.Dataset.from_tensor_slices(exp_train).shuffle(1000).batch(BATCH_SIZE)"
      ],
      "execution_count": null,
      "outputs": []
    },
    {
      "cell_type": "code",
      "metadata": {
        "id": "K-axc-FmH8Dn",
        "outputId": "ac81dd99-93ed-49c6-e131-9f405996a34c",
        "colab": {
          "base_uri": "https://localhost:8080/",
          "height": 187
        }
      },
      "source": [
        "train(dataset, 10)"
      ],
      "execution_count": null,
      "outputs": [
        {
          "output_type": "stream",
          "text": [
            "Time for epoch 1 is 1.1117630004882812 sec\n",
            "Time for epoch 2 is 0.933995246887207 sec\n",
            "Time for epoch 3 is 0.9195923805236816 sec\n",
            "Time for epoch 4 is 0.8918173313140869 sec\n",
            "Time for epoch 5 is 0.9009981155395508 sec\n",
            "Time for epoch 6 is 0.8773994445800781 sec\n",
            "Time for epoch 7 is 0.8955671787261963 sec\n",
            "Time for epoch 8 is 0.9076099395751953 sec\n",
            "Time for epoch 9 is 0.881399393081665 sec\n",
            "Time for epoch 10 is 0.8846614360809326 sec\n"
          ],
          "name": "stdout"
        }
      ]
    },
    {
      "cell_type": "code",
      "metadata": {
        "id": "gFt8CKk7H9U4"
      },
      "source": [
        "exp_gen = generator(tf.random.normal([1000,128]))"
      ],
      "execution_count": null,
      "outputs": []
    },
    {
      "cell_type": "markdown",
      "metadata": {
        "id": "8fSZcalQ95M1"
      },
      "source": [
        "## Evaluation"
      ]
    },
    {
      "cell_type": "code",
      "metadata": {
        "id": "CcPOAm4dKoF9"
      },
      "source": [
        "from scipy.spatial import distance"
      ],
      "execution_count": null,
      "outputs": []
    },
    {
      "cell_type": "code",
      "metadata": {
        "id": "k_ABejoI94h2"
      },
      "source": [
        "mean_glut = np.mean(np.load(path+'exp_train_pca.npy')[:4086], axis=0)\n",
        "mean_non = np.mean(np.load(path+'exp_train_pca.npy')[4086:], axis=0)\n",
        "mean_gaba = np.mean(np.load(path+'exp_test_pca.npy'), axis=0)"
      ],
      "execution_count": null,
      "outputs": []
    },
    {
      "cell_type": "code",
      "metadata": {
        "id": "pgfnJ1wjjyeH",
        "outputId": "f28d56ce-8d4d-4542-d393-f4d11785307a",
        "colab": {
          "base_uri": "https://localhost:8080/",
          "height": 34
        }
      },
      "source": [
        "# L1 distance\n",
        "res = [0, 0, 0]\n",
        "for exp in exp_gen:\n",
        "    d1 = np.sum(np.abs(exp-mean_glut))\n",
        "    d2 = np.sum(np.abs(exp-mean_non))\n",
        "    d3 = np.sum(np.abs(exp-mean_gaba))\n",
        "    i = np.argmin([d1, d2, d3])\n",
        "    res[i] += 1\n",
        "\n",
        "assert sum(res) == exp_gen.shape[0]\n",
        "\n",
        "print(res)"
      ],
      "execution_count": null,
      "outputs": [
        {
          "output_type": "stream",
          "text": [
            "[759, 241, 0]\n"
          ],
          "name": "stdout"
        }
      ]
    },
    {
      "cell_type": "code",
      "metadata": {
        "id": "LACUYIKwfad1",
        "outputId": "5cbbdcdb-6257-48c8-abf6-c2c0c2c5bf20",
        "colab": {
          "base_uri": "https://localhost:8080/",
          "height": 34
        }
      },
      "source": [
        "# L2 distance\n",
        "res = [0, 0, 0]\n",
        "for exp in exp_gen:\n",
        "    d1 = np.sum((exp-mean_glut)**2)\n",
        "    d2 = np.sum((exp-mean_non)**2)\n",
        "    d3 = np.sum((exp-mean_gaba)**2)\n",
        "    i = np.argmin([d1, d2, d3])\n",
        "    res[i] += 1\n",
        "\n",
        "assert sum(res) == exp_gen.shape[0]\n",
        "\n",
        "print(res)"
      ],
      "execution_count": null,
      "outputs": [
        {
          "output_type": "stream",
          "text": [
            "[759, 241, 0]\n"
          ],
          "name": "stdout"
        }
      ]
    },
    {
      "cell_type": "code",
      "metadata": {
        "id": "-h6jO8gSIlT_",
        "outputId": "96f327d4-cc2f-4030-df08-7c3534caafbb",
        "colab": {
          "base_uri": "https://localhost:8080/",
          "height": 34
        }
      },
      "source": [
        "# cosine distance\n",
        "res = [0, 0, 0]\n",
        "for exp in exp_gen:\n",
        "    d1 = distance.cosine(exp, mean_glut)\n",
        "    d2 = distance.cosine(exp, mean_non)\n",
        "    d3 = distance.cosine(exp, mean_gaba)\n",
        "    i = np.argmin([d1, d2, d3])\n",
        "    res[i] += 1\n",
        "\n",
        "assert sum(res) == exp_gen.shape[0]\n",
        "\n",
        "print(res)"
      ],
      "execution_count": null,
      "outputs": [
        {
          "output_type": "stream",
          "text": [
            "[767, 233, 0]\n"
          ],
          "name": "stdout"
        }
      ]
    },
    {
      "cell_type": "code",
      "metadata": {
        "id": "M9ks6-QaJFos"
      },
      "source": [
        ""
      ],
      "execution_count": null,
      "outputs": []
    },
    {
      "cell_type": "code",
      "metadata": {
        "id": "xu7iDZvAJsO9"
      },
      "source": [
        ""
      ],
      "execution_count": null,
      "outputs": []
    }
  ]
}

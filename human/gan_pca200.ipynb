{
  "nbformat": 4,
  "nbformat_minor": 0,
  "metadata": {
    "accelerator": "GPU",
    "colab": {
      "name": "gan_pca200.ipynb",
      "provenance": [],
      "collapsed_sections": [],
      "include_colab_link": true
    },
    "kernelspec": {
      "display_name": "Python 3",
      "name": "python3"
    }
  },
  "cells": [
    {
      "cell_type": "markdown",
      "metadata": {
        "id": "view-in-github",
        "colab_type": "text"
      },
      "source": [
        "<a href=\"https://colab.research.google.com/github/MutianWang/novel-cell/blob/main/human/gan_pca200.ipynb\" target=\"_parent\"><img src=\"https://colab.research.google.com/assets/colab-badge.svg\" alt=\"Open In Colab\"/></a>"
      ]
    },
    {
      "cell_type": "markdown",
      "metadata": {
        "id": "j-cYqy4rSuq8"
      },
      "source": [
        "# Novel Cells Generation"
      ]
    },
    {
      "cell_type": "code",
      "metadata": {
        "id": "o5IPyySLKxff"
      },
      "source": [
        "import time\n",
        "import random\n",
        "import tensorflow as tf\n",
        "from tensorflow import keras\n",
        "from tensorflow.keras import layers\n",
        "from keras.utils.vis_utils import plot_model\n",
        "import pandas as pd\n",
        "import numpy as np\n",
        "import matplotlib.pyplot as plt\n",
        "import matplotlib.patches as mpatches\n",
        "import pickle\n",
        "from sklearn.pipeline import Pipeline\n",
        "from sklearn.decomposition import PCA\n",
        "from sklearn.preprocessing import MinMaxScaler, StandardScaler"
      ],
      "execution_count": 1,
      "outputs": []
    },
    {
      "cell_type": "code",
      "metadata": {
        "colab": {
          "base_uri": "https://localhost:8080/"
        },
        "id": "EAf_GqpbxTMO",
        "outputId": "2bc955e6-cf0b-4cda-b3a2-b70c3d7d1281"
      },
      "source": [
        "from google.colab import drive\n",
        "drive.mount('/content/drive')"
      ],
      "execution_count": 2,
      "outputs": [
        {
          "output_type": "stream",
          "text": [
            "Drive already mounted at /content/drive; to attempt to forcibly remount, call drive.mount(\"/content/drive\", force_remount=True).\n"
          ],
          "name": "stdout"
        }
      ]
    },
    {
      "cell_type": "code",
      "metadata": {
        "id": "x-IQa1DUO3wv"
      },
      "source": [
        "path = '/content/drive/My Drive/Colab Notebooks/Brain Cell/data/'"
      ],
      "execution_count": 3,
      "outputs": []
    },
    {
      "cell_type": "markdown",
      "metadata": {
        "id": "IbdI7rTr1LHf"
      },
      "source": [
        "## Preprocessing"
      ]
    },
    {
      "cell_type": "code",
      "metadata": {
        "id": "jvqF5fu3QPLd"
      },
      "source": [
        "meta = pd.read_csv(path+'meta.csv', header=0)\n",
        "cols_glut = meta[meta['class']=='Glutamatergic']['sample_name']\n",
        "cols_non = meta[meta['class']=='Non-neuronal']['sample_name']\n",
        "cols_gaba = meta[meta['class']=='GABAergic']['sample_name']"
      ],
      "execution_count": null,
      "outputs": []
    },
    {
      "cell_type": "code",
      "metadata": {
        "id": "6eP4_BjYw9wZ"
      },
      "source": [
        "def normalize(df):\n",
        "    # counts per million\n",
        "    df = df.div(df.sum(axis=1), axis=0) * 10**6\n",
        "    df = df.fillna(0)\n",
        "    return df"
      ],
      "execution_count": null,
      "outputs": []
    },
    {
      "cell_type": "code",
      "metadata": {
        "id": "f5auoM8d0Pob"
      },
      "source": [
        "def read_expression(file1, file2, usecols):\n",
        "    # point-wise addition of exon and intron tables\n",
        "    reader1 = pd.read_csv(file1, header=0, usecols=usecols, chunksize=1000)\n",
        "    reader2 = pd.read_csv(file2, header=0, usecols=usecols, chunksize=1000)\n",
        "\n",
        "    df = reader1.get_chunk() + reader2.get_chunk()\n",
        "    for i in range(1, 51):\n",
        "        df = pd.concat([df, reader1.get_chunk() + reader2.get_chunk()])\n",
        "        if i%10==0:\n",
        "            print('{}/50'.format(i))\n",
        "\n",
        "    return df.transpose()"
      ],
      "execution_count": null,
      "outputs": []
    },
    {
      "cell_type": "code",
      "metadata": {
        "colab": {
          "base_uri": "https://localhost:8080/",
          "height": 102
        },
        "id": "7GORuOJYCXjY",
        "outputId": "667896ee-c3d1-45e1-dbfd-363e94a9e4c8"
      },
      "source": [
        "exp_glut = read_expression(path+'exon.csv', path+'intron.csv', cols_glut) # 10525 * 50281\n",
        "exp_glut = exp_glut.sample(5000-914) # 4086 * 50281\n",
        "exp_glut = normalize(exp_glut)\n",
        "np.save(path+'exp_glut', exp_glut)\n",
        "del exp_glut"
      ],
      "execution_count": null,
      "outputs": [
        {
          "output_type": "stream",
          "text": [
            "10/50\n",
            "20/50\n",
            "30/50\n",
            "40/50\n",
            "50/50\n"
          ],
          "name": "stdout"
        }
      ]
    },
    {
      "cell_type": "code",
      "metadata": {
        "colab": {
          "base_uri": "https://localhost:8080/",
          "height": 102
        },
        "id": "-9hmZCzfs__s",
        "outputId": "c5460830-35dd-4d6d-bc7d-d35e9234a95e"
      },
      "source": [
        "exp_non = read_expression(path+'exon.csv', path+'intron.csv', cols_non) # 914 * 50281\n",
        "exp_non = normalize(exp_non)\n",
        "np.save(path+'exp_non', exp_non)\n",
        "del exp_non"
      ],
      "execution_count": null,
      "outputs": [
        {
          "output_type": "stream",
          "text": [
            "10/50\n",
            "20/50\n",
            "30/50\n",
            "40/50\n",
            "50/50\n"
          ],
          "name": "stdout"
        }
      ]
    },
    {
      "cell_type": "code",
      "metadata": {
        "colab": {
          "base_uri": "https://localhost:8080/",
          "height": 102
        },
        "id": "iYNolVf-JUvm",
        "outputId": "dd70ca93-9ec2-44ed-f9d3-ce4a90a17c71"
      },
      "source": [
        "exp_gaba = read_expression(path+'exon.csv', path+'intron.csv', cols_gaba) # 4164 * 50281\n",
        "exp_gaba = normalize(exp_gaba)\n",
        "np.save(path+'exp_gaba', exp_gaba)\n",
        "del exp_gaba"
      ],
      "execution_count": null,
      "outputs": [
        {
          "output_type": "stream",
          "text": [
            "10/50\n",
            "20/50\n",
            "30/50\n",
            "40/50\n",
            "50/50\n"
          ],
          "name": "stdout"
        }
      ]
    },
    {
      "cell_type": "code",
      "metadata": {
        "id": "m-F04FN3Sh0v"
      },
      "source": [
        "# first 4086 are Glutamatergic, last 914 are Non-neuronal\n",
        "exp_train = np.concatenate([np.load(path+'exp_glut.npy'), \n",
        "                            np.load(path+'exp_non.npy')], axis=0)\n",
        "np.save(path+'exp_train', exp_train)"
      ],
      "execution_count": null,
      "outputs": []
    },
    {
      "cell_type": "markdown",
      "metadata": {
        "id": "O4ZHqOU3AAiL"
      },
      "source": [
        "## Dimension Reduction"
      ]
    },
    {
      "cell_type": "code",
      "metadata": {
        "id": "-8NeA1FwKh-v"
      },
      "source": [
        "pipe = Pipeline([('scaler1', StandardScaler()), ('pca', PCA(n_components=200)), ('scaler2', MinMaxScaler())])"
      ],
      "execution_count": 4,
      "outputs": []
    },
    {
      "cell_type": "code",
      "metadata": {
        "id": "gDtxSFLtAVM-"
      },
      "source": [
        "exp_train = np.load(path+'exp_train.npy')\n",
        "exp_train = pipe.fit_transform(exp_train)\n",
        "np.save(path+'exp_train_pca200', exp_train)\n",
        "del exp_train"
      ],
      "execution_count": 5,
      "outputs": []
    },
    {
      "cell_type": "code",
      "metadata": {
        "id": "x9_veL-fZMrm"
      },
      "source": [
        "pickle.dump(pickle.dumps(pipe), open(path+'pipe200', 'wb'))"
      ],
      "execution_count": 6,
      "outputs": []
    },
    {
      "cell_type": "code",
      "metadata": {
        "colab": {
          "base_uri": "https://localhost:8080/",
          "height": 281
        },
        "id": "Ukjs6TdFf9qE",
        "outputId": "1f79ca7e-4b51-4508-adff-21f5d55ac030"
      },
      "source": [
        "# set n_components=5000 to plot this graph\n",
        "#plt.plot(pipe['pca'].explained_variance_);\n",
        "#plt.title('explained variance ratio');"
      ],
      "execution_count": null,
      "outputs": [
        {
          "output_type": "display_data",
          "data": {
            "image/png": "[encoded data removed]",
            "text/plain": [
              "<Figure size 432x288 with 1 Axes>"
            ]
          },
          "metadata": {
            "tags": []
          }
        }
      ]
    },
    {
      "cell_type": "code",
      "metadata": {
        "id": "z-3XFhfC0Bm-"
      },
      "source": [
        "exp_test = np.load(path+'exp_gaba.npy')\n",
        "exp_test = pipe.transform(exp_test)\n",
        "np.save(path+'exp_test_pca200', exp_test)\n",
        "del exp_test"
      ],
      "execution_count": 7,
      "outputs": []
    },
    {
      "cell_type": "markdown",
      "metadata": {
        "id": "HsH4XxJ36fGp"
      },
      "source": [
        "## GAN"
      ]
    },
    {
      "cell_type": "code",
      "metadata": {
        "id": "yZmJpBlcjrBY"
      },
      "source": [
        "random.seed(44)\n",
        "np.random.seed(44)\n",
        "tf.random.set_seed(44)"
      ],
      "execution_count": 4,
      "outputs": []
    },
    {
      "cell_type": "code",
      "metadata": {
        "id": "q7WRBp4jyxPS"
      },
      "source": [
        "exp_train = np.load(path+'exp_train_pca200.npy')"
      ],
      "execution_count": 5,
      "outputs": []
    },
    {
      "cell_type": "code",
      "metadata": {
        "id": "fD-CY2cBStMF"
      },
      "source": [
        "# oversample the non-neuronal cells\n",
        "#exp_train = np.concatenate([exp_train, exp_train[-914:]], axis=0)\n",
        "\n",
        "# undersample the glutamatergic cells\n",
        "exp_train = exp_train[2000:]"
      ],
      "execution_count": 6,
      "outputs": []
    },
    {
      "cell_type": "code",
      "metadata": {
        "id": "L42hxrlDHmb4"
      },
      "source": [
        "BATCH_SIZE = 1000\n",
        "dataset = tf.data.Dataset.from_tensor_slices(exp_train).shuffle(100).batch(BATCH_SIZE)"
      ],
      "execution_count": 7,
      "outputs": []
    },
    {
      "cell_type": "code",
      "metadata": {
        "id": "UKjKbveG8xT3"
      },
      "source": [
        "dimension = exp_train.shape[1]"
      ],
      "execution_count": 8,
      "outputs": []
    },
    {
      "cell_type": "code",
      "metadata": {
        "id": "X0jLivwZJyzt"
      },
      "source": [
        "cross_entropy = tf.keras.losses.BinaryCrossentropy(from_logits=True)"
      ],
      "execution_count": 9,
      "outputs": []
    },
    {
      "cell_type": "code",
      "metadata": {
        "id": "8hYhAVII5tVz"
      },
      "source": [
        "def make_generator_model():\n",
        "    model = tf.keras.Sequential()\n",
        "    model.add(layers.Dense(256, use_bias=True, input_shape=(128,)))\n",
        "    model.add(layers.BatchNormalization())\n",
        "    model.add(layers.LeakyReLU())\n",
        "\n",
        "    model.add(layers.Dense(512, use_bias=True))\n",
        "    model.add(layers.BatchNormalization())\n",
        "    model.add(layers.LeakyReLU())\n",
        "\n",
        "    model.add(layers.Dense(256, use_bias=True))\n",
        "    model.add(layers.BatchNormalization())\n",
        "    model.add(layers.LeakyReLU())\n",
        "\n",
        "    # sigmoid function will make the range [0,1]\n",
        "    model.add(layers.Dense(dimension, use_bias=True, activation='sigmoid'))\n",
        "\n",
        "    return model"
      ],
      "execution_count": 10,
      "outputs": []
    },
    {
      "cell_type": "code",
      "metadata": {
        "id": "YmuNxZCu8o0p"
      },
      "source": [
        "def make_discriminator_model():\n",
        "    model = tf.keras.Sequential()\n",
        "    model.add(layers.Dense(256, use_bias=True, input_shape=(dimension,)))\n",
        "    model.add(layers.LeakyReLU())\n",
        "    model.add(layers.Dropout(0.2))\n",
        "\n",
        "    model.add(layers.Dense(128, use_bias=True))\n",
        "    model.add(layers.LeakyReLU())\n",
        "    model.add(layers.Dropout(0.2))\n",
        "\n",
        "    model.add(layers.Dense(64, use_bias=True))\n",
        "    model.add(layers.LeakyReLU())\n",
        "    model.add(layers.Dropout(0.2))\n",
        "\n",
        "    model.add(layers.Dense(1))\n",
        "\n",
        "    return model"
      ],
      "execution_count": 11,
      "outputs": []
    },
    {
      "cell_type": "code",
      "metadata": {
        "id": "q6HmejF9-U6r"
      },
      "source": [
        "generator = make_generator_model()\n",
        "discriminator = make_discriminator_model()"
      ],
      "execution_count": 30,
      "outputs": []
    },
    {
      "cell_type": "code",
      "metadata": {
        "id": "eFxhmXU0Lak3"
      },
      "source": [
        "#generator.summary()"
      ],
      "execution_count": 31,
      "outputs": []
    },
    {
      "cell_type": "code",
      "metadata": {
        "id": "7LDI3iJBLdTD"
      },
      "source": [
        "#discriminator.summary()"
      ],
      "execution_count": 32,
      "outputs": []
    },
    {
      "cell_type": "code",
      "metadata": {
        "id": "jmTf7v9p-b50"
      },
      "source": [
        "def discriminator_loss(real_output, fake_output):\n",
        "    real_loss = cross_entropy(tf.ones_like(real_output), real_output)\n",
        "    fake_loss = cross_entropy(tf.zeros_like(fake_output), fake_output)\n",
        "    total_loss = real_loss + fake_loss\n",
        "    return total_loss"
      ],
      "execution_count": 33,
      "outputs": []
    },
    {
      "cell_type": "code",
      "metadata": {
        "id": "i_orWQwj_Ak-"
      },
      "source": [
        "def generator_loss(fake_output):\n",
        "    return cross_entropy(tf.ones_like(fake_output), fake_output)"
      ],
      "execution_count": 34,
      "outputs": []
    },
    {
      "cell_type": "code",
      "metadata": {
        "id": "llUBEF24_BJS"
      },
      "source": [
        "generator_optimizer = tf.keras.optimizers.Adam(1e-4)\n",
        "discriminator_optimizer = tf.keras.optimizers.Adam(1e-3)"
      ],
      "execution_count": 35,
      "outputs": []
    },
    {
      "cell_type": "code",
      "metadata": {
        "id": "vBlm7JMx_DvY"
      },
      "source": [
        "def train_step(images):\n",
        "    noise = tf.random.normal([BATCH_SIZE, 128])\n",
        "\n",
        "    with tf.GradientTape() as gen_tape, tf.GradientTape() as disc_tape:\n",
        "        generated_images = generator(noise, training=True)\n",
        "\n",
        "        real_output = discriminator(images, training=True)\n",
        "        fake_output = discriminator(generated_images, training=True)\n",
        "\n",
        "        gen_loss = generator_loss(fake_output)\n",
        "        disc_loss = discriminator_loss(real_output, fake_output)\n",
        "\n",
        "    if random.random() > 0.2:\n",
        "        gradients_of_generator = gen_tape.gradient(gen_loss, generator.trainable_variables)\n",
        "        generator_optimizer.apply_gradients(zip(gradients_of_generator, generator.trainable_variables))\n",
        "\n",
        "    gradients_of_discriminator = disc_tape.gradient(disc_loss, discriminator.trainable_variables)\n",
        "    discriminator_optimizer.apply_gradients(zip(gradients_of_discriminator, discriminator.trainable_variables))\n",
        "\n",
        "    return gen_loss, disc_loss"
      ],
      "execution_count": 36,
      "outputs": []
    },
    {
      "cell_type": "code",
      "metadata": {
        "id": "tNntEwY__OTQ"
      },
      "source": [
        "def train(dataset, epochs, delta):\n",
        "    loss_hist = []\n",
        "    gen_loss_hist = []\n",
        "    disc_loss_hist = []\n",
        "    for epoch in range(epochs):\n",
        "        start = time.time()\n",
        "\n",
        "        gen_loss = 0\n",
        "        disc_loss = 0\n",
        "        for data in dataset:\n",
        "            loss1, loss2 = train_step(data)\n",
        "            gen_loss += loss1\n",
        "            disc_loss += loss2\n",
        "\n",
        "        if (epoch+1)%20 == 0:\n",
        "            print('Time for epoch {} is {} sec. Loss is {}'.format(epoch + 1, time.time()-start, gen_loss+disc_loss))\n",
        "        \n",
        "        loss_hist.append(gen_loss+disc_loss)\n",
        "        gen_loss_hist.append(gen_loss)\n",
        "        disc_loss_hist.append(disc_loss)\n",
        "        if epoch > 2:\n",
        "            if abs(loss_hist[-1] - loss_hist[-2]) < delta and abs(loss_hist[-2] - loss_hist[-3]) < delta:\n",
        "                print('Final Loss is {}'.format(loss_hist[-1]))\n",
        "                return loss_hist, gen_loss_hist, disc_loss_hist\n",
        "\n",
        "    print('Final Loss is {}'.format(loss_hist[-1]))\n",
        "    return loss_hist, gen_loss_hist, disc_loss_hist"
      ],
      "execution_count": 37,
      "outputs": []
    },
    {
      "cell_type": "code",
      "metadata": {
        "colab": {
          "base_uri": "https://localhost:8080/"
        },
        "id": "K-axc-FmH8Dn",
        "outputId": "b7a48fcc-bf12-4e47-b529-c1eb15051710"
      },
      "source": [
        "hist = train(dataset, epochs=1000, delta=0.005)"
      ],
      "execution_count": 38,
      "outputs": [
        {
          "output_type": "stream",
          "text": [
            "Time for epoch 20 is 0.12547898292541504 sec. Loss is 48.07190704345703\n",
            "Time for epoch 40 is 0.16681694984436035 sec. Loss is 20.681312561035156\n",
            "Time for epoch 60 is 0.1279752254486084 sec. Loss is 23.160661697387695\n",
            "Time for epoch 80 is 0.14161944389343262 sec. Loss is 12.103748321533203\n",
            "Time for epoch 100 is 0.1308116912841797 sec. Loss is 16.763628005981445\n",
            "Time for epoch 120 is 0.13037991523742676 sec. Loss is 10.472332954406738\n",
            "Time for epoch 140 is 0.13063263893127441 sec. Loss is 15.866622924804688\n",
            "Time for epoch 160 is 0.14864015579223633 sec. Loss is 14.095038414001465\n",
            "Time for epoch 180 is 0.13883137702941895 sec. Loss is 15.556325912475586\n",
            "Time for epoch 200 is 0.11742806434631348 sec. Loss is 13.464205741882324\n",
            "Time for epoch 220 is 0.15723252296447754 sec. Loss is 14.328438758850098\n",
            "Time for epoch 240 is 0.1524498462677002 sec. Loss is 13.422944068908691\n",
            "Time for epoch 260 is 0.11910200119018555 sec. Loss is 9.13667106628418\n",
            "Time for epoch 280 is 0.14774036407470703 sec. Loss is 7.147177219390869\n",
            "Time for epoch 300 is 0.14366650581359863 sec. Loss is 9.886938095092773\n",
            "Time for epoch 320 is 0.1253507137298584 sec. Loss is 11.620209693908691\n",
            "Time for epoch 340 is 0.12140727043151855 sec. Loss is 10.711257934570312\n",
            "Time for epoch 360 is 0.14226365089416504 sec. Loss is 8.228874206542969\n",
            "Time for epoch 380 is 0.1350860595703125 sec. Loss is 8.045831680297852\n",
            "Time for epoch 400 is 0.11286640167236328 sec. Loss is 11.136192321777344\n",
            "Time for epoch 420 is 0.135359525680542 sec. Loss is 14.781753540039062\n",
            "Time for epoch 440 is 0.15029692649841309 sec. Loss is 11.010887145996094\n",
            "Time for epoch 460 is 0.14347004890441895 sec. Loss is 10.465076446533203\n",
            "Time for epoch 480 is 0.15098786354064941 sec. Loss is 9.711370468139648\n",
            "Time for epoch 500 is 0.1422281265258789 sec. Loss is 7.176214694976807\n",
            "Time for epoch 520 is 0.14067888259887695 sec. Loss is 9.093721389770508\n",
            "Time for epoch 540 is 0.15424418449401855 sec. Loss is 8.814384460449219\n",
            "Time for epoch 560 is 0.13669991493225098 sec. Loss is 8.392234802246094\n",
            "Time for epoch 580 is 0.1278519630432129 sec. Loss is 8.440690994262695\n",
            "Time for epoch 600 is 0.12251901626586914 sec. Loss is 10.107489585876465\n",
            "Time for epoch 620 is 0.13078856468200684 sec. Loss is 7.831995964050293\n",
            "Time for epoch 640 is 0.12625455856323242 sec. Loss is 8.164548873901367\n",
            "Time for epoch 660 is 0.13527393341064453 sec. Loss is 8.537256240844727\n",
            "Time for epoch 680 is 0.1457991600036621 sec. Loss is 9.227184295654297\n",
            "Time for epoch 700 is 0.14769268035888672 sec. Loss is 8.068588256835938\n",
            "Time for epoch 720 is 0.13682126998901367 sec. Loss is 7.634958744049072\n",
            "Time for epoch 740 is 0.16920852661132812 sec. Loss is 7.300106525421143\n",
            "Time for epoch 760 is 0.14226794242858887 sec. Loss is 6.82118034362793\n",
            "Time for epoch 780 is 0.13575124740600586 sec. Loss is 7.4307355880737305\n",
            "Time for epoch 800 is 0.13640046119689941 sec. Loss is 8.37300968170166\n",
            "Time for epoch 820 is 0.1483147144317627 sec. Loss is 7.182168960571289\n",
            "Time for epoch 840 is 0.12688708305358887 sec. Loss is 7.778381824493408\n",
            "Time for epoch 860 is 0.1269519329071045 sec. Loss is 7.2935075759887695\n",
            "Time for epoch 880 is 0.12697148323059082 sec. Loss is 8.392105102539062\n",
            "Time for epoch 900 is 0.13969016075134277 sec. Loss is 6.955163955688477\n",
            "Time for epoch 920 is 0.13820838928222656 sec. Loss is 6.834229469299316\n",
            "Time for epoch 940 is 0.1419379711151123 sec. Loss is 6.806339263916016\n",
            "Time for epoch 960 is 0.14331459999084473 sec. Loss is 6.3563127517700195\n",
            "Time for epoch 980 is 0.13291645050048828 sec. Loss is 8.406656265258789\n",
            "Time for epoch 1000 is 0.12958240509033203 sec. Loss is 7.321897506713867\n",
            "Final Loss is 7.321897506713867\n"
          ],
          "name": "stdout"
        }
      ]
    },
    {
      "cell_type": "code",
      "metadata": {
        "colab": {
          "base_uri": "https://localhost:8080/",
          "height": 265
        },
        "id": "zg3x1PpHQkxO",
        "outputId": "4050b779-b883-4958-dc24-454b4e9719fd"
      },
      "source": [
        "plt.plot(hist[1]);\n",
        "plt.plot(hist[2]);\n",
        "plt.legend(['gen', 'disc']);"
      ],
      "execution_count": 39,
      "outputs": [
        {
          "output_type": "display_data",
          "data": {
            "image/png": "[encoded data removed]",
            "text/plain": [
              "<Figure size 432x288 with 1 Axes>"
            ]
          },
          "metadata": {
            "tags": [],
            "needs_background": "light"
          }
        }
      ]
    },
    {
      "cell_type": "code",
      "metadata": {
        "id": "gFt8CKk7H9U4"
      },
      "source": [
        "exp_gen = generator(tf.random.normal([1000,128]))"
      ],
      "execution_count": 40,
      "outputs": []
    },
    {
      "cell_type": "code",
      "metadata": {
        "id": "fWS9fkai64PY"
      },
      "source": [
        "#np.save(path+'exp_gen200', exp_gen)"
      ],
      "execution_count": 23,
      "outputs": []
    },
    {
      "cell_type": "markdown",
      "metadata": {
        "id": "8fSZcalQ95M1"
      },
      "source": [
        "## Evaluation"
      ]
    },
    {
      "cell_type": "markdown",
      "metadata": {
        "id": "Bz18CX-qS0mv"
      },
      "source": [
        "### PCA + Visualization"
      ]
    },
    {
      "cell_type": "code",
      "metadata": {
        "id": "E3yQMjPfaFuD"
      },
      "source": [
        "pipe = pickle.loads(pickle.load(open(path+'pipe200', 'rb')))"
      ],
      "execution_count": 24,
      "outputs": []
    },
    {
      "cell_type": "code",
      "metadata": {
        "id": "FNCRJY_2b63B"
      },
      "source": [
        "tmat = pipe['pca'].components_.transpose()"
      ],
      "execution_count": 25,
      "outputs": []
    },
    {
      "cell_type": "code",
      "metadata": {
        "id": "zHgn3JwKQy_h"
      },
      "source": [
        "exp_glut = pipe['scaler1'].transform(np.load(path+'exp_glut.npy')) @ tmat[:, :2]\n",
        "exp_non = pipe['scaler1'].transform(np.load(path+'exp_non.npy')) @ tmat[:, :2]\n",
        "exp_gaba = pipe['scaler1'].transform(np.load(path+'exp_gaba.npy')) @ tmat[:, :2]"
      ],
      "execution_count": 26,
      "outputs": []
    },
    {
      "cell_type": "code",
      "metadata": {
        "colab": {
          "base_uri": "https://localhost:8080/",
          "height": 269
        },
        "id": "DUxti7eUQubG",
        "outputId": "cf956209-d05a-43e3-8241-8bfe86724142"
      },
      "source": [
        "# red: glutamatergic\n",
        "x, y = list(zip(*exp_glut[:1000]))\n",
        "plt.scatter(x, y, c='r', alpha=1)\n",
        "# green: non-neuronal\n",
        "x, y = list(zip(*exp_non[:1000]))\n",
        "plt.scatter(x, y, c='g', alpha=1)\n",
        "# blue: gabaergic\n",
        "x, y = list(zip(*exp_gaba[:1000]))\n",
        "plt.scatter(x, y, c='b', alpha=1)\n",
        "\n",
        "#plt.xlim(-2, 2);\n",
        "plt.ylim(-80, 100);\n",
        "patch1 = mpatches.Patch(color='r', label='glutamatergic');\n",
        "patch2 = mpatches.Patch(color='g', label='non-neuronal');\n",
        "patch3 = mpatches.Patch(color='b', label='gabaergic');\n",
        "plt.legend(handles=[patch1, patch2, patch3], \n",
        "           loc='upper right', bbox_to_anchor=(1.4, 1));\n",
        "plt.show()"
      ],
      "execution_count": 27,
      "outputs": [
        {
          "output_type": "display_data",
          "data": {
            "image/png": "[encoded data removed]",
            "text/plain": [
              "<Figure size 432x288 with 1 Axes>"
            ]
          },
          "metadata": {
            "tags": [],
            "needs_background": "light"
          }
        }
      ]
    },
    {
      "cell_type": "code",
      "metadata": {
        "id": "epygwmUhadz7"
      },
      "source": [
        "exp_gen = pipe.inverse_transform(exp_gen)\n",
        "exp_gen = pipe['scaler1'].transform(exp_gen) @ tmat[:, :2]"
      ],
      "execution_count": 41,
      "outputs": []
    },
    {
      "cell_type": "code",
      "metadata": {
        "id": "0M65nP05cpPb",
        "colab": {
          "base_uri": "https://localhost:8080/",
          "height": 269
        },
        "outputId": "7ca04b87-ea14-4fec-827a-ea788de4bf9e"
      },
      "source": [
        "# red: glutamatergic\n",
        "x, y = list(zip(*exp_glut[:1000]))\n",
        "plt.scatter(x, y, c='r', alpha=0.8);\n",
        "# green: non-neuronal\n",
        "x, y = list(zip(*exp_non[:1000]))\n",
        "plt.scatter(x, y, c='g', alpha=0.8);\n",
        "# blue: gabaergic\n",
        "x, y = list(zip(*exp_gaba[:1000]))\n",
        "plt.scatter(x, y, c='b', alpha=0.8);\n",
        "# yellow: gan\n",
        "x, y = list(zip(*exp_gen[:1000]))\n",
        "plt.scatter(x, y, c='y', alpha=0.8);\n",
        "\n",
        "#plt.xlim(-10, 10);\n",
        "plt.ylim(-80, 100);\n",
        "patch1 = mpatches.Patch(color='r', label='glutamatergic');\n",
        "patch2 = mpatches.Patch(color='g', label='non-neuronal');\n",
        "patch3 = mpatches.Patch(color='b', label='gabaergic');\n",
        "patch4 = mpatches.Patch(color='y', label='gan');\n",
        "plt.legend(handles=[patch1, patch2, patch3, patch4], \n",
        "           loc='upper right', bbox_to_anchor=(1.4, 1));\n",
        "plt.show()"
      ],
      "execution_count": 42,
      "outputs": [
        {
          "output_type": "display_data",
          "data": {
            "image/png": "[encoded data removed]",
            "text/plain": [
              "<Figure size 432x288 with 1 Axes>"
            ]
          },
          "metadata": {
            "tags": [],
            "needs_background": "light"
          }
        }
      ]
    },
    {
      "cell_type": "code",
      "metadata": {
        "id": "fDJSCQjfk_jc"
      },
      "source": [
        ""
      ],
      "execution_count": null,
      "outputs": []
    }
  ]
}
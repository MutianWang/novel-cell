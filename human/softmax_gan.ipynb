{
  "nbformat": 4,
  "nbformat_minor": 0,
  "metadata": {
    "colab": {
      "name": "softmax gan.ipynb",
      "provenance": [],
      "collapsed_sections": [],
      "include_colab_link": true
    },
    "kernelspec": {
      "display_name": "Python 3",
      "name": "python3"
    }
  },
  "cells": [
    {
      "cell_type": "markdown",
      "metadata": {
        "id": "view-in-github",
        "colab_type": "text"
      },
      "source": [
        "<a href=\"https://colab.research.google.com/github/MutianWang/novel-cell/blob/main/human/softmax_gan.ipynb\" target=\"_parent\"><img src=\"https://colab.research.google.com/assets/colab-badge.svg\" alt=\"Open In Colab\"/></a>"
      ]
    },
    {
      "cell_type": "markdown",
      "metadata": {
        "id": "j-cYqy4rSuq8"
      },
      "source": [
        "# Novel Cells Generation"
      ]
    },
    {
      "cell_type": "code",
      "metadata": {
        "id": "o5IPyySLKxff"
      },
      "source": [
        "import time\n",
        "import random\n",
        "import tensorflow as tf\n",
        "from tensorflow import keras\n",
        "from tensorflow.keras import layers\n",
        "from keras.utils.vis_utils import plot_model\n",
        "import pandas as pd\n",
        "import numpy as np\n",
        "import matplotlib.pyplot as plt\n",
        "import matplotlib.patches as mpatches\n",
        "import pickle\n",
        "from sklearn.pipeline import Pipeline\n",
        "from sklearn.decomposition import PCA\n",
        "from sklearn.preprocessing import MinMaxScaler, StandardScaler"
      ],
      "execution_count": null,
      "outputs": []
    },
    {
      "cell_type": "code",
      "metadata": {
        "colab": {
          "base_uri": "https://localhost:8080/"
        },
        "id": "EAf_GqpbxTMO",
        "outputId": "ebc9aa7d-86e7-4c4c-b890-af9d461c2a98"
      },
      "source": [
        "from google.colab import drive\n",
        "drive.mount('/content/drive')"
      ],
      "execution_count": null,
      "outputs": [
        {
          "output_type": "stream",
          "text": [
            "Drive already mounted at /content/drive; to attempt to forcibly remount, call drive.mount(\"/content/drive\", force_remount=True).\n"
          ],
          "name": "stdout"
        }
      ]
    },
    {
      "cell_type": "code",
      "metadata": {
        "id": "x-IQa1DUO3wv"
      },
      "source": [
        "path = '/content/drive/My Drive/Colab Notebooks/Brain Cell/data/'"
      ],
      "execution_count": null,
      "outputs": []
    },
    {
      "cell_type": "markdown",
      "metadata": {
        "id": "IbdI7rTr1LHf"
      },
      "source": [
        "## Preprocessing"
      ]
    },
    {
      "cell_type": "code",
      "metadata": {
        "id": "jvqF5fu3QPLd"
      },
      "source": [
        "meta = pd.read_csv(path+'meta.csv', header=0)\n",
        "cols_glut = meta[meta['class']=='Glutamatergic']['sample_name']\n",
        "cols_non = meta[meta['class']=='Non-neuronal']['sample_name']\n",
        "cols_gaba = meta[meta['class']=='GABAergic']['sample_name']"
      ],
      "execution_count": null,
      "outputs": []
    },
    {
      "cell_type": "code",
      "metadata": {
        "id": "6eP4_BjYw9wZ"
      },
      "source": [
        "def normalize(df):\n",
        "    # counts per million\n",
        "    df = df.div(df.sum(axis=1), axis=0) * 10**6\n",
        "    df = df.fillna(0)\n",
        "    return df"
      ],
      "execution_count": null,
      "outputs": []
    },
    {
      "cell_type": "code",
      "metadata": {
        "id": "f5auoM8d0Pob"
      },
      "source": [
        "def read_expression(file1, file2, usecols):\n",
        "    # point-wise addition of exon and intron tables\n",
        "    reader1 = pd.read_csv(file1, header=0, usecols=usecols, chunksize=1000)\n",
        "    reader2 = pd.read_csv(file2, header=0, usecols=usecols, chunksize=1000)\n",
        "\n",
        "    df = reader1.get_chunk() + reader2.get_chunk()\n",
        "    for i in range(1, 51):\n",
        "        df = pd.concat([df, reader1.get_chunk() + reader2.get_chunk()])\n",
        "        if i%10==0:\n",
        "            print('{}/50'.format(i))\n",
        "\n",
        "    return df.transpose()"
      ],
      "execution_count": null,
      "outputs": []
    },
    {
      "cell_type": "code",
      "metadata": {
        "colab": {
          "base_uri": "https://localhost:8080/",
          "height": 102
        },
        "id": "7GORuOJYCXjY",
        "outputId": "667896ee-c3d1-45e1-dbfd-363e94a9e4c8"
      },
      "source": [
        "exp_glut = read_expression(path+'exon.csv', path+'intron.csv', cols_glut) # 10525 * 50281\n",
        "exp_glut = exp_glut.sample(5000-914) # 4086 * 50281\n",
        "exp_glut = normalize(exp_glut)\n",
        "np.save(path+'exp_glut', exp_glut)\n",
        "del exp_glut"
      ],
      "execution_count": null,
      "outputs": [
        {
          "output_type": "stream",
          "text": [
            "10/50\n",
            "20/50\n",
            "30/50\n",
            "40/50\n",
            "50/50\n"
          ],
          "name": "stdout"
        }
      ]
    },
    {
      "cell_type": "code",
      "metadata": {
        "colab": {
          "base_uri": "https://localhost:8080/",
          "height": 102
        },
        "id": "-9hmZCzfs__s",
        "outputId": "c5460830-35dd-4d6d-bc7d-d35e9234a95e"
      },
      "source": [
        "exp_non = read_expression(path+'exon.csv', path+'intron.csv', cols_non) # 914 * 50281\n",
        "exp_non = normalize(exp_non)\n",
        "np.save(path+'exp_non', exp_non)\n",
        "del exp_non"
      ],
      "execution_count": null,
      "outputs": [
        {
          "output_type": "stream",
          "text": [
            "10/50\n",
            "20/50\n",
            "30/50\n",
            "40/50\n",
            "50/50\n"
          ],
          "name": "stdout"
        }
      ]
    },
    {
      "cell_type": "code",
      "metadata": {
        "colab": {
          "base_uri": "https://localhost:8080/",
          "height": 102
        },
        "id": "iYNolVf-JUvm",
        "outputId": "dd70ca93-9ec2-44ed-f9d3-ce4a90a17c71"
      },
      "source": [
        "exp_gaba = read_expression(path+'exon.csv', path+'intron.csv', cols_gaba) # 4164 * 50281\n",
        "exp_gaba = normalize(exp_gaba)\n",
        "np.save(path+'exp_gaba', exp_gaba)\n",
        "del exp_gaba"
      ],
      "execution_count": null,
      "outputs": [
        {
          "output_type": "stream",
          "text": [
            "10/50\n",
            "20/50\n",
            "30/50\n",
            "40/50\n",
            "50/50\n"
          ],
          "name": "stdout"
        }
      ]
    },
    {
      "cell_type": "code",
      "metadata": {
        "id": "m-F04FN3Sh0v"
      },
      "source": [
        "# first 4086 are Glutamatergic, last 914 are Non-neuronal\n",
        "exp_train = np.concatenate([np.load(path+'exp_glut.npy'), \n",
        "                            np.load(path+'exp_non.npy')], axis=0)\n",
        "np.save(path+'exp_train', exp_train)"
      ],
      "execution_count": null,
      "outputs": []
    },
    {
      "cell_type": "markdown",
      "metadata": {
        "id": "O4ZHqOU3AAiL"
      },
      "source": [
        "## Dimension Reduction"
      ]
    },
    {
      "cell_type": "code",
      "metadata": {
        "id": "-8NeA1FwKh-v"
      },
      "source": [
        "pipe = Pipeline([('scaler1', StandardScaler()), ('pca', PCA(n_components=4000)), ('scaler2', MinMaxScaler())])"
      ],
      "execution_count": null,
      "outputs": []
    },
    {
      "cell_type": "code",
      "metadata": {
        "id": "x9_veL-fZMrm"
      },
      "source": [
        "pickle.dump(pickle.dumps(pipe), open(path+'pipe', 'wb'))"
      ],
      "execution_count": null,
      "outputs": []
    },
    {
      "cell_type": "code",
      "metadata": {
        "id": "gDtxSFLtAVM-"
      },
      "source": [
        "exp_train = np.load(path+'exp_train.npy')\n",
        "exp_train = pipe.fit_transform(exp_train)\n",
        "np.save(path+'exp_train_pca', exp_train)\n",
        "del exp_train"
      ],
      "execution_count": null,
      "outputs": []
    },
    {
      "cell_type": "code",
      "metadata": {
        "colab": {
          "base_uri": "https://localhost:8080/",
          "height": 281
        },
        "id": "Ukjs6TdFf9qE",
        "outputId": "1f79ca7e-4b51-4508-adff-21f5d55ac030"
      },
      "source": [
        "# set n_components=5000 to plot this graph\n",
        "#plt.plot(pipe['pca'].explained_variance_);\n",
        "#plt.title('explained variance ratio');"
      ],
      "execution_count": null,
      "outputs": [
        {
          "output_type": "display_data",
          "data": {
            "image/png": "[encoded data removed]",
            "text/plain": [
              "<Figure size 432x288 with 1 Axes>"
            ]
          },
          "metadata": {
            "tags": []
          }
        }
      ]
    },
    {
      "cell_type": "code",
      "metadata": {
        "id": "z-3XFhfC0Bm-"
      },
      "source": [
        "exp_test = np.load(path+'exp_gaba.npy')\n",
        "exp_test = pipe.transform(exp_test)\n",
        "np.save(path+'exp_test_pca', exp_test)\n",
        "del exp_test"
      ],
      "execution_count": null,
      "outputs": []
    },
    {
      "cell_type": "markdown",
      "metadata": {
        "id": "HsH4XxJ36fGp"
      },
      "source": [
        "## GAN"
      ]
    },
    {
      "cell_type": "code",
      "metadata": {
        "id": "yZmJpBlcjrBY"
      },
      "source": [
        "random.seed(0)\n",
        "np.random.seed(0)\n",
        "tf.random.set_seed(0)"
      ],
      "execution_count": null,
      "outputs": []
    },
    {
      "cell_type": "code",
      "metadata": {
        "id": "q7WRBp4jyxPS"
      },
      "source": [
        "exp_train = np.load(path+'exp_train_pca.npy')"
      ],
      "execution_count": null,
      "outputs": []
    },
    {
      "cell_type": "code",
      "metadata": {
        "id": "fD-CY2cBStMF"
      },
      "source": [
        "# oversample the non-neuronal cells\n",
        "#exp_train = np.concatenate([exp_train, exp_train[-914:]], axis=0)"
      ],
      "execution_count": null,
      "outputs": []
    },
    {
      "cell_type": "code",
      "metadata": {
        "id": "L42hxrlDHmb4"
      },
      "source": [
        "BATCH_SIZE = 500\n",
        "dataset = tf.data.Dataset.from_tensor_slices(exp_train).shuffle(1000).batch(BATCH_SIZE)"
      ],
      "execution_count": null,
      "outputs": []
    },
    {
      "cell_type": "code",
      "metadata": {
        "id": "UKjKbveG8xT3"
      },
      "source": [
        "dimension = exp_train.shape[1]"
      ],
      "execution_count": null,
      "outputs": []
    },
    {
      "cell_type": "code",
      "metadata": {
        "id": "8hYhAVII5tVz"
      },
      "source": [
        "def make_generator_model():\n",
        "    model = tf.keras.Sequential()\n",
        "    model.add(layers.Dense(256, use_bias=True, input_shape=(128,)))\n",
        "    model.add(layers.BatchNormalization())\n",
        "    model.add(layers.LeakyReLU())\n",
        "\n",
        "    model.add(layers.Dense(512, use_bias=True))\n",
        "    model.add(layers.BatchNormalization())\n",
        "    model.add(layers.LeakyReLU())\n",
        "\n",
        "    model.add(layers.Dense(1024, use_bias=True))\n",
        "    model.add(layers.BatchNormalization())\n",
        "    model.add(layers.LeakyReLU())\n",
        "\n",
        "    model.add(layers.Dense(2048, use_bias=True))\n",
        "    model.add(layers.BatchNormalization())\n",
        "    model.add(layers.LeakyReLU())\n",
        "\n",
        "    # sigmoid function will make the range [0,1]\n",
        "    model.add(layers.Dense(dimension, use_bias=True, activation='sigmoid'))\n",
        "\n",
        "    return model"
      ],
      "execution_count": null,
      "outputs": []
    },
    {
      "cell_type": "code",
      "metadata": {
        "id": "YmuNxZCu8o0p"
      },
      "source": [
        "def make_discriminator_model():\n",
        "    model = tf.keras.Sequential()\n",
        "    model.add(layers.Dense(2048, use_bias=True, input_shape=(dimension,)))\n",
        "    model.add(layers.LeakyReLU())\n",
        "    model.add(layers.Dropout(0.2))\n",
        "\n",
        "    model.add(layers.Dense(1024, use_bias=True))\n",
        "    model.add(layers.LeakyReLU())\n",
        "    model.add(layers.Dropout(0.2))\n",
        "\n",
        "    model.add(layers.Dense(512, use_bias=True))\n",
        "    model.add(layers.LeakyReLU())\n",
        "    model.add(layers.Dropout(0.2))\n",
        "\n",
        "    model.add(layers.Dense(256, use_bias=True))\n",
        "    model.add(layers.LeakyReLU())\n",
        "    model.add(layers.Dropout(0.2))\n",
        "\n",
        "    model.add(layers.Dense(1))\n",
        "\n",
        "    return model"
      ],
      "execution_count": null,
      "outputs": []
    },
    {
      "cell_type": "code",
      "metadata": {
        "id": "q6HmejF9-U6r"
      },
      "source": [
        "generator = make_generator_model()\n",
        "discriminator = make_discriminator_model()"
      ],
      "execution_count": null,
      "outputs": []
    },
    {
      "cell_type": "code",
      "metadata": {
        "id": "eFxhmXU0Lak3"
      },
      "source": [
        "#generator.summary()"
      ],
      "execution_count": null,
      "outputs": []
    },
    {
      "cell_type": "code",
      "metadata": {
        "id": "7LDI3iJBLdTD"
      },
      "source": [
        "#discriminator.summary()"
      ],
      "execution_count": null,
      "outputs": []
    },
    {
      "cell_type": "code",
      "metadata": {
        "id": "jmTf7v9p-b50"
      },
      "source": [
        "def discriminator_loss(real_output, fake_output):\n",
        "    Z = tf.reduce_sum(tf.exp(-real_output)) + tf.reduce_sum(tf.exp(-fake_output))\n",
        "    total_loss = tf.reduce_sum(real_output) / BATCH_SIZE + tf.math.log(Z)\n",
        "    return total_loss"
      ],
      "execution_count": null,
      "outputs": []
    },
    {
      "cell_type": "code",
      "metadata": {
        "id": "i_orWQwj_Ak-"
      },
      "source": [
        "def generator_loss(real_output, fake_output):\n",
        "    Z = tf.reduce_sum(tf.exp(-real_output)) + tf.reduce_sum(tf.exp(-fake_output))\n",
        "    total_loss = (tf.reduce_sum(real_output) + tf.reduce_sum(fake_output)) / (BATCH_SIZE * 2) + tf.math.log(Z)\n",
        "    return total_loss"
      ],
      "execution_count": null,
      "outputs": []
    },
    {
      "cell_type": "code",
      "metadata": {
        "id": "llUBEF24_BJS"
      },
      "source": [
        "generator_optimizer = tf.keras.optimizers.Adam(1e-4)\n",
        "discriminator_optimizer = tf.keras.optimizers.Adam(1e-4)"
      ],
      "execution_count": null,
      "outputs": []
    },
    {
      "cell_type": "code",
      "metadata": {
        "id": "vBlm7JMx_DvY"
      },
      "source": [
        "def train_step(images):\n",
        "    noise = tf.random.normal([BATCH_SIZE, 128])\n",
        "\n",
        "    with tf.GradientTape() as gen_tape, tf.GradientTape() as disc_tape:\n",
        "        generated_images = generator(noise, training=True)\n",
        "\n",
        "        real_output = discriminator(images, training=True)\n",
        "        fake_output = discriminator(generated_images, training=True)\n",
        "\n",
        "        gen_loss = generator_loss(real_output, fake_output)\n",
        "        disc_loss = discriminator_loss(real_output, fake_output)\n",
        "\n",
        "    gradients_of_generator = gen_tape.gradient(gen_loss, generator.trainable_variables)\n",
        "    gradients_of_discriminator = disc_tape.gradient(disc_loss, discriminator.trainable_variables)\n",
        "\n",
        "    generator_optimizer.apply_gradients(zip(gradients_of_generator, generator.trainable_variables))\n",
        "    discriminator_optimizer.apply_gradients(zip(gradients_of_discriminator, discriminator.trainable_variables))\n",
        "\n",
        "    return gen_loss, disc_loss"
      ],
      "execution_count": null,
      "outputs": []
    },
    {
      "cell_type": "code",
      "metadata": {
        "id": "tNntEwY__OTQ"
      },
      "source": [
        "def train(dataset, epochs, delta):\n",
        "    loss_hist = []\n",
        "    gen_loss_hist = []\n",
        "    disc_loss_hist = []\n",
        "    for epoch in range(epochs):\n",
        "        start = time.time()\n",
        "\n",
        "        gen_loss = 0\n",
        "        disc_loss = 0\n",
        "        for data in dataset:\n",
        "            loss1, loss2 = train_step(data)\n",
        "            gen_loss += loss1\n",
        "            disc_loss += loss2\n",
        "\n",
        "        if (epoch+1)%20 == 0:\n",
        "            print('Time for epoch {} is {} sec. Loss is {}'.format(epoch + 1, time.time()-start, gen_loss+disc_loss))\n",
        "        \n",
        "        loss_hist.append(gen_loss+disc_loss)\n",
        "        gen_loss_hist.append(gen_loss)\n",
        "        disc_loss_hist.append(disc_loss)\n",
        "        if epoch > 2:\n",
        "            if abs(loss_hist[-1] - loss_hist[-2]) < delta and abs(loss_hist[-2] - loss_hist[-3]) < delta:\n",
        "                print('Final Loss is {}'.format(loss_hist[-1]))\n",
        "                return loss_hist, gen_loss_hist, disc_loss_hist\n",
        "\n",
        "    print('Final Loss is {}'.format(loss_hist[-1]))\n",
        "    return loss_hist, gen_loss_hist, disc_loss_hist"
      ],
      "execution_count": null,
      "outputs": []
    },
    {
      "cell_type": "code",
      "metadata": {
        "id": "K-axc-FmH8Dn"
      },
      "source": [
        "hist = train(dataset, epochs=1000, delta=0.1)"
      ],
      "execution_count": null,
      "outputs": []
    },
    {
      "cell_type": "code",
      "metadata": {
        "id": "gFt8CKk7H9U4"
      },
      "source": [
        "exp_gen = generator(tf.random.normal([1000,128]))"
      ],
      "execution_count": null,
      "outputs": []
    },
    {
      "cell_type": "code",
      "metadata": {
        "id": "fWS9fkai64PY"
      },
      "source": [
        "np.save(path+'exp_gen3', exp_gen)"
      ],
      "execution_count": null,
      "outputs": []
    },
    {
      "cell_type": "code",
      "metadata": {
        "id": "zg3x1PpHQkxO"
      },
      "source": [
        "plt.plot(hist[1]);\n",
        "plt.plot(hist[2]);\n",
        "plt.legend(['gen', 'disc']);"
      ],
      "execution_count": null,
      "outputs": []
    },
    {
      "cell_type": "markdown",
      "metadata": {
        "id": "8fSZcalQ95M1"
      },
      "source": [
        "## Evaluation"
      ]
    },
    {
      "cell_type": "markdown",
      "metadata": {
        "id": "Bz18CX-qS0mv"
      },
      "source": [
        "### PCA + Visualization"
      ]
    },
    {
      "cell_type": "code",
      "metadata": {
        "id": "E3yQMjPfaFuD"
      },
      "source": [
        "pipe = pickle.loads(pickle.load(open(path+'pipe', 'rb')))"
      ],
      "execution_count": null,
      "outputs": []
    },
    {
      "cell_type": "code",
      "metadata": {
        "id": "FNCRJY_2b63B"
      },
      "source": [
        "tmat = pipe['pca'].components_.transpose()"
      ],
      "execution_count": null,
      "outputs": []
    },
    {
      "cell_type": "code",
      "metadata": {
        "id": "epygwmUhadz7"
      },
      "source": [
        "exp_gen = pipe.inverse_transform(exp_gen)\n",
        "exp_gen = pipe['scaler1'].transform(exp_gen) @ tmat[:, :2]"
      ],
      "execution_count": null,
      "outputs": []
    },
    {
      "cell_type": "code",
      "metadata": {
        "id": "zHgn3JwKQy_h"
      },
      "source": [
        "exp_glut = pipe['scaler1'].transform(np.load(path+'exp_glut.npy')) @ tmat[:, :2]\n",
        "exp_non = pipe['scaler1'].transform(np.load(path+'exp_non.npy')) @ tmat[:, :2]\n",
        "exp_gaba = pipe['scaler1'].transform(np.load(path+'exp_gaba.npy')) @ tmat[:, :2]"
      ],
      "execution_count": null,
      "outputs": []
    },
    {
      "cell_type": "code",
      "metadata": {
        "colab": {
          "base_uri": "https://localhost:8080/",
          "height": 269
        },
        "id": "DUxti7eUQubG",
        "outputId": "bc90d19b-47b6-4298-baa1-9f03b42dd4bd"
      },
      "source": [
        "# red: glutamatergic\n",
        "x, y = list(zip(*exp_glut[:1000]))\n",
        "plt.scatter(x, y, c='r', alpha=1)\n",
        "# green: non-neuronal\n",
        "x, y = list(zip(*exp_non[:1000]))\n",
        "plt.scatter(x, y, c='g', alpha=1)\n",
        "# blue: gabaergic\n",
        "x, y = list(zip(*exp_gaba[:1000]))\n",
        "plt.scatter(x, y, c='b', alpha=1)\n",
        "\n",
        "#plt.xlim(-2, 2);\n",
        "plt.ylim(-80, 100);\n",
        "patch1 = mpatches.Patch(color='r', label='glutamatergic');\n",
        "patch2 = mpatches.Patch(color='g', label='non-neuronal');\n",
        "patch3 = mpatches.Patch(color='b', label='gabaergic');\n",
        "plt.legend(handles=[patch1, patch2, patch3], \n",
        "           loc='upper right', bbox_to_anchor=(1.4, 1));\n",
        "plt.show()"
      ],
      "execution_count": null,
      "outputs": [
        {
          "output_type": "display_data",
          "data": {
            "image/png": "[encoded data removed]",
            "text/plain": [
              "<Figure size 432x288 with 1 Axes>"
            ]
          },
          "metadata": {
            "tags": []
          }
        }
      ]
    },
    {
      "cell_type": "code",
      "metadata": {
        "id": "0M65nP05cpPb"
      },
      "source": [
        "# red: glutamatergic\n",
        "x, y = list(zip(*exp_glut[:1000]))\n",
        "plt.scatter(x, y, c='r', alpha=1);\n",
        "# green: non-neuronal\n",
        "x, y = list(zip(*exp_non[:1000]))\n",
        "plt.scatter(x, y, c='g', alpha=1);\n",
        "# blue: gabaergic\n",
        "x, y = list(zip(*exp_gaba[:1000]))\n",
        "plt.scatter(x, y, c='b', alpha=1);\n",
        "# yellow: gan\n",
        "x, y = list(zip(*exp_gen[:1000]))\n",
        "plt.scatter(x, y, c='y', alpha=1);\n",
        "\n",
        "#plt.xlim(-10, 10);\n",
        "plt.ylim(-80, 100);\n",
        "patch1 = mpatches.Patch(color='r', label='glutamatergic');\n",
        "patch2 = mpatches.Patch(color='g', label='non-neuronal');\n",
        "patch3 = mpatches.Patch(color='b', label='gabaergic');\n",
        "patch4 = mpatches.Patch(color='y', label='gan');\n",
        "plt.legend(handles=[patch1, patch2, patch3, patch4], \n",
        "           loc='upper right', bbox_to_anchor=(1.4, 1));\n",
        "plt.show()"
      ],
      "execution_count": null,
      "outputs": []
    },
    {
      "cell_type": "code",
      "metadata": {
        "id": "o2X-00ZT74BB"
      },
      "source": [
        ""
      ],
      "execution_count": null,
      "outputs": []
    }
  ]
}